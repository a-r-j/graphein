{
 "cells": [
  {
   "attachments": {},
   "cell_type": "markdown",
   "metadata": {},
   "source": [
    "# Creating Datasets from the PDB\n",
    "\n",
    "Graphein provides a utility for curating and splitting datasets from the [RCSB PDB](https://www.rcsb.org/).\n",
    "\n",
    "\n",
    "Initialising a PDBManager will download PDB Metadata which we can use to make complex selections of protein structures.\n",
    "\n",
    "[![Open In Colab](https://colab.research.google.com/assets/colab-badge.svg)](https://colab.research.google.com/github/a-r-j/graphein/blob/master/notebooks/creating_datasets_from_the_pdb.ipynb) [![GitHub](https://img.shields.io/badge/-View%20on%20GitHub-181717?logo=github&logoColor=ffffff)](https://github.com/a-r-j/graphein/blob/master/notebooks/creating_datasets_from_the_pdb.ipynb)"
   ]
  },
  {
   "cell_type": "code",
   "execution_count": null,
   "metadata": {},
   "outputs": [],
   "source": [
    "from rich import inspect\n",
    "from graphein.datasets import PDBManager\n",
    "\n",
    "manager = PDBManager(root_dir=\".\")"
   ]
  },
  {
   "attachments": {},
   "cell_type": "markdown",
   "metadata": {},
   "source": [
    "The manager wraps two dataframes:\n",
    "\n",
    "* `manager.df` - your working selection.\n",
    "* `manager.source` - A clean copy of the original metadata."
   ]
  },
  {
   "cell_type": "code",
   "execution_count": null,
   "metadata": {},
   "outputs": [],
   "source": [
    "manager.df"
   ]
  },
  {
   "cell_type": "code",
   "execution_count": null,
   "metadata": {},
   "outputs": [],
   "source": [
    "manager.source"
   ]
  },
  {
   "attachments": {},
   "cell_type": "markdown",
   "metadata": {},
   "source": [
    "## Selection Properties"
   ]
  },
  {
   "cell_type": "code",
   "execution_count": null,
   "metadata": {},
   "outputs": [],
   "source": [
    "print(\"Num chains: \", manager.get_num_chains())\n",
    "print(\"Num unique pdbs: \", manager.get_num_unique_pdbs())\n",
    "print(\"Longest chain: \", manager.get_longest_chain())\n",
    "print(\"Shortest chain: \", manager.get_shortest_chain())\n",
    "print(\"Best Resolution: \", manager.get_best_resolution())\n",
    "print(\"Worst Resolution: \", manager.get_worst_resolution())\n",
    "print(\"Experiment Types: \", manager.get_experiment_types())\n",
    "print(\"Molecule Types: \", manager.get_molecule_types())"
   ]
  },
  {
   "attachments": {},
   "cell_type": "markdown",
   "metadata": {},
   "source": [
    "# Making Selections\n",
    "\n",
    "Selection functions return a pd.DataFrame. All selection functions provide an `update: bool` argument controlling whether or not `manager.df` is updated in place:"
   ]
  },
  {
   "cell_type": "code",
   "execution_count": null,
   "metadata": {},
   "outputs": [],
   "source": [
    "print(\"Number of chains: \", len(manager.df))\n",
    "\n",
    "print(len(manager.resolution_better_than_or_equal_to(2.0)))\n",
    "print(len(manager.df))\n",
    "\n",
    "# Update inplace\n",
    "manager.resolution_better_than_or_equal_to(2.0, update=True)\n",
    "print(len(manager.df))"
   ]
  },
  {
   "attachments": {},
   "cell_type": "markdown",
   "metadata": {},
   "source": [
    "If you want to reset the selection:"
   ]
  },
  {
   "cell_type": "code",
   "execution_count": null,
   "metadata": {},
   "outputs": [],
   "source": [
    "manager.reset()\n",
    "print(len(manager.df))"
   ]
  },
  {
   "attachments": {},
   "cell_type": "markdown",
   "metadata": {},
   "source": [
    "Here is an example selection:"
   ]
  },
  {
   "cell_type": "code",
   "execution_count": null,
   "metadata": {},
   "outputs": [],
   "source": [
    "manager.length_shorter_than(6, update=True)\n",
    "manager.length_longer_than(4, update=True)\n",
    "manager.molecule_type(\"protein\", update=True)\n",
    "manager.resolution_better_than_or_equal_to(1.5, update=True)\n",
    "manager.experiment_type(\"diffraction\", update=True)\n",
    "manager.remove_non_standard_alphabet_sequences(update=True)\n",
    "manager.df"
   ]
  },
  {
   "attachments": {},
   "cell_type": "markdown",
   "metadata": {},
   "source": [
    "# I/O\n",
    "\n",
    "We can write our selections as FASTA files or download and write the relevant PDBs in our selection to disk:\n",
    "\n",
    "## CSV"
   ]
  },
  {
   "cell_type": "code",
   "execution_count": null,
   "metadata": {},
   "outputs": [],
   "source": [
    "import os\n",
    "import pandas as pd\n",
    "\n",
    "os.makedirs(\"tmp/\", exist_ok=True)\n",
    "manager.to_csv(\"tmp/test.csv\")\n",
    "\n",
    "sel = pd.read_csv(\"tmp/test.csv\")\n",
    "sel"
   ]
  },
  {
   "attachments": {},
   "cell_type": "markdown",
   "metadata": {},
   "source": [
    "## FASTA"
   ]
  },
  {
   "cell_type": "code",
   "execution_count": null,
   "metadata": {},
   "outputs": [],
   "source": [
    "from graphein.protein.utils import read_fasta\n",
    "manager.to_fasta(\"tmp/test.fasta\")\n",
    "\n",
    "fs = read_fasta(\"tmp/test.fasta\")\n",
    "print(fs)"
   ]
  },
  {
   "attachments": {},
   "cell_type": "markdown",
   "metadata": {},
   "source": [
    "## Downloading PDBs"
   ]
  },
  {
   "cell_type": "code",
   "execution_count": null,
   "metadata": {},
   "outputs": [],
   "source": [
    "manager.download_pdbs(\"tmp/pdbs/\")"
   ]
  },
  {
   "cell_type": "code",
   "execution_count": null,
   "metadata": {},
   "outputs": [],
   "source": [
    "import os\n",
    "os.listdir(\"tmp/pdbs\")"
   ]
  },
  {
   "attachments": {},
   "cell_type": "markdown",
   "metadata": {},
   "source": [
    "## Writing Individual Chains"
   ]
  },
  {
   "cell_type": "code",
   "execution_count": null,
   "metadata": {},
   "outputs": [],
   "source": [
    "manager.write_chains()"
   ]
  },
  {
   "cell_type": "markdown",
   "metadata": {},
   "source": []
  }
 ],
 "metadata": {
  "kernelspec": {
   "display_name": "graphein",
   "language": "python",
   "name": "python3"
  },
  "language_info": {
   "codemirror_mode": {
    "name": "ipython",
    "version": 3
   },
   "file_extension": ".py",
   "mimetype": "text/x-python",
   "name": "python",
   "nbconvert_exporter": "python",
   "pygments_lexer": "ipython3",
   "version": "3.9.16"
  },
  "orig_nbformat": 4
 },
 "nbformat": 4,
 "nbformat_minor": 2
}
