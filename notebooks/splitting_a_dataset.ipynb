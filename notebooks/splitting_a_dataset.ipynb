{
 "cells": [
  {
   "cell_type": "markdown",
   "metadata": {},
   "source": [
    "# Splitting a Protein Dataset into Training and Test Sets\n",
    "\n",
    "Constructing careful splits of protein datasets can be tricky due to sequence homology. Graphein can take care of this for you.\n",
    "\n",
    "We use BLAST to cluster sequences based on similarity. Disjoint training and test sets can the be constructed from these clusters.\n",
    "\n",
    "\n",
    "We'll run through a small example of 4 sequences which we split into two equally sized training and test sets at 25% identity. We note that this is really the bare minimum one can prevent data leakage due to homology. Here we only account for sequence homology, however even proteins with 0% sequence identity can adopt very similar folds. Features for spltting based on SCOP and CATH annotations are priorities on our development roadmap. For a fuller discussion, see David Jones' excellent treatment of the potential pitfalls when working with machine learning in biology:\n",
    "\n",
    "> Setting the standards for machine learning in biology\n",
    "> David T. Jones\n",
    "> Nature Review Molecular Cell Biology\n",
    "> https://www.nature.com/articles/s41580-019-0176-5\n",
    "\n",
    "\n",
    "\n",
    "[![Open In Colab](https://colab.research.google.com/assets/colab-badge.svg)](https://colab.research.google.com/github/a-r-j/graphein/blob/master/notebooks/splitting_a_dataset.ipynb)\n",
    "[![GitHub](https://img.shields.io/badge/-View%20on%20GitHub-181717?logo=github&logoColor=ffffff)](https://github.com/a-r-j/graphein/blob/master/notebooks/splitting_a_dataset.ipynb)\n",
    "\n",
    "\n",
    "## Requirements\n",
    "This functionality relies on BLAST. On linux, you can install it with:\n",
    "\n",
    "```bash\n",
    "sudo apt install ncbi-blast+\n",
    "```\n",
    "\n",
    "Otherwise, please see: https://blast.ncbi.nlm.nih.gov/Blast.cgi?CMD=Web&PAGE_TYPE=BlastDocs&DOC_TYPE=Download\n"
   ]
  },
  {
   "cell_type": "code",
   "execution_count": null,
   "metadata": {},
   "outputs": [],
   "source": [
    "# Install graphein if necessary:\n",
    "# !pip install graphein\n",
    "\n",
    "# Install blast if necessary (linux):\n",
    "# !sudo apt install ncbi-blast+"
   ]
  },
  {
   "cell_type": "markdown",
   "metadata": {},
   "source": [
    "## Building the Dataset FASTA\n",
    "First, we need to assemble our sequences into a FASTA file that contains all of our queries.\n",
    "\n",
    "We can either do this based on a mapping of our own creation from PDBs to sequences or from a list of graphs"
   ]
  },
  {
   "cell_type": "code",
   "execution_count": null,
   "metadata": {},
   "outputs": [],
   "source": [
    "from graphein.ml.clustering import build_fasta_file_from_mapping\n",
    "\n",
    "pdb_sequence_mapping = {\n",
    "    \"3eiy\": \"SFSNVPAGKDLPQDFNVIIEIPAQSEPVKYEADKALGLLVVDRFIGTGMRYPVNYGFIPQTLSGDGDPVDVLVITPFPLLAGSVVRARALGMLKMTDESGVDAKLVAVPHDKVCPMTANLKSIDDVPAYLKDQIKHFFEQYKALEKGKWVKVEGWDGIDAAHKEITDGVANFKK\",\n",
    "    \"1lds\": \"MIQRTPKIQVYSRHPAENGKSNFLNCYVSGFHPSDIEVDLLKNGERIEKVEHSDLSFSKDWSFYLLYYTEFTPTEKDEYACRVNHVTLSQPKIVKWD\",\n",
    "    \"4hhb\": \"VLSPADKTNVKAAWGKVGAHAGEYGAEALERMFLSFPTTKTYFPHFDLSHGSAQVKGHGKKVADALTNAVAHVDDMPNALSALSDLHAHKLRVDPVNFKLLSHCLLVTLAAHLPAEFTPAVHASLDKFLASVSTVLTSKYR\",\n",
    "    \"7wda\": \"GLVVSFYTPATDGATFTAIAQRCNQQFGGRFTIAQVSLPRSPNEQRLQLARRLTGNDRTLDVMALDVVWTAEFAEAGWALPLSDDPAGLAENDAVADTLPGPLATAGWNHKLYAAPVTTNTQLLWYRPDLVNSPPTDWNAMIAEAARLHAAGEPSWIAVQANQGEGLVVWFNTLLVSAGGSVLSEDGRHVTLTDTPAHRAATVSALQILKSVATTPGADPSITRTEEGSARLAFEQGKAALEVNWPFVFASMLENAVKGGVPFLPLNRIPQLAGSINDIGTFTPSDEQFRIAYDASQQVFGFAPYPAVAPGQPAKVTIGGLNLAVAKTTRHRAEAFEAVRCLRDQHNQRYVSLEGGLPAVRASLYSDPQFQAKYPMHAIIRQQLTDAAVRPATPVYQALSIRLAAVLSPITEIDPESTADELAAQAQKAIDG\"\n",
    "    }\n",
    "\n",
    "build_fasta_file_from_mapping(pdb_sequence_mapping, \"sequences.fasta\")"
   ]
  },
  {
   "cell_type": "code",
   "execution_count": null,
   "metadata": {},
   "outputs": [],
   "source": [
    "# We could also build this mapping from a list of graphs\n",
    "import graphein.protein as gp\n",
    "from graphein.ml.clustering import build_fasta_file_from_graphs\n",
    "\n",
    "# Build graphs\n",
    "graphs = [gp.construct_graph(pdb_code=code) for code in [\"3eiy\", \"1lds\", \"4hhb\", \"7wda\"]]\n",
    "\n",
    "# Build fasta\n",
    "build_fasta_file_from_graphs(graphs, fasta_out=\"sequences.fasta\", chains=[\"A\", \"A\", \"A\", \"A\"]) # Chain param lets us select a specific chain in a structure"
   ]
  },
  {
   "cell_type": "code",
   "execution_count": null,
   "metadata": {},
   "outputs": [],
   "source": [
    "# Inspect the FASTA file:\n",
    "with open(\"sequences.fasta\", \"r\") as f:\n",
    "    print(f.read())"
   ]
  },
  {
   "cell_type": "markdown",
   "metadata": {},
   "source": [
    "## Clustering the Data"
   ]
  },
  {
   "cell_type": "code",
   "execution_count": null,
   "metadata": {},
   "outputs": [],
   "source": [
    "from graphein.ml.clustering import train_and_test_from_fasta\n",
    "\n",
    "train_and_test_from_fasta(fasta_file=\"sequences.fasta\", number_of_sets=1, fraction_in_test=0.5,\n",
    "                            cluster_file_name='s2d_clusters.txt', seq_id_low_thresh=25.,\n",
    "                              use_very_loose_condition=False, n_cpu=2,\n",
    "                              max_target_seqs=200, delete_db_when_done=True,\n",
    "                              train_set_key='LR', test_set_key='TS', early_break=True\n",
    "                              )\n"
   ]
  },
  {
   "cell_type": "markdown",
   "metadata": {},
   "source": [
    "## Inspecting the split"
   ]
  },
  {
   "cell_type": "code",
   "execution_count": null,
   "metadata": {},
   "outputs": [],
   "source": [
    "# Train Data\n",
    "print(\"Train Data:\")\n",
    "with open(\"LR_00\", \"r\") as f:\n",
    "    print(f.read())\n",
    "\n",
    "# Test Data\n",
    "print(\"Test Data:\")\n",
    "with open(\"TS_00\", \"r\") as f:\n",
    "    print(f.read())"
   ]
  }
 ],
 "metadata": {
  "interpreter": {
   "hash": "0ab7f988027852efc1ebacd06db3f130eb65d2a20cb6a366311359132c20a952"
  },
  "kernelspec": {
   "display_name": "Python 3.8.13 ('graphein')",
   "language": "python",
   "name": "python3"
  },
  "language_info": {
   "codemirror_mode": {
    "name": "ipython",
    "version": 3
   },
   "file_extension": ".py",
   "mimetype": "text/x-python",
   "name": "python",
   "nbconvert_exporter": "python",
   "pygments_lexer": "ipython3",
   "version": "3.8.13"
  }
 },
 "nbformat": 4,
 "nbformat_minor": 2
}
