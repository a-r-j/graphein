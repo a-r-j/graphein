{
 "cells": [
  {
   "cell_type": "markdown",
   "metadata": {},
   "source": [
    "# Creating Molecular Graphs in Graphein\n",
    "\n",
    "Graphein provides a set of tools for working with molecular graphs. Under the hood, we wrap RDKit functions for the graph construction. While the main format used is an nx.Graph, each graph, node & edge has its underlying [RDKit object](https://www.rdkit.org/docs/source/rdkit.Chem.rdchem.html) stored as metadata so RDKit methods can still be used.\n",
    "\n",
    "[![Open In Colab](https://colab.research.google.com/assets/colab-badge.svg)](https://colab.research.google.com/github/a-r-j/graphein/blob/master/notebooks/molecule_tutorial.ipynb)"
   ]
  },
  {
   "cell_type": "code",
   "execution_count": 1,
   "metadata": {},
   "outputs": [],
   "source": [
    "# Install Graphein if necessary\n",
    "# !pip install graphein[extras]"
   ]
  },
  {
   "cell_type": "code",
   "execution_count": 2,
   "metadata": {},
   "outputs": [
    {
     "name": "stderr",
     "output_type": "stream",
     "text": [
      "WARNING:graphein.protein.visualisation:To use the Graphein submodule graphein.protein.visualisation, you need to install: pytorch3d \n",
      "To do so, use the following command: conda install -c pytorch3d pytorch3d\n",
      "WARNING:graphein.protein.meshes:To use the Graphein submodule graphein.protein.meshes, you need to install: pytorch3d \n",
      "To do so, use the following command: conda install -c pytorch3d pytorch3d\n",
      "INFO:rdkit:Enabling RDKit 2022.03.1 jupyter extensions\n"
     ]
    }
   ],
   "source": [
    "import networkx as nx\n",
    "import logging\n",
    "logging.getLogger(\"matplotlib\").setLevel(logging.WARNING)\n",
    "\n",
    "import graphein.molecule as gm"
   ]
  },
  {
   "cell_type": "markdown",
   "metadata": {},
   "source": [
    "## Config\n",
    "Similar to [Protein Graph Construction](https://graphein.ai/notebooks/residue_graphs.html), configuration of small molecule graphs is controlled by a [`MoleculeGraphConfig`]() object."
   ]
  },
  {
   "cell_type": "code",
   "execution_count": 3,
   "metadata": {},
   "outputs": [
    {
     "data": {
      "text/plain": [
       "MoleculeGraphConfig(verbose=False, add_hs=False, edge_construction_functions=[<function add_fully_connected_edges at 0x7fe3895cf280>, <function add_k_nn_edges at 0x7fe3895cf310>, <function add_distance_threshold at 0x7fe3895cf1f0>, <function add_atom_bonds at 0x7fe3895ccdc0>], node_metadata_functions=[<function atom_type_one_hot at 0x7fe3895cf430>], edge_metadata_functions=None, graph_metadata_functions=None)"
      ]
     },
     "execution_count": 3,
     "metadata": {},
     "output_type": "execute_result"
    }
   ],
   "source": [
    "config = gm.MoleculeGraphConfig()\n",
    "config"
   ]
  },
  {
   "cell_type": "markdown",
   "metadata": {},
   "source": [
    "## Creating Graphs\n",
    "\n",
    "### Creating a Molecular Graph from SMILES\n",
    "\n",
    "Let's take a look at a simple molecule, acetylsalicylic acid (or aspirin as it's more commonly known)."
   ]
  },
  {
   "cell_type": "code",
   "execution_count": 4,
   "metadata": {},
   "outputs": [
    {
     "name": "stdout",
     "output_type": "stream",
     "text": [
      "Graph named 'CC(=O)OC1=CC=CC=C1C(=O)O' with 13 nodes and 13 edges\n"
     ]
    },
    {
     "data": {
      "image/png": "[encoded data removed]",
      "text/plain": [
       "<rdkit.Chem.rdchem.Mol at 0x7fe387d266a0>"
      ]
     },
     "execution_count": 4,
     "metadata": {},
     "output_type": "execute_result"
    },
    {
     "data": {
      "image/png": "[encoded data removed]",
      "text/plain": [
       "<Figure size 432x288 with 1 Axes>"
      ]
     },
     "metadata": {},
     "output_type": "display_data"
    }
   ],
   "source": [
    "graph = gm.construct_graph(smiles=\"CC(=O)OC1=CC=CC=C1C(=O)O\", config=config)\n",
    "print(graph)\n",
    "nx.draw(graph)\n",
    "graph.graph[\"rdmol\"]"
   ]
  },
  {
   "cell_type": "markdown",
   "metadata": {},
   "source": [
    "Molecule features are stored as dictionaries on the graph, nodes and edges."
   ]
  },
  {
   "cell_type": "code",
   "execution_count": 5,
   "metadata": {},
   "outputs": [
    {
     "name": "stdout",
     "output_type": "stream",
     "text": [
      "{'atomic_num': 6, 'element': 'C', 'rdmol_atom': <rdkit.Chem.rdchem.Atom object at 0x7fe387d26640>, 'atom_type_one_hot': array([1, 0, 0, 0, 0, 0, 0, 0, 0, 0, 0])}\n",
      "{'atomic_num': 6, 'element': 'C', 'rdmol_atom': <rdkit.Chem.rdchem.Atom object at 0x7fe387d26700>, 'atom_type_one_hot': array([1, 0, 0, 0, 0, 0, 0, 0, 0, 0, 0])}\n",
      "{'atomic_num': 8, 'element': 'O', 'rdmol_atom': <rdkit.Chem.rdchem.Atom object at 0x7fe387d26760>, 'atom_type_one_hot': array([0, 0, 1, 0, 0, 0, 0, 0, 0, 0, 0])}\n",
      "{'atomic_num': 8, 'element': 'O', 'rdmol_atom': <rdkit.Chem.rdchem.Atom object at 0x7fe387d267c0>, 'atom_type_one_hot': array([0, 0, 1, 0, 0, 0, 0, 0, 0, 0, 0])}\n",
      "{'atomic_num': 6, 'element': 'C', 'rdmol_atom': <rdkit.Chem.rdchem.Atom object at 0x7fe387d26820>, 'atom_type_one_hot': array([1, 0, 0, 0, 0, 0, 0, 0, 0, 0, 0])}\n",
      "{'atomic_num': 6, 'element': 'C', 'rdmol_atom': <rdkit.Chem.rdchem.Atom object at 0x7fe387d26880>, 'atom_type_one_hot': array([1, 0, 0, 0, 0, 0, 0, 0, 0, 0, 0])}\n",
      "{'atomic_num': 6, 'element': 'C', 'rdmol_atom': <rdkit.Chem.rdchem.Atom object at 0x7fe387d268e0>, 'atom_type_one_hot': array([1, 0, 0, 0, 0, 0, 0, 0, 0, 0, 0])}\n",
      "{'atomic_num': 6, 'element': 'C', 'rdmol_atom': <rdkit.Chem.rdchem.Atom object at 0x7fe387d26940>, 'atom_type_one_hot': array([1, 0, 0, 0, 0, 0, 0, 0, 0, 0, 0])}\n",
      "{'atomic_num': 6, 'element': 'C', 'rdmol_atom': <rdkit.Chem.rdchem.Atom object at 0x7fe387d26a00>, 'atom_type_one_hot': array([1, 0, 0, 0, 0, 0, 0, 0, 0, 0, 0])}\n",
      "{'atomic_num': 6, 'element': 'C', 'rdmol_atom': <rdkit.Chem.rdchem.Atom object at 0x7fe387d26a60>, 'atom_type_one_hot': array([1, 0, 0, 0, 0, 0, 0, 0, 0, 0, 0])}\n",
      "{'atomic_num': 6, 'element': 'C', 'rdmol_atom': <rdkit.Chem.rdchem.Atom object at 0x7fe387d26ac0>, 'atom_type_one_hot': array([1, 0, 0, 0, 0, 0, 0, 0, 0, 0, 0])}\n",
      "{'atomic_num': 8, 'element': 'O', 'rdmol_atom': <rdkit.Chem.rdchem.Atom object at 0x7fe387d26b20>, 'atom_type_one_hot': array([0, 0, 1, 0, 0, 0, 0, 0, 0, 0, 0])}\n",
      "{'atomic_num': 8, 'element': 'O', 'rdmol_atom': <rdkit.Chem.rdchem.Atom object at 0x7fe387d26b80>, 'atom_type_one_hot': array([0, 0, 1, 0, 0, 0, 0, 0, 0, 0, 0])}\n"
     ]
    }
   ],
   "source": [
    "# Node metadata\n",
    "for n, d in graph.nodes(data=True):\n",
    "    print(d)"
   ]
  },
  {
   "cell_type": "code",
   "execution_count": 6,
   "metadata": {},
   "outputs": [
    {
     "name": "stdout",
     "output_type": "stream",
     "text": [
      "0 1 {'kind': {'bond'}, 'bond': <rdkit.Chem.rdchem.Bond object at 0x7fe387cda1c0>}\n",
      "1 2 {'kind': {'bond'}, 'bond': <rdkit.Chem.rdchem.Bond object at 0x7fe387cda220>}\n",
      "1 3 {'kind': {'bond'}, 'bond': <rdkit.Chem.rdchem.Bond object at 0x7fe387cda280>}\n",
      "3 4 {'kind': {'bond'}, 'bond': <rdkit.Chem.rdchem.Bond object at 0x7fe387cda2e0>}\n",
      "4 5 {'kind': {'bond'}, 'bond': <rdkit.Chem.rdchem.Bond object at 0x7fe387cda340>}\n",
      "4 9 {'kind': {'bond'}, 'bond': <rdkit.Chem.rdchem.Bond object at 0x7fe387cda640>}\n",
      "5 6 {'kind': {'bond'}, 'bond': <rdkit.Chem.rdchem.Bond object at 0x7fe387cda3a0>}\n",
      "6 7 {'kind': {'bond'}, 'bond': <rdkit.Chem.rdchem.Bond object at 0x7fe387cda400>}\n",
      "7 8 {'kind': {'bond'}, 'bond': <rdkit.Chem.rdchem.Bond object at 0x7fe387cda460>}\n",
      "8 9 {'kind': {'bond'}, 'bond': <rdkit.Chem.rdchem.Bond object at 0x7fe387cda4c0>}\n",
      "9 10 {'kind': {'bond'}, 'bond': <rdkit.Chem.rdchem.Bond object at 0x7fe387cda520>}\n",
      "10 11 {'kind': {'bond'}, 'bond': <rdkit.Chem.rdchem.Bond object at 0x7fe387cda580>}\n",
      "10 12 {'kind': {'bond'}, 'bond': <rdkit.Chem.rdchem.Bond object at 0x7fe387cda5e0>}\n"
     ]
    }
   ],
   "source": [
    "# Edge metadata\n",
    "for u, v, d in graph.edges(data=True):\n",
    "    print(u, v, d)"
   ]
  },
  {
   "cell_type": "markdown",
   "metadata": {},
   "source": [
    "### Creating a Molecular Graph from an SDF File"
   ]
  },
  {
   "cell_type": "code",
   "execution_count": 7,
   "metadata": {},
   "outputs": [
    {
     "name": "stdout",
     "output_type": "stream",
     "text": [
      "Graph named 'long_test' with 20 nodes and 21 edges\n"
     ]
    },
    {
     "data": {
      "image/png": "[encoded data removed]",
      "text/plain": [
       "<rdkit.Chem.rdchem.Mol at 0x7fe387c168e0>"
      ]
     },
     "execution_count": 7,
     "metadata": {},
     "output_type": "execute_result"
    },
    {
     "data": {
      "image/png": "[encoded data removed]",
      "text/plain": [
       "<Figure size 432x288 with 1 Axes>"
      ]
     },
     "metadata": {},
     "output_type": "display_data"
    }
   ],
   "source": [
    "graph = gm.construct_graph(sdf_path=\"../tests/molecule/test_data/long_test.sdf\", config=config)\n",
    "print(graph)\n",
    "nx.draw(graph)\n",
    "graph.graph[\"rdmol\"]"
   ]
  },
  {
   "cell_type": "markdown",
   "metadata": {},
   "source": [
    "### Creating a Molecular Graph from a Mol2 File "
   ]
  },
  {
   "cell_type": "code",
   "execution_count": 8,
   "metadata": {},
   "outputs": [
    {
     "name": "stdout",
     "output_type": "stream",
     "text": [
      "Graph named 'short_test' with 3 nodes and 2 edges\n"
     ]
    },
    {
     "data": {
      "image/png": "[encoded data removed]",
      "text/plain": [
       "<rdkit.Chem.rdchem.Mol at 0x7fe387b50fa0>"
      ]
     },
     "execution_count": 8,
     "metadata": {},
     "output_type": "execute_result"
    },
    {
     "data": {
      "image/png": "[encoded data removed]",
      "text/plain": [
       "<Figure size 432x288 with 1 Axes>"
      ]
     },
     "metadata": {},
     "output_type": "display_data"
    }
   ],
   "source": [
    "graph = gm.construct_graph(mol2_path=\"../tests/molecule/test_data/short_test.mol2\", config=config)\n",
    "print(graph)\n",
    "nx.draw(graph)\n",
    "graph.graph[\"rdmol\"]"
   ]
  },
  {
   "cell_type": "markdown",
   "metadata": {},
   "source": [
    "## Adding Features\n",
    "Graphein can add lots of features to graph nodes and edges from RDKit\n",
    "\n",
    "### Node Features\n",
    "\n",
    "\n"
   ]
  },
  {
   "cell_type": "code",
   "execution_count": 9,
   "metadata": {},
   "outputs": [
    {
     "name": "stderr",
     "output_type": "stream",
     "text": [
      "INFO:graphein.molecule.edges.distance:Found: 3 KNN edges\n",
      "INFO:graphein.molecule.edges.distance:Found: 9 distance edges for radius 5.0\n"
     ]
    },
    {
     "name": "stdout",
     "output_type": "stream",
     "text": [
      "{'atomic_num': 6, 'element': 'C', 'rdmol_atom': <rdkit.Chem.rdchem.Atom object at 0x7fe39137e340>, 'atom_type_one_hot': array([1, 0, 0, 0, 0, 0, 0, 0, 0, 0, 0]), 'mass': 12.011, 'degree': 1, 'total_degree': 4, 'total_valence': 4, 'explicit_valence': 4, 'implicit_valence': 0, 'num_explicit_h': 3, 'num_implicit_h': 0, 'total_num_h': 3, 'num_radical_electrons': 0, 'formal_charge': 0, 'hybridization': rdkit.Chem.rdchem.HybridizationType.SP3, 'is_aromatic': False, 'is_isotope': 0, 'is_ring': False, 'chiral_tag': rdkit.Chem.rdchem.ChiralType.CHI_UNSPECIFIED, 'is_ring_5': False, 'is_ring_7': False}\n",
      "{'atomic_num': 6, 'element': 'C', 'rdmol_atom': <rdkit.Chem.rdchem.Atom object at 0x7fe387c6f6a0>, 'atom_type_one_hot': array([1, 0, 0, 0, 0, 0, 0, 0, 0, 0, 0]), 'mass': 12.011, 'degree': 2, 'total_degree': 4, 'total_valence': 4, 'explicit_valence': 4, 'implicit_valence': 0, 'num_explicit_h': 2, 'num_implicit_h': 0, 'total_num_h': 2, 'num_radical_electrons': 0, 'formal_charge': 0, 'hybridization': rdkit.Chem.rdchem.HybridizationType.SP3, 'is_aromatic': False, 'is_isotope': 0, 'is_ring': False, 'chiral_tag': rdkit.Chem.rdchem.ChiralType.CHI_UNSPECIFIED, 'is_ring_5': False, 'is_ring_7': False}\n",
      "{'atomic_num': 7, 'element': 'N', 'rdmol_atom': <rdkit.Chem.rdchem.Atom object at 0x7fe387c6f5e0>, 'atom_type_one_hot': array([0, 0, 0, 1, 0, 0, 0, 0, 0, 0, 0]), 'mass': 14.007, 'degree': 1, 'total_degree': 3, 'total_valence': 3, 'explicit_valence': 3, 'implicit_valence': 0, 'num_explicit_h': 2, 'num_implicit_h': 0, 'total_num_h': 2, 'num_radical_electrons': 0, 'formal_charge': 0, 'hybridization': rdkit.Chem.rdchem.HybridizationType.SP3, 'is_aromatic': False, 'is_isotope': 0, 'is_ring': False, 'chiral_tag': rdkit.Chem.rdchem.ChiralType.CHI_UNSPECIFIED, 'is_ring_5': False, 'is_ring_7': False}\n"
     ]
    }
   ],
   "source": [
    "from functools import partial\n",
    "\n",
    "config = gm.MoleculeGraphConfig(\n",
    "    node_metadata_functions=[\n",
    "        gm.atom_type_one_hot,\n",
    "        gm.atomic_mass,\n",
    "        gm.degree,\n",
    "        gm.total_degree,\n",
    "        gm.total_valence, \n",
    "        gm.explicit_valence,\n",
    "        gm.implicit_valence,\n",
    "        gm.num_explicit_h,\n",
    "        gm.num_implicit_h,\n",
    "        gm.total_num_h,\n",
    "        gm.num_radical_electrons,\n",
    "        gm.formal_charge,\n",
    "        gm.hybridization,\n",
    "        gm.is_aromatic,\n",
    "        gm.is_isotope,\n",
    "        gm.is_ring,\n",
    "        gm.chiral_tag,\n",
    "        partial(gm.is_ring_size, ring_size=5),\n",
    "        partial(gm.is_ring_size, ring_size=7)\n",
    "    ]\n",
    ")\n",
    "graph = gm.construct_graph(mol2_path=\"../tests/molecule/test_data/short_test.mol2\", config=config)\n",
    "\n",
    "for n, d in graph.nodes(data=True):\n",
    "    print(d)"
   ]
  },
  {
   "cell_type": "markdown",
   "metadata": {},
   "source": [
    "### Edge Features"
   ]
  },
  {
   "cell_type": "code",
   "execution_count": 14,
   "metadata": {},
   "outputs": [
    {
     "name": "stderr",
     "output_type": "stream",
     "text": [
      "INFO:graphein.molecule.edges.distance:Found: 3 KNN edges\n",
      "INFO:graphein.molecule.edges.distance:Found: 9 distance edges for radius 5.0\n",
      "DEBUG:graphein.molecule.features.edges.bonds:No RDKit bond found on edge 0-0\n",
      "DEBUG:graphein.molecule.features.edges.bonds:No RDKit bond found on edge 0-2\n",
      "DEBUG:graphein.molecule.features.edges.bonds:No RDKit bond found on edge 1-1\n",
      "DEBUG:graphein.molecule.features.edges.bonds:No RDKit bond found on edge 2-2\n",
      "DEBUG:graphein.molecule.features.edges.bonds:No RDKit bond found on edge 0-0\n",
      "DEBUG:graphein.molecule.features.edges.bonds:No RDKit bond found on edge 0-2\n",
      "DEBUG:graphein.molecule.features.edges.bonds:No RDKit bond found on edge 1-1\n",
      "DEBUG:graphein.molecule.features.edges.bonds:No RDKit bond found on edge 2-2\n",
      "DEBUG:graphein.molecule.features.edges.bonds:No RDKit bond found on edge 0-0\n",
      "DEBUG:graphein.molecule.features.edges.bonds:No RDKit bond found on edge 0-2\n",
      "DEBUG:graphein.molecule.features.edges.bonds:No RDKit bond found on edge 1-1\n",
      "DEBUG:graphein.molecule.features.edges.bonds:No RDKit bond found on edge 2-2\n",
      "DEBUG:graphein.molecule.features.edges.bonds:No RDKit bond found on edge 0-0\n",
      "DEBUG:graphein.molecule.features.edges.bonds:No RDKit bond found on edge 0-2\n",
      "DEBUG:graphein.molecule.features.edges.bonds:No RDKit bond found on edge 1-1\n",
      "DEBUG:graphein.molecule.features.edges.bonds:No RDKit bond found on edge 2-2\n",
      "DEBUG:graphein.molecule.features.edges.bonds:No RDKit bond found on edge 0-0\n",
      "DEBUG:graphein.molecule.features.edges.bonds:No RDKit bond found on edge 0-2\n",
      "DEBUG:graphein.molecule.features.edges.bonds:No RDKit bond found on edge 1-1\n",
      "DEBUG:graphein.molecule.features.edges.bonds:No RDKit bond found on edge 2-2\n",
      "DEBUG:graphein.molecule.features.edges.bonds:No RDKit bond found on edge 0-0\n",
      "DEBUG:graphein.molecule.features.edges.bonds:No RDKit bond found on edge 0-2\n",
      "DEBUG:graphein.molecule.features.edges.bonds:No RDKit bond found on edge 1-1\n",
      "DEBUG:graphein.molecule.features.edges.bonds:No RDKit bond found on edge 2-2\n",
      "DEBUG:graphein.molecule.features.edges.bonds:No RDKit bond found on edge 0-0\n",
      "DEBUG:graphein.molecule.features.edges.bonds:No RDKit bond found on edge 0-2\n",
      "DEBUG:graphein.molecule.features.edges.bonds:No RDKit bond found on edge 1-1\n",
      "DEBUG:graphein.molecule.features.edges.bonds:No RDKit bond found on edge 2-2\n"
     ]
    },
    {
     "name": "stdout",
     "output_type": "stream",
     "text": [
      "{'kind': {'fully_connected', 'distance_threshold'}, 'bond_type': None, 'aromatic': None, 'conjugated': None, 'ring': None, 'bond_stereo': None, 'ring_size_5': None, 'ring_size_7': None}\n",
      "{'kind': {'fully_connected', 'distance_threshold', 'bond', 'k_nn_1'}, 'bond': <rdkit.Chem.rdchem.Bond object at 0x7fe3870d2ca0>, 'bond_type': rdkit.Chem.rdchem.BondType.SINGLE, '_aromatic': False, 'conjugated': False, 'ring': False, 'bond_stereo': rdkit.Chem.rdchem.BondStereo.STEREONONE, 'ring_size_5': False, 'ring_size_7': False}\n",
      "{'kind': {'fully_connected', 'distance_threshold'}, 'bond_type': None, 'aromatic': None, 'conjugated': None, 'ring': None, 'bond_stereo': None, 'ring_size_5': None, 'ring_size_7': None}\n",
      "{'kind': {'fully_connected', 'distance_threshold'}, 'bond_type': None, 'aromatic': None, 'conjugated': None, 'ring': None, 'bond_stereo': None, 'ring_size_5': None, 'ring_size_7': None}\n",
      "{'kind': {'fully_connected', 'distance_threshold', 'bond', 'k_nn_1'}, 'bond': <rdkit.Chem.rdchem.Bond object at 0x7fe3870d2dc0>, 'bond_type': rdkit.Chem.rdchem.BondType.SINGLE, '_aromatic': False, 'conjugated': False, 'ring': False, 'bond_stereo': rdkit.Chem.rdchem.BondStereo.STEREONONE, 'ring_size_5': False, 'ring_size_7': False}\n",
      "{'kind': {'fully_connected', 'distance_threshold'}, 'bond_type': None, 'aromatic': None, 'conjugated': None, 'ring': None, 'bond_stereo': None, 'ring_size_5': None, 'ring_size_7': None}\n"
     ]
    }
   ],
   "source": [
    "config = gm.MoleculeGraphConfig(\n",
    "    edge_metadata_functions=[\n",
    "        gm.add_bond_type,\n",
    "        gm.bond_is_aromatic,\n",
    "        gm.bond_is_conjugated,\n",
    "        gm.bond_is_in_ring,\n",
    "        gm.bond_stereo,\n",
    "        partial(gm.bond_is_in_ring_size, ring_size=5),\n",
    "        partial(gm.bond_is_in_ring_size, ring_size=7)\n",
    "    ]\n",
    ")\n",
    "graph = gm.construct_graph(mol2_path=\"../tests/molecule/test_data/short_test.mol2\", config=config)\n",
    "\n",
    "for u, v, d in graph.edges(data=True):\n",
    "    print(d)"
   ]
  },
  {
   "cell_type": "markdown",
   "metadata": {},
   "source": [
    "### Graph Features"
   ]
  },
  {
   "cell_type": "code",
   "execution_count": 13,
   "metadata": {},
   "outputs": [
    {
     "name": "stderr",
     "output_type": "stream",
     "text": [
      "INFO:graphein.molecule.edges.distance:Found: 3 KNN edges\n",
      "INFO:graphein.molecule.edges.distance:Found: 9 distance edges for radius 5.0\n"
     ]
    },
    {
     "name": "stdout",
     "output_type": "stream",
     "text": [
      "{'name': 'short_test', 'rdmol': <rdkit.Chem.rdchem.Mol object at 0x7fe3870d22e0>, 'coords': array([[ 0.9862, -0.257 , -0.1905],\n",
      "       [-0.2052,  0.2236,  0.6206],\n",
      "       [-1.4201,  0.2357, -0.1847]]), 'smiles': 'CCN', 'config': MoleculeGraphConfig(verbose=False, add_hs=False, edge_construction_functions=[<function add_fully_connected_edges at 0x7fe3895cf280>, <function add_k_nn_edges at 0x7fe3895cf310>, <function add_distance_threshold at 0x7fe3895cf1f0>, <function add_atom_bonds at 0x7fe3895ccdc0>], node_metadata_functions=[<function atom_type_one_hot at 0x7fe3895cf430>], edge_metadata_functions=None, graph_metadata_functions=[<function mol_descriptors at 0x7fe3895cf940>]), 'MaxEStateIndex': 4.847222222222222, 'MinEStateIndex': 0.75, 'MaxAbsEStateIndex': 4.847222222222222, 'MinAbsEStateIndex': 0.75, 'qed': 0.40623709538988323, 'MolWt': 45.084999999999994, 'HeavyAtomMolWt': 38.028999999999996, 'ExactMolWt': 45.057849223999995, 'NumValenceElectrons': 20, 'NumRadicalElectrons': 0, 'MaxPartialCharge': -0.010576265829206462, 'MinPartialCharge': -0.3307484184390755, 'MaxAbsPartialCharge': 0.3307484184390755, 'MinAbsPartialCharge': 0.010576265829206462, 'FpDensityMorgan1': 2.0, 'FpDensityMorgan2': 2.0, 'FpDensityMorgan3': 2.0, 'BCUT2D_MWHI': 14.489350501685236, 'BCUT2D_MWLOW': 10.840990590774261, 'BCUT2D_CHGHI': 1.3223586846717188, 'BCUT2D_CHGLO': -1.5255036511694584, 'BCUT2D_LOGPHI': 1.1976547781828029, 'BCUT2D_LOGPLOW': -1.871495321468652, 'BCUT2D_MRHI': 3.9983956644101193, 'BCUT2D_MRLOW': 1.1354269715888405, 'BalabanJ': 1.6329931618554523, 'BertzCT': 2.7548875021634682, 'Chi0': 2.7071067811865475, 'Chi0n': 2.284457050376173, 'Chi0v': 2.284457050376173, 'Chi1': 1.4142135623730951, 'Chi1n': 1.1153550716504106, 'Chi1v': 1.1153550716504106, 'Chi2n': 0.408248290463863, 'Chi2v': 0.408248290463863, 'Chi3n': 0.0, 'Chi3v': 0.0, 'Chi4n': 0.0, 'Chi4v': 0.0, 'HallKierAlpha': -0.04, 'Ipc': 2.7548875021634682, 'Kappa1': 2.9600000000000004, 'Kappa2': 1.96, 'Kappa3': 1.9600000000000033, 'LabuteASA': 20.444083839238875, 'PEOE_VSA1': 5.733667477162185, 'PEOE_VSA10': 0.0, 'PEOE_VSA11': 0.0, 'PEOE_VSA12': 0.0, 'PEOE_VSA13': 0.0, 'PEOE_VSA14': 0.0, 'PEOE_VSA2': 0.0, 'PEOE_VSA3': 0.0, 'PEOE_VSA4': 0.0, 'PEOE_VSA5': 0.0, 'PEOE_VSA6': 6.923737199690624, 'PEOE_VSA7': 6.544756405912575, 'PEOE_VSA8': 0.0, 'PEOE_VSA9': 0.0, 'SMR_VSA1': 0.0, 'SMR_VSA10': 0.0, 'SMR_VSA2': 0.0, 'SMR_VSA3': 0.0, 'SMR_VSA4': 5.733667477162185, 'SMR_VSA5': 6.923737199690624, 'SMR_VSA6': 6.544756405912575, 'SMR_VSA7': 0.0, 'SMR_VSA8': 0.0, 'SMR_VSA9': 0.0, 'SlogP_VSA1': 5.733667477162185, 'SlogP_VSA10': 0.0, 'SlogP_VSA11': 0.0, 'SlogP_VSA12': 0.0, 'SlogP_VSA2': 6.544756405912575, 'SlogP_VSA3': 0.0, 'SlogP_VSA4': 0.0, 'SlogP_VSA5': 6.923737199690624, 'SlogP_VSA6': 0.0, 'SlogP_VSA7': 0.0, 'SlogP_VSA8': 0.0, 'SlogP_VSA9': 0.0, 'TPSA': 26.02, 'EState_VSA1': 0.0, 'EState_VSA10': 0.0, 'EState_VSA11': 0.0, 'EState_VSA2': 0.0, 'EState_VSA3': 0.0, 'EState_VSA4': 6.544756405912575, 'EState_VSA5': 0.0, 'EState_VSA6': 0.0, 'EState_VSA7': 6.923737199690624, 'EState_VSA8': 0.0, 'EState_VSA9': 5.733667477162185, 'VSA_EState1': 0.0, 'VSA_EState10': 0.0, 'VSA_EState2': 0.0, 'VSA_EState3': 0.0, 'VSA_EState4': 4.847222222222222, 'VSA_EState5': 0.0, 'VSA_EState6': 0.0, 'VSA_EState7': 0.0, 'VSA_EState8': 2.6527777777777777, 'VSA_EState9': 0.0, 'FractionCSP3': 1.0, 'HeavyAtomCount': 3, 'NHOHCount': 2, 'NOCount': 1, 'NumAliphaticCarbocycles': 0, 'NumAliphaticHeterocycles': 0, 'NumAliphaticRings': 0, 'NumAromaticCarbocycles': 0, 'NumAromaticHeterocycles': 0, 'NumAromaticRings': 0, 'NumHAcceptors': 1, 'NumHDonors': 1, 'NumHeteroatoms': 1, 'NumRotatableBonds': 0, 'NumSaturatedCarbocycles': 0, 'NumSaturatedHeterocycles': 0, 'NumSaturatedRings': 0, 'RingCount': 0, 'MolLogP': -0.03499999999999981, 'MolMR': 14.728400000000002, 'fr_Al_COO': 0, 'fr_Al_OH': 0, 'fr_Al_OH_noTert': 0, 'fr_ArN': 0, 'fr_Ar_COO': 0, 'fr_Ar_N': 0, 'fr_Ar_NH': 0, 'fr_Ar_OH': 0, 'fr_COO': 0, 'fr_COO2': 0, 'fr_C_O': 0, 'fr_C_O_noCOO': 0, 'fr_C_S': 0, 'fr_HOCCN': 0, 'fr_Imine': 0, 'fr_NH0': 0, 'fr_NH1': 0, 'fr_NH2': 1, 'fr_N_O': 0, 'fr_Ndealkylation1': 0, 'fr_Ndealkylation2': 0, 'fr_Nhpyrrole': 0, 'fr_SH': 0, 'fr_aldehyde': 0, 'fr_alkyl_carbamate': 0, 'fr_alkyl_halide': 0, 'fr_allylic_oxid': 0, 'fr_amide': 0, 'fr_amidine': 0, 'fr_aniline': 0, 'fr_aryl_methyl': 0, 'fr_azide': 0, 'fr_azo': 0, 'fr_barbitur': 0, 'fr_benzene': 0, 'fr_benzodiazepine': 0, 'fr_bicyclic': 0, 'fr_diazo': 0, 'fr_dihydropyridine': 0, 'fr_epoxide': 0, 'fr_ester': 0, 'fr_ether': 0, 'fr_furan': 0, 'fr_guanido': 0, 'fr_halogen': 0, 'fr_hdrzine': 0, 'fr_hdrzone': 0, 'fr_imidazole': 0, 'fr_imide': 0, 'fr_isocyan': 0, 'fr_isothiocyan': 0, 'fr_ketone': 0, 'fr_ketone_Topliss': 0, 'fr_lactam': 0, 'fr_lactone': 0, 'fr_methoxy': 0, 'fr_morpholine': 0, 'fr_nitrile': 0, 'fr_nitro': 0, 'fr_nitro_arom': 0, 'fr_nitro_arom_nonortho': 0, 'fr_nitroso': 0, 'fr_oxazole': 0, 'fr_oxime': 0, 'fr_para_hydroxylation': 0, 'fr_phenol': 0, 'fr_phenol_noOrthoHbond': 0, 'fr_phos_acid': 0, 'fr_phos_ester': 0, 'fr_piperdine': 0, 'fr_piperzine': 0, 'fr_priamide': 0, 'fr_prisulfonamd': 0, 'fr_pyridine': 0, 'fr_quatN': 0, 'fr_sulfide': 0, 'fr_sulfonamd': 0, 'fr_sulfone': 0, 'fr_term_acetylene': 0, 'fr_tetrazole': 0, 'fr_thiazole': 0, 'fr_thiocyan': 0, 'fr_thiophene': 0, 'fr_unbrch_alkane': 0, 'fr_urea': 0}\n"
     ]
    }
   ],
   "source": [
    "config = gm.MoleculeGraphConfig(\n",
    "    graph_metadata_functions=[\n",
    "        gm.mol_descriptors\n",
    "    ]\n",
    ")\n",
    "graph = gm.construct_graph(mol2_path=\"../tests/molecule/test_data/short_test.mol2\", config=config)\n",
    "\n",
    "print(graph.graph)"
   ]
  }
 ],
 "metadata": {
  "interpreter": {
   "hash": "0ab7f988027852efc1ebacd06db3f130eb65d2a20cb6a366311359132c20a952"
  },
  "kernelspec": {
   "display_name": "Python 3.8.13 ('graphein')",
   "language": "python",
   "name": "python3"
  },
  "language_info": {
   "codemirror_mode": {
    "name": "ipython",
    "version": 3
   },
   "file_extension": ".py",
   "mimetype": "text/x-python",
   "name": "python",
   "nbconvert_exporter": "python",
   "pygments_lexer": "ipython3",
   "version": "3.8.13"
  },
  "orig_nbformat": 4
 },
 "nbformat": 4,
 "nbformat_minor": 2
}
