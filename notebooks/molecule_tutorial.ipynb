{
 "cells": [
  {
   "cell_type": "markdown",
   "metadata": {},
   "source": [
    "# Creating Molecular Graphs in Graphein\n",
    "\n",
    "[Graphein](https://github.com/a-r-j/graphein) provides a set of tools for working with molecular graphs. Under the hood, we wrap [RDKit](https://www.rdkit.org/) functions for the graph construction. While the main format used is a [NetworkX](https://networkx.org/) `nx.Graph`, each graph, node & edge has its underlying [RDKit object](https://www.rdkit.org/docs/source/rdkit.Chem.rdchem.html) stored as metadata so RDKit methods can still be used.\n",
    "\n",
    "[![Open In Colab](https://colab.research.google.com/assets/colab-badge.svg)](https://colab.research.google.com/github/a-r-j/graphein/blob/master/notebooks/molecule_tutorial.ipynb) [![GitHub](https://img.shields.io/badge/-View%20on%20GitHub-181717?logo=github&logoColor=ffffff)](https://github.com/a-r-j/graphein/blob/master/notebooks/molecule_tutorial.ipynb)"
   ]
  },
  {
   "cell_type": "code",
   "execution_count": null,
   "metadata": {},
   "outputs": [],
   "source": [
    "# Install Graphein if necessary\n",
    "# !pip install graphein[extras]"
   ]
  },
  {
   "cell_type": "code",
   "execution_count": null,
   "metadata": {},
   "outputs": [],
   "source": [
    "import networkx as nx\n",
    "import logging\n",
    "from rich import inspect, print\n",
    "logging.getLogger(\"matplotlib\").setLevel(logging.WARNING)\n",
    "\n",
    "import graphein.molecule as gm"
   ]
  },
  {
   "cell_type": "markdown",
   "metadata": {},
   "source": [
    "## Config\n",
    "Similar to [Protein Graph Construction](https://graphein.ai/notebooks/residue_graphs.html), configuration of small molecule graphs is controlled by a [`MoleculeGraphConfig`]() object."
   ]
  },
  {
   "cell_type": "code",
   "execution_count": null,
   "metadata": {},
   "outputs": [],
   "source": [
    "config = gm.MoleculeGraphConfig()\n",
    "inspect(config)"
   ]
  },
  {
   "cell_type": "markdown",
   "metadata": {},
   "source": [
    "## Creating Graphs\n",
    "\n",
    "### Creating a Molecular Graph from SMILES\n",
    "\n",
    "Let's take a look at a simple molecule, acetylsalicylic acid (or aspirin as it's more commonly known)."
   ]
  },
  {
   "cell_type": "code",
   "execution_count": null,
   "metadata": {},
   "outputs": [],
   "source": [
    "graph = gm.construct_graph(smiles=\"CC(=O)OC1=CC=CC=C1C(=O)O\", config=config)\n",
    "print(graph)\n",
    "nx.draw(graph)\n",
    "graph.graph[\"rdmol\"]"
   ]
  },
  {
   "cell_type": "markdown",
   "metadata": {},
   "source": [
    "Molecule features are stored as dictionaries on the graph, nodes and edges."
   ]
  },
  {
   "cell_type": "code",
   "execution_count": null,
   "metadata": {},
   "outputs": [],
   "source": [
    "# Node metadata\n",
    "for n, d in graph.nodes(data=True):\n",
    "    print(d)"
   ]
  },
  {
   "cell_type": "code",
   "execution_count": null,
   "metadata": {},
   "outputs": [],
   "source": [
    "# Edge metadata\n",
    "for u, v, d in graph.edges(data=True):\n",
    "    print(d)"
   ]
  },
  {
   "cell_type": "markdown",
   "metadata": {},
   "source": [
    "### Creating a Molecular Graph from an SDF File\n",
    "\n",
    "As SDFs & Mol2 files provide coordinates, we can draw the graph in 3D."
   ]
  },
  {
   "cell_type": "code",
   "execution_count": null,
   "metadata": {},
   "outputs": [],
   "source": [
    "graph = gm.construct_graph(path=\"../tests/molecule/test_data/long_test.sdf\", config=config)\n",
    "print(graph)\n",
    "graph.graph[\"rdmol\"]"
   ]
  },
  {
   "cell_type": "code",
   "execution_count": null,
   "metadata": {},
   "outputs": [],
   "source": [
    "gm.plotly_molecular_graph(graph)"
   ]
  },
  {
   "cell_type": "markdown",
   "metadata": {},
   "source": [
    "### Creating a Molecular Graph from a Mol2 File"
   ]
  },
  {
   "cell_type": "code",
   "execution_count": null,
   "metadata": {},
   "outputs": [],
   "source": [
    "graph = gm.construct_graph(path=\"../tests/molecule/test_data/short_test.mol2\", config=config)\n",
    "print(graph)\n",
    "graph.graph[\"rdmol\"]"
   ]
  },
  {
   "cell_type": "code",
   "execution_count": null,
   "metadata": {},
   "outputs": [],
   "source": [
    "gm.plotly_molecular_graph(graph)"
   ]
  },
  {
   "cell_type": "markdown",
   "metadata": {},
   "source": [
    "## Adding Features\n",
    "Graphein can add lots of features to graph nodes and edges from RDKit\n",
    "\n",
    "### Node Features\n",
    "\n",
    "\n"
   ]
  },
  {
   "cell_type": "code",
   "execution_count": null,
   "metadata": {},
   "outputs": [],
   "source": [
    "from functools import partial\n",
    "\n",
    "config = gm.MoleculeGraphConfig(\n",
    "    node_metadata_functions=[\n",
    "        gm.atom_type_one_hot,\n",
    "        gm.atomic_mass,\n",
    "        gm.degree,\n",
    "        gm.total_degree,\n",
    "        gm.total_valence,\n",
    "        gm.explicit_valence,\n",
    "        gm.implicit_valence,\n",
    "        gm.num_explicit_h,\n",
    "        gm.num_implicit_h,\n",
    "        gm.total_num_h,\n",
    "        gm.num_radical_electrons,\n",
    "        gm.formal_charge,\n",
    "        gm.hybridization,\n",
    "        gm.is_aromatic,\n",
    "        gm.is_isotope,\n",
    "        gm.is_ring,\n",
    "        gm.chiral_tag,\n",
    "        partial(gm.is_ring_size, ring_size=5),\n",
    "        partial(gm.is_ring_size, ring_size=7)\n",
    "    ]\n",
    ")\n",
    "graph = gm.construct_graph(path=\"../tests/molecule/test_data/short_test.mol2\", config=config)\n",
    "\n",
    "for n, d in graph.nodes(data=True):\n",
    "    print(d)"
   ]
  },
  {
   "cell_type": "markdown",
   "metadata": {},
   "source": [
    "### Edge Features"
   ]
  },
  {
   "cell_type": "code",
   "execution_count": null,
   "metadata": {},
   "outputs": [],
   "source": [
    "config = gm.MoleculeGraphConfig(\n",
    "    edge_metadata_functions=[\n",
    "        gm.add_bond_type,\n",
    "        gm.bond_is_aromatic,\n",
    "        gm.bond_is_conjugated,\n",
    "        gm.bond_is_in_ring,\n",
    "        gm.bond_stereo,\n",
    "        partial(gm.bond_is_in_ring_size, ring_size=5),\n",
    "        partial(gm.bond_is_in_ring_size, ring_size=7)\n",
    "    ]\n",
    ")\n",
    "graph = gm.construct_graph(path=\"../tests/molecule/test_data/short_test.mol2\", config=config)\n",
    "\n",
    "for u, v, d in graph.edges(data=True):\n",
    "    print(d)"
   ]
  },
  {
   "cell_type": "markdown",
   "metadata": {},
   "source": [
    "### Graph Features\n",
    "Global descriptors of the molecule computed by RDKit can be added to the graph too!"
   ]
  },
  {
   "cell_type": "code",
   "execution_count": null,
   "metadata": {},
   "outputs": [],
   "source": [
    "config = gm.MoleculeGraphConfig(\n",
    "    graph_metadata_functions=[\n",
    "        gm.mol_descriptors\n",
    "    ]\n",
    ")\n",
    "graph = gm.construct_graph(path=\"../tests/molecule/test_data/short_test.mol2\", config=config)\n",
    "\n",
    "print(graph.graph)"
   ]
  },
  {
   "cell_type": "code",
   "execution_count": null,
   "metadata": {},
   "outputs": [],
   "source": []
  }
 ],
 "metadata": {
  "interpreter": {
   "hash": "18b92dcb3aeecaafcda3e696c227fe0e653d0ebba9b1df5f8e7485b6c09cf261"
  },
  "kernelspec": {
   "display_name": "Python 3.8.10 ('graphein-dev-test')",
   "language": "python",
   "name": "python3"
  },
  "language_info": {
   "codemirror_mode": {
    "name": "ipython",
    "version": 3
   },
   "file_extension": ".py",
   "mimetype": "text/x-python",
   "name": "python",
   "nbconvert_exporter": "python",
   "pygments_lexer": "ipython3",
   "version": "3.8.10"
  }
 },
 "nbformat": 4,
 "nbformat_minor": 2
}
