{
     "cells": [
          {
               "cell_type": "markdown",
               "metadata": {},
               "source": [
                    "# Creating Molecular Graphs in Graphein\n",
                    "\n",
                    "[Graphein](https://github.com/a-r-j/graphein) provides a set of tools for working with molecular graphs. Under the hood, we wrap [RDKit](https://www.rdkit.org/) functions for the graph construction. While the main format used is a [NetworkX](https://networkx.org/) `nx.Graph`, each graph, node & edge has its underlying [RDKit object](https://www.rdkit.org/docs/source/rdkit.Chem.rdchem.html) stored as metadata so RDKit methods can still be used.\n",
                    "\n",
                    "[![Open In Colab](https://colab.research.google.com/assets/colab-badge.svg)](https://colab.research.google.com/github/a-r-j/graphein/blob/master/notebooks/molecule_tutorial.ipynb) [![GitHub](https://img.shields.io/badge/-View%20on%20GitHub-181717?logo=github&logoColor=ffffff)](https://github.com/a-r-j/graphein/blob/master/notebooks/molecule_tutorial.ipynb)"
               ]
          },
          {
               "cell_type": "code",
               "execution_count": 4,
               "metadata": {},
               "outputs": [],
               "source": [
                    "# Install Graphein if necessary\n",
                    "# !pip install graphein[extras]"
               ]
          },
          {
               "cell_type": "code",
               "execution_count": 5,
               "metadata": {},
               "outputs": [
                    {
                         "name": "stderr",
                         "output_type": "stream",
                         "text": [
                              "RDKit WARNING: [14:28:33] Enabling RDKit 2019.09.3 jupyter extensions\n",
                              "[14:28:33] Enabling RDKit 2019.09.3 jupyter extensions\n"
                         ]
                    }
               ],
               "source": [
                    "import networkx as nx\n",
                    "import logging\n",
                    "from rich import inspect, print\n",
                    "logging.getLogger(\"matplotlib\").setLevel(logging.WARNING)\n",
                    "\n",
                    "import graphein.molecule as gm"
               ]
          },
          {
               "cell_type": "markdown",
               "metadata": {},
               "source": [
                    "## Config\n",
                    "Similar to [Protein Graph Construction](https://graphein.ai/notebooks/residue_graphs.html), configuration of small molecule graphs is controlled by a [`MoleculeGraphConfig`]() object."
               ]
          },
          {
               "cell_type": "code",
               "execution_count": 6,
               "metadata": {},
               "outputs": [
                    {
                         "data": {
                              "text/html": [
                                   "<pre style=\"white-space:pre;overflow-x:auto;line-height:normal;font-family:Menlo,'DejaVu Sans Mono',consolas,'Courier New',monospace\"><span style=\"color: #000080; text-decoration-color: #000080\">╭───────────────── </span><span style=\"color: #000080; text-decoration-color: #000080; font-weight: bold\">&lt;</span><span style=\"color: #ff00ff; text-decoration-color: #ff00ff; font-weight: bold\">class</span><span style=\"color: #000000; text-decoration-color: #000000\"> </span><span style=\"color: #008000; text-decoration-color: #008000\">'graphein.molecule.config.MoleculeGraphConfig'</span><span style=\"color: #000080; text-decoration-color: #000080; font-weight: bold\">&gt;</span><span style=\"color: #000080; text-decoration-color: #000080\"> ──────────────────╮</span>\n",
                                   "<span style=\"color: #000080; text-decoration-color: #000080\">│</span> <span style=\"color: #008080; text-decoration-color: #008080\">Config Object for Molecule Structure Graph Construction.</span>                                  <span style=\"color: #000080; text-decoration-color: #000080\">│</span>\n",
                                   "<span style=\"color: #000080; text-decoration-color: #000080\">│</span>                                                                                           <span style=\"color: #000080; text-decoration-color: #000080\">│</span>\n",
                                   "<span style=\"color: #000080; text-decoration-color: #000080\">│</span> <span style=\"color: #008000; text-decoration-color: #008000\">╭───────────────────────────────────────────────────────────────────────────────────────╮</span> <span style=\"color: #000080; text-decoration-color: #000080\">│</span>\n",
                                   "<span style=\"color: #000080; text-decoration-color: #000080\">│</span> <span style=\"color: #008000; text-decoration-color: #008000\">│</span> <span style=\"color: #800080; text-decoration-color: #800080; font-weight: bold\">MoleculeGraphConfig</span><span style=\"font-weight: bold\">(</span><span style=\"color: #808000; text-decoration-color: #808000\">verbose</span>=<span style=\"color: #ff0000; text-decoration-color: #ff0000; font-style: italic\">False</span>, <span style=\"color: #808000; text-decoration-color: #808000\">add_hs</span>=<span style=\"color: #ff0000; text-decoration-color: #ff0000; font-style: italic\">False</span>, <span style=\"color: #808000; text-decoration-color: #808000\">generate_conformer</span>=<span style=\"color: #ff0000; text-decoration-color: #ff0000; font-style: italic\">False</span>,            <span style=\"color: #008000; text-decoration-color: #008000\">│</span> <span style=\"color: #000080; text-decoration-color: #000080\">│</span>\n",
                                   "<span style=\"color: #000080; text-decoration-color: #000080\">│</span> <span style=\"color: #008000; text-decoration-color: #008000\">│</span> <span style=\"color: #808000; text-decoration-color: #808000\">edge_construction_functions</span>=<span style=\"font-weight: bold\">[&lt;</span><span style=\"color: #ff00ff; text-decoration-color: #ff00ff; font-weight: bold\">function</span><span style=\"color: #000000; text-decoration-color: #000000\"> add_fully_connected_edges at </span><span style=\"color: #008080; text-decoration-color: #008080; font-weight: bold\">0x7f10c593f9d0</span><span style=\"font-weight: bold\">&gt;</span>,  <span style=\"color: #008000; text-decoration-color: #008000\">│</span> <span style=\"color: #000080; text-decoration-color: #000080\">│</span>\n",
                                   "<span style=\"color: #000080; text-decoration-color: #000080\">│</span> <span style=\"color: #008000; text-decoration-color: #008000\">│</span> <span style=\"font-weight: bold\">&lt;</span><span style=\"color: #ff00ff; text-decoration-color: #ff00ff; font-weight: bold\">function</span><span style=\"color: #000000; text-decoration-color: #000000\"> add_k_nn_edges at </span><span style=\"color: #008080; text-decoration-color: #008080; font-weight: bold\">0x7f10c593fa60</span><span style=\"font-weight: bold\">&gt;</span>, <span style=\"font-weight: bold\">&lt;</span><span style=\"color: #ff00ff; text-decoration-color: #ff00ff; font-weight: bold\">function</span><span style=\"color: #000000; text-decoration-color: #000000\"> add_distance_threshold at </span>     <span style=\"color: #008000; text-decoration-color: #008000\">│</span> <span style=\"color: #000080; text-decoration-color: #000080\">│</span>\n",
                                   "<span style=\"color: #000080; text-decoration-color: #000080\">│</span> <span style=\"color: #008000; text-decoration-color: #008000\">│</span> <span style=\"color: #008080; text-decoration-color: #008080; font-weight: bold\">0x7f10c593f940</span><span style=\"font-weight: bold\">&gt;</span>, <span style=\"font-weight: bold\">&lt;</span><span style=\"color: #ff00ff; text-decoration-color: #ff00ff; font-weight: bold\">function</span><span style=\"color: #000000; text-decoration-color: #000000\"> add_atom_bonds at </span><span style=\"color: #008080; text-decoration-color: #008080; font-weight: bold\">0x7f10c593f550</span><span style=\"font-weight: bold\">&gt;]</span>,                        <span style=\"color: #008000; text-decoration-color: #008000\">│</span> <span style=\"color: #000080; text-decoration-color: #000080\">│</span>\n",
                                   "<span style=\"color: #000080; text-decoration-color: #000080\">│</span> <span style=\"color: #008000; text-decoration-color: #008000\">│</span> <span style=\"color: #808000; text-decoration-color: #808000\">node_metadata_functions</span>=<span style=\"font-weight: bold\">[&lt;</span><span style=\"color: #ff00ff; text-decoration-color: #ff00ff; font-weight: bold\">function</span><span style=\"color: #000000; text-decoration-color: #000000\"> atom_type_one_hot at </span><span style=\"color: #008080; text-decoration-color: #008080; font-weight: bold\">0x7f10c56e1f70</span><span style=\"font-weight: bold\">&gt;]</span>,             <span style=\"color: #008000; text-decoration-color: #008000\">│</span> <span style=\"color: #000080; text-decoration-color: #000080\">│</span>\n",
                                   "<span style=\"color: #000080; text-decoration-color: #000080\">│</span> <span style=\"color: #008000; text-decoration-color: #008000\">│</span> <span style=\"color: #808000; text-decoration-color: #808000\">edge_metadata_functions</span>=<span style=\"color: #800080; text-decoration-color: #800080; font-style: italic\">None</span>, <span style=\"color: #808000; text-decoration-color: #808000\">graph_metadata_functions</span>=<span style=\"color: #800080; text-decoration-color: #800080; font-style: italic\">None</span><span style=\"font-weight: bold\">)</span>                          <span style=\"color: #008000; text-decoration-color: #008000\">│</span> <span style=\"color: #000080; text-decoration-color: #000080\">│</span>\n",
                                   "<span style=\"color: #000080; text-decoration-color: #000080\">│</span> <span style=\"color: #008000; text-decoration-color: #008000\">╰───────────────────────────────────────────────────────────────────────────────────────╯</span> <span style=\"color: #000080; text-decoration-color: #000080\">│</span>\n",
                                   "<span style=\"color: #000080; text-decoration-color: #000080\">│</span>                                                                                           <span style=\"color: #000080; text-decoration-color: #000080\">│</span>\n",
                                   "<span style=\"color: #000080; text-decoration-color: #000080\">│</span>                      <span style=\"color: #808000; text-decoration-color: #808000; font-style: italic\">add_hs</span> = <span style=\"color: #ff0000; text-decoration-color: #ff0000; font-style: italic\">False</span>                                                       <span style=\"color: #000080; text-decoration-color: #000080\">│</span>\n",
                                   "<span style=\"color: #000080; text-decoration-color: #000080\">│</span> <span style=\"color: #808000; text-decoration-color: #808000; font-style: italic\">edge_construction_functions</span> = <span style=\"font-weight: bold\">[</span>                                                           <span style=\"color: #000080; text-decoration-color: #000080\">│</span>\n",
                                   "<span style=\"color: #000080; text-decoration-color: #000080\">│</span>                                   <span style=\"font-weight: bold\">&lt;</span><span style=\"color: #ff00ff; text-decoration-color: #ff00ff; font-weight: bold\">function</span><span style=\"color: #000000; text-decoration-color: #000000\"> add_fully_connected_edges at </span><span style=\"color: #008080; text-decoration-color: #008080; font-weight: bold\">0x7f10c593f9d0</span><span style=\"font-weight: bold\">&gt;</span>, <span style=\"color: #000080; text-decoration-color: #000080\">│</span>\n",
                                   "<span style=\"color: #000080; text-decoration-color: #000080\">│</span>                                   <span style=\"font-weight: bold\">&lt;</span><span style=\"color: #ff00ff; text-decoration-color: #ff00ff; font-weight: bold\">function</span><span style=\"color: #000000; text-decoration-color: #000000\"> add_k_nn_edges at </span><span style=\"color: #008080; text-decoration-color: #008080; font-weight: bold\">0x7f10c593fa60</span><span style=\"font-weight: bold\">&gt;</span>,            <span style=\"color: #000080; text-decoration-color: #000080\">│</span>\n",
                                   "<span style=\"color: #000080; text-decoration-color: #000080\">│</span>                                   <span style=\"font-weight: bold\">&lt;</span><span style=\"color: #ff00ff; text-decoration-color: #ff00ff; font-weight: bold\">function</span><span style=\"color: #000000; text-decoration-color: #000000\"> add_distance_threshold at </span><span style=\"color: #008080; text-decoration-color: #008080; font-weight: bold\">0x7f10c593f940</span><span style=\"font-weight: bold\">&gt;</span>,    <span style=\"color: #000080; text-decoration-color: #000080\">│</span>\n",
                                   "<span style=\"color: #000080; text-decoration-color: #000080\">│</span>                                   <span style=\"font-weight: bold\">&lt;</span><span style=\"color: #ff00ff; text-decoration-color: #ff00ff; font-weight: bold\">function</span><span style=\"color: #000000; text-decoration-color: #000000\"> add_atom_bonds at </span><span style=\"color: #008080; text-decoration-color: #008080; font-weight: bold\">0x7f10c593f550</span><span style=\"font-weight: bold\">&gt;</span>             <span style=\"color: #000080; text-decoration-color: #000080\">│</span>\n",
                                   "<span style=\"color: #000080; text-decoration-color: #000080\">│</span>                               <span style=\"font-weight: bold\">]</span>                                                           <span style=\"color: #000080; text-decoration-color: #000080\">│</span>\n",
                                   "<span style=\"color: #000080; text-decoration-color: #000080\">│</span>     <span style=\"color: #808000; text-decoration-color: #808000; font-style: italic\">edge_metadata_functions</span> = <span style=\"color: #800080; text-decoration-color: #800080; font-style: italic\">None</span>                                                        <span style=\"color: #000080; text-decoration-color: #000080\">│</span>\n",
                                   "<span style=\"color: #000080; text-decoration-color: #000080\">│</span>          <span style=\"color: #808000; text-decoration-color: #808000; font-style: italic\">generate_conformer</span> = <span style=\"color: #ff0000; text-decoration-color: #ff0000; font-style: italic\">False</span>                                                       <span style=\"color: #000080; text-decoration-color: #000080\">│</span>\n",
                                   "<span style=\"color: #000080; text-decoration-color: #000080\">│</span>    <span style=\"color: #808000; text-decoration-color: #808000; font-style: italic\">graph_metadata_functions</span> = <span style=\"color: #800080; text-decoration-color: #800080; font-style: italic\">None</span>                                                        <span style=\"color: #000080; text-decoration-color: #000080\">│</span>\n",
                                   "<span style=\"color: #000080; text-decoration-color: #000080\">│</span>     <span style=\"color: #808000; text-decoration-color: #808000; font-style: italic\">node_metadata_functions</span> = <span style=\"font-weight: bold\">[&lt;</span><span style=\"color: #ff00ff; text-decoration-color: #ff00ff; font-weight: bold\">function</span><span style=\"color: #000000; text-decoration-color: #000000\"> atom_type_one_hot at </span><span style=\"color: #008080; text-decoration-color: #008080; font-weight: bold\">0x7f10c56e1f70</span><span style=\"font-weight: bold\">&gt;]</span>            <span style=\"color: #000080; text-decoration-color: #000080\">│</span>\n",
                                   "<span style=\"color: #000080; text-decoration-color: #000080\">│</span>                     <span style=\"color: #808000; text-decoration-color: #808000; font-style: italic\">verbose</span> = <span style=\"color: #ff0000; text-decoration-color: #ff0000; font-style: italic\">False</span>                                                       <span style=\"color: #000080; text-decoration-color: #000080\">│</span>\n",
                                   "<span style=\"color: #000080; text-decoration-color: #000080\">╰───────────────────────────────────────────────────────────────────────────────────────────╯</span>\n",
                                   "</pre>\n"
                              ],
                              "text/plain": [
                                   "\u001b[34m╭─\u001b[0m\u001b[34m──────────────── \u001b[0m\u001b[1;34m<\u001b[0m\u001b[1;95mclass\u001b[0m\u001b[39m \u001b[0m\u001b[32m'graphein.molecule.config.MoleculeGraphConfig'\u001b[0m\u001b[1;34m>\u001b[0m\u001b[34m ─────────────────\u001b[0m\u001b[34m─╮\u001b[0m\n",
                                   "\u001b[34m│\u001b[0m \u001b[36mConfig Object for Molecule Structure Graph Construction.\u001b[0m                                  \u001b[34m│\u001b[0m\n",
                                   "\u001b[34m│\u001b[0m                                                                                           \u001b[34m│\u001b[0m\n",
                                   "\u001b[34m│\u001b[0m \u001b[32m╭───────────────────────────────────────────────────────────────────────────────────────╮\u001b[0m \u001b[34m│\u001b[0m\n",
                                   "\u001b[34m│\u001b[0m \u001b[32m│\u001b[0m \u001b[1;35mMoleculeGraphConfig\u001b[0m\u001b[1m(\u001b[0m\u001b[33mverbose\u001b[0m=\u001b[3;91mFalse\u001b[0m, \u001b[33madd_hs\u001b[0m=\u001b[3;91mFalse\u001b[0m, \u001b[33mgenerate_conformer\u001b[0m=\u001b[3;91mFalse\u001b[0m,            \u001b[32m│\u001b[0m \u001b[34m│\u001b[0m\n",
                                   "\u001b[34m│\u001b[0m \u001b[32m│\u001b[0m \u001b[33medge_construction_functions\u001b[0m=\u001b[1m[\u001b[0m\u001b[1m<\u001b[0m\u001b[1;95mfunction\u001b[0m\u001b[39m add_fully_connected_edges at \u001b[0m\u001b[1;36m0x7f10c593f9d0\u001b[0m\u001b[1m>\u001b[0m,  \u001b[32m│\u001b[0m \u001b[34m│\u001b[0m\n",
                                   "\u001b[34m│\u001b[0m \u001b[32m│\u001b[0m \u001b[1m<\u001b[0m\u001b[1;95mfunction\u001b[0m\u001b[39m add_k_nn_edges at \u001b[0m\u001b[1;36m0x7f10c593fa60\u001b[0m\u001b[1m>\u001b[0m, \u001b[1m<\u001b[0m\u001b[1;95mfunction\u001b[0m\u001b[39m add_distance_threshold at \u001b[0m     \u001b[32m│\u001b[0m \u001b[34m│\u001b[0m\n",
                                   "\u001b[34m│\u001b[0m \u001b[32m│\u001b[0m \u001b[1;36m0x7f10c593f940\u001b[0m\u001b[1m>\u001b[0m, \u001b[1m<\u001b[0m\u001b[1;95mfunction\u001b[0m\u001b[39m add_atom_bonds at \u001b[0m\u001b[1;36m0x7f10c593f550\u001b[0m\u001b[1m>\u001b[0m\u001b[1m]\u001b[0m,                        \u001b[32m│\u001b[0m \u001b[34m│\u001b[0m\n",
                                   "\u001b[34m│\u001b[0m \u001b[32m│\u001b[0m \u001b[33mnode_metadata_functions\u001b[0m=\u001b[1m[\u001b[0m\u001b[1m<\u001b[0m\u001b[1;95mfunction\u001b[0m\u001b[39m atom_type_one_hot at \u001b[0m\u001b[1;36m0x7f10c56e1f70\u001b[0m\u001b[1m>\u001b[0m\u001b[1m]\u001b[0m,             \u001b[32m│\u001b[0m \u001b[34m│\u001b[0m\n",
                                   "\u001b[34m│\u001b[0m \u001b[32m│\u001b[0m \u001b[33medge_metadata_functions\u001b[0m=\u001b[3;35mNone\u001b[0m, \u001b[33mgraph_metadata_functions\u001b[0m=\u001b[3;35mNone\u001b[0m\u001b[1m)\u001b[0m                          \u001b[32m│\u001b[0m \u001b[34m│\u001b[0m\n",
                                   "\u001b[34m│\u001b[0m \u001b[32m╰───────────────────────────────────────────────────────────────────────────────────────╯\u001b[0m \u001b[34m│\u001b[0m\n",
                                   "\u001b[34m│\u001b[0m                                                                                           \u001b[34m│\u001b[0m\n",
                                   "\u001b[34m│\u001b[0m                      \u001b[3;33madd_hs\u001b[0m = \u001b[3;91mFalse\u001b[0m                                                       \u001b[34m│\u001b[0m\n",
                                   "\u001b[34m│\u001b[0m \u001b[3;33medge_construction_functions\u001b[0m = \u001b[1m[\u001b[0m                                                           \u001b[34m│\u001b[0m\n",
                                   "\u001b[34m│\u001b[0m                                   \u001b[1m<\u001b[0m\u001b[1;95mfunction\u001b[0m\u001b[39m add_fully_connected_edges at \u001b[0m\u001b[1;36m0x7f10c593f9d0\u001b[0m\u001b[1m>\u001b[0m, \u001b[34m│\u001b[0m\n",
                                   "\u001b[34m│\u001b[0m                                   \u001b[1m<\u001b[0m\u001b[1;95mfunction\u001b[0m\u001b[39m add_k_nn_edges at \u001b[0m\u001b[1;36m0x7f10c593fa60\u001b[0m\u001b[1m>\u001b[0m,            \u001b[34m│\u001b[0m\n",
                                   "\u001b[34m│\u001b[0m                                   \u001b[1m<\u001b[0m\u001b[1;95mfunction\u001b[0m\u001b[39m add_distance_threshold at \u001b[0m\u001b[1;36m0x7f10c593f940\u001b[0m\u001b[1m>\u001b[0m,    \u001b[34m│\u001b[0m\n",
                                   "\u001b[34m│\u001b[0m                                   \u001b[1m<\u001b[0m\u001b[1;95mfunction\u001b[0m\u001b[39m add_atom_bonds at \u001b[0m\u001b[1;36m0x7f10c593f550\u001b[0m\u001b[1m>\u001b[0m             \u001b[34m│\u001b[0m\n",
                                   "\u001b[34m│\u001b[0m                               \u001b[1m]\u001b[0m                                                           \u001b[34m│\u001b[0m\n",
                                   "\u001b[34m│\u001b[0m     \u001b[3;33medge_metadata_functions\u001b[0m = \u001b[3;35mNone\u001b[0m                                                        \u001b[34m│\u001b[0m\n",
                                   "\u001b[34m│\u001b[0m          \u001b[3;33mgenerate_conformer\u001b[0m = \u001b[3;91mFalse\u001b[0m                                                       \u001b[34m│\u001b[0m\n",
                                   "\u001b[34m│\u001b[0m    \u001b[3;33mgraph_metadata_functions\u001b[0m = \u001b[3;35mNone\u001b[0m                                                        \u001b[34m│\u001b[0m\n",
                                   "\u001b[34m│\u001b[0m     \u001b[3;33mnode_metadata_functions\u001b[0m = \u001b[1m[\u001b[0m\u001b[1m<\u001b[0m\u001b[1;95mfunction\u001b[0m\u001b[39m atom_type_one_hot at \u001b[0m\u001b[1;36m0x7f10c56e1f70\u001b[0m\u001b[1m>\u001b[0m\u001b[1m]\u001b[0m            \u001b[34m│\u001b[0m\n",
                                   "\u001b[34m│\u001b[0m                     \u001b[3;33mverbose\u001b[0m = \u001b[3;91mFalse\u001b[0m                                                       \u001b[34m│\u001b[0m\n",
                                   "\u001b[34m╰───────────────────────────────────────────────────────────────────────────────────────────╯\u001b[0m\n"
                              ]
                         },
                         "metadata": {},
                         "output_type": "display_data"
                    }
               ],
               "source": [
                    "config = gm.MoleculeGraphConfig()\n",
                    "inspect(config)"
               ]
          },
          {
               "cell_type": "markdown",
               "metadata": {},
               "source": [
                    "## Creating Graphs\n",
                    "\n",
                    "### Creating a Molecular Graph from SMILES\n",
                    "\n",
                    "Let's take a look at a simple molecule, acetylsalicylic acid (or aspirin as it's more commonly known)."
               ]
          },
          {
               "cell_type": "code",
               "execution_count": 7,
               "metadata": {},
               "outputs": [
                    {
                         "data": {
                              "text/html": [
                                   "<pre style=\"white-space:pre;overflow-x:auto;line-height:normal;font-family:Menlo,'DejaVu Sans Mono',consolas,'Courier New',monospace\">Graph named <span style=\"color: #008000; text-decoration-color: #008000\">'CC(=O)OC1=CC=CC=C1C(=O)O'</span> with <span style=\"color: #008080; text-decoration-color: #008080; font-weight: bold\">13</span> nodes and <span style=\"color: #008080; text-decoration-color: #008080; font-weight: bold\">13</span> edges\n",
                                   "</pre>\n"
                              ],
                              "text/plain": [
                                   "Graph named \u001b[32m'CC\u001b[0m\u001b[32m(\u001b[0m\u001b[32m=O\u001b[0m\u001b[32m)\u001b[0m\u001b[32mOC1\u001b[0m\u001b[32m=\u001b[0m\u001b[32mCC\u001b[0m\u001b[32m=\u001b[0m\u001b[32mCC\u001b[0m\u001b[32m=\u001b[0m\u001b[32mC1C\u001b[0m\u001b[32m(\u001b[0m\u001b[32m=O\u001b[0m\u001b[32m)\u001b[0m\u001b[32mO'\u001b[0m with \u001b[1;36m13\u001b[0m nodes and \u001b[1;36m13\u001b[0m edges\n"
                              ]
                         },
                         "metadata": {},
                         "output_type": "display_data"
                    },
                    {
                         "data": {
                              "image/png": "[encoded data removed]",
                              "text/plain": [
                                   "<rdkit.Chem.rdchem.Mol at 0x7f10c5030340>"
                              ]
                         },
                         "execution_count": 7,
                         "metadata": {},
                         "output_type": "execute_result"
                    },
                    {
                         "data": {
                              "image/png": "[encoded data removed]",
                              "text/plain": [
                                   "<Figure size 432x288 with 1 Axes>"
                              ]
                         },
                         "metadata": {},
                         "output_type": "display_data"
                    }
               ],
               "source": [
                    "graph = gm.construct_graph(smiles=\"CC(=O)OC1=CC=CC=C1C(=O)O\", config=config)\n",
                    "print(graph)\n",
                    "nx.draw(graph)\n",
                    "graph.graph[\"rdmol\"]"
               ]
          },
          {
               "cell_type": "markdown",
               "metadata": {},
               "source": [
                    "Molecule features are stored as dictionaries on the graph, nodes and edges."
               ]
          },
          {
               "cell_type": "code",
               "execution_count": 8,
               "metadata": {},
               "outputs": [
                    {
                         "data": {
                              "text/html": [
                                   "<pre style=\"white-space:pre;overflow-x:auto;line-height:normal;font-family:Menlo,'DejaVu Sans Mono',consolas,'Courier New',monospace\"><span style=\"font-weight: bold\">{</span>\n",
                                   "    <span style=\"color: #008000; text-decoration-color: #008000\">'atomic_num'</span>: <span style=\"color: #008080; text-decoration-color: #008080; font-weight: bold\">6</span>,\n",
                                   "    <span style=\"color: #008000; text-decoration-color: #008000\">'element'</span>: <span style=\"color: #008000; text-decoration-color: #008000\">'C'</span>,\n",
                                   "    <span style=\"color: #008000; text-decoration-color: #008000\">'rdmol_atom'</span>: <span style=\"font-weight: bold\">&lt;</span><span style=\"color: #ff00ff; text-decoration-color: #ff00ff; font-weight: bold\">rdkit.Chem.rdchem.Atom</span><span style=\"color: #000000; text-decoration-color: #000000\"> object at </span><span style=\"color: #008080; text-decoration-color: #008080; font-weight: bold\">0x7f10c5030460</span><span style=\"font-weight: bold\">&gt;</span>,\n",
                                   "    <span style=\"color: #008000; text-decoration-color: #008000\">'coords'</span>: <span style=\"color: #800080; text-decoration-color: #800080; font-style: italic\">None</span>,\n",
                                   "    <span style=\"color: #008000; text-decoration-color: #008000\">'atom_type_one_hot'</span>: <span style=\"color: #800080; text-decoration-color: #800080; font-weight: bold\">array</span><span style=\"font-weight: bold\">([</span><span style=\"color: #008080; text-decoration-color: #008080; font-weight: bold\">1</span>, <span style=\"color: #008080; text-decoration-color: #008080; font-weight: bold\">0</span>, <span style=\"color: #008080; text-decoration-color: #008080; font-weight: bold\">0</span>, <span style=\"color: #008080; text-decoration-color: #008080; font-weight: bold\">0</span>, <span style=\"color: #008080; text-decoration-color: #008080; font-weight: bold\">0</span>, <span style=\"color: #008080; text-decoration-color: #008080; font-weight: bold\">0</span>, <span style=\"color: #008080; text-decoration-color: #008080; font-weight: bold\">0</span>, <span style=\"color: #008080; text-decoration-color: #008080; font-weight: bold\">0</span>, <span style=\"color: #008080; text-decoration-color: #008080; font-weight: bold\">0</span>, <span style=\"color: #008080; text-decoration-color: #008080; font-weight: bold\">0</span>, <span style=\"color: #008080; text-decoration-color: #008080; font-weight: bold\">0</span><span style=\"font-weight: bold\">])</span>\n",
                                   "<span style=\"font-weight: bold\">}</span>\n",
                                   "</pre>\n"
                              ],
                              "text/plain": [
                                   "\u001b[1m{\u001b[0m\n",
                                   "    \u001b[32m'atomic_num'\u001b[0m: \u001b[1;36m6\u001b[0m,\n",
                                   "    \u001b[32m'element'\u001b[0m: \u001b[32m'C'\u001b[0m,\n",
                                   "    \u001b[32m'rdmol_atom'\u001b[0m: \u001b[1m<\u001b[0m\u001b[1;95mrdkit.Chem.rdchem.Atom\u001b[0m\u001b[39m object at \u001b[0m\u001b[1;36m0x7f10c5030460\u001b[0m\u001b[1m>\u001b[0m,\n",
                                   "    \u001b[32m'coords'\u001b[0m: \u001b[3;35mNone\u001b[0m,\n",
                                   "    \u001b[32m'atom_type_one_hot'\u001b[0m: \u001b[1;35marray\u001b[0m\u001b[1m(\u001b[0m\u001b[1m[\u001b[0m\u001b[1;36m1\u001b[0m, \u001b[1;36m0\u001b[0m, \u001b[1;36m0\u001b[0m, \u001b[1;36m0\u001b[0m, \u001b[1;36m0\u001b[0m, \u001b[1;36m0\u001b[0m, \u001b[1;36m0\u001b[0m, \u001b[1;36m0\u001b[0m, \u001b[1;36m0\u001b[0m, \u001b[1;36m0\u001b[0m, \u001b[1;36m0\u001b[0m\u001b[1m]\u001b[0m\u001b[1m)\u001b[0m\n",
                                   "\u001b[1m}\u001b[0m\n"
                              ]
                         },
                         "metadata": {},
                         "output_type": "display_data"
                    },
                    {
                         "data": {
                              "text/html": [
                                   "<pre style=\"white-space:pre;overflow-x:auto;line-height:normal;font-family:Menlo,'DejaVu Sans Mono',consolas,'Courier New',monospace\"><span style=\"font-weight: bold\">{</span>\n",
                                   "    <span style=\"color: #008000; text-decoration-color: #008000\">'atomic_num'</span>: <span style=\"color: #008080; text-decoration-color: #008080; font-weight: bold\">6</span>,\n",
                                   "    <span style=\"color: #008000; text-decoration-color: #008000\">'element'</span>: <span style=\"color: #008000; text-decoration-color: #008000\">'C'</span>,\n",
                                   "    <span style=\"color: #008000; text-decoration-color: #008000\">'rdmol_atom'</span>: <span style=\"font-weight: bold\">&lt;</span><span style=\"color: #ff00ff; text-decoration-color: #ff00ff; font-weight: bold\">rdkit.Chem.rdchem.Atom</span><span style=\"color: #000000; text-decoration-color: #000000\"> object at </span><span style=\"color: #008080; text-decoration-color: #008080; font-weight: bold\">0x7f10c50304c0</span><span style=\"font-weight: bold\">&gt;</span>,\n",
                                   "    <span style=\"color: #008000; text-decoration-color: #008000\">'coords'</span>: <span style=\"color: #800080; text-decoration-color: #800080; font-style: italic\">None</span>,\n",
                                   "    <span style=\"color: #008000; text-decoration-color: #008000\">'atom_type_one_hot'</span>: <span style=\"color: #800080; text-decoration-color: #800080; font-weight: bold\">array</span><span style=\"font-weight: bold\">([</span><span style=\"color: #008080; text-decoration-color: #008080; font-weight: bold\">1</span>, <span style=\"color: #008080; text-decoration-color: #008080; font-weight: bold\">0</span>, <span style=\"color: #008080; text-decoration-color: #008080; font-weight: bold\">0</span>, <span style=\"color: #008080; text-decoration-color: #008080; font-weight: bold\">0</span>, <span style=\"color: #008080; text-decoration-color: #008080; font-weight: bold\">0</span>, <span style=\"color: #008080; text-decoration-color: #008080; font-weight: bold\">0</span>, <span style=\"color: #008080; text-decoration-color: #008080; font-weight: bold\">0</span>, <span style=\"color: #008080; text-decoration-color: #008080; font-weight: bold\">0</span>, <span style=\"color: #008080; text-decoration-color: #008080; font-weight: bold\">0</span>, <span style=\"color: #008080; text-decoration-color: #008080; font-weight: bold\">0</span>, <span style=\"color: #008080; text-decoration-color: #008080; font-weight: bold\">0</span><span style=\"font-weight: bold\">])</span>\n",
                                   "<span style=\"font-weight: bold\">}</span>\n",
                                   "</pre>\n"
                              ],
                              "text/plain": [
                                   "\u001b[1m{\u001b[0m\n",
                                   "    \u001b[32m'atomic_num'\u001b[0m: \u001b[1;36m6\u001b[0m,\n",
                                   "    \u001b[32m'element'\u001b[0m: \u001b[32m'C'\u001b[0m,\n",
                                   "    \u001b[32m'rdmol_atom'\u001b[0m: \u001b[1m<\u001b[0m\u001b[1;95mrdkit.Chem.rdchem.Atom\u001b[0m\u001b[39m object at \u001b[0m\u001b[1;36m0x7f10c50304c0\u001b[0m\u001b[1m>\u001b[0m,\n",
                                   "    \u001b[32m'coords'\u001b[0m: \u001b[3;35mNone\u001b[0m,\n",
                                   "    \u001b[32m'atom_type_one_hot'\u001b[0m: \u001b[1;35marray\u001b[0m\u001b[1m(\u001b[0m\u001b[1m[\u001b[0m\u001b[1;36m1\u001b[0m, \u001b[1;36m0\u001b[0m, \u001b[1;36m0\u001b[0m, \u001b[1;36m0\u001b[0m, \u001b[1;36m0\u001b[0m, \u001b[1;36m0\u001b[0m, \u001b[1;36m0\u001b[0m, \u001b[1;36m0\u001b[0m, \u001b[1;36m0\u001b[0m, \u001b[1;36m0\u001b[0m, \u001b[1;36m0\u001b[0m\u001b[1m]\u001b[0m\u001b[1m)\u001b[0m\n",
                                   "\u001b[1m}\u001b[0m\n"
                              ]
                         },
                         "metadata": {},
                         "output_type": "display_data"
                    },
                    {
                         "data": {
                              "text/html": [
                                   "<pre style=\"white-space:pre;overflow-x:auto;line-height:normal;font-family:Menlo,'DejaVu Sans Mono',consolas,'Courier New',monospace\"><span style=\"font-weight: bold\">{</span>\n",
                                   "    <span style=\"color: #008000; text-decoration-color: #008000\">'atomic_num'</span>: <span style=\"color: #008080; text-decoration-color: #008080; font-weight: bold\">8</span>,\n",
                                   "    <span style=\"color: #008000; text-decoration-color: #008000\">'element'</span>: <span style=\"color: #008000; text-decoration-color: #008000\">'O'</span>,\n",
                                   "    <span style=\"color: #008000; text-decoration-color: #008000\">'rdmol_atom'</span>: <span style=\"font-weight: bold\">&lt;</span><span style=\"color: #ff00ff; text-decoration-color: #ff00ff; font-weight: bold\">rdkit.Chem.rdchem.Atom</span><span style=\"color: #000000; text-decoration-color: #000000\"> object at </span><span style=\"color: #008080; text-decoration-color: #008080; font-weight: bold\">0x7f10c5030520</span><span style=\"font-weight: bold\">&gt;</span>,\n",
                                   "    <span style=\"color: #008000; text-decoration-color: #008000\">'coords'</span>: <span style=\"color: #800080; text-decoration-color: #800080; font-style: italic\">None</span>,\n",
                                   "    <span style=\"color: #008000; text-decoration-color: #008000\">'atom_type_one_hot'</span>: <span style=\"color: #800080; text-decoration-color: #800080; font-weight: bold\">array</span><span style=\"font-weight: bold\">([</span><span style=\"color: #008080; text-decoration-color: #008080; font-weight: bold\">0</span>, <span style=\"color: #008080; text-decoration-color: #008080; font-weight: bold\">0</span>, <span style=\"color: #008080; text-decoration-color: #008080; font-weight: bold\">1</span>, <span style=\"color: #008080; text-decoration-color: #008080; font-weight: bold\">0</span>, <span style=\"color: #008080; text-decoration-color: #008080; font-weight: bold\">0</span>, <span style=\"color: #008080; text-decoration-color: #008080; font-weight: bold\">0</span>, <span style=\"color: #008080; text-decoration-color: #008080; font-weight: bold\">0</span>, <span style=\"color: #008080; text-decoration-color: #008080; font-weight: bold\">0</span>, <span style=\"color: #008080; text-decoration-color: #008080; font-weight: bold\">0</span>, <span style=\"color: #008080; text-decoration-color: #008080; font-weight: bold\">0</span>, <span style=\"color: #008080; text-decoration-color: #008080; font-weight: bold\">0</span><span style=\"font-weight: bold\">])</span>\n",
                                   "<span style=\"font-weight: bold\">}</span>\n",
                                   "</pre>\n"
                              ],
                              "text/plain": [
                                   "\u001b[1m{\u001b[0m\n",
                                   "    \u001b[32m'atomic_num'\u001b[0m: \u001b[1;36m8\u001b[0m,\n",
                                   "    \u001b[32m'element'\u001b[0m: \u001b[32m'O'\u001b[0m,\n",
                                   "    \u001b[32m'rdmol_atom'\u001b[0m: \u001b[1m<\u001b[0m\u001b[1;95mrdkit.Chem.rdchem.Atom\u001b[0m\u001b[39m object at \u001b[0m\u001b[1;36m0x7f10c5030520\u001b[0m\u001b[1m>\u001b[0m,\n",
                                   "    \u001b[32m'coords'\u001b[0m: \u001b[3;35mNone\u001b[0m,\n",
                                   "    \u001b[32m'atom_type_one_hot'\u001b[0m: \u001b[1;35marray\u001b[0m\u001b[1m(\u001b[0m\u001b[1m[\u001b[0m\u001b[1;36m0\u001b[0m, \u001b[1;36m0\u001b[0m, \u001b[1;36m1\u001b[0m, \u001b[1;36m0\u001b[0m, \u001b[1;36m0\u001b[0m, \u001b[1;36m0\u001b[0m, \u001b[1;36m0\u001b[0m, \u001b[1;36m0\u001b[0m, \u001b[1;36m0\u001b[0m, \u001b[1;36m0\u001b[0m, \u001b[1;36m0\u001b[0m\u001b[1m]\u001b[0m\u001b[1m)\u001b[0m\n",
                                   "\u001b[1m}\u001b[0m\n"
                              ]
                         },
                         "metadata": {},
                         "output_type": "display_data"
                    },
                    {
                         "data": {
                              "text/html": [
                                   "<pre style=\"white-space:pre;overflow-x:auto;line-height:normal;font-family:Menlo,'DejaVu Sans Mono',consolas,'Courier New',monospace\"><span style=\"font-weight: bold\">{</span>\n",
                                   "    <span style=\"color: #008000; text-decoration-color: #008000\">'atomic_num'</span>: <span style=\"color: #008080; text-decoration-color: #008080; font-weight: bold\">8</span>,\n",
                                   "    <span style=\"color: #008000; text-decoration-color: #008000\">'element'</span>: <span style=\"color: #008000; text-decoration-color: #008000\">'O'</span>,\n",
                                   "    <span style=\"color: #008000; text-decoration-color: #008000\">'rdmol_atom'</span>: <span style=\"font-weight: bold\">&lt;</span><span style=\"color: #ff00ff; text-decoration-color: #ff00ff; font-weight: bold\">rdkit.Chem.rdchem.Atom</span><span style=\"color: #000000; text-decoration-color: #000000\"> object at </span><span style=\"color: #008080; text-decoration-color: #008080; font-weight: bold\">0x7f10c5030580</span><span style=\"font-weight: bold\">&gt;</span>,\n",
                                   "    <span style=\"color: #008000; text-decoration-color: #008000\">'coords'</span>: <span style=\"color: #800080; text-decoration-color: #800080; font-style: italic\">None</span>,\n",
                                   "    <span style=\"color: #008000; text-decoration-color: #008000\">'atom_type_one_hot'</span>: <span style=\"color: #800080; text-decoration-color: #800080; font-weight: bold\">array</span><span style=\"font-weight: bold\">([</span><span style=\"color: #008080; text-decoration-color: #008080; font-weight: bold\">0</span>, <span style=\"color: #008080; text-decoration-color: #008080; font-weight: bold\">0</span>, <span style=\"color: #008080; text-decoration-color: #008080; font-weight: bold\">1</span>, <span style=\"color: #008080; text-decoration-color: #008080; font-weight: bold\">0</span>, <span style=\"color: #008080; text-decoration-color: #008080; font-weight: bold\">0</span>, <span style=\"color: #008080; text-decoration-color: #008080; font-weight: bold\">0</span>, <span style=\"color: #008080; text-decoration-color: #008080; font-weight: bold\">0</span>, <span style=\"color: #008080; text-decoration-color: #008080; font-weight: bold\">0</span>, <span style=\"color: #008080; text-decoration-color: #008080; font-weight: bold\">0</span>, <span style=\"color: #008080; text-decoration-color: #008080; font-weight: bold\">0</span>, <span style=\"color: #008080; text-decoration-color: #008080; font-weight: bold\">0</span><span style=\"font-weight: bold\">])</span>\n",
                                   "<span style=\"font-weight: bold\">}</span>\n",
                                   "</pre>\n"
                              ],
                              "text/plain": [
                                   "\u001b[1m{\u001b[0m\n",
                                   "    \u001b[32m'atomic_num'\u001b[0m: \u001b[1;36m8\u001b[0m,\n",
                                   "    \u001b[32m'element'\u001b[0m: \u001b[32m'O'\u001b[0m,\n",
                                   "    \u001b[32m'rdmol_atom'\u001b[0m: \u001b[1m<\u001b[0m\u001b[1;95mrdkit.Chem.rdchem.Atom\u001b[0m\u001b[39m object at \u001b[0m\u001b[1;36m0x7f10c5030580\u001b[0m\u001b[1m>\u001b[0m,\n",
                                   "    \u001b[32m'coords'\u001b[0m: \u001b[3;35mNone\u001b[0m,\n",
                                   "    \u001b[32m'atom_type_one_hot'\u001b[0m: \u001b[1;35marray\u001b[0m\u001b[1m(\u001b[0m\u001b[1m[\u001b[0m\u001b[1;36m0\u001b[0m, \u001b[1;36m0\u001b[0m, \u001b[1;36m1\u001b[0m, \u001b[1;36m0\u001b[0m, \u001b[1;36m0\u001b[0m, \u001b[1;36m0\u001b[0m, \u001b[1;36m0\u001b[0m, \u001b[1;36m0\u001b[0m, \u001b[1;36m0\u001b[0m, \u001b[1;36m0\u001b[0m, \u001b[1;36m0\u001b[0m\u001b[1m]\u001b[0m\u001b[1m)\u001b[0m\n",
                                   "\u001b[1m}\u001b[0m\n"
                              ]
                         },
                         "metadata": {},
                         "output_type": "display_data"
                    },
                    {
                         "data": {
                              "text/html": [
                                   "<pre style=\"white-space:pre;overflow-x:auto;line-height:normal;font-family:Menlo,'DejaVu Sans Mono',consolas,'Courier New',monospace\"><span style=\"font-weight: bold\">{</span>\n",
                                   "    <span style=\"color: #008000; text-decoration-color: #008000\">'atomic_num'</span>: <span style=\"color: #008080; text-decoration-color: #008080; font-weight: bold\">6</span>,\n",
                                   "    <span style=\"color: #008000; text-decoration-color: #008000\">'element'</span>: <span style=\"color: #008000; text-decoration-color: #008000\">'C'</span>,\n",
                                   "    <span style=\"color: #008000; text-decoration-color: #008000\">'rdmol_atom'</span>: <span style=\"font-weight: bold\">&lt;</span><span style=\"color: #ff00ff; text-decoration-color: #ff00ff; font-weight: bold\">rdkit.Chem.rdchem.Atom</span><span style=\"color: #000000; text-decoration-color: #000000\"> object at </span><span style=\"color: #008080; text-decoration-color: #008080; font-weight: bold\">0x7f10c50305e0</span><span style=\"font-weight: bold\">&gt;</span>,\n",
                                   "    <span style=\"color: #008000; text-decoration-color: #008000\">'coords'</span>: <span style=\"color: #800080; text-decoration-color: #800080; font-style: italic\">None</span>,\n",
                                   "    <span style=\"color: #008000; text-decoration-color: #008000\">'atom_type_one_hot'</span>: <span style=\"color: #800080; text-decoration-color: #800080; font-weight: bold\">array</span><span style=\"font-weight: bold\">([</span><span style=\"color: #008080; text-decoration-color: #008080; font-weight: bold\">1</span>, <span style=\"color: #008080; text-decoration-color: #008080; font-weight: bold\">0</span>, <span style=\"color: #008080; text-decoration-color: #008080; font-weight: bold\">0</span>, <span style=\"color: #008080; text-decoration-color: #008080; font-weight: bold\">0</span>, <span style=\"color: #008080; text-decoration-color: #008080; font-weight: bold\">0</span>, <span style=\"color: #008080; text-decoration-color: #008080; font-weight: bold\">0</span>, <span style=\"color: #008080; text-decoration-color: #008080; font-weight: bold\">0</span>, <span style=\"color: #008080; text-decoration-color: #008080; font-weight: bold\">0</span>, <span style=\"color: #008080; text-decoration-color: #008080; font-weight: bold\">0</span>, <span style=\"color: #008080; text-decoration-color: #008080; font-weight: bold\">0</span>, <span style=\"color: #008080; text-decoration-color: #008080; font-weight: bold\">0</span><span style=\"font-weight: bold\">])</span>\n",
                                   "<span style=\"font-weight: bold\">}</span>\n",
                                   "</pre>\n"
                              ],
                              "text/plain": [
                                   "\u001b[1m{\u001b[0m\n",
                                   "    \u001b[32m'atomic_num'\u001b[0m: \u001b[1;36m6\u001b[0m,\n",
                                   "    \u001b[32m'element'\u001b[0m: \u001b[32m'C'\u001b[0m,\n",
                                   "    \u001b[32m'rdmol_atom'\u001b[0m: \u001b[1m<\u001b[0m\u001b[1;95mrdkit.Chem.rdchem.Atom\u001b[0m\u001b[39m object at \u001b[0m\u001b[1;36m0x7f10c50305e0\u001b[0m\u001b[1m>\u001b[0m,\n",
                                   "    \u001b[32m'coords'\u001b[0m: \u001b[3;35mNone\u001b[0m,\n",
                                   "    \u001b[32m'atom_type_one_hot'\u001b[0m: \u001b[1;35marray\u001b[0m\u001b[1m(\u001b[0m\u001b[1m[\u001b[0m\u001b[1;36m1\u001b[0m, \u001b[1;36m0\u001b[0m, \u001b[1;36m0\u001b[0m, \u001b[1;36m0\u001b[0m, \u001b[1;36m0\u001b[0m, \u001b[1;36m0\u001b[0m, \u001b[1;36m0\u001b[0m, \u001b[1;36m0\u001b[0m, \u001b[1;36m0\u001b[0m, \u001b[1;36m0\u001b[0m, \u001b[1;36m0\u001b[0m\u001b[1m]\u001b[0m\u001b[1m)\u001b[0m\n",
                                   "\u001b[1m}\u001b[0m\n"
                              ]
                         },
                         "metadata": {},
                         "output_type": "display_data"
                    },
                    {
                         "data": {
                              "text/html": [
                                   "<pre style=\"white-space:pre;overflow-x:auto;line-height:normal;font-family:Menlo,'DejaVu Sans Mono',consolas,'Courier New',monospace\"><span style=\"font-weight: bold\">{</span>\n",
                                   "    <span style=\"color: #008000; text-decoration-color: #008000\">'atomic_num'</span>: <span style=\"color: #008080; text-decoration-color: #008080; font-weight: bold\">6</span>,\n",
                                   "    <span style=\"color: #008000; text-decoration-color: #008000\">'element'</span>: <span style=\"color: #008000; text-decoration-color: #008000\">'C'</span>,\n",
                                   "    <span style=\"color: #008000; text-decoration-color: #008000\">'rdmol_atom'</span>: <span style=\"font-weight: bold\">&lt;</span><span style=\"color: #ff00ff; text-decoration-color: #ff00ff; font-weight: bold\">rdkit.Chem.rdchem.Atom</span><span style=\"color: #000000; text-decoration-color: #000000\"> object at </span><span style=\"color: #008080; text-decoration-color: #008080; font-weight: bold\">0x7f10c5030640</span><span style=\"font-weight: bold\">&gt;</span>,\n",
                                   "    <span style=\"color: #008000; text-decoration-color: #008000\">'coords'</span>: <span style=\"color: #800080; text-decoration-color: #800080; font-style: italic\">None</span>,\n",
                                   "    <span style=\"color: #008000; text-decoration-color: #008000\">'atom_type_one_hot'</span>: <span style=\"color: #800080; text-decoration-color: #800080; font-weight: bold\">array</span><span style=\"font-weight: bold\">([</span><span style=\"color: #008080; text-decoration-color: #008080; font-weight: bold\">1</span>, <span style=\"color: #008080; text-decoration-color: #008080; font-weight: bold\">0</span>, <span style=\"color: #008080; text-decoration-color: #008080; font-weight: bold\">0</span>, <span style=\"color: #008080; text-decoration-color: #008080; font-weight: bold\">0</span>, <span style=\"color: #008080; text-decoration-color: #008080; font-weight: bold\">0</span>, <span style=\"color: #008080; text-decoration-color: #008080; font-weight: bold\">0</span>, <span style=\"color: #008080; text-decoration-color: #008080; font-weight: bold\">0</span>, <span style=\"color: #008080; text-decoration-color: #008080; font-weight: bold\">0</span>, <span style=\"color: #008080; text-decoration-color: #008080; font-weight: bold\">0</span>, <span style=\"color: #008080; text-decoration-color: #008080; font-weight: bold\">0</span>, <span style=\"color: #008080; text-decoration-color: #008080; font-weight: bold\">0</span><span style=\"font-weight: bold\">])</span>\n",
                                   "<span style=\"font-weight: bold\">}</span>\n",
                                   "</pre>\n"
                              ],
                              "text/plain": [
                                   "\u001b[1m{\u001b[0m\n",
                                   "    \u001b[32m'atomic_num'\u001b[0m: \u001b[1;36m6\u001b[0m,\n",
                                   "    \u001b[32m'element'\u001b[0m: \u001b[32m'C'\u001b[0m,\n",
                                   "    \u001b[32m'rdmol_atom'\u001b[0m: \u001b[1m<\u001b[0m\u001b[1;95mrdkit.Chem.rdchem.Atom\u001b[0m\u001b[39m object at \u001b[0m\u001b[1;36m0x7f10c5030640\u001b[0m\u001b[1m>\u001b[0m,\n",
                                   "    \u001b[32m'coords'\u001b[0m: \u001b[3;35mNone\u001b[0m,\n",
                                   "    \u001b[32m'atom_type_one_hot'\u001b[0m: \u001b[1;35marray\u001b[0m\u001b[1m(\u001b[0m\u001b[1m[\u001b[0m\u001b[1;36m1\u001b[0m, \u001b[1;36m0\u001b[0m, \u001b[1;36m0\u001b[0m, \u001b[1;36m0\u001b[0m, \u001b[1;36m0\u001b[0m, \u001b[1;36m0\u001b[0m, \u001b[1;36m0\u001b[0m, \u001b[1;36m0\u001b[0m, \u001b[1;36m0\u001b[0m, \u001b[1;36m0\u001b[0m, \u001b[1;36m0\u001b[0m\u001b[1m]\u001b[0m\u001b[1m)\u001b[0m\n",
                                   "\u001b[1m}\u001b[0m\n"
                              ]
                         },
                         "metadata": {},
                         "output_type": "display_data"
                    },
                    {
                         "data": {
                              "text/html": [
                                   "<pre style=\"white-space:pre;overflow-x:auto;line-height:normal;font-family:Menlo,'DejaVu Sans Mono',consolas,'Courier New',monospace\"><span style=\"font-weight: bold\">{</span>\n",
                                   "    <span style=\"color: #008000; text-decoration-color: #008000\">'atomic_num'</span>: <span style=\"color: #008080; text-decoration-color: #008080; font-weight: bold\">6</span>,\n",
                                   "    <span style=\"color: #008000; text-decoration-color: #008000\">'element'</span>: <span style=\"color: #008000; text-decoration-color: #008000\">'C'</span>,\n",
                                   "    <span style=\"color: #008000; text-decoration-color: #008000\">'rdmol_atom'</span>: <span style=\"font-weight: bold\">&lt;</span><span style=\"color: #ff00ff; text-decoration-color: #ff00ff; font-weight: bold\">rdkit.Chem.rdchem.Atom</span><span style=\"color: #000000; text-decoration-color: #000000\"> object at </span><span style=\"color: #008080; text-decoration-color: #008080; font-weight: bold\">0x7f10c50306a0</span><span style=\"font-weight: bold\">&gt;</span>,\n",
                                   "    <span style=\"color: #008000; text-decoration-color: #008000\">'coords'</span>: <span style=\"color: #800080; text-decoration-color: #800080; font-style: italic\">None</span>,\n",
                                   "    <span style=\"color: #008000; text-decoration-color: #008000\">'atom_type_one_hot'</span>: <span style=\"color: #800080; text-decoration-color: #800080; font-weight: bold\">array</span><span style=\"font-weight: bold\">([</span><span style=\"color: #008080; text-decoration-color: #008080; font-weight: bold\">1</span>, <span style=\"color: #008080; text-decoration-color: #008080; font-weight: bold\">0</span>, <span style=\"color: #008080; text-decoration-color: #008080; font-weight: bold\">0</span>, <span style=\"color: #008080; text-decoration-color: #008080; font-weight: bold\">0</span>, <span style=\"color: #008080; text-decoration-color: #008080; font-weight: bold\">0</span>, <span style=\"color: #008080; text-decoration-color: #008080; font-weight: bold\">0</span>, <span style=\"color: #008080; text-decoration-color: #008080; font-weight: bold\">0</span>, <span style=\"color: #008080; text-decoration-color: #008080; font-weight: bold\">0</span>, <span style=\"color: #008080; text-decoration-color: #008080; font-weight: bold\">0</span>, <span style=\"color: #008080; text-decoration-color: #008080; font-weight: bold\">0</span>, <span style=\"color: #008080; text-decoration-color: #008080; font-weight: bold\">0</span><span style=\"font-weight: bold\">])</span>\n",
                                   "<span style=\"font-weight: bold\">}</span>\n",
                                   "</pre>\n"
                              ],
                              "text/plain": [
                                   "\u001b[1m{\u001b[0m\n",
                                   "    \u001b[32m'atomic_num'\u001b[0m: \u001b[1;36m6\u001b[0m,\n",
                                   "    \u001b[32m'element'\u001b[0m: \u001b[32m'C'\u001b[0m,\n",
                                   "    \u001b[32m'rdmol_atom'\u001b[0m: \u001b[1m<\u001b[0m\u001b[1;95mrdkit.Chem.rdchem.Atom\u001b[0m\u001b[39m object at \u001b[0m\u001b[1;36m0x7f10c50306a0\u001b[0m\u001b[1m>\u001b[0m,\n",
                                   "    \u001b[32m'coords'\u001b[0m: \u001b[3;35mNone\u001b[0m,\n",
                                   "    \u001b[32m'atom_type_one_hot'\u001b[0m: \u001b[1;35marray\u001b[0m\u001b[1m(\u001b[0m\u001b[1m[\u001b[0m\u001b[1;36m1\u001b[0m, \u001b[1;36m0\u001b[0m, \u001b[1;36m0\u001b[0m, \u001b[1;36m0\u001b[0m, \u001b[1;36m0\u001b[0m, \u001b[1;36m0\u001b[0m, \u001b[1;36m0\u001b[0m, \u001b[1;36m0\u001b[0m, \u001b[1;36m0\u001b[0m, \u001b[1;36m0\u001b[0m, \u001b[1;36m0\u001b[0m\u001b[1m]\u001b[0m\u001b[1m)\u001b[0m\n",
                                   "\u001b[1m}\u001b[0m\n"
                              ]
                         },
                         "metadata": {},
                         "output_type": "display_data"
                    },
                    {
                         "data": {
                              "text/html": [
                                   "<pre style=\"white-space:pre;overflow-x:auto;line-height:normal;font-family:Menlo,'DejaVu Sans Mono',consolas,'Courier New',monospace\"><span style=\"font-weight: bold\">{</span>\n",
                                   "    <span style=\"color: #008000; text-decoration-color: #008000\">'atomic_num'</span>: <span style=\"color: #008080; text-decoration-color: #008080; font-weight: bold\">6</span>,\n",
                                   "    <span style=\"color: #008000; text-decoration-color: #008000\">'element'</span>: <span style=\"color: #008000; text-decoration-color: #008000\">'C'</span>,\n",
                                   "    <span style=\"color: #008000; text-decoration-color: #008000\">'rdmol_atom'</span>: <span style=\"font-weight: bold\">&lt;</span><span style=\"color: #ff00ff; text-decoration-color: #ff00ff; font-weight: bold\">rdkit.Chem.rdchem.Atom</span><span style=\"color: #000000; text-decoration-color: #000000\"> object at </span><span style=\"color: #008080; text-decoration-color: #008080; font-weight: bold\">0x7f10c5030700</span><span style=\"font-weight: bold\">&gt;</span>,\n",
                                   "    <span style=\"color: #008000; text-decoration-color: #008000\">'coords'</span>: <span style=\"color: #800080; text-decoration-color: #800080; font-style: italic\">None</span>,\n",
                                   "    <span style=\"color: #008000; text-decoration-color: #008000\">'atom_type_one_hot'</span>: <span style=\"color: #800080; text-decoration-color: #800080; font-weight: bold\">array</span><span style=\"font-weight: bold\">([</span><span style=\"color: #008080; text-decoration-color: #008080; font-weight: bold\">1</span>, <span style=\"color: #008080; text-decoration-color: #008080; font-weight: bold\">0</span>, <span style=\"color: #008080; text-decoration-color: #008080; font-weight: bold\">0</span>, <span style=\"color: #008080; text-decoration-color: #008080; font-weight: bold\">0</span>, <span style=\"color: #008080; text-decoration-color: #008080; font-weight: bold\">0</span>, <span style=\"color: #008080; text-decoration-color: #008080; font-weight: bold\">0</span>, <span style=\"color: #008080; text-decoration-color: #008080; font-weight: bold\">0</span>, <span style=\"color: #008080; text-decoration-color: #008080; font-weight: bold\">0</span>, <span style=\"color: #008080; text-decoration-color: #008080; font-weight: bold\">0</span>, <span style=\"color: #008080; text-decoration-color: #008080; font-weight: bold\">0</span>, <span style=\"color: #008080; text-decoration-color: #008080; font-weight: bold\">0</span><span style=\"font-weight: bold\">])</span>\n",
                                   "<span style=\"font-weight: bold\">}</span>\n",
                                   "</pre>\n"
                              ],
                              "text/plain": [
                                   "\u001b[1m{\u001b[0m\n",
                                   "    \u001b[32m'atomic_num'\u001b[0m: \u001b[1;36m6\u001b[0m,\n",
                                   "    \u001b[32m'element'\u001b[0m: \u001b[32m'C'\u001b[0m,\n",
                                   "    \u001b[32m'rdmol_atom'\u001b[0m: \u001b[1m<\u001b[0m\u001b[1;95mrdkit.Chem.rdchem.Atom\u001b[0m\u001b[39m object at \u001b[0m\u001b[1;36m0x7f10c5030700\u001b[0m\u001b[1m>\u001b[0m,\n",
                                   "    \u001b[32m'coords'\u001b[0m: \u001b[3;35mNone\u001b[0m,\n",
                                   "    \u001b[32m'atom_type_one_hot'\u001b[0m: \u001b[1;35marray\u001b[0m\u001b[1m(\u001b[0m\u001b[1m[\u001b[0m\u001b[1;36m1\u001b[0m, \u001b[1;36m0\u001b[0m, \u001b[1;36m0\u001b[0m, \u001b[1;36m0\u001b[0m, \u001b[1;36m0\u001b[0m, \u001b[1;36m0\u001b[0m, \u001b[1;36m0\u001b[0m, \u001b[1;36m0\u001b[0m, \u001b[1;36m0\u001b[0m, \u001b[1;36m0\u001b[0m, \u001b[1;36m0\u001b[0m\u001b[1m]\u001b[0m\u001b[1m)\u001b[0m\n",
                                   "\u001b[1m}\u001b[0m\n"
                              ]
                         },
                         "metadata": {},
                         "output_type": "display_data"
                    },
                    {
                         "data": {
                              "text/html": [
                                   "<pre style=\"white-space:pre;overflow-x:auto;line-height:normal;font-family:Menlo,'DejaVu Sans Mono',consolas,'Courier New',monospace\"><span style=\"font-weight: bold\">{</span>\n",
                                   "    <span style=\"color: #008000; text-decoration-color: #008000\">'atomic_num'</span>: <span style=\"color: #008080; text-decoration-color: #008080; font-weight: bold\">6</span>,\n",
                                   "    <span style=\"color: #008000; text-decoration-color: #008000\">'element'</span>: <span style=\"color: #008000; text-decoration-color: #008000\">'C'</span>,\n",
                                   "    <span style=\"color: #008000; text-decoration-color: #008000\">'rdmol_atom'</span>: <span style=\"font-weight: bold\">&lt;</span><span style=\"color: #ff00ff; text-decoration-color: #ff00ff; font-weight: bold\">rdkit.Chem.rdchem.Atom</span><span style=\"color: #000000; text-decoration-color: #000000\"> object at </span><span style=\"color: #008080; text-decoration-color: #008080; font-weight: bold\">0x7f10c5030760</span><span style=\"font-weight: bold\">&gt;</span>,\n",
                                   "    <span style=\"color: #008000; text-decoration-color: #008000\">'coords'</span>: <span style=\"color: #800080; text-decoration-color: #800080; font-style: italic\">None</span>,\n",
                                   "    <span style=\"color: #008000; text-decoration-color: #008000\">'atom_type_one_hot'</span>: <span style=\"color: #800080; text-decoration-color: #800080; font-weight: bold\">array</span><span style=\"font-weight: bold\">([</span><span style=\"color: #008080; text-decoration-color: #008080; font-weight: bold\">1</span>, <span style=\"color: #008080; text-decoration-color: #008080; font-weight: bold\">0</span>, <span style=\"color: #008080; text-decoration-color: #008080; font-weight: bold\">0</span>, <span style=\"color: #008080; text-decoration-color: #008080; font-weight: bold\">0</span>, <span style=\"color: #008080; text-decoration-color: #008080; font-weight: bold\">0</span>, <span style=\"color: #008080; text-decoration-color: #008080; font-weight: bold\">0</span>, <span style=\"color: #008080; text-decoration-color: #008080; font-weight: bold\">0</span>, <span style=\"color: #008080; text-decoration-color: #008080; font-weight: bold\">0</span>, <span style=\"color: #008080; text-decoration-color: #008080; font-weight: bold\">0</span>, <span style=\"color: #008080; text-decoration-color: #008080; font-weight: bold\">0</span>, <span style=\"color: #008080; text-decoration-color: #008080; font-weight: bold\">0</span><span style=\"font-weight: bold\">])</span>\n",
                                   "<span style=\"font-weight: bold\">}</span>\n",
                                   "</pre>\n"
                              ],
                              "text/plain": [
                                   "\u001b[1m{\u001b[0m\n",
                                   "    \u001b[32m'atomic_num'\u001b[0m: \u001b[1;36m6\u001b[0m,\n",
                                   "    \u001b[32m'element'\u001b[0m: \u001b[32m'C'\u001b[0m,\n",
                                   "    \u001b[32m'rdmol_atom'\u001b[0m: \u001b[1m<\u001b[0m\u001b[1;95mrdkit.Chem.rdchem.Atom\u001b[0m\u001b[39m object at \u001b[0m\u001b[1;36m0x7f10c5030760\u001b[0m\u001b[1m>\u001b[0m,\n",
                                   "    \u001b[32m'coords'\u001b[0m: \u001b[3;35mNone\u001b[0m,\n",
                                   "    \u001b[32m'atom_type_one_hot'\u001b[0m: \u001b[1;35marray\u001b[0m\u001b[1m(\u001b[0m\u001b[1m[\u001b[0m\u001b[1;36m1\u001b[0m, \u001b[1;36m0\u001b[0m, \u001b[1;36m0\u001b[0m, \u001b[1;36m0\u001b[0m, \u001b[1;36m0\u001b[0m, \u001b[1;36m0\u001b[0m, \u001b[1;36m0\u001b[0m, \u001b[1;36m0\u001b[0m, \u001b[1;36m0\u001b[0m, \u001b[1;36m0\u001b[0m, \u001b[1;36m0\u001b[0m\u001b[1m]\u001b[0m\u001b[1m)\u001b[0m\n",
                                   "\u001b[1m}\u001b[0m\n"
                              ]
                         },
                         "metadata": {},
                         "output_type": "display_data"
                    },
                    {
                         "data": {
                              "text/html": [
                                   "<pre style=\"white-space:pre;overflow-x:auto;line-height:normal;font-family:Menlo,'DejaVu Sans Mono',consolas,'Courier New',monospace\"><span style=\"font-weight: bold\">{</span>\n",
                                   "    <span style=\"color: #008000; text-decoration-color: #008000\">'atomic_num'</span>: <span style=\"color: #008080; text-decoration-color: #008080; font-weight: bold\">6</span>,\n",
                                   "    <span style=\"color: #008000; text-decoration-color: #008000\">'element'</span>: <span style=\"color: #008000; text-decoration-color: #008000\">'C'</span>,\n",
                                   "    <span style=\"color: #008000; text-decoration-color: #008000\">'rdmol_atom'</span>: <span style=\"font-weight: bold\">&lt;</span><span style=\"color: #ff00ff; text-decoration-color: #ff00ff; font-weight: bold\">rdkit.Chem.rdchem.Atom</span><span style=\"color: #000000; text-decoration-color: #000000\"> object at </span><span style=\"color: #008080; text-decoration-color: #008080; font-weight: bold\">0x7f10c50307c0</span><span style=\"font-weight: bold\">&gt;</span>,\n",
                                   "    <span style=\"color: #008000; text-decoration-color: #008000\">'coords'</span>: <span style=\"color: #800080; text-decoration-color: #800080; font-style: italic\">None</span>,\n",
                                   "    <span style=\"color: #008000; text-decoration-color: #008000\">'atom_type_one_hot'</span>: <span style=\"color: #800080; text-decoration-color: #800080; font-weight: bold\">array</span><span style=\"font-weight: bold\">([</span><span style=\"color: #008080; text-decoration-color: #008080; font-weight: bold\">1</span>, <span style=\"color: #008080; text-decoration-color: #008080; font-weight: bold\">0</span>, <span style=\"color: #008080; text-decoration-color: #008080; font-weight: bold\">0</span>, <span style=\"color: #008080; text-decoration-color: #008080; font-weight: bold\">0</span>, <span style=\"color: #008080; text-decoration-color: #008080; font-weight: bold\">0</span>, <span style=\"color: #008080; text-decoration-color: #008080; font-weight: bold\">0</span>, <span style=\"color: #008080; text-decoration-color: #008080; font-weight: bold\">0</span>, <span style=\"color: #008080; text-decoration-color: #008080; font-weight: bold\">0</span>, <span style=\"color: #008080; text-decoration-color: #008080; font-weight: bold\">0</span>, <span style=\"color: #008080; text-decoration-color: #008080; font-weight: bold\">0</span>, <span style=\"color: #008080; text-decoration-color: #008080; font-weight: bold\">0</span><span style=\"font-weight: bold\">])</span>\n",
                                   "<span style=\"font-weight: bold\">}</span>\n",
                                   "</pre>\n"
                              ],
                              "text/plain": [
                                   "\u001b[1m{\u001b[0m\n",
                                   "    \u001b[32m'atomic_num'\u001b[0m: \u001b[1;36m6\u001b[0m,\n",
                                   "    \u001b[32m'element'\u001b[0m: \u001b[32m'C'\u001b[0m,\n",
                                   "    \u001b[32m'rdmol_atom'\u001b[0m: \u001b[1m<\u001b[0m\u001b[1;95mrdkit.Chem.rdchem.Atom\u001b[0m\u001b[39m object at \u001b[0m\u001b[1;36m0x7f10c50307c0\u001b[0m\u001b[1m>\u001b[0m,\n",
                                   "    \u001b[32m'coords'\u001b[0m: \u001b[3;35mNone\u001b[0m,\n",
                                   "    \u001b[32m'atom_type_one_hot'\u001b[0m: \u001b[1;35marray\u001b[0m\u001b[1m(\u001b[0m\u001b[1m[\u001b[0m\u001b[1;36m1\u001b[0m, \u001b[1;36m0\u001b[0m, \u001b[1;36m0\u001b[0m, \u001b[1;36m0\u001b[0m, \u001b[1;36m0\u001b[0m, \u001b[1;36m0\u001b[0m, \u001b[1;36m0\u001b[0m, \u001b[1;36m0\u001b[0m, \u001b[1;36m0\u001b[0m, \u001b[1;36m0\u001b[0m, \u001b[1;36m0\u001b[0m\u001b[1m]\u001b[0m\u001b[1m)\u001b[0m\n",
                                   "\u001b[1m}\u001b[0m\n"
                              ]
                         },
                         "metadata": {},
                         "output_type": "display_data"
                    },
                    {
                         "data": {
                              "text/html": [
                                   "<pre style=\"white-space:pre;overflow-x:auto;line-height:normal;font-family:Menlo,'DejaVu Sans Mono',consolas,'Courier New',monospace\"><span style=\"font-weight: bold\">{</span>\n",
                                   "    <span style=\"color: #008000; text-decoration-color: #008000\">'atomic_num'</span>: <span style=\"color: #008080; text-decoration-color: #008080; font-weight: bold\">6</span>,\n",
                                   "    <span style=\"color: #008000; text-decoration-color: #008000\">'element'</span>: <span style=\"color: #008000; text-decoration-color: #008000\">'C'</span>,\n",
                                   "    <span style=\"color: #008000; text-decoration-color: #008000\">'rdmol_atom'</span>: <span style=\"font-weight: bold\">&lt;</span><span style=\"color: #ff00ff; text-decoration-color: #ff00ff; font-weight: bold\">rdkit.Chem.rdchem.Atom</span><span style=\"color: #000000; text-decoration-color: #000000\"> object at </span><span style=\"color: #008080; text-decoration-color: #008080; font-weight: bold\">0x7f10c5030820</span><span style=\"font-weight: bold\">&gt;</span>,\n",
                                   "    <span style=\"color: #008000; text-decoration-color: #008000\">'coords'</span>: <span style=\"color: #800080; text-decoration-color: #800080; font-style: italic\">None</span>,\n",
                                   "    <span style=\"color: #008000; text-decoration-color: #008000\">'atom_type_one_hot'</span>: <span style=\"color: #800080; text-decoration-color: #800080; font-weight: bold\">array</span><span style=\"font-weight: bold\">([</span><span style=\"color: #008080; text-decoration-color: #008080; font-weight: bold\">1</span>, <span style=\"color: #008080; text-decoration-color: #008080; font-weight: bold\">0</span>, <span style=\"color: #008080; text-decoration-color: #008080; font-weight: bold\">0</span>, <span style=\"color: #008080; text-decoration-color: #008080; font-weight: bold\">0</span>, <span style=\"color: #008080; text-decoration-color: #008080; font-weight: bold\">0</span>, <span style=\"color: #008080; text-decoration-color: #008080; font-weight: bold\">0</span>, <span style=\"color: #008080; text-decoration-color: #008080; font-weight: bold\">0</span>, <span style=\"color: #008080; text-decoration-color: #008080; font-weight: bold\">0</span>, <span style=\"color: #008080; text-decoration-color: #008080; font-weight: bold\">0</span>, <span style=\"color: #008080; text-decoration-color: #008080; font-weight: bold\">0</span>, <span style=\"color: #008080; text-decoration-color: #008080; font-weight: bold\">0</span><span style=\"font-weight: bold\">])</span>\n",
                                   "<span style=\"font-weight: bold\">}</span>\n",
                                   "</pre>\n"
                              ],
                              "text/plain": [
                                   "\u001b[1m{\u001b[0m\n",
                                   "    \u001b[32m'atomic_num'\u001b[0m: \u001b[1;36m6\u001b[0m,\n",
                                   "    \u001b[32m'element'\u001b[0m: \u001b[32m'C'\u001b[0m,\n",
                                   "    \u001b[32m'rdmol_atom'\u001b[0m: \u001b[1m<\u001b[0m\u001b[1;95mrdkit.Chem.rdchem.Atom\u001b[0m\u001b[39m object at \u001b[0m\u001b[1;36m0x7f10c5030820\u001b[0m\u001b[1m>\u001b[0m,\n",
                                   "    \u001b[32m'coords'\u001b[0m: \u001b[3;35mNone\u001b[0m,\n",
                                   "    \u001b[32m'atom_type_one_hot'\u001b[0m: \u001b[1;35marray\u001b[0m\u001b[1m(\u001b[0m\u001b[1m[\u001b[0m\u001b[1;36m1\u001b[0m, \u001b[1;36m0\u001b[0m, \u001b[1;36m0\u001b[0m, \u001b[1;36m0\u001b[0m, \u001b[1;36m0\u001b[0m, \u001b[1;36m0\u001b[0m, \u001b[1;36m0\u001b[0m, \u001b[1;36m0\u001b[0m, \u001b[1;36m0\u001b[0m, \u001b[1;36m0\u001b[0m, \u001b[1;36m0\u001b[0m\u001b[1m]\u001b[0m\u001b[1m)\u001b[0m\n",
                                   "\u001b[1m}\u001b[0m\n"
                              ]
                         },
                         "metadata": {},
                         "output_type": "display_data"
                    },
                    {
                         "data": {
                              "text/html": [
                                   "<pre style=\"white-space:pre;overflow-x:auto;line-height:normal;font-family:Menlo,'DejaVu Sans Mono',consolas,'Courier New',monospace\"><span style=\"font-weight: bold\">{</span>\n",
                                   "    <span style=\"color: #008000; text-decoration-color: #008000\">'atomic_num'</span>: <span style=\"color: #008080; text-decoration-color: #008080; font-weight: bold\">8</span>,\n",
                                   "    <span style=\"color: #008000; text-decoration-color: #008000\">'element'</span>: <span style=\"color: #008000; text-decoration-color: #008000\">'O'</span>,\n",
                                   "    <span style=\"color: #008000; text-decoration-color: #008000\">'rdmol_atom'</span>: <span style=\"font-weight: bold\">&lt;</span><span style=\"color: #ff00ff; text-decoration-color: #ff00ff; font-weight: bold\">rdkit.Chem.rdchem.Atom</span><span style=\"color: #000000; text-decoration-color: #000000\"> object at </span><span style=\"color: #008080; text-decoration-color: #008080; font-weight: bold\">0x7f10c5030880</span><span style=\"font-weight: bold\">&gt;</span>,\n",
                                   "    <span style=\"color: #008000; text-decoration-color: #008000\">'coords'</span>: <span style=\"color: #800080; text-decoration-color: #800080; font-style: italic\">None</span>,\n",
                                   "    <span style=\"color: #008000; text-decoration-color: #008000\">'atom_type_one_hot'</span>: <span style=\"color: #800080; text-decoration-color: #800080; font-weight: bold\">array</span><span style=\"font-weight: bold\">([</span><span style=\"color: #008080; text-decoration-color: #008080; font-weight: bold\">0</span>, <span style=\"color: #008080; text-decoration-color: #008080; font-weight: bold\">0</span>, <span style=\"color: #008080; text-decoration-color: #008080; font-weight: bold\">1</span>, <span style=\"color: #008080; text-decoration-color: #008080; font-weight: bold\">0</span>, <span style=\"color: #008080; text-decoration-color: #008080; font-weight: bold\">0</span>, <span style=\"color: #008080; text-decoration-color: #008080; font-weight: bold\">0</span>, <span style=\"color: #008080; text-decoration-color: #008080; font-weight: bold\">0</span>, <span style=\"color: #008080; text-decoration-color: #008080; font-weight: bold\">0</span>, <span style=\"color: #008080; text-decoration-color: #008080; font-weight: bold\">0</span>, <span style=\"color: #008080; text-decoration-color: #008080; font-weight: bold\">0</span>, <span style=\"color: #008080; text-decoration-color: #008080; font-weight: bold\">0</span><span style=\"font-weight: bold\">])</span>\n",
                                   "<span style=\"font-weight: bold\">}</span>\n",
                                   "</pre>\n"
                              ],
                              "text/plain": [
                                   "\u001b[1m{\u001b[0m\n",
                                   "    \u001b[32m'atomic_num'\u001b[0m: \u001b[1;36m8\u001b[0m,\n",
                                   "    \u001b[32m'element'\u001b[0m: \u001b[32m'O'\u001b[0m,\n",
                                   "    \u001b[32m'rdmol_atom'\u001b[0m: \u001b[1m<\u001b[0m\u001b[1;95mrdkit.Chem.rdchem.Atom\u001b[0m\u001b[39m object at \u001b[0m\u001b[1;36m0x7f10c5030880\u001b[0m\u001b[1m>\u001b[0m,\n",
                                   "    \u001b[32m'coords'\u001b[0m: \u001b[3;35mNone\u001b[0m,\n",
                                   "    \u001b[32m'atom_type_one_hot'\u001b[0m: \u001b[1;35marray\u001b[0m\u001b[1m(\u001b[0m\u001b[1m[\u001b[0m\u001b[1;36m0\u001b[0m, \u001b[1;36m0\u001b[0m, \u001b[1;36m1\u001b[0m, \u001b[1;36m0\u001b[0m, \u001b[1;36m0\u001b[0m, \u001b[1;36m0\u001b[0m, \u001b[1;36m0\u001b[0m, \u001b[1;36m0\u001b[0m, \u001b[1;36m0\u001b[0m, \u001b[1;36m0\u001b[0m, \u001b[1;36m0\u001b[0m\u001b[1m]\u001b[0m\u001b[1m)\u001b[0m\n",
                                   "\u001b[1m}\u001b[0m\n"
                              ]
                         },
                         "metadata": {},
                         "output_type": "display_data"
                    },
                    {
                         "data": {
                              "text/html": [
                                   "<pre style=\"white-space:pre;overflow-x:auto;line-height:normal;font-family:Menlo,'DejaVu Sans Mono',consolas,'Courier New',monospace\"><span style=\"font-weight: bold\">{</span>\n",
                                   "    <span style=\"color: #008000; text-decoration-color: #008000\">'atomic_num'</span>: <span style=\"color: #008080; text-decoration-color: #008080; font-weight: bold\">8</span>,\n",
                                   "    <span style=\"color: #008000; text-decoration-color: #008000\">'element'</span>: <span style=\"color: #008000; text-decoration-color: #008000\">'O'</span>,\n",
                                   "    <span style=\"color: #008000; text-decoration-color: #008000\">'rdmol_atom'</span>: <span style=\"font-weight: bold\">&lt;</span><span style=\"color: #ff00ff; text-decoration-color: #ff00ff; font-weight: bold\">rdkit.Chem.rdchem.Atom</span><span style=\"color: #000000; text-decoration-color: #000000\"> object at </span><span style=\"color: #008080; text-decoration-color: #008080; font-weight: bold\">0x7f10c50308e0</span><span style=\"font-weight: bold\">&gt;</span>,\n",
                                   "    <span style=\"color: #008000; text-decoration-color: #008000\">'coords'</span>: <span style=\"color: #800080; text-decoration-color: #800080; font-style: italic\">None</span>,\n",
                                   "    <span style=\"color: #008000; text-decoration-color: #008000\">'atom_type_one_hot'</span>: <span style=\"color: #800080; text-decoration-color: #800080; font-weight: bold\">array</span><span style=\"font-weight: bold\">([</span><span style=\"color: #008080; text-decoration-color: #008080; font-weight: bold\">0</span>, <span style=\"color: #008080; text-decoration-color: #008080; font-weight: bold\">0</span>, <span style=\"color: #008080; text-decoration-color: #008080; font-weight: bold\">1</span>, <span style=\"color: #008080; text-decoration-color: #008080; font-weight: bold\">0</span>, <span style=\"color: #008080; text-decoration-color: #008080; font-weight: bold\">0</span>, <span style=\"color: #008080; text-decoration-color: #008080; font-weight: bold\">0</span>, <span style=\"color: #008080; text-decoration-color: #008080; font-weight: bold\">0</span>, <span style=\"color: #008080; text-decoration-color: #008080; font-weight: bold\">0</span>, <span style=\"color: #008080; text-decoration-color: #008080; font-weight: bold\">0</span>, <span style=\"color: #008080; text-decoration-color: #008080; font-weight: bold\">0</span>, <span style=\"color: #008080; text-decoration-color: #008080; font-weight: bold\">0</span><span style=\"font-weight: bold\">])</span>\n",
                                   "<span style=\"font-weight: bold\">}</span>\n",
                                   "</pre>\n"
                              ],
                              "text/plain": [
                                   "\u001b[1m{\u001b[0m\n",
                                   "    \u001b[32m'atomic_num'\u001b[0m: \u001b[1;36m8\u001b[0m,\n",
                                   "    \u001b[32m'element'\u001b[0m: \u001b[32m'O'\u001b[0m,\n",
                                   "    \u001b[32m'rdmol_atom'\u001b[0m: \u001b[1m<\u001b[0m\u001b[1;95mrdkit.Chem.rdchem.Atom\u001b[0m\u001b[39m object at \u001b[0m\u001b[1;36m0x7f10c50308e0\u001b[0m\u001b[1m>\u001b[0m,\n",
                                   "    \u001b[32m'coords'\u001b[0m: \u001b[3;35mNone\u001b[0m,\n",
                                   "    \u001b[32m'atom_type_one_hot'\u001b[0m: \u001b[1;35marray\u001b[0m\u001b[1m(\u001b[0m\u001b[1m[\u001b[0m\u001b[1;36m0\u001b[0m, \u001b[1;36m0\u001b[0m, \u001b[1;36m1\u001b[0m, \u001b[1;36m0\u001b[0m, \u001b[1;36m0\u001b[0m, \u001b[1;36m0\u001b[0m, \u001b[1;36m0\u001b[0m, \u001b[1;36m0\u001b[0m, \u001b[1;36m0\u001b[0m, \u001b[1;36m0\u001b[0m, \u001b[1;36m0\u001b[0m\u001b[1m]\u001b[0m\u001b[1m)\u001b[0m\n",
                                   "\u001b[1m}\u001b[0m\n"
                              ]
                         },
                         "metadata": {},
                         "output_type": "display_data"
                    }
               ],
               "source": [
                    "# Node metadata\n",
                    "for n, d in graph.nodes(data=True):\n",
                    "    print(d)"
               ]
          },
          {
               "cell_type": "code",
               "execution_count": 9,
               "metadata": {},
               "outputs": [
                    {
                         "data": {
                              "text/html": [
                                   "<pre style=\"white-space:pre;overflow-x:auto;line-height:normal;font-family:Menlo,'DejaVu Sans Mono',consolas,'Courier New',monospace\"><span style=\"font-weight: bold\">{</span><span style=\"color: #008000; text-decoration-color: #008000\">'kind'</span>: <span style=\"font-weight: bold\">{</span><span style=\"color: #008000; text-decoration-color: #008000\">'bond'</span><span style=\"font-weight: bold\">}</span>, <span style=\"color: #008000; text-decoration-color: #008000\">'bond'</span>: <span style=\"font-weight: bold\">&lt;</span><span style=\"color: #ff00ff; text-decoration-color: #ff00ff; font-weight: bold\">rdkit.Chem.rdchem.Bond</span><span style=\"color: #000000; text-decoration-color: #000000\"> object at </span><span style=\"color: #008080; text-decoration-color: #008080; font-weight: bold\">0x7f10c5030dc0</span><span style=\"font-weight: bold\">&gt;}</span>\n",
                                   "</pre>\n"
                              ],
                              "text/plain": [
                                   "\u001b[1m{\u001b[0m\u001b[32m'kind'\u001b[0m: \u001b[1m{\u001b[0m\u001b[32m'bond'\u001b[0m\u001b[1m}\u001b[0m, \u001b[32m'bond'\u001b[0m: \u001b[1m<\u001b[0m\u001b[1;95mrdkit.Chem.rdchem.Bond\u001b[0m\u001b[39m object at \u001b[0m\u001b[1;36m0x7f10c5030dc0\u001b[0m\u001b[1m>\u001b[0m\u001b[1m}\u001b[0m\n"
                              ]
                         },
                         "metadata": {},
                         "output_type": "display_data"
                    },
                    {
                         "data": {
                              "text/html": [
                                   "<pre style=\"white-space:pre;overflow-x:auto;line-height:normal;font-family:Menlo,'DejaVu Sans Mono',consolas,'Courier New',monospace\"><span style=\"font-weight: bold\">{</span><span style=\"color: #008000; text-decoration-color: #008000\">'kind'</span>: <span style=\"font-weight: bold\">{</span><span style=\"color: #008000; text-decoration-color: #008000\">'bond'</span><span style=\"font-weight: bold\">}</span>, <span style=\"color: #008000; text-decoration-color: #008000\">'bond'</span>: <span style=\"font-weight: bold\">&lt;</span><span style=\"color: #ff00ff; text-decoration-color: #ff00ff; font-weight: bold\">rdkit.Chem.rdchem.Bond</span><span style=\"color: #000000; text-decoration-color: #000000\"> object at </span><span style=\"color: #008080; text-decoration-color: #008080; font-weight: bold\">0x7f10c5030e20</span><span style=\"font-weight: bold\">&gt;}</span>\n",
                                   "</pre>\n"
                              ],
                              "text/plain": [
                                   "\u001b[1m{\u001b[0m\u001b[32m'kind'\u001b[0m: \u001b[1m{\u001b[0m\u001b[32m'bond'\u001b[0m\u001b[1m}\u001b[0m, \u001b[32m'bond'\u001b[0m: \u001b[1m<\u001b[0m\u001b[1;95mrdkit.Chem.rdchem.Bond\u001b[0m\u001b[39m object at \u001b[0m\u001b[1;36m0x7f10c5030e20\u001b[0m\u001b[1m>\u001b[0m\u001b[1m}\u001b[0m\n"
                              ]
                         },
                         "metadata": {},
                         "output_type": "display_data"
                    },
                    {
                         "data": {
                              "text/html": [
                                   "<pre style=\"white-space:pre;overflow-x:auto;line-height:normal;font-family:Menlo,'DejaVu Sans Mono',consolas,'Courier New',monospace\"><span style=\"font-weight: bold\">{</span><span style=\"color: #008000; text-decoration-color: #008000\">'kind'</span>: <span style=\"font-weight: bold\">{</span><span style=\"color: #008000; text-decoration-color: #008000\">'bond'</span><span style=\"font-weight: bold\">}</span>, <span style=\"color: #008000; text-decoration-color: #008000\">'bond'</span>: <span style=\"font-weight: bold\">&lt;</span><span style=\"color: #ff00ff; text-decoration-color: #ff00ff; font-weight: bold\">rdkit.Chem.rdchem.Bond</span><span style=\"color: #000000; text-decoration-color: #000000\"> object at </span><span style=\"color: #008080; text-decoration-color: #008080; font-weight: bold\">0x7f10c5030e80</span><span style=\"font-weight: bold\">&gt;}</span>\n",
                                   "</pre>\n"
                              ],
                              "text/plain": [
                                   "\u001b[1m{\u001b[0m\u001b[32m'kind'\u001b[0m: \u001b[1m{\u001b[0m\u001b[32m'bond'\u001b[0m\u001b[1m}\u001b[0m, \u001b[32m'bond'\u001b[0m: \u001b[1m<\u001b[0m\u001b[1;95mrdkit.Chem.rdchem.Bond\u001b[0m\u001b[39m object at \u001b[0m\u001b[1;36m0x7f10c5030e80\u001b[0m\u001b[1m>\u001b[0m\u001b[1m}\u001b[0m\n"
                              ]
                         },
                         "metadata": {},
                         "output_type": "display_data"
                    },
                    {
                         "data": {
                              "text/html": [
                                   "<pre style=\"white-space:pre;overflow-x:auto;line-height:normal;font-family:Menlo,'DejaVu Sans Mono',consolas,'Courier New',monospace\"><span style=\"font-weight: bold\">{</span><span style=\"color: #008000; text-decoration-color: #008000\">'kind'</span>: <span style=\"font-weight: bold\">{</span><span style=\"color: #008000; text-decoration-color: #008000\">'bond'</span><span style=\"font-weight: bold\">}</span>, <span style=\"color: #008000; text-decoration-color: #008000\">'bond'</span>: <span style=\"font-weight: bold\">&lt;</span><span style=\"color: #ff00ff; text-decoration-color: #ff00ff; font-weight: bold\">rdkit.Chem.rdchem.Bond</span><span style=\"color: #000000; text-decoration-color: #000000\"> object at </span><span style=\"color: #008080; text-decoration-color: #008080; font-weight: bold\">0x7f10c5030ee0</span><span style=\"font-weight: bold\">&gt;}</span>\n",
                                   "</pre>\n"
                              ],
                              "text/plain": [
                                   "\u001b[1m{\u001b[0m\u001b[32m'kind'\u001b[0m: \u001b[1m{\u001b[0m\u001b[32m'bond'\u001b[0m\u001b[1m}\u001b[0m, \u001b[32m'bond'\u001b[0m: \u001b[1m<\u001b[0m\u001b[1;95mrdkit.Chem.rdchem.Bond\u001b[0m\u001b[39m object at \u001b[0m\u001b[1;36m0x7f10c5030ee0\u001b[0m\u001b[1m>\u001b[0m\u001b[1m}\u001b[0m\n"
                              ]
                         },
                         "metadata": {},
                         "output_type": "display_data"
                    },
                    {
                         "data": {
                              "text/html": [
                                   "<pre style=\"white-space:pre;overflow-x:auto;line-height:normal;font-family:Menlo,'DejaVu Sans Mono',consolas,'Courier New',monospace\"><span style=\"font-weight: bold\">{</span><span style=\"color: #008000; text-decoration-color: #008000\">'kind'</span>: <span style=\"font-weight: bold\">{</span><span style=\"color: #008000; text-decoration-color: #008000\">'bond'</span><span style=\"font-weight: bold\">}</span>, <span style=\"color: #008000; text-decoration-color: #008000\">'bond'</span>: <span style=\"font-weight: bold\">&lt;</span><span style=\"color: #ff00ff; text-decoration-color: #ff00ff; font-weight: bold\">rdkit.Chem.rdchem.Bond</span><span style=\"color: #000000; text-decoration-color: #000000\"> object at </span><span style=\"color: #008080; text-decoration-color: #008080; font-weight: bold\">0x7f10c5030f40</span><span style=\"font-weight: bold\">&gt;}</span>\n",
                                   "</pre>\n"
                              ],
                              "text/plain": [
                                   "\u001b[1m{\u001b[0m\u001b[32m'kind'\u001b[0m: \u001b[1m{\u001b[0m\u001b[32m'bond'\u001b[0m\u001b[1m}\u001b[0m, \u001b[32m'bond'\u001b[0m: \u001b[1m<\u001b[0m\u001b[1;95mrdkit.Chem.rdchem.Bond\u001b[0m\u001b[39m object at \u001b[0m\u001b[1;36m0x7f10c5030f40\u001b[0m\u001b[1m>\u001b[0m\u001b[1m}\u001b[0m\n"
                              ]
                         },
                         "metadata": {},
                         "output_type": "display_data"
                    },
                    {
                         "data": {
                              "text/html": [
                                   "<pre style=\"white-space:pre;overflow-x:auto;line-height:normal;font-family:Menlo,'DejaVu Sans Mono',consolas,'Courier New',monospace\"><span style=\"font-weight: bold\">{</span><span style=\"color: #008000; text-decoration-color: #008000\">'kind'</span>: <span style=\"font-weight: bold\">{</span><span style=\"color: #008000; text-decoration-color: #008000\">'bond'</span><span style=\"font-weight: bold\">}</span>, <span style=\"color: #008000; text-decoration-color: #008000\">'bond'</span>: <span style=\"font-weight: bold\">&lt;</span><span style=\"color: #ff00ff; text-decoration-color: #ff00ff; font-weight: bold\">rdkit.Chem.rdchem.Bond</span><span style=\"color: #000000; text-decoration-color: #000000\"> object at </span><span style=\"color: #008080; text-decoration-color: #008080; font-weight: bold\">0x7f10c5048280</span><span style=\"font-weight: bold\">&gt;}</span>\n",
                                   "</pre>\n"
                              ],
                              "text/plain": [
                                   "\u001b[1m{\u001b[0m\u001b[32m'kind'\u001b[0m: \u001b[1m{\u001b[0m\u001b[32m'bond'\u001b[0m\u001b[1m}\u001b[0m, \u001b[32m'bond'\u001b[0m: \u001b[1m<\u001b[0m\u001b[1;95mrdkit.Chem.rdchem.Bond\u001b[0m\u001b[39m object at \u001b[0m\u001b[1;36m0x7f10c5048280\u001b[0m\u001b[1m>\u001b[0m\u001b[1m}\u001b[0m\n"
                              ]
                         },
                         "metadata": {},
                         "output_type": "display_data"
                    },
                    {
                         "data": {
                              "text/html": [
                                   "<pre style=\"white-space:pre;overflow-x:auto;line-height:normal;font-family:Menlo,'DejaVu Sans Mono',consolas,'Courier New',monospace\"><span style=\"font-weight: bold\">{</span><span style=\"color: #008000; text-decoration-color: #008000\">'kind'</span>: <span style=\"font-weight: bold\">{</span><span style=\"color: #008000; text-decoration-color: #008000\">'bond'</span><span style=\"font-weight: bold\">}</span>, <span style=\"color: #008000; text-decoration-color: #008000\">'bond'</span>: <span style=\"font-weight: bold\">&lt;</span><span style=\"color: #ff00ff; text-decoration-color: #ff00ff; font-weight: bold\">rdkit.Chem.rdchem.Bond</span><span style=\"color: #000000; text-decoration-color: #000000\"> object at </span><span style=\"color: #008080; text-decoration-color: #008080; font-weight: bold\">0x7f10c5030fa0</span><span style=\"font-weight: bold\">&gt;}</span>\n",
                                   "</pre>\n"
                              ],
                              "text/plain": [
                                   "\u001b[1m{\u001b[0m\u001b[32m'kind'\u001b[0m: \u001b[1m{\u001b[0m\u001b[32m'bond'\u001b[0m\u001b[1m}\u001b[0m, \u001b[32m'bond'\u001b[0m: \u001b[1m<\u001b[0m\u001b[1;95mrdkit.Chem.rdchem.Bond\u001b[0m\u001b[39m object at \u001b[0m\u001b[1;36m0x7f10c5030fa0\u001b[0m\u001b[1m>\u001b[0m\u001b[1m}\u001b[0m\n"
                              ]
                         },
                         "metadata": {},
                         "output_type": "display_data"
                    },
                    {
                         "data": {
                              "text/html": [
                                   "<pre style=\"white-space:pre;overflow-x:auto;line-height:normal;font-family:Menlo,'DejaVu Sans Mono',consolas,'Courier New',monospace\"><span style=\"font-weight: bold\">{</span><span style=\"color: #008000; text-decoration-color: #008000\">'kind'</span>: <span style=\"font-weight: bold\">{</span><span style=\"color: #008000; text-decoration-color: #008000\">'bond'</span><span style=\"font-weight: bold\">}</span>, <span style=\"color: #008000; text-decoration-color: #008000\">'bond'</span>: <span style=\"font-weight: bold\">&lt;</span><span style=\"color: #ff00ff; text-decoration-color: #ff00ff; font-weight: bold\">rdkit.Chem.rdchem.Bond</span><span style=\"color: #000000; text-decoration-color: #000000\"> object at </span><span style=\"color: #008080; text-decoration-color: #008080; font-weight: bold\">0x7f10c5048040</span><span style=\"font-weight: bold\">&gt;}</span>\n",
                                   "</pre>\n"
                              ],
                              "text/plain": [
                                   "\u001b[1m{\u001b[0m\u001b[32m'kind'\u001b[0m: \u001b[1m{\u001b[0m\u001b[32m'bond'\u001b[0m\u001b[1m}\u001b[0m, \u001b[32m'bond'\u001b[0m: \u001b[1m<\u001b[0m\u001b[1;95mrdkit.Chem.rdchem.Bond\u001b[0m\u001b[39m object at \u001b[0m\u001b[1;36m0x7f10c5048040\u001b[0m\u001b[1m>\u001b[0m\u001b[1m}\u001b[0m\n"
                              ]
                         },
                         "metadata": {},
                         "output_type": "display_data"
                    },
                    {
                         "data": {
                              "text/html": [
                                   "<pre style=\"white-space:pre;overflow-x:auto;line-height:normal;font-family:Menlo,'DejaVu Sans Mono',consolas,'Courier New',monospace\"><span style=\"font-weight: bold\">{</span><span style=\"color: #008000; text-decoration-color: #008000\">'kind'</span>: <span style=\"font-weight: bold\">{</span><span style=\"color: #008000; text-decoration-color: #008000\">'bond'</span><span style=\"font-weight: bold\">}</span>, <span style=\"color: #008000; text-decoration-color: #008000\">'bond'</span>: <span style=\"font-weight: bold\">&lt;</span><span style=\"color: #ff00ff; text-decoration-color: #ff00ff; font-weight: bold\">rdkit.Chem.rdchem.Bond</span><span style=\"color: #000000; text-decoration-color: #000000\"> object at </span><span style=\"color: #008080; text-decoration-color: #008080; font-weight: bold\">0x7f10c50480a0</span><span style=\"font-weight: bold\">&gt;}</span>\n",
                                   "</pre>\n"
                              ],
                              "text/plain": [
                                   "\u001b[1m{\u001b[0m\u001b[32m'kind'\u001b[0m: \u001b[1m{\u001b[0m\u001b[32m'bond'\u001b[0m\u001b[1m}\u001b[0m, \u001b[32m'bond'\u001b[0m: \u001b[1m<\u001b[0m\u001b[1;95mrdkit.Chem.rdchem.Bond\u001b[0m\u001b[39m object at \u001b[0m\u001b[1;36m0x7f10c50480a0\u001b[0m\u001b[1m>\u001b[0m\u001b[1m}\u001b[0m\n"
                              ]
                         },
                         "metadata": {},
                         "output_type": "display_data"
                    },
                    {
                         "data": {
                              "text/html": [
                                   "<pre style=\"white-space:pre;overflow-x:auto;line-height:normal;font-family:Menlo,'DejaVu Sans Mono',consolas,'Courier New',monospace\"><span style=\"font-weight: bold\">{</span><span style=\"color: #008000; text-decoration-color: #008000\">'kind'</span>: <span style=\"font-weight: bold\">{</span><span style=\"color: #008000; text-decoration-color: #008000\">'bond'</span><span style=\"font-weight: bold\">}</span>, <span style=\"color: #008000; text-decoration-color: #008000\">'bond'</span>: <span style=\"font-weight: bold\">&lt;</span><span style=\"color: #ff00ff; text-decoration-color: #ff00ff; font-weight: bold\">rdkit.Chem.rdchem.Bond</span><span style=\"color: #000000; text-decoration-color: #000000\"> object at </span><span style=\"color: #008080; text-decoration-color: #008080; font-weight: bold\">0x7f10c5048100</span><span style=\"font-weight: bold\">&gt;}</span>\n",
                                   "</pre>\n"
                              ],
                              "text/plain": [
                                   "\u001b[1m{\u001b[0m\u001b[32m'kind'\u001b[0m: \u001b[1m{\u001b[0m\u001b[32m'bond'\u001b[0m\u001b[1m}\u001b[0m, \u001b[32m'bond'\u001b[0m: \u001b[1m<\u001b[0m\u001b[1;95mrdkit.Chem.rdchem.Bond\u001b[0m\u001b[39m object at \u001b[0m\u001b[1;36m0x7f10c5048100\u001b[0m\u001b[1m>\u001b[0m\u001b[1m}\u001b[0m\n"
                              ]
                         },
                         "metadata": {},
                         "output_type": "display_data"
                    },
                    {
                         "data": {
                              "text/html": [
                                   "<pre style=\"white-space:pre;overflow-x:auto;line-height:normal;font-family:Menlo,'DejaVu Sans Mono',consolas,'Courier New',monospace\"><span style=\"font-weight: bold\">{</span><span style=\"color: #008000; text-decoration-color: #008000\">'kind'</span>: <span style=\"font-weight: bold\">{</span><span style=\"color: #008000; text-decoration-color: #008000\">'bond'</span><span style=\"font-weight: bold\">}</span>, <span style=\"color: #008000; text-decoration-color: #008000\">'bond'</span>: <span style=\"font-weight: bold\">&lt;</span><span style=\"color: #ff00ff; text-decoration-color: #ff00ff; font-weight: bold\">rdkit.Chem.rdchem.Bond</span><span style=\"color: #000000; text-decoration-color: #000000\"> object at </span><span style=\"color: #008080; text-decoration-color: #008080; font-weight: bold\">0x7f10c5048160</span><span style=\"font-weight: bold\">&gt;}</span>\n",
                                   "</pre>\n"
                              ],
                              "text/plain": [
                                   "\u001b[1m{\u001b[0m\u001b[32m'kind'\u001b[0m: \u001b[1m{\u001b[0m\u001b[32m'bond'\u001b[0m\u001b[1m}\u001b[0m, \u001b[32m'bond'\u001b[0m: \u001b[1m<\u001b[0m\u001b[1;95mrdkit.Chem.rdchem.Bond\u001b[0m\u001b[39m object at \u001b[0m\u001b[1;36m0x7f10c5048160\u001b[0m\u001b[1m>\u001b[0m\u001b[1m}\u001b[0m\n"
                              ]
                         },
                         "metadata": {},
                         "output_type": "display_data"
                    },
                    {
                         "data": {
                              "text/html": [
                                   "<pre style=\"white-space:pre;overflow-x:auto;line-height:normal;font-family:Menlo,'DejaVu Sans Mono',consolas,'Courier New',monospace\"><span style=\"font-weight: bold\">{</span><span style=\"color: #008000; text-decoration-color: #008000\">'kind'</span>: <span style=\"font-weight: bold\">{</span><span style=\"color: #008000; text-decoration-color: #008000\">'bond'</span><span style=\"font-weight: bold\">}</span>, <span style=\"color: #008000; text-decoration-color: #008000\">'bond'</span>: <span style=\"font-weight: bold\">&lt;</span><span style=\"color: #ff00ff; text-decoration-color: #ff00ff; font-weight: bold\">rdkit.Chem.rdchem.Bond</span><span style=\"color: #000000; text-decoration-color: #000000\"> object at </span><span style=\"color: #008080; text-decoration-color: #008080; font-weight: bold\">0x7f10c50481c0</span><span style=\"font-weight: bold\">&gt;}</span>\n",
                                   "</pre>\n"
                              ],
                              "text/plain": [
                                   "\u001b[1m{\u001b[0m\u001b[32m'kind'\u001b[0m: \u001b[1m{\u001b[0m\u001b[32m'bond'\u001b[0m\u001b[1m}\u001b[0m, \u001b[32m'bond'\u001b[0m: \u001b[1m<\u001b[0m\u001b[1;95mrdkit.Chem.rdchem.Bond\u001b[0m\u001b[39m object at \u001b[0m\u001b[1;36m0x7f10c50481c0\u001b[0m\u001b[1m>\u001b[0m\u001b[1m}\u001b[0m\n"
                              ]
                         },
                         "metadata": {},
                         "output_type": "display_data"
                    },
                    {
                         "data": {
                              "text/html": [
                                   "<pre style=\"white-space:pre;overflow-x:auto;line-height:normal;font-family:Menlo,'DejaVu Sans Mono',consolas,'Courier New',monospace\"><span style=\"font-weight: bold\">{</span><span style=\"color: #008000; text-decoration-color: #008000\">'kind'</span>: <span style=\"font-weight: bold\">{</span><span style=\"color: #008000; text-decoration-color: #008000\">'bond'</span><span style=\"font-weight: bold\">}</span>, <span style=\"color: #008000; text-decoration-color: #008000\">'bond'</span>: <span style=\"font-weight: bold\">&lt;</span><span style=\"color: #ff00ff; text-decoration-color: #ff00ff; font-weight: bold\">rdkit.Chem.rdchem.Bond</span><span style=\"color: #000000; text-decoration-color: #000000\"> object at </span><span style=\"color: #008080; text-decoration-color: #008080; font-weight: bold\">0x7f10c5048220</span><span style=\"font-weight: bold\">&gt;}</span>\n",
                                   "</pre>\n"
                              ],
                              "text/plain": [
                                   "\u001b[1m{\u001b[0m\u001b[32m'kind'\u001b[0m: \u001b[1m{\u001b[0m\u001b[32m'bond'\u001b[0m\u001b[1m}\u001b[0m, \u001b[32m'bond'\u001b[0m: \u001b[1m<\u001b[0m\u001b[1;95mrdkit.Chem.rdchem.Bond\u001b[0m\u001b[39m object at \u001b[0m\u001b[1;36m0x7f10c5048220\u001b[0m\u001b[1m>\u001b[0m\u001b[1m}\u001b[0m\n"
                              ]
                         },
                         "metadata": {},
                         "output_type": "display_data"
                    }
               ],
               "source": [
                    "# Edge metadata\n",
                    "for u, v, d in graph.edges(data=True):\n",
                    "    print(d)"
               ]
          },
          {
               "cell_type": "markdown",
               "metadata": {},
               "source": [
                    "### Creating a Molecular Graph from an SDF File\n",
                    "\n",
                    "As SDFs & Mol2 files provide coordinates, we can draw the graph in 3D."
               ]
          },
          {
               "cell_type": "code",
               "execution_count": 10,
               "metadata": {},
               "outputs": [
                    {
                         "data": {
                              "text/html": [
                                   "<pre style=\"white-space:pre;overflow-x:auto;line-height:normal;font-family:Menlo,'DejaVu Sans Mono',consolas,'Courier New',monospace\">Graph named <span style=\"color: #008000; text-decoration-color: #008000\">'long_test'</span> with <span style=\"color: #008080; text-decoration-color: #008080; font-weight: bold\">20</span> nodes and <span style=\"color: #008080; text-decoration-color: #008080; font-weight: bold\">21</span> edges\n",
                                   "</pre>\n"
                              ],
                              "text/plain": [
                                   "Graph named \u001b[32m'long_test'\u001b[0m with \u001b[1;36m20\u001b[0m nodes and \u001b[1;36m21\u001b[0m edges\n"
                              ]
                         },
                         "metadata": {},
                         "output_type": "display_data"
                    },
                    {
                         "data": {
                              "image/png": "[encoded data removed]",
                              "text/plain": [
                                   "<rdkit.Chem.rdchem.Mol at 0x7f10c4e68d00>"
                              ]
                         },
                         "execution_count": 10,
                         "metadata": {},
                         "output_type": "execute_result"
                    }
               ],
               "source": [
                    "graph = gm.construct_graph(path=\"../tests/molecule/test_data/long_test.sdf\", config=config)\n",
                    "print(graph)\n",
                    "graph.graph[\"rdmol\"]"
               ]
          },
          {
               "cell_type": "code",
               "execution_count": 11,
               "metadata": {},
               "outputs": [
                    {
                         "data": {
                              "application/vnd.plotly.v1+json": {
                                   "config": {
                                        "plotlyServerURL": "https://plot.ly"
                                   },
                                   "data": [
                                        {
                                             "hoverinfo": "text+x+y+z",
                                             "marker": {
                                                  "color": [
                                                       [
                                                            0.610667,
                                                            0.090204,
                                                            0.619951,
                                                            1
                                                       ],
                                                       [
                                                            0.050383,
                                                            0.029803,
                                                            0.527975,
                                                            1
                                                       ],
                                                       [
                                                            0.050383,
                                                            0.029803,
                                                            0.527975,
                                                            1
                                                       ],
                                                       [
                                                            0.050383,
                                                            0.029803,
                                                            0.527975,
                                                            1
                                                       ],
                                                       [
                                                            0.050383,
                                                            0.029803,
                                                            0.527975,
                                                            1
                                                       ],
                                                       [
                                                            0.050383,
                                                            0.029803,
                                                            0.527975,
                                                            1
                                                       ],
                                                       [
                                                            0.050383,
                                                            0.029803,
                                                            0.527975,
                                                            1
                                                       ],
                                                       [
                                                            0.050383,
                                                            0.029803,
                                                            0.527975,
                                                            1
                                                       ],
                                                       [
                                                            0.050383,
                                                            0.029803,
                                                            0.527975,
                                                            1
                                                       ],
                                                       [
                                                            0.928329,
                                                            0.472975,
                                                            0.326067,
                                                            1
                                                       ],
                                                       [
                                                            0.050383,
                                                            0.029803,
                                                            0.527975,
                                                            1
                                                       ],
                                                       [
                                                            0.610667,
                                                            0.090204,
                                                            0.619951,
                                                            1
                                                       ],
                                                       [
                                                            0.050383,
                                                            0.029803,
                                                            0.527975,
                                                            1
                                                       ],
                                                       [
                                                            0.050383,
                                                            0.029803,
                                                            0.527975,
                                                            1
                                                       ],
                                                       [
                                                            0.050383,
                                                            0.029803,
                                                            0.527975,
                                                            1
                                                       ],
                                                       [
                                                            0.050383,
                                                            0.029803,
                                                            0.527975,
                                                            1
                                                       ],
                                                       [
                                                            0.050383,
                                                            0.029803,
                                                            0.527975,
                                                            1
                                                       ],
                                                       [
                                                            0.050383,
                                                            0.029803,
                                                            0.527975,
                                                            1
                                                       ],
                                                       [
                                                            0.050383,
                                                            0.029803,
                                                            0.527975,
                                                            1
                                                       ],
                                                       [
                                                            0.928329,
                                                            0.472975,
                                                            0.326067,
                                                            1
                                                       ]
                                                  ],
                                                  "opacity": 0.7,
                                                  "size": [
                                                       21,
                                                       22,
                                                       23,
                                                       23,
                                                       22,
                                                       22,
                                                       22,
                                                       22,
                                                       22,
                                                       22,
                                                       23,
                                                       23,
                                                       22,
                                                       22,
                                                       22,
                                                       22,
                                                       22,
                                                       22,
                                                       22,
                                                       21
                                                  ],
                                                  "symbol": "circle"
                                             },
                                             "mode": "markers",
                                             "text": [
                                                  "N:0",
                                                  "C:1",
                                                  "C:2",
                                                  "C:3",
                                                  "C:4",
                                                  "C:5",
                                                  "C:6",
                                                  "C:7",
                                                  "C:8",
                                                  "O:9",
                                                  "C:10",
                                                  "N:11",
                                                  "C:12",
                                                  "C:13",
                                                  "C:14",
                                                  "C:15",
                                                  "C:16",
                                                  "C:17",
                                                  "C:18",
                                                  "O:19"
                                             ],
                                             "type": "scatter3d",
                                             "x": [
                                                  0.0827,
                                                  -0.2337,
                                                  -0.5725,
                                                  -1.9878,
                                                  -3.0104,
                                                  -4.3161,
                                                  -4.6176,
                                                  -3.6151,
                                                  -2.3087,
                                                  0.3185,
                                                  1.5766,
                                                  1.4085,
                                                  2.0266,
                                                  1.6039,
                                                  0.6968,
                                                  0.5918,
                                                  2.5496,
                                                  3.2834,
                                                  4.2003,
                                                  4.3897
                                             ],
                                             "y": [
                                                  -2.9412,
                                                  -2.1602,
                                                  -1.178,
                                                  -0.6494,
                                                  -1.0888,
                                                  -0.6181,
                                                  0.2938,
                                                  0.738,
                                                  0.2699,
                                                  -0.048,
                                                  -0.3002,
                                                  -0.2613,
                                                  -1.1143,
                                                  -0.7925,
                                                  0.2869,
                                                  0.5945,
                                                  0.7131,
                                                  1.6016,
                                                  2.5282,
                                                  2.502
                                             ],
                                             "z": [
                                                  2.6643,
                                                  1.8642,
                                                  0.8083,
                                                  0.9699,
                                                  0.1126,
                                                  0.2646,
                                                  1.2738,
                                                  2.1328,
                                                  1.9837,
                                                  0.8373,
                                                  0.205,
                                                  -1.2546,
                                                  -2.1377,
                                                  -3.409,
                                                  -3.2936,
                                                  -1.9555,
                                                  0.742,
                                                  0.0514,
                                                  0.7561,
                                                  1.9648
                                             ]
                                        },
                                        {
                                             "hoverinfo": "text",
                                             "line": {
                                                  "color": [
                                                       [
                                                            0.050383,
                                                            0.029803,
                                                            0.527975,
                                                            1
                                                       ],
                                                       [
                                                            0.050383,
                                                            0.029803,
                                                            0.527975,
                                                            1
                                                       ],
                                                       [
                                                            0.050383,
                                                            0.029803,
                                                            0.527975,
                                                            1
                                                       ],
                                                       [
                                                            0.050383,
                                                            0.029803,
                                                            0.527975,
                                                            1
                                                       ],
                                                       [
                                                            0.050383,
                                                            0.029803,
                                                            0.527975,
                                                            1
                                                       ],
                                                       [
                                                            0.050383,
                                                            0.029803,
                                                            0.527975,
                                                            1
                                                       ],
                                                       [
                                                            0.050383,
                                                            0.029803,
                                                            0.527975,
                                                            1
                                                       ],
                                                       [
                                                            0.050383,
                                                            0.029803,
                                                            0.527975,
                                                            1
                                                       ],
                                                       [
                                                            0.050383,
                                                            0.029803,
                                                            0.527975,
                                                            1
                                                       ],
                                                       [
                                                            0.050383,
                                                            0.029803,
                                                            0.527975,
                                                            1
                                                       ],
                                                       [
                                                            0.050383,
                                                            0.029803,
                                                            0.527975,
                                                            1
                                                       ],
                                                       [
                                                            0.050383,
                                                            0.029803,
                                                            0.527975,
                                                            1
                                                       ],
                                                       [
                                                            0.050383,
                                                            0.029803,
                                                            0.527975,
                                                            1
                                                       ],
                                                       [
                                                            0.050383,
                                                            0.029803,
                                                            0.527975,
                                                            1
                                                       ],
                                                       [
                                                            0.050383,
                                                            0.029803,
                                                            0.527975,
                                                            1
                                                       ],
                                                       [
                                                            0.050383,
                                                            0.029803,
                                                            0.527975,
                                                            1
                                                       ],
                                                       [
                                                            0.050383,
                                                            0.029803,
                                                            0.527975,
                                                            1
                                                       ],
                                                       [
                                                            0.050383,
                                                            0.029803,
                                                            0.527975,
                                                            1
                                                       ],
                                                       [
                                                            0.050383,
                                                            0.029803,
                                                            0.527975,
                                                            1
                                                       ],
                                                       [
                                                            0.050383,
                                                            0.029803,
                                                            0.527975,
                                                            1
                                                       ],
                                                       [
                                                            0.050383,
                                                            0.029803,
                                                            0.527975,
                                                            1
                                                       ],
                                                       [
                                                            0.050383,
                                                            0.029803,
                                                            0.527975,
                                                            1
                                                       ],
                                                       [
                                                            0.050383,
                                                            0.029803,
                                                            0.527975,
                                                            1
                                                       ],
                                                       [
                                                            0.050383,
                                                            0.029803,
                                                            0.527975,
                                                            1
                                                       ],
                                                       [
                                                            0.050383,
                                                            0.029803,
                                                            0.527975,
                                                            1
                                                       ],
                                                       [
                                                            0.050383,
                                                            0.029803,
                                                            0.527975,
                                                            1
                                                       ],
                                                       [
                                                            0.050383,
                                                            0.029803,
                                                            0.527975,
                                                            1
                                                       ],
                                                       [
                                                            0.050383,
                                                            0.029803,
                                                            0.527975,
                                                            1
                                                       ],
                                                       [
                                                            0.050383,
                                                            0.029803,
                                                            0.527975,
                                                            1
                                                       ],
                                                       [
                                                            0.050383,
                                                            0.029803,
                                                            0.527975,
                                                            1
                                                       ],
                                                       [
                                                            0.050383,
                                                            0.029803,
                                                            0.527975,
                                                            1
                                                       ],
                                                       [
                                                            0.050383,
                                                            0.029803,
                                                            0.527975,
                                                            1
                                                       ],
                                                       [
                                                            0.050383,
                                                            0.029803,
                                                            0.527975,
                                                            1
                                                       ],
                                                       [
                                                            0.050383,
                                                            0.029803,
                                                            0.527975,
                                                            1
                                                       ],
                                                       [
                                                            0.050383,
                                                            0.029803,
                                                            0.527975,
                                                            1
                                                       ],
                                                       [
                                                            0.050383,
                                                            0.029803,
                                                            0.527975,
                                                            1
                                                       ],
                                                       [
                                                            0.050383,
                                                            0.029803,
                                                            0.527975,
                                                            1
                                                       ],
                                                       [
                                                            0.050383,
                                                            0.029803,
                                                            0.527975,
                                                            1
                                                       ],
                                                       [
                                                            0.050383,
                                                            0.029803,
                                                            0.527975,
                                                            1
                                                       ],
                                                       [
                                                            0.050383,
                                                            0.029803,
                                                            0.527975,
                                                            1
                                                       ],
                                                       [
                                                            0.050383,
                                                            0.029803,
                                                            0.527975,
                                                            1
                                                       ],
                                                       [
                                                            0.050383,
                                                            0.029803,
                                                            0.527975,
                                                            1
                                                       ],
                                                       [
                                                            0.050383,
                                                            0.029803,
                                                            0.527975,
                                                            1
                                                       ],
                                                       [
                                                            0.050383,
                                                            0.029803,
                                                            0.527975,
                                                            1
                                                       ],
                                                       [
                                                            0.050383,
                                                            0.029803,
                                                            0.527975,
                                                            1
                                                       ],
                                                       [
                                                            0.050383,
                                                            0.029803,
                                                            0.527975,
                                                            1
                                                       ],
                                                       [
                                                            0.050383,
                                                            0.029803,
                                                            0.527975,
                                                            1
                                                       ],
                                                       [
                                                            0.050383,
                                                            0.029803,
                                                            0.527975,
                                                            1
                                                       ],
                                                       [
                                                            0.050383,
                                                            0.029803,
                                                            0.527975,
                                                            1
                                                       ],
                                                       [
                                                            0.050383,
                                                            0.029803,
                                                            0.527975,
                                                            1
                                                       ],
                                                       [
                                                            0.050383,
                                                            0.029803,
                                                            0.527975,
                                                            1
                                                       ],
                                                       [
                                                            0.050383,
                                                            0.029803,
                                                            0.527975,
                                                            1
                                                       ],
                                                       [
                                                            0.050383,
                                                            0.029803,
                                                            0.527975,
                                                            1
                                                       ],
                                                       [
                                                            0.050383,
                                                            0.029803,
                                                            0.527975,
                                                            1
                                                       ],
                                                       [
                                                            0.050383,
                                                            0.029803,
                                                            0.527975,
                                                            1
                                                       ],
                                                       [
                                                            0.050383,
                                                            0.029803,
                                                            0.527975,
                                                            1
                                                       ],
                                                       [
                                                            0.050383,
                                                            0.029803,
                                                            0.527975,
                                                            1
                                                       ],
                                                       [
                                                            0.050383,
                                                            0.029803,
                                                            0.527975,
                                                            1
                                                       ],
                                                       [
                                                            0.050383,
                                                            0.029803,
                                                            0.527975,
                                                            1
                                                       ],
                                                       [
                                                            0.050383,
                                                            0.029803,
                                                            0.527975,
                                                            1
                                                       ],
                                                       [
                                                            0.050383,
                                                            0.029803,
                                                            0.527975,
                                                            1
                                                       ],
                                                       [
                                                            0.050383,
                                                            0.029803,
                                                            0.527975,
                                                            1
                                                       ],
                                                       [
                                                            0.050383,
                                                            0.029803,
                                                            0.527975,
                                                            1
                                                       ]
                                                  ],
                                                  "width": 10
                                             },
                                             "mode": "lines",
                                             "text": [
                                                  "bond",
                                                  "bond",
                                                  "bond",
                                                  "bond",
                                                  "bond",
                                                  "bond",
                                                  "bond",
                                                  "bond",
                                                  "bond",
                                                  "bond",
                                                  "bond",
                                                  "bond",
                                                  "bond",
                                                  "bond",
                                                  "bond",
                                                  "bond",
                                                  "bond",
                                                  "bond",
                                                  "bond",
                                                  "bond",
                                                  "bond",
                                                  "bond",
                                                  "bond",
                                                  "bond",
                                                  "bond",
                                                  "bond",
                                                  "bond",
                                                  "bond",
                                                  "bond",
                                                  "bond",
                                                  "bond",
                                                  "bond",
                                                  "bond",
                                                  "bond",
                                                  "bond",
                                                  "bond",
                                                  "bond",
                                                  "bond",
                                                  "bond",
                                                  "bond",
                                                  "bond",
                                                  "bond",
                                                  "bond",
                                                  "bond",
                                                  "bond",
                                                  "bond",
                                                  "bond",
                                                  "bond",
                                                  "bond",
                                                  "bond",
                                                  "bond",
                                                  "bond",
                                                  "bond",
                                                  "bond",
                                                  "bond",
                                                  "bond",
                                                  "bond",
                                                  "bond",
                                                  "bond",
                                                  "bond",
                                                  "bond",
                                                  "bond",
                                                  "bond"
                                             ],
                                             "type": "scatter3d",
                                             "x": [
                                                  0.0827,
                                                  -0.2337,
                                                  null,
                                                  -0.2337,
                                                  -0.5725,
                                                  null,
                                                  -0.5725,
                                                  -1.9878,
                                                  null,
                                                  -0.5725,
                                                  0.3185,
                                                  null,
                                                  -1.9878,
                                                  -3.0104,
                                                  null,
                                                  -1.9878,
                                                  -2.3087,
                                                  null,
                                                  -3.0104,
                                                  -4.3161,
                                                  null,
                                                  -4.3161,
                                                  -4.6176,
                                                  null,
                                                  -4.6176,
                                                  -3.6151,
                                                  null,
                                                  -3.6151,
                                                  -2.3087,
                                                  null,
                                                  0.3185,
                                                  1.5766,
                                                  null,
                                                  1.5766,
                                                  1.4085,
                                                  null,
                                                  1.5766,
                                                  2.5496,
                                                  null,
                                                  1.4085,
                                                  2.0266,
                                                  null,
                                                  1.4085,
                                                  0.5918,
                                                  null,
                                                  2.0266,
                                                  1.6039,
                                                  null,
                                                  1.6039,
                                                  0.6968,
                                                  null,
                                                  0.6968,
                                                  0.5918,
                                                  null,
                                                  2.5496,
                                                  3.2834,
                                                  null,
                                                  3.2834,
                                                  4.2003,
                                                  null,
                                                  4.2003,
                                                  4.3897,
                                                  null
                                             ],
                                             "y": [
                                                  -2.9412,
                                                  -2.1602,
                                                  null,
                                                  -2.1602,
                                                  -1.178,
                                                  null,
                                                  -1.178,
                                                  -0.6494,
                                                  null,
                                                  -1.178,
                                                  -0.048,
                                                  null,
                                                  -0.6494,
                                                  -1.0888,
                                                  null,
                                                  -0.6494,
                                                  0.2699,
                                                  null,
                                                  -1.0888,
                                                  -0.6181,
                                                  null,
                                                  -0.6181,
                                                  0.2938,
                                                  null,
                                                  0.2938,
                                                  0.738,
                                                  null,
                                                  0.738,
                                                  0.2699,
                                                  null,
                                                  -0.048,
                                                  -0.3002,
                                                  null,
                                                  -0.3002,
                                                  -0.2613,
                                                  null,
                                                  -0.3002,
                                                  0.7131,
                                                  null,
                                                  -0.2613,
                                                  -1.1143,
                                                  null,
                                                  -0.2613,
                                                  0.5945,
                                                  null,
                                                  -1.1143,
                                                  -0.7925,
                                                  null,
                                                  -0.7925,
                                                  0.2869,
                                                  null,
                                                  0.2869,
                                                  0.5945,
                                                  null,
                                                  0.7131,
                                                  1.6016,
                                                  null,
                                                  1.6016,
                                                  2.5282,
                                                  null,
                                                  2.5282,
                                                  2.502,
                                                  null
                                             ],
                                             "z": [
                                                  2.6643,
                                                  1.8642,
                                                  null,
                                                  1.8642,
                                                  0.8083,
                                                  null,
                                                  0.8083,
                                                  0.9699,
                                                  null,
                                                  0.8083,
                                                  0.8373,
                                                  null,
                                                  0.9699,
                                                  0.1126,
                                                  null,
                                                  0.9699,
                                                  1.9837,
                                                  null,
                                                  0.1126,
                                                  0.2646,
                                                  null,
                                                  0.2646,
                                                  1.2738,
                                                  null,
                                                  1.2738,
                                                  2.1328,
                                                  null,
                                                  2.1328,
                                                  1.9837,
                                                  null,
                                                  0.8373,
                                                  0.205,
                                                  null,
                                                  0.205,
                                                  -1.2546,
                                                  null,
                                                  0.205,
                                                  0.742,
                                                  null,
                                                  -1.2546,
                                                  -2.1377,
                                                  null,
                                                  -1.2546,
                                                  -1.9555,
                                                  null,
                                                  -2.1377,
                                                  -3.409,
                                                  null,
                                                  -3.409,
                                                  -3.2936,
                                                  null,
                                                  -3.2936,
                                                  -1.9555,
                                                  null,
                                                  0.742,
                                                  0.0514,
                                                  null,
                                                  0.0514,
                                                  0.7561,
                                                  null,
                                                  0.7561,
                                                  1.9648,
                                                  null
                                             ]
                                        }
                                   ],
                                   "layout": {
                                        "height": 650,
                                        "margin": {
                                             "t": 100
                                        },
                                        "scene": {
                                             "xaxis": {
                                                  "showbackground": false,
                                                  "showgrid": false,
                                                  "showline": false,
                                                  "showticklabels": false,
                                                  "title": {
                                                       "text": ""
                                                  },
                                                  "zeroline": false
                                             },
                                             "yaxis": {
                                                  "showbackground": false,
                                                  "showgrid": false,
                                                  "showline": false,
                                                  "showticklabels": false,
                                                  "title": {
                                                       "text": ""
                                                  },
                                                  "zeroline": false
                                             },
                                             "zaxis": {
                                                  "showbackground": false,
                                                  "showgrid": false,
                                                  "showline": false,
                                                  "showticklabels": false,
                                                  "title": {
                                                       "text": ""
                                                  },
                                                  "zeroline": false
                                             }
                                        },
                                        "showlegend": false,
                                        "template": {
                                             "data": {
                                                  "bar": [
                                                       {
                                                            "error_x": {
                                                                 "color": "#2a3f5f"
                                                            },
                                                            "error_y": {
                                                                 "color": "#2a3f5f"
                                                            },
                                                            "marker": {
                                                                 "line": {
                                                                      "color": "#E5ECF6",
                                                                      "width": 0.5
                                                                 },
                                                                 "pattern": {
                                                                      "fillmode": "overlay",
                                                                      "size": 10,
                                                                      "solidity": 0.2
                                                                 }
                                                            },
                                                            "type": "bar"
                                                       }
                                                  ],
                                                  "barpolar": [
                                                       {
                                                            "marker": {
                                                                 "line": {
                                                                      "color": "#E5ECF6",
                                                                      "width": 0.5
                                                                 },
                                                                 "pattern": {
                                                                      "fillmode": "overlay",
                                                                      "size": 10,
                                                                      "solidity": 0.2
                                                                 }
                                                            },
                                                            "type": "barpolar"
                                                       }
                                                  ],
                                                  "carpet": [
                                                       {
                                                            "aaxis": {
                                                                 "endlinecolor": "#2a3f5f",
                                                                 "gridcolor": "white",
                                                                 "linecolor": "white",
                                                                 "minorgridcolor": "white",
                                                                 "startlinecolor": "#2a3f5f"
                                                            },
                                                            "baxis": {
                                                                 "endlinecolor": "#2a3f5f",
                                                                 "gridcolor": "white",
                                                                 "linecolor": "white",
                                                                 "minorgridcolor": "white",
                                                                 "startlinecolor": "#2a3f5f"
                                                            },
                                                            "type": "carpet"
                                                       }
                                                  ],
                                                  "choropleth": [
                                                       {
                                                            "colorbar": {
                                                                 "outlinewidth": 0,
                                                                 "ticks": ""
                                                            },
                                                            "type": "choropleth"
                                                       }
                                                  ],
                                                  "contour": [
                                                       {
                                                            "colorbar": {
                                                                 "outlinewidth": 0,
                                                                 "ticks": ""
                                                            },
                                                            "colorscale": [
                                                                 [
                                                                      0,
                                                                      "#0d0887"
                                                                 ],
                                                                 [
                                                                      0.1111111111111111,
                                                                      "#46039f"
                                                                 ],
                                                                 [
                                                                      0.2222222222222222,
                                                                      "#7201a8"
                                                                 ],
                                                                 [
                                                                      0.3333333333333333,
                                                                      "#9c179e"
                                                                 ],
                                                                 [
                                                                      0.4444444444444444,
                                                                      "#bd3786"
                                                                 ],
                                                                 [
                                                                      0.5555555555555556,
                                                                      "#d8576b"
                                                                 ],
                                                                 [
                                                                      0.6666666666666666,
                                                                      "#ed7953"
                                                                 ],
                                                                 [
                                                                      0.7777777777777778,
                                                                      "#fb9f3a"
                                                                 ],
                                                                 [
                                                                      0.8888888888888888,
                                                                      "#fdca26"
                                                                 ],
                                                                 [
                                                                      1,
                                                                      "#f0f921"
                                                                 ]
                                                            ],
                                                            "type": "contour"
                                                       }
                                                  ],
                                                  "contourcarpet": [
                                                       {
                                                            "colorbar": {
                                                                 "outlinewidth": 0,
                                                                 "ticks": ""
                                                            },
                                                            "type": "contourcarpet"
                                                       }
                                                  ],
                                                  "heatmap": [
                                                       {
                                                            "colorbar": {
                                                                 "outlinewidth": 0,
                                                                 "ticks": ""
                                                            },
                                                            "colorscale": [
                                                                 [
                                                                      0,
                                                                      "#0d0887"
                                                                 ],
                                                                 [
                                                                      0.1111111111111111,
                                                                      "#46039f"
                                                                 ],
                                                                 [
                                                                      0.2222222222222222,
                                                                      "#7201a8"
                                                                 ],
                                                                 [
                                                                      0.3333333333333333,
                                                                      "#9c179e"
                                                                 ],
                                                                 [
                                                                      0.4444444444444444,
                                                                      "#bd3786"
                                                                 ],
                                                                 [
                                                                      0.5555555555555556,
                                                                      "#d8576b"
                                                                 ],
                                                                 [
                                                                      0.6666666666666666,
                                                                      "#ed7953"
                                                                 ],
                                                                 [
                                                                      0.7777777777777778,
                                                                      "#fb9f3a"
                                                                 ],
                                                                 [
                                                                      0.8888888888888888,
                                                                      "#fdca26"
                                                                 ],
                                                                 [
                                                                      1,
                                                                      "#f0f921"
                                                                 ]
                                                            ],
                                                            "type": "heatmap"
                                                       }
                                                  ],
                                                  "heatmapgl": [
                                                       {
                                                            "colorbar": {
                                                                 "outlinewidth": 0,
                                                                 "ticks": ""
                                                            },
                                                            "colorscale": [
                                                                 [
                                                                      0,
                                                                      "#0d0887"
                                                                 ],
                                                                 [
                                                                      0.1111111111111111,
                                                                      "#46039f"
                                                                 ],
                                                                 [
                                                                      0.2222222222222222,
                                                                      "#7201a8"
                                                                 ],
                                                                 [
                                                                      0.3333333333333333,
                                                                      "#9c179e"
                                                                 ],
                                                                 [
                                                                      0.4444444444444444,
                                                                      "#bd3786"
                                                                 ],
                                                                 [
                                                                      0.5555555555555556,
                                                                      "#d8576b"
                                                                 ],
                                                                 [
                                                                      0.6666666666666666,
                                                                      "#ed7953"
                                                                 ],
                                                                 [
                                                                      0.7777777777777778,
                                                                      "#fb9f3a"
                                                                 ],
                                                                 [
                                                                      0.8888888888888888,
                                                                      "#fdca26"
                                                                 ],
                                                                 [
                                                                      1,
                                                                      "#f0f921"
                                                                 ]
                                                            ],
                                                            "type": "heatmapgl"
                                                       }
                                                  ],
                                                  "histogram": [
                                                       {
                                                            "marker": {
                                                                 "pattern": {
                                                                      "fillmode": "overlay",
                                                                      "size": 10,
                                                                      "solidity": 0.2
                                                                 }
                                                            },
                                                            "type": "histogram"
                                                       }
                                                  ],
                                                  "histogram2d": [
                                                       {
                                                            "colorbar": {
                                                                 "outlinewidth": 0,
                                                                 "ticks": ""
                                                            },
                                                            "colorscale": [
                                                                 [
                                                                      0,
                                                                      "#0d0887"
                                                                 ],
                                                                 [
                                                                      0.1111111111111111,
                                                                      "#46039f"
                                                                 ],
                                                                 [
                                                                      0.2222222222222222,
                                                                      "#7201a8"
                                                                 ],
                                                                 [
                                                                      0.3333333333333333,
                                                                      "#9c179e"
                                                                 ],
                                                                 [
                                                                      0.4444444444444444,
                                                                      "#bd3786"
                                                                 ],
                                                                 [
                                                                      0.5555555555555556,
                                                                      "#d8576b"
                                                                 ],
                                                                 [
                                                                      0.6666666666666666,
                                                                      "#ed7953"
                                                                 ],
                                                                 [
                                                                      0.7777777777777778,
                                                                      "#fb9f3a"
                                                                 ],
                                                                 [
                                                                      0.8888888888888888,
                                                                      "#fdca26"
                                                                 ],
                                                                 [
                                                                      1,
                                                                      "#f0f921"
                                                                 ]
                                                            ],
                                                            "type": "histogram2d"
                                                       }
                                                  ],
                                                  "histogram2dcontour": [
                                                       {
                                                            "colorbar": {
                                                                 "outlinewidth": 0,
                                                                 "ticks": ""
                                                            },
                                                            "colorscale": [
                                                                 [
                                                                      0,
                                                                      "#0d0887"
                                                                 ],
                                                                 [
                                                                      0.1111111111111111,
                                                                      "#46039f"
                                                                 ],
                                                                 [
                                                                      0.2222222222222222,
                                                                      "#7201a8"
                                                                 ],
                                                                 [
                                                                      0.3333333333333333,
                                                                      "#9c179e"
                                                                 ],
                                                                 [
                                                                      0.4444444444444444,
                                                                      "#bd3786"
                                                                 ],
                                                                 [
                                                                      0.5555555555555556,
                                                                      "#d8576b"
                                                                 ],
                                                                 [
                                                                      0.6666666666666666,
                                                                      "#ed7953"
                                                                 ],
                                                                 [
                                                                      0.7777777777777778,
                                                                      "#fb9f3a"
                                                                 ],
                                                                 [
                                                                      0.8888888888888888,
                                                                      "#fdca26"
                                                                 ],
                                                                 [
                                                                      1,
                                                                      "#f0f921"
                                                                 ]
                                                            ],
                                                            "type": "histogram2dcontour"
                                                       }
                                                  ],
                                                  "mesh3d": [
                                                       {
                                                            "colorbar": {
                                                                 "outlinewidth": 0,
                                                                 "ticks": ""
                                                            },
                                                            "type": "mesh3d"
                                                       }
                                                  ],
                                                  "parcoords": [
                                                       {
                                                            "line": {
                                                                 "colorbar": {
                                                                      "outlinewidth": 0,
                                                                      "ticks": ""
                                                                 }
                                                            },
                                                            "type": "parcoords"
                                                       }
                                                  ],
                                                  "pie": [
                                                       {
                                                            "automargin": true,
                                                            "type": "pie"
                                                       }
                                                  ],
                                                  "scatter": [
                                                       {
                                                            "marker": {
                                                                 "colorbar": {
                                                                      "outlinewidth": 0,
                                                                      "ticks": ""
                                                                 }
                                                            },
                                                            "type": "scatter"
                                                       }
                                                  ],
                                                  "scatter3d": [
                                                       {
                                                            "line": {
                                                                 "colorbar": {
                                                                      "outlinewidth": 0,
                                                                      "ticks": ""
                                                                 }
                                                            },
                                                            "marker": {
                                                                 "colorbar": {
                                                                      "outlinewidth": 0,
                                                                      "ticks": ""
                                                                 }
                                                            },
                                                            "type": "scatter3d"
                                                       }
                                                  ],
                                                  "scattercarpet": [
                                                       {
                                                            "marker": {
                                                                 "colorbar": {
                                                                      "outlinewidth": 0,
                                                                      "ticks": ""
                                                                 }
                                                            },
                                                            "type": "scattercarpet"
                                                       }
                                                  ],
                                                  "scattergeo": [
                                                       {
                                                            "marker": {
                                                                 "colorbar": {
                                                                      "outlinewidth": 0,
                                                                      "ticks": ""
                                                                 }
                                                            },
                                                            "type": "scattergeo"
                                                       }
                                                  ],
                                                  "scattergl": [
                                                       {
                                                            "marker": {
                                                                 "colorbar": {
                                                                      "outlinewidth": 0,
                                                                      "ticks": ""
                                                                 }
                                                            },
                                                            "type": "scattergl"
                                                       }
                                                  ],
                                                  "scattermapbox": [
                                                       {
                                                            "marker": {
                                                                 "colorbar": {
                                                                      "outlinewidth": 0,
                                                                      "ticks": ""
                                                                 }
                                                            },
                                                            "type": "scattermapbox"
                                                       }
                                                  ],
                                                  "scatterpolar": [
                                                       {
                                                            "marker": {
                                                                 "colorbar": {
                                                                      "outlinewidth": 0,
                                                                      "ticks": ""
                                                                 }
                                                            },
                                                            "type": "scatterpolar"
                                                       }
                                                  ],
                                                  "scatterpolargl": [
                                                       {
                                                            "marker": {
                                                                 "colorbar": {
                                                                      "outlinewidth": 0,
                                                                      "ticks": ""
                                                                 }
                                                            },
                                                            "type": "scatterpolargl"
                                                       }
                                                  ],
                                                  "scatterternary": [
                                                       {
                                                            "marker": {
                                                                 "colorbar": {
                                                                      "outlinewidth": 0,
                                                                      "ticks": ""
                                                                 }
                                                            },
                                                            "type": "scatterternary"
                                                       }
                                                  ],
                                                  "surface": [
                                                       {
                                                            "colorbar": {
                                                                 "outlinewidth": 0,
                                                                 "ticks": ""
                                                            },
                                                            "colorscale": [
                                                                 [
                                                                      0,
                                                                      "#0d0887"
                                                                 ],
                                                                 [
                                                                      0.1111111111111111,
                                                                      "#46039f"
                                                                 ],
                                                                 [
                                                                      0.2222222222222222,
                                                                      "#7201a8"
                                                                 ],
                                                                 [
                                                                      0.3333333333333333,
                                                                      "#9c179e"
                                                                 ],
                                                                 [
                                                                      0.4444444444444444,
                                                                      "#bd3786"
                                                                 ],
                                                                 [
                                                                      0.5555555555555556,
                                                                      "#d8576b"
                                                                 ],
                                                                 [
                                                                      0.6666666666666666,
                                                                      "#ed7953"
                                                                 ],
                                                                 [
                                                                      0.7777777777777778,
                                                                      "#fb9f3a"
                                                                 ],
                                                                 [
                                                                      0.8888888888888888,
                                                                      "#fdca26"
                                                                 ],
                                                                 [
                                                                      1,
                                                                      "#f0f921"
                                                                 ]
                                                            ],
                                                            "type": "surface"
                                                       }
                                                  ],
                                                  "table": [
                                                       {
                                                            "cells": {
                                                                 "fill": {
                                                                      "color": "#EBF0F8"
                                                                 },
                                                                 "line": {
                                                                      "color": "white"
                                                                 }
                                                            },
                                                            "header": {
                                                                 "fill": {
                                                                      "color": "#C8D4E3"
                                                                 },
                                                                 "line": {
                                                                      "color": "white"
                                                                 }
                                                            },
                                                            "type": "table"
                                                       }
                                                  ]
                                             },
                                             "layout": {
                                                  "annotationdefaults": {
                                                       "arrowcolor": "#2a3f5f",
                                                       "arrowhead": 0,
                                                       "arrowwidth": 1
                                                  },
                                                  "autotypenumbers": "strict",
                                                  "coloraxis": {
                                                       "colorbar": {
                                                            "outlinewidth": 0,
                                                            "ticks": ""
                                                       }
                                                  },
                                                  "colorscale": {
                                                       "diverging": [
                                                            [
                                                                 0,
                                                                 "#8e0152"
                                                            ],
                                                            [
                                                                 0.1,
                                                                 "#c51b7d"
                                                            ],
                                                            [
                                                                 0.2,
                                                                 "#de77ae"
                                                            ],
                                                            [
                                                                 0.3,
                                                                 "#f1b6da"
                                                            ],
                                                            [
                                                                 0.4,
                                                                 "#fde0ef"
                                                            ],
                                                            [
                                                                 0.5,
                                                                 "#f7f7f7"
                                                            ],
                                                            [
                                                                 0.6,
                                                                 "#e6f5d0"
                                                            ],
                                                            [
                                                                 0.7,
                                                                 "#b8e186"
                                                            ],
                                                            [
                                                                 0.8,
                                                                 "#7fbc41"
                                                            ],
                                                            [
                                                                 0.9,
                                                                 "#4d9221"
                                                            ],
                                                            [
                                                                 1,
                                                                 "#276419"
                                                            ]
                                                       ],
                                                       "sequential": [
                                                            [
                                                                 0,
                                                                 "#0d0887"
                                                            ],
                                                            [
                                                                 0.1111111111111111,
                                                                 "#46039f"
                                                            ],
                                                            [
                                                                 0.2222222222222222,
                                                                 "#7201a8"
                                                            ],
                                                            [
                                                                 0.3333333333333333,
                                                                 "#9c179e"
                                                            ],
                                                            [
                                                                 0.4444444444444444,
                                                                 "#bd3786"
                                                            ],
                                                            [
                                                                 0.5555555555555556,
                                                                 "#d8576b"
                                                            ],
                                                            [
                                                                 0.6666666666666666,
                                                                 "#ed7953"
                                                            ],
                                                            [
                                                                 0.7777777777777778,
                                                                 "#fb9f3a"
                                                            ],
                                                            [
                                                                 0.8888888888888888,
                                                                 "#fdca26"
                                                            ],
                                                            [
                                                                 1,
                                                                 "#f0f921"
                                                            ]
                                                       ],
                                                       "sequentialminus": [
                                                            [
                                                                 0,
                                                                 "#0d0887"
                                                            ],
                                                            [
                                                                 0.1111111111111111,
                                                                 "#46039f"
                                                            ],
                                                            [
                                                                 0.2222222222222222,
                                                                 "#7201a8"
                                                            ],
                                                            [
                                                                 0.3333333333333333,
                                                                 "#9c179e"
                                                            ],
                                                            [
                                                                 0.4444444444444444,
                                                                 "#bd3786"
                                                            ],
                                                            [
                                                                 0.5555555555555556,
                                                                 "#d8576b"
                                                            ],
                                                            [
                                                                 0.6666666666666666,
                                                                 "#ed7953"
                                                            ],
                                                            [
                                                                 0.7777777777777778,
                                                                 "#fb9f3a"
                                                            ],
                                                            [
                                                                 0.8888888888888888,
                                                                 "#fdca26"
                                                            ],
                                                            [
                                                                 1,
                                                                 "#f0f921"
                                                            ]
                                                       ]
                                                  },
                                                  "colorway": [
                                                       "#636efa",
                                                       "#EF553B",
                                                       "#00cc96",
                                                       "#ab63fa",
                                                       "#FFA15A",
                                                       "#19d3f3",
                                                       "#FF6692",
                                                       "#B6E880",
                                                       "#FF97FF",
                                                       "#FECB52"
                                                  ],
                                                  "font": {
                                                       "color": "#2a3f5f"
                                                  },
                                                  "geo": {
                                                       "bgcolor": "white",
                                                       "lakecolor": "white",
                                                       "landcolor": "#E5ECF6",
                                                       "showlakes": true,
                                                       "showland": true,
                                                       "subunitcolor": "white"
                                                  },
                                                  "hoverlabel": {
                                                       "align": "left"
                                                  },
                                                  "hovermode": "closest",
                                                  "mapbox": {
                                                       "style": "light"
                                                  },
                                                  "paper_bgcolor": "white",
                                                  "plot_bgcolor": "#E5ECF6",
                                                  "polar": {
                                                       "angularaxis": {
                                                            "gridcolor": "white",
                                                            "linecolor": "white",
                                                            "ticks": ""
                                                       },
                                                       "bgcolor": "#E5ECF6",
                                                       "radialaxis": {
                                                            "gridcolor": "white",
                                                            "linecolor": "white",
                                                            "ticks": ""
                                                       }
                                                  },
                                                  "scene": {
                                                       "xaxis": {
                                                            "backgroundcolor": "#E5ECF6",
                                                            "gridcolor": "white",
                                                            "gridwidth": 2,
                                                            "linecolor": "white",
                                                            "showbackground": true,
                                                            "ticks": "",
                                                            "zerolinecolor": "white"
                                                       },
                                                       "yaxis": {
                                                            "backgroundcolor": "#E5ECF6",
                                                            "gridcolor": "white",
                                                            "gridwidth": 2,
                                                            "linecolor": "white",
                                                            "showbackground": true,
                                                            "ticks": "",
                                                            "zerolinecolor": "white"
                                                       },
                                                       "zaxis": {
                                                            "backgroundcolor": "#E5ECF6",
                                                            "gridcolor": "white",
                                                            "gridwidth": 2,
                                                            "linecolor": "white",
                                                            "showbackground": true,
                                                            "ticks": "",
                                                            "zerolinecolor": "white"
                                                       }
                                                  },
                                                  "shapedefaults": {
                                                       "line": {
                                                            "color": "#2a3f5f"
                                                       }
                                                  },
                                                  "ternary": {
                                                       "aaxis": {
                                                            "gridcolor": "white",
                                                            "linecolor": "white",
                                                            "ticks": ""
                                                       },
                                                       "baxis": {
                                                            "gridcolor": "white",
                                                            "linecolor": "white",
                                                            "ticks": ""
                                                       },
                                                       "bgcolor": "#E5ECF6",
                                                       "caxis": {
                                                            "gridcolor": "white",
                                                            "linecolor": "white",
                                                            "ticks": ""
                                                       }
                                                  },
                                                  "title": {
                                                       "x": 0.05
                                                  },
                                                  "xaxis": {
                                                       "automargin": true,
                                                       "gridcolor": "white",
                                                       "linecolor": "white",
                                                       "ticks": "",
                                                       "title": {
                                                            "standoff": 15
                                                       },
                                                       "zerolinecolor": "white",
                                                       "zerolinewidth": 2
                                                  },
                                                  "yaxis": {
                                                       "automargin": true,
                                                       "gridcolor": "white",
                                                       "linecolor": "white",
                                                       "ticks": "",
                                                       "title": {
                                                            "standoff": 15
                                                       },
                                                       "zerolinecolor": "white",
                                                       "zerolinewidth": 2
                                                  }
                                             }
                                        },
                                        "width": 620
                                   }
                              }
                         },
                         "metadata": {},
                         "output_type": "display_data"
                    }
               ],
               "source": [
                    "gm.plotly_molecular_graph(graph)"
               ]
          },
          {
               "cell_type": "markdown",
               "metadata": {},
               "source": [
                    "### Creating a Molecular Graph from a Mol2 File"
               ]
          },
          {
               "cell_type": "code",
               "execution_count": 12,
               "metadata": {},
               "outputs": [
                    {
                         "data": {
                              "text/html": [
                                   "<pre style=\"white-space:pre;overflow-x:auto;line-height:normal;font-family:Menlo,'DejaVu Sans Mono',consolas,'Courier New',monospace\">Graph named <span style=\"color: #008000; text-decoration-color: #008000\">'short_test'</span> with <span style=\"color: #008080; text-decoration-color: #008080; font-weight: bold\">3</span> nodes and <span style=\"color: #008080; text-decoration-color: #008080; font-weight: bold\">2</span> edges\n",
                                   "</pre>\n"
                              ],
                              "text/plain": [
                                   "Graph named \u001b[32m'short_test'\u001b[0m with \u001b[1;36m3\u001b[0m nodes and \u001b[1;36m2\u001b[0m edges\n"
                              ]
                         },
                         "metadata": {},
                         "output_type": "display_data"
                    },
                    {
                         "data": {
                              "image/png": "[encoded data removed]",
                              "text/plain": [
                                   "<rdkit.Chem.rdchem.Mol at 0x7f10c4ce2100>"
                              ]
                         },
                         "execution_count": 12,
                         "metadata": {},
                         "output_type": "execute_result"
                    }
               ],
               "source": [
                    "graph = gm.construct_graph(path=\"../tests/molecule/test_data/short_test.mol2\", config=config)\n",
                    "print(graph)\n",
                    "graph.graph[\"rdmol\"]"
               ]
          },
          {
               "cell_type": "code",
               "execution_count": 13,
               "metadata": {},
               "outputs": [
                    {
                         "data": {
                              "application/vnd.plotly.v1+json": {
                                   "config": {
                                        "plotlyServerURL": "https://plot.ly"
                                   },
                                   "data": [
                                        {
                                             "hoverinfo": "text+x+y+z",
                                             "marker": {
                                                  "color": [
                                                       [
                                                            0.050383,
                                                            0.029803,
                                                            0.527975,
                                                            1
                                                       ],
                                                       [
                                                            0.050383,
                                                            0.029803,
                                                            0.527975,
                                                            1
                                                       ],
                                                       [
                                                            0.798216,
                                                            0.280197,
                                                            0.469538,
                                                            1
                                                       ]
                                                  ],
                                                  "opacity": 0.7,
                                                  "size": [
                                                       21,
                                                       22,
                                                       21
                                                  ],
                                                  "symbol": "circle"
                                             },
                                             "mode": "markers",
                                             "text": [
                                                  "C:0",
                                                  "C:1",
                                                  "N:2"
                                             ],
                                             "type": "scatter3d",
                                             "x": [
                                                  0.9862,
                                                  -0.2052,
                                                  -1.4201
                                             ],
                                             "y": [
                                                  -0.257,
                                                  0.2236,
                                                  0.2357
                                             ],
                                             "z": [
                                                  -0.1905,
                                                  0.6206,
                                                  -0.1847
                                             ]
                                        },
                                        {
                                             "hoverinfo": "text",
                                             "line": {
                                                  "color": [
                                                       [
                                                            0.050383,
                                                            0.029803,
                                                            0.527975,
                                                            1
                                                       ],
                                                       [
                                                            0.050383,
                                                            0.029803,
                                                            0.527975,
                                                            1
                                                       ],
                                                       [
                                                            0.050383,
                                                            0.029803,
                                                            0.527975,
                                                            1
                                                       ],
                                                       [
                                                            0.050383,
                                                            0.029803,
                                                            0.527975,
                                                            1
                                                       ],
                                                       [
                                                            0.050383,
                                                            0.029803,
                                                            0.527975,
                                                            1
                                                       ],
                                                       [
                                                            0.050383,
                                                            0.029803,
                                                            0.527975,
                                                            1
                                                       ]
                                                  ],
                                                  "width": 10
                                             },
                                             "mode": "lines",
                                             "text": [
                                                  "bond",
                                                  "bond",
                                                  "bond",
                                                  "bond",
                                                  "bond",
                                                  "bond"
                                             ],
                                             "type": "scatter3d",
                                             "x": [
                                                  0.9862,
                                                  -0.2052,
                                                  null,
                                                  -0.2052,
                                                  -1.4201,
                                                  null
                                             ],
                                             "y": [
                                                  -0.257,
                                                  0.2236,
                                                  null,
                                                  0.2236,
                                                  0.2357,
                                                  null
                                             ],
                                             "z": [
                                                  -0.1905,
                                                  0.6206,
                                                  null,
                                                  0.6206,
                                                  -0.1847,
                                                  null
                                             ]
                                        }
                                   ],
                                   "layout": {
                                        "height": 650,
                                        "margin": {
                                             "t": 100
                                        },
                                        "scene": {
                                             "xaxis": {
                                                  "showbackground": false,
                                                  "showgrid": false,
                                                  "showline": false,
                                                  "showticklabels": false,
                                                  "title": {
                                                       "text": ""
                                                  },
                                                  "zeroline": false
                                             },
                                             "yaxis": {
                                                  "showbackground": false,
                                                  "showgrid": false,
                                                  "showline": false,
                                                  "showticklabels": false,
                                                  "title": {
                                                       "text": ""
                                                  },
                                                  "zeroline": false
                                             },
                                             "zaxis": {
                                                  "showbackground": false,
                                                  "showgrid": false,
                                                  "showline": false,
                                                  "showticklabels": false,
                                                  "title": {
                                                       "text": ""
                                                  },
                                                  "zeroline": false
                                             }
                                        },
                                        "showlegend": false,
                                        "template": {
                                             "data": {
                                                  "bar": [
                                                       {
                                                            "error_x": {
                                                                 "color": "#2a3f5f"
                                                            },
                                                            "error_y": {
                                                                 "color": "#2a3f5f"
                                                            },
                                                            "marker": {
                                                                 "line": {
                                                                      "color": "#E5ECF6",
                                                                      "width": 0.5
                                                                 },
                                                                 "pattern": {
                                                                      "fillmode": "overlay",
                                                                      "size": 10,
                                                                      "solidity": 0.2
                                                                 }
                                                            },
                                                            "type": "bar"
                                                       }
                                                  ],
                                                  "barpolar": [
                                                       {
                                                            "marker": {
                                                                 "line": {
                                                                      "color": "#E5ECF6",
                                                                      "width": 0.5
                                                                 },
                                                                 "pattern": {
                                                                      "fillmode": "overlay",
                                                                      "size": 10,
                                                                      "solidity": 0.2
                                                                 }
                                                            },
                                                            "type": "barpolar"
                                                       }
                                                  ],
                                                  "carpet": [
                                                       {
                                                            "aaxis": {
                                                                 "endlinecolor": "#2a3f5f",
                                                                 "gridcolor": "white",
                                                                 "linecolor": "white",
                                                                 "minorgridcolor": "white",
                                                                 "startlinecolor": "#2a3f5f"
                                                            },
                                                            "baxis": {
                                                                 "endlinecolor": "#2a3f5f",
                                                                 "gridcolor": "white",
                                                                 "linecolor": "white",
                                                                 "minorgridcolor": "white",
                                                                 "startlinecolor": "#2a3f5f"
                                                            },
                                                            "type": "carpet"
                                                       }
                                                  ],
                                                  "choropleth": [
                                                       {
                                                            "colorbar": {
                                                                 "outlinewidth": 0,
                                                                 "ticks": ""
                                                            },
                                                            "type": "choropleth"
                                                       }
                                                  ],
                                                  "contour": [
                                                       {
                                                            "colorbar": {
                                                                 "outlinewidth": 0,
                                                                 "ticks": ""
                                                            },
                                                            "colorscale": [
                                                                 [
                                                                      0,
                                                                      "#0d0887"
                                                                 ],
                                                                 [
                                                                      0.1111111111111111,
                                                                      "#46039f"
                                                                 ],
                                                                 [
                                                                      0.2222222222222222,
                                                                      "#7201a8"
                                                                 ],
                                                                 [
                                                                      0.3333333333333333,
                                                                      "#9c179e"
                                                                 ],
                                                                 [
                                                                      0.4444444444444444,
                                                                      "#bd3786"
                                                                 ],
                                                                 [
                                                                      0.5555555555555556,
                                                                      "#d8576b"
                                                                 ],
                                                                 [
                                                                      0.6666666666666666,
                                                                      "#ed7953"
                                                                 ],
                                                                 [
                                                                      0.7777777777777778,
                                                                      "#fb9f3a"
                                                                 ],
                                                                 [
                                                                      0.8888888888888888,
                                                                      "#fdca26"
                                                                 ],
                                                                 [
                                                                      1,
                                                                      "#f0f921"
                                                                 ]
                                                            ],
                                                            "type": "contour"
                                                       }
                                                  ],
                                                  "contourcarpet": [
                                                       {
                                                            "colorbar": {
                                                                 "outlinewidth": 0,
                                                                 "ticks": ""
                                                            },
                                                            "type": "contourcarpet"
                                                       }
                                                  ],
                                                  "heatmap": [
                                                       {
                                                            "colorbar": {
                                                                 "outlinewidth": 0,
                                                                 "ticks": ""
                                                            },
                                                            "colorscale": [
                                                                 [
                                                                      0,
                                                                      "#0d0887"
                                                                 ],
                                                                 [
                                                                      0.1111111111111111,
                                                                      "#46039f"
                                                                 ],
                                                                 [
                                                                      0.2222222222222222,
                                                                      "#7201a8"
                                                                 ],
                                                                 [
                                                                      0.3333333333333333,
                                                                      "#9c179e"
                                                                 ],
                                                                 [
                                                                      0.4444444444444444,
                                                                      "#bd3786"
                                                                 ],
                                                                 [
                                                                      0.5555555555555556,
                                                                      "#d8576b"
                                                                 ],
                                                                 [
                                                                      0.6666666666666666,
                                                                      "#ed7953"
                                                                 ],
                                                                 [
                                                                      0.7777777777777778,
                                                                      "#fb9f3a"
                                                                 ],
                                                                 [
                                                                      0.8888888888888888,
                                                                      "#fdca26"
                                                                 ],
                                                                 [
                                                                      1,
                                                                      "#f0f921"
                                                                 ]
                                                            ],
                                                            "type": "heatmap"
                                                       }
                                                  ],
                                                  "heatmapgl": [
                                                       {
                                                            "colorbar": {
                                                                 "outlinewidth": 0,
                                                                 "ticks": ""
                                                            },
                                                            "colorscale": [
                                                                 [
                                                                      0,
                                                                      "#0d0887"
                                                                 ],
                                                                 [
                                                                      0.1111111111111111,
                                                                      "#46039f"
                                                                 ],
                                                                 [
                                                                      0.2222222222222222,
                                                                      "#7201a8"
                                                                 ],
                                                                 [
                                                                      0.3333333333333333,
                                                                      "#9c179e"
                                                                 ],
                                                                 [
                                                                      0.4444444444444444,
                                                                      "#bd3786"
                                                                 ],
                                                                 [
                                                                      0.5555555555555556,
                                                                      "#d8576b"
                                                                 ],
                                                                 [
                                                                      0.6666666666666666,
                                                                      "#ed7953"
                                                                 ],
                                                                 [
                                                                      0.7777777777777778,
                                                                      "#fb9f3a"
                                                                 ],
                                                                 [
                                                                      0.8888888888888888,
                                                                      "#fdca26"
                                                                 ],
                                                                 [
                                                                      1,
                                                                      "#f0f921"
                                                                 ]
                                                            ],
                                                            "type": "heatmapgl"
                                                       }
                                                  ],
                                                  "histogram": [
                                                       {
                                                            "marker": {
                                                                 "pattern": {
                                                                      "fillmode": "overlay",
                                                                      "size": 10,
                                                                      "solidity": 0.2
                                                                 }
                                                            },
                                                            "type": "histogram"
                                                       }
                                                  ],
                                                  "histogram2d": [
                                                       {
                                                            "colorbar": {
                                                                 "outlinewidth": 0,
                                                                 "ticks": ""
                                                            },
                                                            "colorscale": [
                                                                 [
                                                                      0,
                                                                      "#0d0887"
                                                                 ],
                                                                 [
                                                                      0.1111111111111111,
                                                                      "#46039f"
                                                                 ],
                                                                 [
                                                                      0.2222222222222222,
                                                                      "#7201a8"
                                                                 ],
                                                                 [
                                                                      0.3333333333333333,
                                                                      "#9c179e"
                                                                 ],
                                                                 [
                                                                      0.4444444444444444,
                                                                      "#bd3786"
                                                                 ],
                                                                 [
                                                                      0.5555555555555556,
                                                                      "#d8576b"
                                                                 ],
                                                                 [
                                                                      0.6666666666666666,
                                                                      "#ed7953"
                                                                 ],
                                                                 [
                                                                      0.7777777777777778,
                                                                      "#fb9f3a"
                                                                 ],
                                                                 [
                                                                      0.8888888888888888,
                                                                      "#fdca26"
                                                                 ],
                                                                 [
                                                                      1,
                                                                      "#f0f921"
                                                                 ]
                                                            ],
                                                            "type": "histogram2d"
                                                       }
                                                  ],
                                                  "histogram2dcontour": [
                                                       {
                                                            "colorbar": {
                                                                 "outlinewidth": 0,
                                                                 "ticks": ""
                                                            },
                                                            "colorscale": [
                                                                 [
                                                                      0,
                                                                      "#0d0887"
                                                                 ],
                                                                 [
                                                                      0.1111111111111111,
                                                                      "#46039f"
                                                                 ],
                                                                 [
                                                                      0.2222222222222222,
                                                                      "#7201a8"
                                                                 ],
                                                                 [
                                                                      0.3333333333333333,
                                                                      "#9c179e"
                                                                 ],
                                                                 [
                                                                      0.4444444444444444,
                                                                      "#bd3786"
                                                                 ],
                                                                 [
                                                                      0.5555555555555556,
                                                                      "#d8576b"
                                                                 ],
                                                                 [
                                                                      0.6666666666666666,
                                                                      "#ed7953"
                                                                 ],
                                                                 [
                                                                      0.7777777777777778,
                                                                      "#fb9f3a"
                                                                 ],
                                                                 [
                                                                      0.8888888888888888,
                                                                      "#fdca26"
                                                                 ],
                                                                 [
                                                                      1,
                                                                      "#f0f921"
                                                                 ]
                                                            ],
                                                            "type": "histogram2dcontour"
                                                       }
                                                  ],
                                                  "mesh3d": [
                                                       {
                                                            "colorbar": {
                                                                 "outlinewidth": 0,
                                                                 "ticks": ""
                                                            },
                                                            "type": "mesh3d"
                                                       }
                                                  ],
                                                  "parcoords": [
                                                       {
                                                            "line": {
                                                                 "colorbar": {
                                                                      "outlinewidth": 0,
                                                                      "ticks": ""
                                                                 }
                                                            },
                                                            "type": "parcoords"
                                                       }
                                                  ],
                                                  "pie": [
                                                       {
                                                            "automargin": true,
                                                            "type": "pie"
                                                       }
                                                  ],
                                                  "scatter": [
                                                       {
                                                            "marker": {
                                                                 "colorbar": {
                                                                      "outlinewidth": 0,
                                                                      "ticks": ""
                                                                 }
                                                            },
                                                            "type": "scatter"
                                                       }
                                                  ],
                                                  "scatter3d": [
                                                       {
                                                            "line": {
                                                                 "colorbar": {
                                                                      "outlinewidth": 0,
                                                                      "ticks": ""
                                                                 }
                                                            },
                                                            "marker": {
                                                                 "colorbar": {
                                                                      "outlinewidth": 0,
                                                                      "ticks": ""
                                                                 }
                                                            },
                                                            "type": "scatter3d"
                                                       }
                                                  ],
                                                  "scattercarpet": [
                                                       {
                                                            "marker": {
                                                                 "colorbar": {
                                                                      "outlinewidth": 0,
                                                                      "ticks": ""
                                                                 }
                                                            },
                                                            "type": "scattercarpet"
                                                       }
                                                  ],
                                                  "scattergeo": [
                                                       {
                                                            "marker": {
                                                                 "colorbar": {
                                                                      "outlinewidth": 0,
                                                                      "ticks": ""
                                                                 }
                                                            },
                                                            "type": "scattergeo"
                                                       }
                                                  ],
                                                  "scattergl": [
                                                       {
                                                            "marker": {
                                                                 "colorbar": {
                                                                      "outlinewidth": 0,
                                                                      "ticks": ""
                                                                 }
                                                            },
                                                            "type": "scattergl"
                                                       }
                                                  ],
                                                  "scattermapbox": [
                                                       {
                                                            "marker": {
                                                                 "colorbar": {
                                                                      "outlinewidth": 0,
                                                                      "ticks": ""
                                                                 }
                                                            },
                                                            "type": "scattermapbox"
                                                       }
                                                  ],
                                                  "scatterpolar": [
                                                       {
                                                            "marker": {
                                                                 "colorbar": {
                                                                      "outlinewidth": 0,
                                                                      "ticks": ""
                                                                 }
                                                            },
                                                            "type": "scatterpolar"
                                                       }
                                                  ],
                                                  "scatterpolargl": [
                                                       {
                                                            "marker": {
                                                                 "colorbar": {
                                                                      "outlinewidth": 0,
                                                                      "ticks": ""
                                                                 }
                                                            },
                                                            "type": "scatterpolargl"
                                                       }
                                                  ],
                                                  "scatterternary": [
                                                       {
                                                            "marker": {
                                                                 "colorbar": {
                                                                      "outlinewidth": 0,
                                                                      "ticks": ""
                                                                 }
                                                            },
                                                            "type": "scatterternary"
                                                       }
                                                  ],
                                                  "surface": [
                                                       {
                                                            "colorbar": {
                                                                 "outlinewidth": 0,
                                                                 "ticks": ""
                                                            },
                                                            "colorscale": [
                                                                 [
                                                                      0,
                                                                      "#0d0887"
                                                                 ],
                                                                 [
                                                                      0.1111111111111111,
                                                                      "#46039f"
                                                                 ],
                                                                 [
                                                                      0.2222222222222222,
                                                                      "#7201a8"
                                                                 ],
                                                                 [
                                                                      0.3333333333333333,
                                                                      "#9c179e"
                                                                 ],
                                                                 [
                                                                      0.4444444444444444,
                                                                      "#bd3786"
                                                                 ],
                                                                 [
                                                                      0.5555555555555556,
                                                                      "#d8576b"
                                                                 ],
                                                                 [
                                                                      0.6666666666666666,
                                                                      "#ed7953"
                                                                 ],
                                                                 [
                                                                      0.7777777777777778,
                                                                      "#fb9f3a"
                                                                 ],
                                                                 [
                                                                      0.8888888888888888,
                                                                      "#fdca26"
                                                                 ],
                                                                 [
                                                                      1,
                                                                      "#f0f921"
                                                                 ]
                                                            ],
                                                            "type": "surface"
                                                       }
                                                  ],
                                                  "table": [
                                                       {
                                                            "cells": {
                                                                 "fill": {
                                                                      "color": "#EBF0F8"
                                                                 },
                                                                 "line": {
                                                                      "color": "white"
                                                                 }
                                                            },
                                                            "header": {
                                                                 "fill": {
                                                                      "color": "#C8D4E3"
                                                                 },
                                                                 "line": {
                                                                      "color": "white"
                                                                 }
                                                            },
                                                            "type": "table"
                                                       }
                                                  ]
                                             },
                                             "layout": {
                                                  "annotationdefaults": {
                                                       "arrowcolor": "#2a3f5f",
                                                       "arrowhead": 0,
                                                       "arrowwidth": 1
                                                  },
                                                  "autotypenumbers": "strict",
                                                  "coloraxis": {
                                                       "colorbar": {
                                                            "outlinewidth": 0,
                                                            "ticks": ""
                                                       }
                                                  },
                                                  "colorscale": {
                                                       "diverging": [
                                                            [
                                                                 0,
                                                                 "#8e0152"
                                                            ],
                                                            [
                                                                 0.1,
                                                                 "#c51b7d"
                                                            ],
                                                            [
                                                                 0.2,
                                                                 "#de77ae"
                                                            ],
                                                            [
                                                                 0.3,
                                                                 "#f1b6da"
                                                            ],
                                                            [
                                                                 0.4,
                                                                 "#fde0ef"
                                                            ],
                                                            [
                                                                 0.5,
                                                                 "#f7f7f7"
                                                            ],
                                                            [
                                                                 0.6,
                                                                 "#e6f5d0"
                                                            ],
                                                            [
                                                                 0.7,
                                                                 "#b8e186"
                                                            ],
                                                            [
                                                                 0.8,
                                                                 "#7fbc41"
                                                            ],
                                                            [
                                                                 0.9,
                                                                 "#4d9221"
                                                            ],
                                                            [
                                                                 1,
                                                                 "#276419"
                                                            ]
                                                       ],
                                                       "sequential": [
                                                            [
                                                                 0,
                                                                 "#0d0887"
                                                            ],
                                                            [
                                                                 0.1111111111111111,
                                                                 "#46039f"
                                                            ],
                                                            [
                                                                 0.2222222222222222,
                                                                 "#7201a8"
                                                            ],
                                                            [
                                                                 0.3333333333333333,
                                                                 "#9c179e"
                                                            ],
                                                            [
                                                                 0.4444444444444444,
                                                                 "#bd3786"
                                                            ],
                                                            [
                                                                 0.5555555555555556,
                                                                 "#d8576b"
                                                            ],
                                                            [
                                                                 0.6666666666666666,
                                                                 "#ed7953"
                                                            ],
                                                            [
                                                                 0.7777777777777778,
                                                                 "#fb9f3a"
                                                            ],
                                                            [
                                                                 0.8888888888888888,
                                                                 "#fdca26"
                                                            ],
                                                            [
                                                                 1,
                                                                 "#f0f921"
                                                            ]
                                                       ],
                                                       "sequentialminus": [
                                                            [
                                                                 0,
                                                                 "#0d0887"
                                                            ],
                                                            [
                                                                 0.1111111111111111,
                                                                 "#46039f"
                                                            ],
                                                            [
                                                                 0.2222222222222222,
                                                                 "#7201a8"
                                                            ],
                                                            [
                                                                 0.3333333333333333,
                                                                 "#9c179e"
                                                            ],
                                                            [
                                                                 0.4444444444444444,
                                                                 "#bd3786"
                                                            ],
                                                            [
                                                                 0.5555555555555556,
                                                                 "#d8576b"
                                                            ],
                                                            [
                                                                 0.6666666666666666,
                                                                 "#ed7953"
                                                            ],
                                                            [
                                                                 0.7777777777777778,
                                                                 "#fb9f3a"
                                                            ],
                                                            [
                                                                 0.8888888888888888,
                                                                 "#fdca26"
                                                            ],
                                                            [
                                                                 1,
                                                                 "#f0f921"
                                                            ]
                                                       ]
                                                  },
                                                  "colorway": [
                                                       "#636efa",
                                                       "#EF553B",
                                                       "#00cc96",
                                                       "#ab63fa",
                                                       "#FFA15A",
                                                       "#19d3f3",
                                                       "#FF6692",
                                                       "#B6E880",
                                                       "#FF97FF",
                                                       "#FECB52"
                                                  ],
                                                  "font": {
                                                       "color": "#2a3f5f"
                                                  },
                                                  "geo": {
                                                       "bgcolor": "white",
                                                       "lakecolor": "white",
                                                       "landcolor": "#E5ECF6",
                                                       "showlakes": true,
                                                       "showland": true,
                                                       "subunitcolor": "white"
                                                  },
                                                  "hoverlabel": {
                                                       "align": "left"
                                                  },
                                                  "hovermode": "closest",
                                                  "mapbox": {
                                                       "style": "light"
                                                  },
                                                  "paper_bgcolor": "white",
                                                  "plot_bgcolor": "#E5ECF6",
                                                  "polar": {
                                                       "angularaxis": {
                                                            "gridcolor": "white",
                                                            "linecolor": "white",
                                                            "ticks": ""
                                                       },
                                                       "bgcolor": "#E5ECF6",
                                                       "radialaxis": {
                                                            "gridcolor": "white",
                                                            "linecolor": "white",
                                                            "ticks": ""
                                                       }
                                                  },
                                                  "scene": {
                                                       "xaxis": {
                                                            "backgroundcolor": "#E5ECF6",
                                                            "gridcolor": "white",
                                                            "gridwidth": 2,
                                                            "linecolor": "white",
                                                            "showbackground": true,
                                                            "ticks": "",
                                                            "zerolinecolor": "white"
                                                       },
                                                       "yaxis": {
                                                            "backgroundcolor": "#E5ECF6",
                                                            "gridcolor": "white",
                                                            "gridwidth": 2,
                                                            "linecolor": "white",
                                                            "showbackground": true,
                                                            "ticks": "",
                                                            "zerolinecolor": "white"
                                                       },
                                                       "zaxis": {
                                                            "backgroundcolor": "#E5ECF6",
                                                            "gridcolor": "white",
                                                            "gridwidth": 2,
                                                            "linecolor": "white",
                                                            "showbackground": true,
                                                            "ticks": "",
                                                            "zerolinecolor": "white"
                                                       }
                                                  },
                                                  "shapedefaults": {
                                                       "line": {
                                                            "color": "#2a3f5f"
                                                       }
                                                  },
                                                  "ternary": {
                                                       "aaxis": {
                                                            "gridcolor": "white",
                                                            "linecolor": "white",
                                                            "ticks": ""
                                                       },
                                                       "baxis": {
                                                            "gridcolor": "white",
                                                            "linecolor": "white",
                                                            "ticks": ""
                                                       },
                                                       "bgcolor": "#E5ECF6",
                                                       "caxis": {
                                                            "gridcolor": "white",
                                                            "linecolor": "white",
                                                            "ticks": ""
                                                       }
                                                  },
                                                  "title": {
                                                       "x": 0.05
                                                  },
                                                  "xaxis": {
                                                       "automargin": true,
                                                       "gridcolor": "white",
                                                       "linecolor": "white",
                                                       "ticks": "",
                                                       "title": {
                                                            "standoff": 15
                                                       },
                                                       "zerolinecolor": "white",
                                                       "zerolinewidth": 2
                                                  },
                                                  "yaxis": {
                                                       "automargin": true,
                                                       "gridcolor": "white",
                                                       "linecolor": "white",
                                                       "ticks": "",
                                                       "title": {
                                                            "standoff": 15
                                                       },
                                                       "zerolinecolor": "white",
                                                       "zerolinewidth": 2
                                                  }
                                             }
                                        },
                                        "width": 620
                                   }
                              }
                         },
                         "metadata": {},
                         "output_type": "display_data"
                    }
               ],
               "source": [
                    "gm.plotly_molecular_graph(graph)"
               ]
          },
          {
               "cell_type": "markdown",
               "metadata": {},
               "source": [
                    "## Adding Features\n",
                    "Graphein can add lots of features to graph nodes and edges from RDKit\n",
                    "\n",
                    "### Node Features\n",
                    "\n",
                    "\n"
               ]
          },
          {
               "cell_type": "code",
               "execution_count": 14,
               "metadata": {},
               "outputs": [
                    {
                         "name": "stderr",
                         "output_type": "stream",
                         "text": [
                              "INFO:graphein.molecule.edges.distance:Found: 3 KNN edges\n",
                              "INFO:graphein.molecule.edges.distance:Found: 9 distance edges for radius 5.0\n"
                         ]
                    },
                    {
                         "data": {
                              "text/html": [
                                   "<pre style=\"white-space:pre;overflow-x:auto;line-height:normal;font-family:Menlo,'DejaVu Sans Mono',consolas,'Courier New',monospace\"><span style=\"font-weight: bold\">{</span>\n",
                                   "    <span style=\"color: #008000; text-decoration-color: #008000\">'atomic_num'</span>: <span style=\"color: #008080; text-decoration-color: #008080; font-weight: bold\">6</span>,\n",
                                   "    <span style=\"color: #008000; text-decoration-color: #008000\">'element'</span>: <span style=\"color: #008000; text-decoration-color: #008000\">'C'</span>,\n",
                                   "    <span style=\"color: #008000; text-decoration-color: #008000\">'rdmol_atom'</span>: <span style=\"font-weight: bold\">&lt;</span><span style=\"color: #ff00ff; text-decoration-color: #ff00ff; font-weight: bold\">rdkit.Chem.rdchem.Atom</span><span style=\"color: #000000; text-decoration-color: #000000\"> object at </span><span style=\"color: #008080; text-decoration-color: #008080; font-weight: bold\">0x7f10c4e35d60</span><span style=\"font-weight: bold\">&gt;</span>,\n",
                                   "    <span style=\"color: #008000; text-decoration-color: #008000\">'coords'</span>: <span style=\"color: #800080; text-decoration-color: #800080; font-weight: bold\">array</span><span style=\"font-weight: bold\">([</span> <span style=\"color: #008080; text-decoration-color: #008080; font-weight: bold\">0.9862</span>, <span style=\"color: #008080; text-decoration-color: #008080; font-weight: bold\">-0.257</span> , <span style=\"color: #008080; text-decoration-color: #008080; font-weight: bold\">-0.1905</span><span style=\"font-weight: bold\">])</span>,\n",
                                   "    <span style=\"color: #008000; text-decoration-color: #008000\">'atom_type_one_hot'</span>: <span style=\"color: #800080; text-decoration-color: #800080; font-weight: bold\">array</span><span style=\"font-weight: bold\">([</span><span style=\"color: #008080; text-decoration-color: #008080; font-weight: bold\">1</span>, <span style=\"color: #008080; text-decoration-color: #008080; font-weight: bold\">0</span>, <span style=\"color: #008080; text-decoration-color: #008080; font-weight: bold\">0</span>, <span style=\"color: #008080; text-decoration-color: #008080; font-weight: bold\">0</span>, <span style=\"color: #008080; text-decoration-color: #008080; font-weight: bold\">0</span>, <span style=\"color: #008080; text-decoration-color: #008080; font-weight: bold\">0</span>, <span style=\"color: #008080; text-decoration-color: #008080; font-weight: bold\">0</span>, <span style=\"color: #008080; text-decoration-color: #008080; font-weight: bold\">0</span>, <span style=\"color: #008080; text-decoration-color: #008080; font-weight: bold\">0</span>, <span style=\"color: #008080; text-decoration-color: #008080; font-weight: bold\">0</span>, <span style=\"color: #008080; text-decoration-color: #008080; font-weight: bold\">0</span><span style=\"font-weight: bold\">])</span>,\n",
                                   "    <span style=\"color: #008000; text-decoration-color: #008000\">'mass'</span>: <span style=\"color: #008080; text-decoration-color: #008080; font-weight: bold\">12.011</span>,\n",
                                   "    <span style=\"color: #008000; text-decoration-color: #008000\">'degree'</span>: <span style=\"color: #008080; text-decoration-color: #008080; font-weight: bold\">1</span>,\n",
                                   "    <span style=\"color: #008000; text-decoration-color: #008000\">'total_degree'</span>: <span style=\"color: #008080; text-decoration-color: #008080; font-weight: bold\">4</span>,\n",
                                   "    <span style=\"color: #008000; text-decoration-color: #008000\">'total_valence'</span>: <span style=\"color: #008080; text-decoration-color: #008080; font-weight: bold\">4</span>,\n",
                                   "    <span style=\"color: #008000; text-decoration-color: #008000\">'explicit_valence'</span>: <span style=\"color: #008080; text-decoration-color: #008080; font-weight: bold\">4</span>,\n",
                                   "    <span style=\"color: #008000; text-decoration-color: #008000\">'implicit_valence'</span>: <span style=\"color: #008080; text-decoration-color: #008080; font-weight: bold\">0</span>,\n",
                                   "    <span style=\"color: #008000; text-decoration-color: #008000\">'num_explicit_h'</span>: <span style=\"color: #008080; text-decoration-color: #008080; font-weight: bold\">3</span>,\n",
                                   "    <span style=\"color: #008000; text-decoration-color: #008000\">'num_implicit_h'</span>: <span style=\"color: #008080; text-decoration-color: #008080; font-weight: bold\">0</span>,\n",
                                   "    <span style=\"color: #008000; text-decoration-color: #008000\">'total_num_h'</span>: <span style=\"color: #008080; text-decoration-color: #008080; font-weight: bold\">3</span>,\n",
                                   "    <span style=\"color: #008000; text-decoration-color: #008000\">'num_radical_electrons'</span>: <span style=\"color: #008080; text-decoration-color: #008080; font-weight: bold\">0</span>,\n",
                                   "    <span style=\"color: #008000; text-decoration-color: #008000\">'formal_charge'</span>: <span style=\"color: #008080; text-decoration-color: #008080; font-weight: bold\">0</span>,\n",
                                   "    <span style=\"color: #008000; text-decoration-color: #008000\">'hybridization'</span>: rdkit.Chem.rdchem.HybridizationType.SP3,\n",
                                   "    <span style=\"color: #008000; text-decoration-color: #008000\">'is_aromatic'</span>: <span style=\"color: #ff0000; text-decoration-color: #ff0000; font-style: italic\">False</span>,\n",
                                   "    <span style=\"color: #008000; text-decoration-color: #008000\">'is_isotope'</span>: <span style=\"color: #008080; text-decoration-color: #008080; font-weight: bold\">0</span>,\n",
                                   "    <span style=\"color: #008000; text-decoration-color: #008000\">'is_ring'</span>: <span style=\"color: #ff0000; text-decoration-color: #ff0000; font-style: italic\">False</span>,\n",
                                   "    <span style=\"color: #008000; text-decoration-color: #008000\">'chiral_tag'</span>: rdkit.Chem.rdchem.ChiralType.CHI_UNSPECIFIED,\n",
                                   "    <span style=\"color: #008000; text-decoration-color: #008000\">'is_ring_5'</span>: <span style=\"color: #ff0000; text-decoration-color: #ff0000; font-style: italic\">False</span>,\n",
                                   "    <span style=\"color: #008000; text-decoration-color: #008000\">'is_ring_7'</span>: <span style=\"color: #ff0000; text-decoration-color: #ff0000; font-style: italic\">False</span>\n",
                                   "<span style=\"font-weight: bold\">}</span>\n",
                                   "</pre>\n"
                              ],
                              "text/plain": [
                                   "\u001b[1m{\u001b[0m\n",
                                   "    \u001b[32m'atomic_num'\u001b[0m: \u001b[1;36m6\u001b[0m,\n",
                                   "    \u001b[32m'element'\u001b[0m: \u001b[32m'C'\u001b[0m,\n",
                                   "    \u001b[32m'rdmol_atom'\u001b[0m: \u001b[1m<\u001b[0m\u001b[1;95mrdkit.Chem.rdchem.Atom\u001b[0m\u001b[39m object at \u001b[0m\u001b[1;36m0x7f10c4e35d60\u001b[0m\u001b[1m>\u001b[0m,\n",
                                   "    \u001b[32m'coords'\u001b[0m: \u001b[1;35marray\u001b[0m\u001b[1m(\u001b[0m\u001b[1m[\u001b[0m \u001b[1;36m0.9862\u001b[0m, \u001b[1;36m-0.257\u001b[0m , \u001b[1;36m-0.1905\u001b[0m\u001b[1m]\u001b[0m\u001b[1m)\u001b[0m,\n",
                                   "    \u001b[32m'atom_type_one_hot'\u001b[0m: \u001b[1;35marray\u001b[0m\u001b[1m(\u001b[0m\u001b[1m[\u001b[0m\u001b[1;36m1\u001b[0m, \u001b[1;36m0\u001b[0m, \u001b[1;36m0\u001b[0m, \u001b[1;36m0\u001b[0m, \u001b[1;36m0\u001b[0m, \u001b[1;36m0\u001b[0m, \u001b[1;36m0\u001b[0m, \u001b[1;36m0\u001b[0m, \u001b[1;36m0\u001b[0m, \u001b[1;36m0\u001b[0m, \u001b[1;36m0\u001b[0m\u001b[1m]\u001b[0m\u001b[1m)\u001b[0m,\n",
                                   "    \u001b[32m'mass'\u001b[0m: \u001b[1;36m12.011\u001b[0m,\n",
                                   "    \u001b[32m'degree'\u001b[0m: \u001b[1;36m1\u001b[0m,\n",
                                   "    \u001b[32m'total_degree'\u001b[0m: \u001b[1;36m4\u001b[0m,\n",
                                   "    \u001b[32m'total_valence'\u001b[0m: \u001b[1;36m4\u001b[0m,\n",
                                   "    \u001b[32m'explicit_valence'\u001b[0m: \u001b[1;36m4\u001b[0m,\n",
                                   "    \u001b[32m'implicit_valence'\u001b[0m: \u001b[1;36m0\u001b[0m,\n",
                                   "    \u001b[32m'num_explicit_h'\u001b[0m: \u001b[1;36m3\u001b[0m,\n",
                                   "    \u001b[32m'num_implicit_h'\u001b[0m: \u001b[1;36m0\u001b[0m,\n",
                                   "    \u001b[32m'total_num_h'\u001b[0m: \u001b[1;36m3\u001b[0m,\n",
                                   "    \u001b[32m'num_radical_electrons'\u001b[0m: \u001b[1;36m0\u001b[0m,\n",
                                   "    \u001b[32m'formal_charge'\u001b[0m: \u001b[1;36m0\u001b[0m,\n",
                                   "    \u001b[32m'hybridization'\u001b[0m: rdkit.Chem.rdchem.HybridizationType.SP3,\n",
                                   "    \u001b[32m'is_aromatic'\u001b[0m: \u001b[3;91mFalse\u001b[0m,\n",
                                   "    \u001b[32m'is_isotope'\u001b[0m: \u001b[1;36m0\u001b[0m,\n",
                                   "    \u001b[32m'is_ring'\u001b[0m: \u001b[3;91mFalse\u001b[0m,\n",
                                   "    \u001b[32m'chiral_tag'\u001b[0m: rdkit.Chem.rdchem.ChiralType.CHI_UNSPECIFIED,\n",
                                   "    \u001b[32m'is_ring_5'\u001b[0m: \u001b[3;91mFalse\u001b[0m,\n",
                                   "    \u001b[32m'is_ring_7'\u001b[0m: \u001b[3;91mFalse\u001b[0m\n",
                                   "\u001b[1m}\u001b[0m\n"
                              ]
                         },
                         "metadata": {},
                         "output_type": "display_data"
                    },
                    {
                         "data": {
                              "text/html": [
                                   "<pre style=\"white-space:pre;overflow-x:auto;line-height:normal;font-family:Menlo,'DejaVu Sans Mono',consolas,'Courier New',monospace\"><span style=\"font-weight: bold\">{</span>\n",
                                   "    <span style=\"color: #008000; text-decoration-color: #008000\">'atomic_num'</span>: <span style=\"color: #008080; text-decoration-color: #008080; font-weight: bold\">6</span>,\n",
                                   "    <span style=\"color: #008000; text-decoration-color: #008000\">'element'</span>: <span style=\"color: #008000; text-decoration-color: #008000\">'C'</span>,\n",
                                   "    <span style=\"color: #008000; text-decoration-color: #008000\">'rdmol_atom'</span>: <span style=\"font-weight: bold\">&lt;</span><span style=\"color: #ff00ff; text-decoration-color: #ff00ff; font-weight: bold\">rdkit.Chem.rdchem.Atom</span><span style=\"color: #000000; text-decoration-color: #000000\"> object at </span><span style=\"color: #008080; text-decoration-color: #008080; font-weight: bold\">0x7f10c4e359a0</span><span style=\"font-weight: bold\">&gt;</span>,\n",
                                   "    <span style=\"color: #008000; text-decoration-color: #008000\">'coords'</span>: <span style=\"color: #800080; text-decoration-color: #800080; font-weight: bold\">array</span><span style=\"font-weight: bold\">([</span><span style=\"color: #008080; text-decoration-color: #008080; font-weight: bold\">-0.2052</span>,  <span style=\"color: #008080; text-decoration-color: #008080; font-weight: bold\">0.2236</span>,  <span style=\"color: #008080; text-decoration-color: #008080; font-weight: bold\">0.6206</span><span style=\"font-weight: bold\">])</span>,\n",
                                   "    <span style=\"color: #008000; text-decoration-color: #008000\">'atom_type_one_hot'</span>: <span style=\"color: #800080; text-decoration-color: #800080; font-weight: bold\">array</span><span style=\"font-weight: bold\">([</span><span style=\"color: #008080; text-decoration-color: #008080; font-weight: bold\">1</span>, <span style=\"color: #008080; text-decoration-color: #008080; font-weight: bold\">0</span>, <span style=\"color: #008080; text-decoration-color: #008080; font-weight: bold\">0</span>, <span style=\"color: #008080; text-decoration-color: #008080; font-weight: bold\">0</span>, <span style=\"color: #008080; text-decoration-color: #008080; font-weight: bold\">0</span>, <span style=\"color: #008080; text-decoration-color: #008080; font-weight: bold\">0</span>, <span style=\"color: #008080; text-decoration-color: #008080; font-weight: bold\">0</span>, <span style=\"color: #008080; text-decoration-color: #008080; font-weight: bold\">0</span>, <span style=\"color: #008080; text-decoration-color: #008080; font-weight: bold\">0</span>, <span style=\"color: #008080; text-decoration-color: #008080; font-weight: bold\">0</span>, <span style=\"color: #008080; text-decoration-color: #008080; font-weight: bold\">0</span><span style=\"font-weight: bold\">])</span>,\n",
                                   "    <span style=\"color: #008000; text-decoration-color: #008000\">'mass'</span>: <span style=\"color: #008080; text-decoration-color: #008080; font-weight: bold\">12.011</span>,\n",
                                   "    <span style=\"color: #008000; text-decoration-color: #008000\">'degree'</span>: <span style=\"color: #008080; text-decoration-color: #008080; font-weight: bold\">2</span>,\n",
                                   "    <span style=\"color: #008000; text-decoration-color: #008000\">'total_degree'</span>: <span style=\"color: #008080; text-decoration-color: #008080; font-weight: bold\">4</span>,\n",
                                   "    <span style=\"color: #008000; text-decoration-color: #008000\">'total_valence'</span>: <span style=\"color: #008080; text-decoration-color: #008080; font-weight: bold\">4</span>,\n",
                                   "    <span style=\"color: #008000; text-decoration-color: #008000\">'explicit_valence'</span>: <span style=\"color: #008080; text-decoration-color: #008080; font-weight: bold\">4</span>,\n",
                                   "    <span style=\"color: #008000; text-decoration-color: #008000\">'implicit_valence'</span>: <span style=\"color: #008080; text-decoration-color: #008080; font-weight: bold\">0</span>,\n",
                                   "    <span style=\"color: #008000; text-decoration-color: #008000\">'num_explicit_h'</span>: <span style=\"color: #008080; text-decoration-color: #008080; font-weight: bold\">2</span>,\n",
                                   "    <span style=\"color: #008000; text-decoration-color: #008000\">'num_implicit_h'</span>: <span style=\"color: #008080; text-decoration-color: #008080; font-weight: bold\">0</span>,\n",
                                   "    <span style=\"color: #008000; text-decoration-color: #008000\">'total_num_h'</span>: <span style=\"color: #008080; text-decoration-color: #008080; font-weight: bold\">2</span>,\n",
                                   "    <span style=\"color: #008000; text-decoration-color: #008000\">'num_radical_electrons'</span>: <span style=\"color: #008080; text-decoration-color: #008080; font-weight: bold\">0</span>,\n",
                                   "    <span style=\"color: #008000; text-decoration-color: #008000\">'formal_charge'</span>: <span style=\"color: #008080; text-decoration-color: #008080; font-weight: bold\">0</span>,\n",
                                   "    <span style=\"color: #008000; text-decoration-color: #008000\">'hybridization'</span>: rdkit.Chem.rdchem.HybridizationType.SP3,\n",
                                   "    <span style=\"color: #008000; text-decoration-color: #008000\">'is_aromatic'</span>: <span style=\"color: #ff0000; text-decoration-color: #ff0000; font-style: italic\">False</span>,\n",
                                   "    <span style=\"color: #008000; text-decoration-color: #008000\">'is_isotope'</span>: <span style=\"color: #008080; text-decoration-color: #008080; font-weight: bold\">0</span>,\n",
                                   "    <span style=\"color: #008000; text-decoration-color: #008000\">'is_ring'</span>: <span style=\"color: #ff0000; text-decoration-color: #ff0000; font-style: italic\">False</span>,\n",
                                   "    <span style=\"color: #008000; text-decoration-color: #008000\">'chiral_tag'</span>: rdkit.Chem.rdchem.ChiralType.CHI_UNSPECIFIED,\n",
                                   "    <span style=\"color: #008000; text-decoration-color: #008000\">'is_ring_5'</span>: <span style=\"color: #ff0000; text-decoration-color: #ff0000; font-style: italic\">False</span>,\n",
                                   "    <span style=\"color: #008000; text-decoration-color: #008000\">'is_ring_7'</span>: <span style=\"color: #ff0000; text-decoration-color: #ff0000; font-style: italic\">False</span>\n",
                                   "<span style=\"font-weight: bold\">}</span>\n",
                                   "</pre>\n"
                              ],
                              "text/plain": [
                                   "\u001b[1m{\u001b[0m\n",
                                   "    \u001b[32m'atomic_num'\u001b[0m: \u001b[1;36m6\u001b[0m,\n",
                                   "    \u001b[32m'element'\u001b[0m: \u001b[32m'C'\u001b[0m,\n",
                                   "    \u001b[32m'rdmol_atom'\u001b[0m: \u001b[1m<\u001b[0m\u001b[1;95mrdkit.Chem.rdchem.Atom\u001b[0m\u001b[39m object at \u001b[0m\u001b[1;36m0x7f10c4e359a0\u001b[0m\u001b[1m>\u001b[0m,\n",
                                   "    \u001b[32m'coords'\u001b[0m: \u001b[1;35marray\u001b[0m\u001b[1m(\u001b[0m\u001b[1m[\u001b[0m\u001b[1;36m-0.2052\u001b[0m,  \u001b[1;36m0.2236\u001b[0m,  \u001b[1;36m0.6206\u001b[0m\u001b[1m]\u001b[0m\u001b[1m)\u001b[0m,\n",
                                   "    \u001b[32m'atom_type_one_hot'\u001b[0m: \u001b[1;35marray\u001b[0m\u001b[1m(\u001b[0m\u001b[1m[\u001b[0m\u001b[1;36m1\u001b[0m, \u001b[1;36m0\u001b[0m, \u001b[1;36m0\u001b[0m, \u001b[1;36m0\u001b[0m, \u001b[1;36m0\u001b[0m, \u001b[1;36m0\u001b[0m, \u001b[1;36m0\u001b[0m, \u001b[1;36m0\u001b[0m, \u001b[1;36m0\u001b[0m, \u001b[1;36m0\u001b[0m, \u001b[1;36m0\u001b[0m\u001b[1m]\u001b[0m\u001b[1m)\u001b[0m,\n",
                                   "    \u001b[32m'mass'\u001b[0m: \u001b[1;36m12.011\u001b[0m,\n",
                                   "    \u001b[32m'degree'\u001b[0m: \u001b[1;36m2\u001b[0m,\n",
                                   "    \u001b[32m'total_degree'\u001b[0m: \u001b[1;36m4\u001b[0m,\n",
                                   "    \u001b[32m'total_valence'\u001b[0m: \u001b[1;36m4\u001b[0m,\n",
                                   "    \u001b[32m'explicit_valence'\u001b[0m: \u001b[1;36m4\u001b[0m,\n",
                                   "    \u001b[32m'implicit_valence'\u001b[0m: \u001b[1;36m0\u001b[0m,\n",
                                   "    \u001b[32m'num_explicit_h'\u001b[0m: \u001b[1;36m2\u001b[0m,\n",
                                   "    \u001b[32m'num_implicit_h'\u001b[0m: \u001b[1;36m0\u001b[0m,\n",
                                   "    \u001b[32m'total_num_h'\u001b[0m: \u001b[1;36m2\u001b[0m,\n",
                                   "    \u001b[32m'num_radical_electrons'\u001b[0m: \u001b[1;36m0\u001b[0m,\n",
                                   "    \u001b[32m'formal_charge'\u001b[0m: \u001b[1;36m0\u001b[0m,\n",
                                   "    \u001b[32m'hybridization'\u001b[0m: rdkit.Chem.rdchem.HybridizationType.SP3,\n",
                                   "    \u001b[32m'is_aromatic'\u001b[0m: \u001b[3;91mFalse\u001b[0m,\n",
                                   "    \u001b[32m'is_isotope'\u001b[0m: \u001b[1;36m0\u001b[0m,\n",
                                   "    \u001b[32m'is_ring'\u001b[0m: \u001b[3;91mFalse\u001b[0m,\n",
                                   "    \u001b[32m'chiral_tag'\u001b[0m: rdkit.Chem.rdchem.ChiralType.CHI_UNSPECIFIED,\n",
                                   "    \u001b[32m'is_ring_5'\u001b[0m: \u001b[3;91mFalse\u001b[0m,\n",
                                   "    \u001b[32m'is_ring_7'\u001b[0m: \u001b[3;91mFalse\u001b[0m\n",
                                   "\u001b[1m}\u001b[0m\n"
                              ]
                         },
                         "metadata": {},
                         "output_type": "display_data"
                    },
                    {
                         "data": {
                              "text/html": [
                                   "<pre style=\"white-space:pre;overflow-x:auto;line-height:normal;font-family:Menlo,'DejaVu Sans Mono',consolas,'Courier New',monospace\"><span style=\"font-weight: bold\">{</span>\n",
                                   "    <span style=\"color: #008000; text-decoration-color: #008000\">'atomic_num'</span>: <span style=\"color: #008080; text-decoration-color: #008080; font-weight: bold\">7</span>,\n",
                                   "    <span style=\"color: #008000; text-decoration-color: #008000\">'element'</span>: <span style=\"color: #008000; text-decoration-color: #008000\">'N'</span>,\n",
                                   "    <span style=\"color: #008000; text-decoration-color: #008000\">'rdmol_atom'</span>: <span style=\"font-weight: bold\">&lt;</span><span style=\"color: #ff00ff; text-decoration-color: #ff00ff; font-weight: bold\">rdkit.Chem.rdchem.Atom</span><span style=\"color: #000000; text-decoration-color: #000000\"> object at </span><span style=\"color: #008080; text-decoration-color: #008080; font-weight: bold\">0x7f10c4e358e0</span><span style=\"font-weight: bold\">&gt;</span>,\n",
                                   "    <span style=\"color: #008000; text-decoration-color: #008000\">'coords'</span>: <span style=\"color: #800080; text-decoration-color: #800080; font-weight: bold\">array</span><span style=\"font-weight: bold\">([</span><span style=\"color: #008080; text-decoration-color: #008080; font-weight: bold\">-1.4201</span>,  <span style=\"color: #008080; text-decoration-color: #008080; font-weight: bold\">0.2357</span>, <span style=\"color: #008080; text-decoration-color: #008080; font-weight: bold\">-0.1847</span><span style=\"font-weight: bold\">])</span>,\n",
                                   "    <span style=\"color: #008000; text-decoration-color: #008000\">'atom_type_one_hot'</span>: <span style=\"color: #800080; text-decoration-color: #800080; font-weight: bold\">array</span><span style=\"font-weight: bold\">([</span><span style=\"color: #008080; text-decoration-color: #008080; font-weight: bold\">0</span>, <span style=\"color: #008080; text-decoration-color: #008080; font-weight: bold\">0</span>, <span style=\"color: #008080; text-decoration-color: #008080; font-weight: bold\">0</span>, <span style=\"color: #008080; text-decoration-color: #008080; font-weight: bold\">1</span>, <span style=\"color: #008080; text-decoration-color: #008080; font-weight: bold\">0</span>, <span style=\"color: #008080; text-decoration-color: #008080; font-weight: bold\">0</span>, <span style=\"color: #008080; text-decoration-color: #008080; font-weight: bold\">0</span>, <span style=\"color: #008080; text-decoration-color: #008080; font-weight: bold\">0</span>, <span style=\"color: #008080; text-decoration-color: #008080; font-weight: bold\">0</span>, <span style=\"color: #008080; text-decoration-color: #008080; font-weight: bold\">0</span>, <span style=\"color: #008080; text-decoration-color: #008080; font-weight: bold\">0</span><span style=\"font-weight: bold\">])</span>,\n",
                                   "    <span style=\"color: #008000; text-decoration-color: #008000\">'mass'</span>: <span style=\"color: #008080; text-decoration-color: #008080; font-weight: bold\">14.007</span>,\n",
                                   "    <span style=\"color: #008000; text-decoration-color: #008000\">'degree'</span>: <span style=\"color: #008080; text-decoration-color: #008080; font-weight: bold\">1</span>,\n",
                                   "    <span style=\"color: #008000; text-decoration-color: #008000\">'total_degree'</span>: <span style=\"color: #008080; text-decoration-color: #008080; font-weight: bold\">3</span>,\n",
                                   "    <span style=\"color: #008000; text-decoration-color: #008000\">'total_valence'</span>: <span style=\"color: #008080; text-decoration-color: #008080; font-weight: bold\">3</span>,\n",
                                   "    <span style=\"color: #008000; text-decoration-color: #008000\">'explicit_valence'</span>: <span style=\"color: #008080; text-decoration-color: #008080; font-weight: bold\">3</span>,\n",
                                   "    <span style=\"color: #008000; text-decoration-color: #008000\">'implicit_valence'</span>: <span style=\"color: #008080; text-decoration-color: #008080; font-weight: bold\">0</span>,\n",
                                   "    <span style=\"color: #008000; text-decoration-color: #008000\">'num_explicit_h'</span>: <span style=\"color: #008080; text-decoration-color: #008080; font-weight: bold\">2</span>,\n",
                                   "    <span style=\"color: #008000; text-decoration-color: #008000\">'num_implicit_h'</span>: <span style=\"color: #008080; text-decoration-color: #008080; font-weight: bold\">0</span>,\n",
                                   "    <span style=\"color: #008000; text-decoration-color: #008000\">'total_num_h'</span>: <span style=\"color: #008080; text-decoration-color: #008080; font-weight: bold\">2</span>,\n",
                                   "    <span style=\"color: #008000; text-decoration-color: #008000\">'num_radical_electrons'</span>: <span style=\"color: #008080; text-decoration-color: #008080; font-weight: bold\">0</span>,\n",
                                   "    <span style=\"color: #008000; text-decoration-color: #008000\">'formal_charge'</span>: <span style=\"color: #008080; text-decoration-color: #008080; font-weight: bold\">0</span>,\n",
                                   "    <span style=\"color: #008000; text-decoration-color: #008000\">'hybridization'</span>: rdkit.Chem.rdchem.HybridizationType.SP3,\n",
                                   "    <span style=\"color: #008000; text-decoration-color: #008000\">'is_aromatic'</span>: <span style=\"color: #ff0000; text-decoration-color: #ff0000; font-style: italic\">False</span>,\n",
                                   "    <span style=\"color: #008000; text-decoration-color: #008000\">'is_isotope'</span>: <span style=\"color: #008080; text-decoration-color: #008080; font-weight: bold\">0</span>,\n",
                                   "    <span style=\"color: #008000; text-decoration-color: #008000\">'is_ring'</span>: <span style=\"color: #ff0000; text-decoration-color: #ff0000; font-style: italic\">False</span>,\n",
                                   "    <span style=\"color: #008000; text-decoration-color: #008000\">'chiral_tag'</span>: rdkit.Chem.rdchem.ChiralType.CHI_UNSPECIFIED,\n",
                                   "    <span style=\"color: #008000; text-decoration-color: #008000\">'is_ring_5'</span>: <span style=\"color: #ff0000; text-decoration-color: #ff0000; font-style: italic\">False</span>,\n",
                                   "    <span style=\"color: #008000; text-decoration-color: #008000\">'is_ring_7'</span>: <span style=\"color: #ff0000; text-decoration-color: #ff0000; font-style: italic\">False</span>\n",
                                   "<span style=\"font-weight: bold\">}</span>\n",
                                   "</pre>\n"
                              ],
                              "text/plain": [
                                   "\u001b[1m{\u001b[0m\n",
                                   "    \u001b[32m'atomic_num'\u001b[0m: \u001b[1;36m7\u001b[0m,\n",
                                   "    \u001b[32m'element'\u001b[0m: \u001b[32m'N'\u001b[0m,\n",
                                   "    \u001b[32m'rdmol_atom'\u001b[0m: \u001b[1m<\u001b[0m\u001b[1;95mrdkit.Chem.rdchem.Atom\u001b[0m\u001b[39m object at \u001b[0m\u001b[1;36m0x7f10c4e358e0\u001b[0m\u001b[1m>\u001b[0m,\n",
                                   "    \u001b[32m'coords'\u001b[0m: \u001b[1;35marray\u001b[0m\u001b[1m(\u001b[0m\u001b[1m[\u001b[0m\u001b[1;36m-1.4201\u001b[0m,  \u001b[1;36m0.2357\u001b[0m, \u001b[1;36m-0.1847\u001b[0m\u001b[1m]\u001b[0m\u001b[1m)\u001b[0m,\n",
                                   "    \u001b[32m'atom_type_one_hot'\u001b[0m: \u001b[1;35marray\u001b[0m\u001b[1m(\u001b[0m\u001b[1m[\u001b[0m\u001b[1;36m0\u001b[0m, \u001b[1;36m0\u001b[0m, \u001b[1;36m0\u001b[0m, \u001b[1;36m1\u001b[0m, \u001b[1;36m0\u001b[0m, \u001b[1;36m0\u001b[0m, \u001b[1;36m0\u001b[0m, \u001b[1;36m0\u001b[0m, \u001b[1;36m0\u001b[0m, \u001b[1;36m0\u001b[0m, \u001b[1;36m0\u001b[0m\u001b[1m]\u001b[0m\u001b[1m)\u001b[0m,\n",
                                   "    \u001b[32m'mass'\u001b[0m: \u001b[1;36m14.007\u001b[0m,\n",
                                   "    \u001b[32m'degree'\u001b[0m: \u001b[1;36m1\u001b[0m,\n",
                                   "    \u001b[32m'total_degree'\u001b[0m: \u001b[1;36m3\u001b[0m,\n",
                                   "    \u001b[32m'total_valence'\u001b[0m: \u001b[1;36m3\u001b[0m,\n",
                                   "    \u001b[32m'explicit_valence'\u001b[0m: \u001b[1;36m3\u001b[0m,\n",
                                   "    \u001b[32m'implicit_valence'\u001b[0m: \u001b[1;36m0\u001b[0m,\n",
                                   "    \u001b[32m'num_explicit_h'\u001b[0m: \u001b[1;36m2\u001b[0m,\n",
                                   "    \u001b[32m'num_implicit_h'\u001b[0m: \u001b[1;36m0\u001b[0m,\n",
                                   "    \u001b[32m'total_num_h'\u001b[0m: \u001b[1;36m2\u001b[0m,\n",
                                   "    \u001b[32m'num_radical_electrons'\u001b[0m: \u001b[1;36m0\u001b[0m,\n",
                                   "    \u001b[32m'formal_charge'\u001b[0m: \u001b[1;36m0\u001b[0m,\n",
                                   "    \u001b[32m'hybridization'\u001b[0m: rdkit.Chem.rdchem.HybridizationType.SP3,\n",
                                   "    \u001b[32m'is_aromatic'\u001b[0m: \u001b[3;91mFalse\u001b[0m,\n",
                                   "    \u001b[32m'is_isotope'\u001b[0m: \u001b[1;36m0\u001b[0m,\n",
                                   "    \u001b[32m'is_ring'\u001b[0m: \u001b[3;91mFalse\u001b[0m,\n",
                                   "    \u001b[32m'chiral_tag'\u001b[0m: rdkit.Chem.rdchem.ChiralType.CHI_UNSPECIFIED,\n",
                                   "    \u001b[32m'is_ring_5'\u001b[0m: \u001b[3;91mFalse\u001b[0m,\n",
                                   "    \u001b[32m'is_ring_7'\u001b[0m: \u001b[3;91mFalse\u001b[0m\n",
                                   "\u001b[1m}\u001b[0m\n"
                              ]
                         },
                         "metadata": {},
                         "output_type": "display_data"
                    }
               ],
               "source": [
                    "from functools import partial\n",
                    "\n",
                    "config = gm.MoleculeGraphConfig(\n",
                    "    node_metadata_functions=[\n",
                    "        gm.atom_type_one_hot,\n",
                    "        gm.atomic_mass,\n",
                    "        gm.degree,\n",
                    "        gm.total_degree,\n",
                    "        gm.total_valence,\n",
                    "        gm.explicit_valence,\n",
                    "        gm.implicit_valence,\n",
                    "        gm.num_explicit_h,\n",
                    "        gm.num_implicit_h,\n",
                    "        gm.total_num_h,\n",
                    "        gm.num_radical_electrons,\n",
                    "        gm.formal_charge,\n",
                    "        gm.hybridization,\n",
                    "        gm.is_aromatic,\n",
                    "        gm.is_isotope,\n",
                    "        gm.is_ring,\n",
                    "        gm.chiral_tag,\n",
                    "        partial(gm.is_ring_size, ring_size=5),\n",
                    "        partial(gm.is_ring_size, ring_size=7)\n",
                    "    ]\n",
                    ")\n",
                    "graph = gm.construct_graph(path=\"../tests/molecule/test_data/short_test.mol2\", config=config)\n",
                    "\n",
                    "for n, d in graph.nodes(data=True):\n",
                    "    print(d)"
               ]
          },
          {
               "cell_type": "markdown",
               "metadata": {},
               "source": [
                    "### Edge Features"
               ]
          },
          {
               "cell_type": "code",
               "execution_count": 15,
               "metadata": {},
               "outputs": [
                    {
                         "name": "stderr",
                         "output_type": "stream",
                         "text": [
                              "INFO:graphein.molecule.edges.distance:Found: 3 KNN edges\n",
                              "INFO:graphein.molecule.edges.distance:Found: 9 distance edges for radius 5.0\n",
                              "DEBUG:graphein.molecule.features.edges.bonds:No RDKit bond found on edge C:0-C:0\n",
                              "DEBUG:graphein.molecule.features.edges.bonds:No RDKit bond found on edge C:0-N:2\n",
                              "DEBUG:graphein.molecule.features.edges.bonds:No RDKit bond found on edge C:1-C:1\n",
                              "DEBUG:graphein.molecule.features.edges.bonds:No RDKit bond found on edge N:2-N:2\n",
                              "DEBUG:graphein.molecule.features.edges.bonds:No RDKit bond found on edge C:0-C:0\n",
                              "DEBUG:graphein.molecule.features.edges.bonds:No RDKit bond found on edge C:0-N:2\n",
                              "DEBUG:graphein.molecule.features.edges.bonds:No RDKit bond found on edge C:1-C:1\n",
                              "DEBUG:graphein.molecule.features.edges.bonds:No RDKit bond found on edge N:2-N:2\n",
                              "DEBUG:graphein.molecule.features.edges.bonds:No RDKit bond found on edge C:0-C:0\n",
                              "DEBUG:graphein.molecule.features.edges.bonds:No RDKit bond found on edge C:0-N:2\n",
                              "DEBUG:graphein.molecule.features.edges.bonds:No RDKit bond found on edge C:1-C:1\n",
                              "DEBUG:graphein.molecule.features.edges.bonds:No RDKit bond found on edge N:2-N:2\n",
                              "DEBUG:graphein.molecule.features.edges.bonds:No RDKit bond found on edge C:0-C:0\n",
                              "DEBUG:graphein.molecule.features.edges.bonds:No RDKit bond found on edge C:0-N:2\n",
                              "DEBUG:graphein.molecule.features.edges.bonds:No RDKit bond found on edge C:1-C:1\n",
                              "DEBUG:graphein.molecule.features.edges.bonds:No RDKit bond found on edge N:2-N:2\n",
                              "DEBUG:graphein.molecule.features.edges.bonds:No RDKit bond found on edge C:0-C:0\n",
                              "DEBUG:graphein.molecule.features.edges.bonds:No RDKit bond found on edge C:0-N:2\n",
                              "DEBUG:graphein.molecule.features.edges.bonds:No RDKit bond found on edge C:1-C:1\n",
                              "DEBUG:graphein.molecule.features.edges.bonds:No RDKit bond found on edge N:2-N:2\n",
                              "DEBUG:graphein.molecule.features.edges.bonds:No RDKit bond found on edge C:0-C:0\n",
                              "DEBUG:graphein.molecule.features.edges.bonds:No RDKit bond found on edge C:0-N:2\n",
                              "DEBUG:graphein.molecule.features.edges.bonds:No RDKit bond found on edge C:1-C:1\n",
                              "DEBUG:graphein.molecule.features.edges.bonds:No RDKit bond found on edge N:2-N:2\n",
                              "DEBUG:graphein.molecule.features.edges.bonds:No RDKit bond found on edge C:0-C:0\n",
                              "DEBUG:graphein.molecule.features.edges.bonds:No RDKit bond found on edge C:0-N:2\n",
                              "DEBUG:graphein.molecule.features.edges.bonds:No RDKit bond found on edge C:1-C:1\n",
                              "DEBUG:graphein.molecule.features.edges.bonds:No RDKit bond found on edge N:2-N:2\n"
                         ]
                    },
                    {
                         "data": {
                              "text/html": [
                                   "<pre style=\"white-space:pre;overflow-x:auto;line-height:normal;font-family:Menlo,'DejaVu Sans Mono',consolas,'Courier New',monospace\"><span style=\"font-weight: bold\">{</span>\n",
                                   "    <span style=\"color: #008000; text-decoration-color: #008000\">'kind'</span>: <span style=\"font-weight: bold\">{</span><span style=\"color: #008000; text-decoration-color: #008000\">'distance_threshold'</span>, <span style=\"color: #008000; text-decoration-color: #008000\">'fully_connected'</span><span style=\"font-weight: bold\">}</span>,\n",
                                   "    <span style=\"color: #008000; text-decoration-color: #008000\">'bond_type'</span>: <span style=\"color: #800080; text-decoration-color: #800080; font-style: italic\">None</span>,\n",
                                   "    <span style=\"color: #008000; text-decoration-color: #008000\">'aromatic'</span>: <span style=\"color: #800080; text-decoration-color: #800080; font-style: italic\">None</span>,\n",
                                   "    <span style=\"color: #008000; text-decoration-color: #008000\">'conjugated'</span>: <span style=\"color: #800080; text-decoration-color: #800080; font-style: italic\">None</span>,\n",
                                   "    <span style=\"color: #008000; text-decoration-color: #008000\">'ring'</span>: <span style=\"color: #800080; text-decoration-color: #800080; font-style: italic\">None</span>,\n",
                                   "    <span style=\"color: #008000; text-decoration-color: #008000\">'bond_stereo'</span>: <span style=\"color: #800080; text-decoration-color: #800080; font-style: italic\">None</span>,\n",
                                   "    <span style=\"color: #008000; text-decoration-color: #008000\">'ring_size_5'</span>: <span style=\"color: #800080; text-decoration-color: #800080; font-style: italic\">None</span>,\n",
                                   "    <span style=\"color: #008000; text-decoration-color: #008000\">'ring_size_7'</span>: <span style=\"color: #800080; text-decoration-color: #800080; font-style: italic\">None</span>\n",
                                   "<span style=\"font-weight: bold\">}</span>\n",
                                   "</pre>\n"
                              ],
                              "text/plain": [
                                   "\u001b[1m{\u001b[0m\n",
                                   "    \u001b[32m'kind'\u001b[0m: \u001b[1m{\u001b[0m\u001b[32m'distance_threshold'\u001b[0m, \u001b[32m'fully_connected'\u001b[0m\u001b[1m}\u001b[0m,\n",
                                   "    \u001b[32m'bond_type'\u001b[0m: \u001b[3;35mNone\u001b[0m,\n",
                                   "    \u001b[32m'aromatic'\u001b[0m: \u001b[3;35mNone\u001b[0m,\n",
                                   "    \u001b[32m'conjugated'\u001b[0m: \u001b[3;35mNone\u001b[0m,\n",
                                   "    \u001b[32m'ring'\u001b[0m: \u001b[3;35mNone\u001b[0m,\n",
                                   "    \u001b[32m'bond_stereo'\u001b[0m: \u001b[3;35mNone\u001b[0m,\n",
                                   "    \u001b[32m'ring_size_5'\u001b[0m: \u001b[3;35mNone\u001b[0m,\n",
                                   "    \u001b[32m'ring_size_7'\u001b[0m: \u001b[3;35mNone\u001b[0m\n",
                                   "\u001b[1m}\u001b[0m\n"
                              ]
                         },
                         "metadata": {},
                         "output_type": "display_data"
                    },
                    {
                         "data": {
                              "text/html": [
                                   "<pre style=\"white-space:pre;overflow-x:auto;line-height:normal;font-family:Menlo,'DejaVu Sans Mono',consolas,'Courier New',monospace\"><span style=\"font-weight: bold\">{</span>\n",
                                   "    <span style=\"color: #008000; text-decoration-color: #008000\">'kind'</span>: <span style=\"font-weight: bold\">{</span><span style=\"color: #008000; text-decoration-color: #008000\">'distance_threshold'</span>, <span style=\"color: #008000; text-decoration-color: #008000\">'bond'</span>, <span style=\"color: #008000; text-decoration-color: #008000\">'fully_connected'</span>, <span style=\"color: #008000; text-decoration-color: #008000\">'k_nn_1'</span><span style=\"font-weight: bold\">}</span>,\n",
                                   "    <span style=\"color: #008000; text-decoration-color: #008000\">'bond'</span>: <span style=\"font-weight: bold\">&lt;</span><span style=\"color: #ff00ff; text-decoration-color: #ff00ff; font-weight: bold\">rdkit.Chem.rdchem.Bond</span><span style=\"color: #000000; text-decoration-color: #000000\"> object at </span><span style=\"color: #008080; text-decoration-color: #008080; font-weight: bold\">0x7f10c4e68820</span><span style=\"font-weight: bold\">&gt;</span>,\n",
                                   "    <span style=\"color: #008000; text-decoration-color: #008000\">'bond_type'</span>: rdkit.Chem.rdchem.BondType.SINGLE,\n",
                                   "    <span style=\"color: #008000; text-decoration-color: #008000\">'_aromatic'</span>: <span style=\"color: #ff0000; text-decoration-color: #ff0000; font-style: italic\">False</span>,\n",
                                   "    <span style=\"color: #008000; text-decoration-color: #008000\">'conjugated'</span>: <span style=\"color: #ff0000; text-decoration-color: #ff0000; font-style: italic\">False</span>,\n",
                                   "    <span style=\"color: #008000; text-decoration-color: #008000\">'ring'</span>: <span style=\"color: #ff0000; text-decoration-color: #ff0000; font-style: italic\">False</span>,\n",
                                   "    <span style=\"color: #008000; text-decoration-color: #008000\">'bond_stereo'</span>: rdkit.Chem.rdchem.BondStereo.STEREONONE,\n",
                                   "    <span style=\"color: #008000; text-decoration-color: #008000\">'ring_size_5'</span>: <span style=\"color: #ff0000; text-decoration-color: #ff0000; font-style: italic\">False</span>,\n",
                                   "    <span style=\"color: #008000; text-decoration-color: #008000\">'ring_size_7'</span>: <span style=\"color: #ff0000; text-decoration-color: #ff0000; font-style: italic\">False</span>\n",
                                   "<span style=\"font-weight: bold\">}</span>\n",
                                   "</pre>\n"
                              ],
                              "text/plain": [
                                   "\u001b[1m{\u001b[0m\n",
                                   "    \u001b[32m'kind'\u001b[0m: \u001b[1m{\u001b[0m\u001b[32m'distance_threshold'\u001b[0m, \u001b[32m'bond'\u001b[0m, \u001b[32m'fully_connected'\u001b[0m, \u001b[32m'k_nn_1'\u001b[0m\u001b[1m}\u001b[0m,\n",
                                   "    \u001b[32m'bond'\u001b[0m: \u001b[1m<\u001b[0m\u001b[1;95mrdkit.Chem.rdchem.Bond\u001b[0m\u001b[39m object at \u001b[0m\u001b[1;36m0x7f10c4e68820\u001b[0m\u001b[1m>\u001b[0m,\n",
                                   "    \u001b[32m'bond_type'\u001b[0m: rdkit.Chem.rdchem.BondType.SINGLE,\n",
                                   "    \u001b[32m'_aromatic'\u001b[0m: \u001b[3;91mFalse\u001b[0m,\n",
                                   "    \u001b[32m'conjugated'\u001b[0m: \u001b[3;91mFalse\u001b[0m,\n",
                                   "    \u001b[32m'ring'\u001b[0m: \u001b[3;91mFalse\u001b[0m,\n",
                                   "    \u001b[32m'bond_stereo'\u001b[0m: rdkit.Chem.rdchem.BondStereo.STEREONONE,\n",
                                   "    \u001b[32m'ring_size_5'\u001b[0m: \u001b[3;91mFalse\u001b[0m,\n",
                                   "    \u001b[32m'ring_size_7'\u001b[0m: \u001b[3;91mFalse\u001b[0m\n",
                                   "\u001b[1m}\u001b[0m\n"
                              ]
                         },
                         "metadata": {},
                         "output_type": "display_data"
                    },
                    {
                         "data": {
                              "text/html": [
                                   "<pre style=\"white-space:pre;overflow-x:auto;line-height:normal;font-family:Menlo,'DejaVu Sans Mono',consolas,'Courier New',monospace\"><span style=\"font-weight: bold\">{</span>\n",
                                   "    <span style=\"color: #008000; text-decoration-color: #008000\">'kind'</span>: <span style=\"font-weight: bold\">{</span><span style=\"color: #008000; text-decoration-color: #008000\">'distance_threshold'</span>, <span style=\"color: #008000; text-decoration-color: #008000\">'fully_connected'</span><span style=\"font-weight: bold\">}</span>,\n",
                                   "    <span style=\"color: #008000; text-decoration-color: #008000\">'bond_type'</span>: <span style=\"color: #800080; text-decoration-color: #800080; font-style: italic\">None</span>,\n",
                                   "    <span style=\"color: #008000; text-decoration-color: #008000\">'aromatic'</span>: <span style=\"color: #800080; text-decoration-color: #800080; font-style: italic\">None</span>,\n",
                                   "    <span style=\"color: #008000; text-decoration-color: #008000\">'conjugated'</span>: <span style=\"color: #800080; text-decoration-color: #800080; font-style: italic\">None</span>,\n",
                                   "    <span style=\"color: #008000; text-decoration-color: #008000\">'ring'</span>: <span style=\"color: #800080; text-decoration-color: #800080; font-style: italic\">None</span>,\n",
                                   "    <span style=\"color: #008000; text-decoration-color: #008000\">'bond_stereo'</span>: <span style=\"color: #800080; text-decoration-color: #800080; font-style: italic\">None</span>,\n",
                                   "    <span style=\"color: #008000; text-decoration-color: #008000\">'ring_size_5'</span>: <span style=\"color: #800080; text-decoration-color: #800080; font-style: italic\">None</span>,\n",
                                   "    <span style=\"color: #008000; text-decoration-color: #008000\">'ring_size_7'</span>: <span style=\"color: #800080; text-decoration-color: #800080; font-style: italic\">None</span>\n",
                                   "<span style=\"font-weight: bold\">}</span>\n",
                                   "</pre>\n"
                              ],
                              "text/plain": [
                                   "\u001b[1m{\u001b[0m\n",
                                   "    \u001b[32m'kind'\u001b[0m: \u001b[1m{\u001b[0m\u001b[32m'distance_threshold'\u001b[0m, \u001b[32m'fully_connected'\u001b[0m\u001b[1m}\u001b[0m,\n",
                                   "    \u001b[32m'bond_type'\u001b[0m: \u001b[3;35mNone\u001b[0m,\n",
                                   "    \u001b[32m'aromatic'\u001b[0m: \u001b[3;35mNone\u001b[0m,\n",
                                   "    \u001b[32m'conjugated'\u001b[0m: \u001b[3;35mNone\u001b[0m,\n",
                                   "    \u001b[32m'ring'\u001b[0m: \u001b[3;35mNone\u001b[0m,\n",
                                   "    \u001b[32m'bond_stereo'\u001b[0m: \u001b[3;35mNone\u001b[0m,\n",
                                   "    \u001b[32m'ring_size_5'\u001b[0m: \u001b[3;35mNone\u001b[0m,\n",
                                   "    \u001b[32m'ring_size_7'\u001b[0m: \u001b[3;35mNone\u001b[0m\n",
                                   "\u001b[1m}\u001b[0m\n"
                              ]
                         },
                         "metadata": {},
                         "output_type": "display_data"
                    },
                    {
                         "data": {
                              "text/html": [
                                   "<pre style=\"white-space:pre;overflow-x:auto;line-height:normal;font-family:Menlo,'DejaVu Sans Mono',consolas,'Courier New',monospace\"><span style=\"font-weight: bold\">{</span>\n",
                                   "    <span style=\"color: #008000; text-decoration-color: #008000\">'kind'</span>: <span style=\"font-weight: bold\">{</span><span style=\"color: #008000; text-decoration-color: #008000\">'distance_threshold'</span>, <span style=\"color: #008000; text-decoration-color: #008000\">'fully_connected'</span><span style=\"font-weight: bold\">}</span>,\n",
                                   "    <span style=\"color: #008000; text-decoration-color: #008000\">'bond_type'</span>: <span style=\"color: #800080; text-decoration-color: #800080; font-style: italic\">None</span>,\n",
                                   "    <span style=\"color: #008000; text-decoration-color: #008000\">'aromatic'</span>: <span style=\"color: #800080; text-decoration-color: #800080; font-style: italic\">None</span>,\n",
                                   "    <span style=\"color: #008000; text-decoration-color: #008000\">'conjugated'</span>: <span style=\"color: #800080; text-decoration-color: #800080; font-style: italic\">None</span>,\n",
                                   "    <span style=\"color: #008000; text-decoration-color: #008000\">'ring'</span>: <span style=\"color: #800080; text-decoration-color: #800080; font-style: italic\">None</span>,\n",
                                   "    <span style=\"color: #008000; text-decoration-color: #008000\">'bond_stereo'</span>: <span style=\"color: #800080; text-decoration-color: #800080; font-style: italic\">None</span>,\n",
                                   "    <span style=\"color: #008000; text-decoration-color: #008000\">'ring_size_5'</span>: <span style=\"color: #800080; text-decoration-color: #800080; font-style: italic\">None</span>,\n",
                                   "    <span style=\"color: #008000; text-decoration-color: #008000\">'ring_size_7'</span>: <span style=\"color: #800080; text-decoration-color: #800080; font-style: italic\">None</span>\n",
                                   "<span style=\"font-weight: bold\">}</span>\n",
                                   "</pre>\n"
                              ],
                              "text/plain": [
                                   "\u001b[1m{\u001b[0m\n",
                                   "    \u001b[32m'kind'\u001b[0m: \u001b[1m{\u001b[0m\u001b[32m'distance_threshold'\u001b[0m, \u001b[32m'fully_connected'\u001b[0m\u001b[1m}\u001b[0m,\n",
                                   "    \u001b[32m'bond_type'\u001b[0m: \u001b[3;35mNone\u001b[0m,\n",
                                   "    \u001b[32m'aromatic'\u001b[0m: \u001b[3;35mNone\u001b[0m,\n",
                                   "    \u001b[32m'conjugated'\u001b[0m: \u001b[3;35mNone\u001b[0m,\n",
                                   "    \u001b[32m'ring'\u001b[0m: \u001b[3;35mNone\u001b[0m,\n",
                                   "    \u001b[32m'bond_stereo'\u001b[0m: \u001b[3;35mNone\u001b[0m,\n",
                                   "    \u001b[32m'ring_size_5'\u001b[0m: \u001b[3;35mNone\u001b[0m,\n",
                                   "    \u001b[32m'ring_size_7'\u001b[0m: \u001b[3;35mNone\u001b[0m\n",
                                   "\u001b[1m}\u001b[0m\n"
                              ]
                         },
                         "metadata": {},
                         "output_type": "display_data"
                    },
                    {
                         "data": {
                              "text/html": [
                                   "<pre style=\"white-space:pre;overflow-x:auto;line-height:normal;font-family:Menlo,'DejaVu Sans Mono',consolas,'Courier New',monospace\"><span style=\"font-weight: bold\">{</span>\n",
                                   "    <span style=\"color: #008000; text-decoration-color: #008000\">'kind'</span>: <span style=\"font-weight: bold\">{</span><span style=\"color: #008000; text-decoration-color: #008000\">'distance_threshold'</span>, <span style=\"color: #008000; text-decoration-color: #008000\">'bond'</span>, <span style=\"color: #008000; text-decoration-color: #008000\">'fully_connected'</span>, <span style=\"color: #008000; text-decoration-color: #008000\">'k_nn_1'</span><span style=\"font-weight: bold\">}</span>,\n",
                                   "    <span style=\"color: #008000; text-decoration-color: #008000\">'bond'</span>: <span style=\"font-weight: bold\">&lt;</span><span style=\"color: #ff00ff; text-decoration-color: #ff00ff; font-weight: bold\">rdkit.Chem.rdchem.Bond</span><span style=\"color: #000000; text-decoration-color: #000000\"> object at </span><span style=\"color: #008080; text-decoration-color: #008080; font-weight: bold\">0x7f10c4cb6220</span><span style=\"font-weight: bold\">&gt;</span>,\n",
                                   "    <span style=\"color: #008000; text-decoration-color: #008000\">'bond_type'</span>: rdkit.Chem.rdchem.BondType.SINGLE,\n",
                                   "    <span style=\"color: #008000; text-decoration-color: #008000\">'_aromatic'</span>: <span style=\"color: #ff0000; text-decoration-color: #ff0000; font-style: italic\">False</span>,\n",
                                   "    <span style=\"color: #008000; text-decoration-color: #008000\">'conjugated'</span>: <span style=\"color: #ff0000; text-decoration-color: #ff0000; font-style: italic\">False</span>,\n",
                                   "    <span style=\"color: #008000; text-decoration-color: #008000\">'ring'</span>: <span style=\"color: #ff0000; text-decoration-color: #ff0000; font-style: italic\">False</span>,\n",
                                   "    <span style=\"color: #008000; text-decoration-color: #008000\">'bond_stereo'</span>: rdkit.Chem.rdchem.BondStereo.STEREONONE,\n",
                                   "    <span style=\"color: #008000; text-decoration-color: #008000\">'ring_size_5'</span>: <span style=\"color: #ff0000; text-decoration-color: #ff0000; font-style: italic\">False</span>,\n",
                                   "    <span style=\"color: #008000; text-decoration-color: #008000\">'ring_size_7'</span>: <span style=\"color: #ff0000; text-decoration-color: #ff0000; font-style: italic\">False</span>\n",
                                   "<span style=\"font-weight: bold\">}</span>\n",
                                   "</pre>\n"
                              ],
                              "text/plain": [
                                   "\u001b[1m{\u001b[0m\n",
                                   "    \u001b[32m'kind'\u001b[0m: \u001b[1m{\u001b[0m\u001b[32m'distance_threshold'\u001b[0m, \u001b[32m'bond'\u001b[0m, \u001b[32m'fully_connected'\u001b[0m, \u001b[32m'k_nn_1'\u001b[0m\u001b[1m}\u001b[0m,\n",
                                   "    \u001b[32m'bond'\u001b[0m: \u001b[1m<\u001b[0m\u001b[1;95mrdkit.Chem.rdchem.Bond\u001b[0m\u001b[39m object at \u001b[0m\u001b[1;36m0x7f10c4cb6220\u001b[0m\u001b[1m>\u001b[0m,\n",
                                   "    \u001b[32m'bond_type'\u001b[0m: rdkit.Chem.rdchem.BondType.SINGLE,\n",
                                   "    \u001b[32m'_aromatic'\u001b[0m: \u001b[3;91mFalse\u001b[0m,\n",
                                   "    \u001b[32m'conjugated'\u001b[0m: \u001b[3;91mFalse\u001b[0m,\n",
                                   "    \u001b[32m'ring'\u001b[0m: \u001b[3;91mFalse\u001b[0m,\n",
                                   "    \u001b[32m'bond_stereo'\u001b[0m: rdkit.Chem.rdchem.BondStereo.STEREONONE,\n",
                                   "    \u001b[32m'ring_size_5'\u001b[0m: \u001b[3;91mFalse\u001b[0m,\n",
                                   "    \u001b[32m'ring_size_7'\u001b[0m: \u001b[3;91mFalse\u001b[0m\n",
                                   "\u001b[1m}\u001b[0m\n"
                              ]
                         },
                         "metadata": {},
                         "output_type": "display_data"
                    },
                    {
                         "data": {
                              "text/html": [
                                   "<pre style=\"white-space:pre;overflow-x:auto;line-height:normal;font-family:Menlo,'DejaVu Sans Mono',consolas,'Courier New',monospace\"><span style=\"font-weight: bold\">{</span>\n",
                                   "    <span style=\"color: #008000; text-decoration-color: #008000\">'kind'</span>: <span style=\"font-weight: bold\">{</span><span style=\"color: #008000; text-decoration-color: #008000\">'distance_threshold'</span>, <span style=\"color: #008000; text-decoration-color: #008000\">'fully_connected'</span><span style=\"font-weight: bold\">}</span>,\n",
                                   "    <span style=\"color: #008000; text-decoration-color: #008000\">'bond_type'</span>: <span style=\"color: #800080; text-decoration-color: #800080; font-style: italic\">None</span>,\n",
                                   "    <span style=\"color: #008000; text-decoration-color: #008000\">'aromatic'</span>: <span style=\"color: #800080; text-decoration-color: #800080; font-style: italic\">None</span>,\n",
                                   "    <span style=\"color: #008000; text-decoration-color: #008000\">'conjugated'</span>: <span style=\"color: #800080; text-decoration-color: #800080; font-style: italic\">None</span>,\n",
                                   "    <span style=\"color: #008000; text-decoration-color: #008000\">'ring'</span>: <span style=\"color: #800080; text-decoration-color: #800080; font-style: italic\">None</span>,\n",
                                   "    <span style=\"color: #008000; text-decoration-color: #008000\">'bond_stereo'</span>: <span style=\"color: #800080; text-decoration-color: #800080; font-style: italic\">None</span>,\n",
                                   "    <span style=\"color: #008000; text-decoration-color: #008000\">'ring_size_5'</span>: <span style=\"color: #800080; text-decoration-color: #800080; font-style: italic\">None</span>,\n",
                                   "    <span style=\"color: #008000; text-decoration-color: #008000\">'ring_size_7'</span>: <span style=\"color: #800080; text-decoration-color: #800080; font-style: italic\">None</span>\n",
                                   "<span style=\"font-weight: bold\">}</span>\n",
                                   "</pre>\n"
                              ],
                              "text/plain": [
                                   "\u001b[1m{\u001b[0m\n",
                                   "    \u001b[32m'kind'\u001b[0m: \u001b[1m{\u001b[0m\u001b[32m'distance_threshold'\u001b[0m, \u001b[32m'fully_connected'\u001b[0m\u001b[1m}\u001b[0m,\n",
                                   "    \u001b[32m'bond_type'\u001b[0m: \u001b[3;35mNone\u001b[0m,\n",
                                   "    \u001b[32m'aromatic'\u001b[0m: \u001b[3;35mNone\u001b[0m,\n",
                                   "    \u001b[32m'conjugated'\u001b[0m: \u001b[3;35mNone\u001b[0m,\n",
                                   "    \u001b[32m'ring'\u001b[0m: \u001b[3;35mNone\u001b[0m,\n",
                                   "    \u001b[32m'bond_stereo'\u001b[0m: \u001b[3;35mNone\u001b[0m,\n",
                                   "    \u001b[32m'ring_size_5'\u001b[0m: \u001b[3;35mNone\u001b[0m,\n",
                                   "    \u001b[32m'ring_size_7'\u001b[0m: \u001b[3;35mNone\u001b[0m\n",
                                   "\u001b[1m}\u001b[0m\n"
                              ]
                         },
                         "metadata": {},
                         "output_type": "display_data"
                    }
               ],
               "source": [
                    "config = gm.MoleculeGraphConfig(\n",
                    "    edge_metadata_functions=[\n",
                    "        gm.add_bond_type,\n",
                    "        gm.bond_is_aromatic,\n",
                    "        gm.bond_is_conjugated,\n",
                    "        gm.bond_is_in_ring,\n",
                    "        gm.bond_stereo,\n",
                    "        partial(gm.bond_is_in_ring_size, ring_size=5),\n",
                    "        partial(gm.bond_is_in_ring_size, ring_size=7)\n",
                    "    ]\n",
                    ")\n",
                    "graph = gm.construct_graph(path=\"../tests/molecule/test_data/short_test.mol2\", config=config)\n",
                    "\n",
                    "for u, v, d in graph.edges(data=True):\n",
                    "    print(d)"
               ]
          },
          {
               "cell_type": "markdown",
               "metadata": {},
               "source": [
                    "### Graph Features\n",
                    "Global descriptors of the molecule computed by RDKit can be added to the graph too!"
               ]
          },
          {
               "cell_type": "code",
               "execution_count": 16,
               "metadata": {},
               "outputs": [
                    {
                         "name": "stderr",
                         "output_type": "stream",
                         "text": [
                              "INFO:graphein.molecule.edges.distance:Found: 3 KNN edges\n",
                              "INFO:graphein.molecule.edges.distance:Found: 9 distance edges for radius 5.0\n"
                         ]
                    },
                    {
                         "data": {
                              "text/html": [
                                   "<pre style=\"white-space:pre;overflow-x:auto;line-height:normal;font-family:Menlo,'DejaVu Sans Mono',consolas,'Courier New',monospace\"><span style=\"font-weight: bold\">{</span>\n",
                                   "    <span style=\"color: #008000; text-decoration-color: #008000\">'name'</span>: <span style=\"color: #008000; text-decoration-color: #008000\">'short_test'</span>,\n",
                                   "    <span style=\"color: #008000; text-decoration-color: #008000\">'rdmol'</span>: <span style=\"font-weight: bold\">&lt;</span><span style=\"color: #ff00ff; text-decoration-color: #ff00ff; font-weight: bold\">rdkit.Chem.rdchem.Mol</span><span style=\"color: #000000; text-decoration-color: #000000\"> object at </span><span style=\"color: #008080; text-decoration-color: #008080; font-weight: bold\">0x7f10c5030820</span><span style=\"font-weight: bold\">&gt;</span>,\n",
                                   "    <span style=\"color: #008000; text-decoration-color: #008000\">'coords'</span>: <span style=\"color: #800080; text-decoration-color: #800080; font-weight: bold\">array</span><span style=\"font-weight: bold\">([[</span> <span style=\"color: #008080; text-decoration-color: #008080; font-weight: bold\">0.9862</span>, <span style=\"color: #008080; text-decoration-color: #008080; font-weight: bold\">-0.257</span> , <span style=\"color: #008080; text-decoration-color: #008080; font-weight: bold\">-0.1905</span><span style=\"font-weight: bold\">]</span>,\n",
                                   "       <span style=\"font-weight: bold\">[</span><span style=\"color: #008080; text-decoration-color: #008080; font-weight: bold\">-0.2052</span>,  <span style=\"color: #008080; text-decoration-color: #008080; font-weight: bold\">0.2236</span>,  <span style=\"color: #008080; text-decoration-color: #008080; font-weight: bold\">0.6206</span><span style=\"font-weight: bold\">]</span>,\n",
                                   "       <span style=\"font-weight: bold\">[</span><span style=\"color: #008080; text-decoration-color: #008080; font-weight: bold\">-1.4201</span>,  <span style=\"color: #008080; text-decoration-color: #008080; font-weight: bold\">0.2357</span>, <span style=\"color: #008080; text-decoration-color: #008080; font-weight: bold\">-0.1847</span><span style=\"font-weight: bold\">]])</span>,\n",
                                   "    <span style=\"color: #008000; text-decoration-color: #008000\">'smiles'</span>: <span style=\"color: #008000; text-decoration-color: #008000\">'CCN'</span>,\n",
                                   "    <span style=\"color: #008000; text-decoration-color: #008000\">'config'</span>: <span style=\"color: #800080; text-decoration-color: #800080; font-weight: bold\">MoleculeGraphConfig</span><span style=\"font-weight: bold\">(</span><span style=\"color: #808000; text-decoration-color: #808000\">verbose</span>=<span style=\"color: #ff0000; text-decoration-color: #ff0000; font-style: italic\">False</span>, <span style=\"color: #808000; text-decoration-color: #808000\">add_hs</span>=<span style=\"color: #ff0000; text-decoration-color: #ff0000; font-style: italic\">False</span>, <span style=\"color: #808000; text-decoration-color: #808000\">generate_conformer</span>=<span style=\"color: #ff0000; text-decoration-color: #ff0000; font-style: italic\">False</span>, \n",
                                   "<span style=\"color: #808000; text-decoration-color: #808000\">edge_construction_functions</span>=<span style=\"font-weight: bold\">[&lt;</span><span style=\"color: #ff00ff; text-decoration-color: #ff00ff; font-weight: bold\">function</span><span style=\"color: #000000; text-decoration-color: #000000\"> add_fully_connected_edges at </span><span style=\"color: #008080; text-decoration-color: #008080; font-weight: bold\">0x7f10c593f9d0</span><span style=\"font-weight: bold\">&gt;</span>, \n",
                                   "<span style=\"font-weight: bold\">&lt;</span><span style=\"color: #ff00ff; text-decoration-color: #ff00ff; font-weight: bold\">function</span><span style=\"color: #000000; text-decoration-color: #000000\"> add_k_nn_edges at </span><span style=\"color: #008080; text-decoration-color: #008080; font-weight: bold\">0x7f10c593fa60</span><span style=\"font-weight: bold\">&gt;</span>, <span style=\"font-weight: bold\">&lt;</span><span style=\"color: #ff00ff; text-decoration-color: #ff00ff; font-weight: bold\">function</span><span style=\"color: #000000; text-decoration-color: #000000\"> add_distance_threshold at </span>\n",
                                   "<span style=\"color: #008080; text-decoration-color: #008080; font-weight: bold\">0x7f10c593f940</span><span style=\"font-weight: bold\">&gt;</span>, <span style=\"font-weight: bold\">&lt;</span><span style=\"color: #ff00ff; text-decoration-color: #ff00ff; font-weight: bold\">function</span><span style=\"color: #000000; text-decoration-color: #000000\"> add_atom_bonds at </span><span style=\"color: #008080; text-decoration-color: #008080; font-weight: bold\">0x7f10c593f550</span><span style=\"font-weight: bold\">&gt;]</span>, \n",
                                   "<span style=\"color: #808000; text-decoration-color: #808000\">node_metadata_functions</span>=<span style=\"font-weight: bold\">[&lt;</span><span style=\"color: #ff00ff; text-decoration-color: #ff00ff; font-weight: bold\">function</span><span style=\"color: #000000; text-decoration-color: #000000\"> atom_type_one_hot at </span><span style=\"color: #008080; text-decoration-color: #008080; font-weight: bold\">0x7f10c56e1f70</span><span style=\"font-weight: bold\">&gt;]</span>, \n",
                                   "<span style=\"color: #808000; text-decoration-color: #808000\">edge_metadata_functions</span>=<span style=\"color: #800080; text-decoration-color: #800080; font-style: italic\">None</span>, <span style=\"color: #808000; text-decoration-color: #808000\">graph_metadata_functions</span>=<span style=\"font-weight: bold\">[&lt;</span><span style=\"color: #ff00ff; text-decoration-color: #ff00ff; font-weight: bold\">function</span><span style=\"color: #000000; text-decoration-color: #000000\"> mol_descriptors at </span>\n",
                                   "<span style=\"color: #008080; text-decoration-color: #008080; font-weight: bold\">0x7f10c5945280</span><span style=\"font-weight: bold\">&gt;])</span>,\n",
                                   "    <span style=\"color: #008000; text-decoration-color: #008000\">'MaxEStateIndex'</span>: <span style=\"color: #008080; text-decoration-color: #008080; font-weight: bold\">4.847222222222222</span>,\n",
                                   "    <span style=\"color: #008000; text-decoration-color: #008000\">'MinEStateIndex'</span>: <span style=\"color: #008080; text-decoration-color: #008080; font-weight: bold\">0.75</span>,\n",
                                   "    <span style=\"color: #008000; text-decoration-color: #008000\">'MaxAbsEStateIndex'</span>: <span style=\"color: #008080; text-decoration-color: #008080; font-weight: bold\">4.847222222222222</span>,\n",
                                   "    <span style=\"color: #008000; text-decoration-color: #008000\">'MinAbsEStateIndex'</span>: <span style=\"color: #008080; text-decoration-color: #008080; font-weight: bold\">0.75</span>,\n",
                                   "    <span style=\"color: #008000; text-decoration-color: #008000\">'qed'</span>: <span style=\"color: #008080; text-decoration-color: #008080; font-weight: bold\">0.40623709538988323</span>,\n",
                                   "    <span style=\"color: #008000; text-decoration-color: #008000\">'MolWt'</span>: <span style=\"color: #008080; text-decoration-color: #008080; font-weight: bold\">45.084999999999994</span>,\n",
                                   "    <span style=\"color: #008000; text-decoration-color: #008000\">'HeavyAtomMolWt'</span>: <span style=\"color: #008080; text-decoration-color: #008080; font-weight: bold\">38.028999999999996</span>,\n",
                                   "    <span style=\"color: #008000; text-decoration-color: #008000\">'ExactMolWt'</span>: <span style=\"color: #008080; text-decoration-color: #008080; font-weight: bold\">45.057849223999995</span>,\n",
                                   "    <span style=\"color: #008000; text-decoration-color: #008000\">'NumValenceElectrons'</span>: <span style=\"color: #008080; text-decoration-color: #008080; font-weight: bold\">20</span>,\n",
                                   "    <span style=\"color: #008000; text-decoration-color: #008000\">'NumRadicalElectrons'</span>: <span style=\"color: #008080; text-decoration-color: #008080; font-weight: bold\">0</span>,\n",
                                   "    <span style=\"color: #008000; text-decoration-color: #008000\">'MaxPartialCharge'</span>: <span style=\"color: #008080; text-decoration-color: #008080; font-weight: bold\">-0.010576265829206462</span>,\n",
                                   "    <span style=\"color: #008000; text-decoration-color: #008000\">'MinPartialCharge'</span>: <span style=\"color: #008080; text-decoration-color: #008080; font-weight: bold\">-0.3307484184390755</span>,\n",
                                   "    <span style=\"color: #008000; text-decoration-color: #008000\">'MaxAbsPartialCharge'</span>: <span style=\"color: #008080; text-decoration-color: #008080; font-weight: bold\">0.3307484184390755</span>,\n",
                                   "    <span style=\"color: #008000; text-decoration-color: #008000\">'MinAbsPartialCharge'</span>: <span style=\"color: #008080; text-decoration-color: #008080; font-weight: bold\">0.010576265829206462</span>,\n",
                                   "    <span style=\"color: #008000; text-decoration-color: #008000\">'FpDensityMorgan1'</span>: <span style=\"color: #008080; text-decoration-color: #008080; font-weight: bold\">2.0</span>,\n",
                                   "    <span style=\"color: #008000; text-decoration-color: #008000\">'FpDensityMorgan2'</span>: <span style=\"color: #008080; text-decoration-color: #008080; font-weight: bold\">2.0</span>,\n",
                                   "    <span style=\"color: #008000; text-decoration-color: #008000\">'FpDensityMorgan3'</span>: <span style=\"color: #008080; text-decoration-color: #008080; font-weight: bold\">2.0</span>,\n",
                                   "    <span style=\"color: #008000; text-decoration-color: #008000\">'BalabanJ'</span>: <span style=\"color: #008080; text-decoration-color: #008080; font-weight: bold\">1.6329931618554523</span>,\n",
                                   "    <span style=\"color: #008000; text-decoration-color: #008000\">'BertzCT'</span>: <span style=\"color: #008080; text-decoration-color: #008080; font-weight: bold\">2.7548875021634682</span>,\n",
                                   "    <span style=\"color: #008000; text-decoration-color: #008000\">'Chi0'</span>: <span style=\"color: #008080; text-decoration-color: #008080; font-weight: bold\">2.7071067811865475</span>,\n",
                                   "    <span style=\"color: #008000; text-decoration-color: #008000\">'Chi0n'</span>: <span style=\"color: #008080; text-decoration-color: #008080; font-weight: bold\">2.284457050376173</span>,\n",
                                   "    <span style=\"color: #008000; text-decoration-color: #008000\">'Chi0v'</span>: <span style=\"color: #008080; text-decoration-color: #008080; font-weight: bold\">2.284457050376173</span>,\n",
                                   "    <span style=\"color: #008000; text-decoration-color: #008000\">'Chi1'</span>: <span style=\"color: #008080; text-decoration-color: #008080; font-weight: bold\">1.4142135623730951</span>,\n",
                                   "    <span style=\"color: #008000; text-decoration-color: #008000\">'Chi1n'</span>: <span style=\"color: #008080; text-decoration-color: #008080; font-weight: bold\">1.1153550716504106</span>,\n",
                                   "    <span style=\"color: #008000; text-decoration-color: #008000\">'Chi1v'</span>: <span style=\"color: #008080; text-decoration-color: #008080; font-weight: bold\">1.1153550716504106</span>,\n",
                                   "    <span style=\"color: #008000; text-decoration-color: #008000\">'Chi2n'</span>: <span style=\"color: #008080; text-decoration-color: #008080; font-weight: bold\">0.408248290463863</span>,\n",
                                   "    <span style=\"color: #008000; text-decoration-color: #008000\">'Chi2v'</span>: <span style=\"color: #008080; text-decoration-color: #008080; font-weight: bold\">0.408248290463863</span>,\n",
                                   "    <span style=\"color: #008000; text-decoration-color: #008000\">'Chi3n'</span>: <span style=\"color: #008080; text-decoration-color: #008080; font-weight: bold\">0.0</span>,\n",
                                   "    <span style=\"color: #008000; text-decoration-color: #008000\">'Chi3v'</span>: <span style=\"color: #008080; text-decoration-color: #008080; font-weight: bold\">0.0</span>,\n",
                                   "    <span style=\"color: #008000; text-decoration-color: #008000\">'Chi4n'</span>: <span style=\"color: #008080; text-decoration-color: #008080; font-weight: bold\">0.0</span>,\n",
                                   "    <span style=\"color: #008000; text-decoration-color: #008000\">'Chi4v'</span>: <span style=\"color: #008080; text-decoration-color: #008080; font-weight: bold\">0.0</span>,\n",
                                   "    <span style=\"color: #008000; text-decoration-color: #008000\">'HallKierAlpha'</span>: <span style=\"color: #008080; text-decoration-color: #008080; font-weight: bold\">-0.04</span>,\n",
                                   "    <span style=\"color: #008000; text-decoration-color: #008000\">'Ipc'</span>: <span style=\"color: #008080; text-decoration-color: #008080; font-weight: bold\">2.7548875021634682</span>,\n",
                                   "    <span style=\"color: #008000; text-decoration-color: #008000\">'Kappa1'</span>: <span style=\"color: #008080; text-decoration-color: #008080; font-weight: bold\">2.9600000000000004</span>,\n",
                                   "    <span style=\"color: #008000; text-decoration-color: #008000\">'Kappa2'</span>: <span style=\"color: #008080; text-decoration-color: #008080; font-weight: bold\">1.96</span>,\n",
                                   "    <span style=\"color: #008000; text-decoration-color: #008000\">'Kappa3'</span>: <span style=\"color: #008080; text-decoration-color: #008080; font-weight: bold\">1.9600000000000033</span>,\n",
                                   "    <span style=\"color: #008000; text-decoration-color: #008000\">'LabuteASA'</span>: <span style=\"color: #008080; text-decoration-color: #008080; font-weight: bold\">20.444083839238875</span>,\n",
                                   "    <span style=\"color: #008000; text-decoration-color: #008000\">'PEOE_VSA1'</span>: <span style=\"color: #008080; text-decoration-color: #008080; font-weight: bold\">5.733667477162185</span>,\n",
                                   "    <span style=\"color: #008000; text-decoration-color: #008000\">'PEOE_VSA10'</span>: <span style=\"color: #008080; text-decoration-color: #008080; font-weight: bold\">0.0</span>,\n",
                                   "    <span style=\"color: #008000; text-decoration-color: #008000\">'PEOE_VSA11'</span>: <span style=\"color: #008080; text-decoration-color: #008080; font-weight: bold\">0.0</span>,\n",
                                   "    <span style=\"color: #008000; text-decoration-color: #008000\">'PEOE_VSA12'</span>: <span style=\"color: #008080; text-decoration-color: #008080; font-weight: bold\">0.0</span>,\n",
                                   "    <span style=\"color: #008000; text-decoration-color: #008000\">'PEOE_VSA13'</span>: <span style=\"color: #008080; text-decoration-color: #008080; font-weight: bold\">0.0</span>,\n",
                                   "    <span style=\"color: #008000; text-decoration-color: #008000\">'PEOE_VSA14'</span>: <span style=\"color: #008080; text-decoration-color: #008080; font-weight: bold\">0.0</span>,\n",
                                   "    <span style=\"color: #008000; text-decoration-color: #008000\">'PEOE_VSA2'</span>: <span style=\"color: #008080; text-decoration-color: #008080; font-weight: bold\">0.0</span>,\n",
                                   "    <span style=\"color: #008000; text-decoration-color: #008000\">'PEOE_VSA3'</span>: <span style=\"color: #008080; text-decoration-color: #008080; font-weight: bold\">0.0</span>,\n",
                                   "    <span style=\"color: #008000; text-decoration-color: #008000\">'PEOE_VSA4'</span>: <span style=\"color: #008080; text-decoration-color: #008080; font-weight: bold\">0.0</span>,\n",
                                   "    <span style=\"color: #008000; text-decoration-color: #008000\">'PEOE_VSA5'</span>: <span style=\"color: #008080; text-decoration-color: #008080; font-weight: bold\">0.0</span>,\n",
                                   "    <span style=\"color: #008000; text-decoration-color: #008000\">'PEOE_VSA6'</span>: <span style=\"color: #008080; text-decoration-color: #008080; font-weight: bold\">6.923737199690624</span>,\n",
                                   "    <span style=\"color: #008000; text-decoration-color: #008000\">'PEOE_VSA7'</span>: <span style=\"color: #008080; text-decoration-color: #008080; font-weight: bold\">6.544756405912575</span>,\n",
                                   "    <span style=\"color: #008000; text-decoration-color: #008000\">'PEOE_VSA8'</span>: <span style=\"color: #008080; text-decoration-color: #008080; font-weight: bold\">0.0</span>,\n",
                                   "    <span style=\"color: #008000; text-decoration-color: #008000\">'PEOE_VSA9'</span>: <span style=\"color: #008080; text-decoration-color: #008080; font-weight: bold\">0.0</span>,\n",
                                   "    <span style=\"color: #008000; text-decoration-color: #008000\">'SMR_VSA1'</span>: <span style=\"color: #008080; text-decoration-color: #008080; font-weight: bold\">0.0</span>,\n",
                                   "    <span style=\"color: #008000; text-decoration-color: #008000\">'SMR_VSA10'</span>: <span style=\"color: #008080; text-decoration-color: #008080; font-weight: bold\">0.0</span>,\n",
                                   "    <span style=\"color: #008000; text-decoration-color: #008000\">'SMR_VSA2'</span>: <span style=\"color: #008080; text-decoration-color: #008080; font-weight: bold\">0.0</span>,\n",
                                   "    <span style=\"color: #008000; text-decoration-color: #008000\">'SMR_VSA3'</span>: <span style=\"color: #008080; text-decoration-color: #008080; font-weight: bold\">0.0</span>,\n",
                                   "    <span style=\"color: #008000; text-decoration-color: #008000\">'SMR_VSA4'</span>: <span style=\"color: #008080; text-decoration-color: #008080; font-weight: bold\">5.733667477162185</span>,\n",
                                   "    <span style=\"color: #008000; text-decoration-color: #008000\">'SMR_VSA5'</span>: <span style=\"color: #008080; text-decoration-color: #008080; font-weight: bold\">6.923737199690624</span>,\n",
                                   "    <span style=\"color: #008000; text-decoration-color: #008000\">'SMR_VSA6'</span>: <span style=\"color: #008080; text-decoration-color: #008080; font-weight: bold\">6.544756405912575</span>,\n",
                                   "    <span style=\"color: #008000; text-decoration-color: #008000\">'SMR_VSA7'</span>: <span style=\"color: #008080; text-decoration-color: #008080; font-weight: bold\">0.0</span>,\n",
                                   "    <span style=\"color: #008000; text-decoration-color: #008000\">'SMR_VSA8'</span>: <span style=\"color: #008080; text-decoration-color: #008080; font-weight: bold\">0.0</span>,\n",
                                   "    <span style=\"color: #008000; text-decoration-color: #008000\">'SMR_VSA9'</span>: <span style=\"color: #008080; text-decoration-color: #008080; font-weight: bold\">0.0</span>,\n",
                                   "    <span style=\"color: #008000; text-decoration-color: #008000\">'SlogP_VSA1'</span>: <span style=\"color: #008080; text-decoration-color: #008080; font-weight: bold\">5.733667477162185</span>,\n",
                                   "    <span style=\"color: #008000; text-decoration-color: #008000\">'SlogP_VSA10'</span>: <span style=\"color: #008080; text-decoration-color: #008080; font-weight: bold\">0.0</span>,\n",
                                   "    <span style=\"color: #008000; text-decoration-color: #008000\">'SlogP_VSA11'</span>: <span style=\"color: #008080; text-decoration-color: #008080; font-weight: bold\">0.0</span>,\n",
                                   "    <span style=\"color: #008000; text-decoration-color: #008000\">'SlogP_VSA12'</span>: <span style=\"color: #008080; text-decoration-color: #008080; font-weight: bold\">0.0</span>,\n",
                                   "    <span style=\"color: #008000; text-decoration-color: #008000\">'SlogP_VSA2'</span>: <span style=\"color: #008080; text-decoration-color: #008080; font-weight: bold\">6.544756405912575</span>,\n",
                                   "    <span style=\"color: #008000; text-decoration-color: #008000\">'SlogP_VSA3'</span>: <span style=\"color: #008080; text-decoration-color: #008080; font-weight: bold\">0.0</span>,\n",
                                   "    <span style=\"color: #008000; text-decoration-color: #008000\">'SlogP_VSA4'</span>: <span style=\"color: #008080; text-decoration-color: #008080; font-weight: bold\">0.0</span>,\n",
                                   "    <span style=\"color: #008000; text-decoration-color: #008000\">'SlogP_VSA5'</span>: <span style=\"color: #008080; text-decoration-color: #008080; font-weight: bold\">6.923737199690624</span>,\n",
                                   "    <span style=\"color: #008000; text-decoration-color: #008000\">'SlogP_VSA6'</span>: <span style=\"color: #008080; text-decoration-color: #008080; font-weight: bold\">0.0</span>,\n",
                                   "    <span style=\"color: #008000; text-decoration-color: #008000\">'SlogP_VSA7'</span>: <span style=\"color: #008080; text-decoration-color: #008080; font-weight: bold\">0.0</span>,\n",
                                   "    <span style=\"color: #008000; text-decoration-color: #008000\">'SlogP_VSA8'</span>: <span style=\"color: #008080; text-decoration-color: #008080; font-weight: bold\">0.0</span>,\n",
                                   "    <span style=\"color: #008000; text-decoration-color: #008000\">'SlogP_VSA9'</span>: <span style=\"color: #008080; text-decoration-color: #008080; font-weight: bold\">0.0</span>,\n",
                                   "    <span style=\"color: #008000; text-decoration-color: #008000\">'TPSA'</span>: <span style=\"color: #008080; text-decoration-color: #008080; font-weight: bold\">26.02</span>,\n",
                                   "    <span style=\"color: #008000; text-decoration-color: #008000\">'EState_VSA1'</span>: <span style=\"color: #008080; text-decoration-color: #008080; font-weight: bold\">0.0</span>,\n",
                                   "    <span style=\"color: #008000; text-decoration-color: #008000\">'EState_VSA10'</span>: <span style=\"color: #008080; text-decoration-color: #008080; font-weight: bold\">0.0</span>,\n",
                                   "    <span style=\"color: #008000; text-decoration-color: #008000\">'EState_VSA11'</span>: <span style=\"color: #008080; text-decoration-color: #008080; font-weight: bold\">0.0</span>,\n",
                                   "    <span style=\"color: #008000; text-decoration-color: #008000\">'EState_VSA2'</span>: <span style=\"color: #008080; text-decoration-color: #008080; font-weight: bold\">0.0</span>,\n",
                                   "    <span style=\"color: #008000; text-decoration-color: #008000\">'EState_VSA3'</span>: <span style=\"color: #008080; text-decoration-color: #008080; font-weight: bold\">0.0</span>,\n",
                                   "    <span style=\"color: #008000; text-decoration-color: #008000\">'EState_VSA4'</span>: <span style=\"color: #008080; text-decoration-color: #008080; font-weight: bold\">6.544756405912575</span>,\n",
                                   "    <span style=\"color: #008000; text-decoration-color: #008000\">'EState_VSA5'</span>: <span style=\"color: #008080; text-decoration-color: #008080; font-weight: bold\">0.0</span>,\n",
                                   "    <span style=\"color: #008000; text-decoration-color: #008000\">'EState_VSA6'</span>: <span style=\"color: #008080; text-decoration-color: #008080; font-weight: bold\">0.0</span>,\n",
                                   "    <span style=\"color: #008000; text-decoration-color: #008000\">'EState_VSA7'</span>: <span style=\"color: #008080; text-decoration-color: #008080; font-weight: bold\">6.923737199690624</span>,\n",
                                   "    <span style=\"color: #008000; text-decoration-color: #008000\">'EState_VSA8'</span>: <span style=\"color: #008080; text-decoration-color: #008080; font-weight: bold\">0.0</span>,\n",
                                   "    <span style=\"color: #008000; text-decoration-color: #008000\">'EState_VSA9'</span>: <span style=\"color: #008080; text-decoration-color: #008080; font-weight: bold\">5.733667477162185</span>,\n",
                                   "    <span style=\"color: #008000; text-decoration-color: #008000\">'VSA_EState1'</span>: <span style=\"color: #008080; text-decoration-color: #008080; font-weight: bold\">0.0</span>,\n",
                                   "    <span style=\"color: #008000; text-decoration-color: #008000\">'VSA_EState10'</span>: <span style=\"color: #008080; text-decoration-color: #008080; font-weight: bold\">0.0</span>,\n",
                                   "    <span style=\"color: #008000; text-decoration-color: #008000\">'VSA_EState2'</span>: <span style=\"color: #008080; text-decoration-color: #008080; font-weight: bold\">0.0</span>,\n",
                                   "    <span style=\"color: #008000; text-decoration-color: #008000\">'VSA_EState3'</span>: <span style=\"color: #008080; text-decoration-color: #008080; font-weight: bold\">0.0</span>,\n",
                                   "    <span style=\"color: #008000; text-decoration-color: #008000\">'VSA_EState4'</span>: <span style=\"color: #008080; text-decoration-color: #008080; font-weight: bold\">4.847222222222222</span>,\n",
                                   "    <span style=\"color: #008000; text-decoration-color: #008000\">'VSA_EState5'</span>: <span style=\"color: #008080; text-decoration-color: #008080; font-weight: bold\">0.0</span>,\n",
                                   "    <span style=\"color: #008000; text-decoration-color: #008000\">'VSA_EState6'</span>: <span style=\"color: #008080; text-decoration-color: #008080; font-weight: bold\">0.0</span>,\n",
                                   "    <span style=\"color: #008000; text-decoration-color: #008000\">'VSA_EState7'</span>: <span style=\"color: #008080; text-decoration-color: #008080; font-weight: bold\">0.0</span>,\n",
                                   "    <span style=\"color: #008000; text-decoration-color: #008000\">'VSA_EState8'</span>: <span style=\"color: #008080; text-decoration-color: #008080; font-weight: bold\">2.6527777777777777</span>,\n",
                                   "    <span style=\"color: #008000; text-decoration-color: #008000\">'VSA_EState9'</span>: <span style=\"color: #008080; text-decoration-color: #008080; font-weight: bold\">0.0</span>,\n",
                                   "    <span style=\"color: #008000; text-decoration-color: #008000\">'FractionCSP3'</span>: <span style=\"color: #008080; text-decoration-color: #008080; font-weight: bold\">1.0</span>,\n",
                                   "    <span style=\"color: #008000; text-decoration-color: #008000\">'HeavyAtomCount'</span>: <span style=\"color: #008080; text-decoration-color: #008080; font-weight: bold\">3</span>,\n",
                                   "    <span style=\"color: #008000; text-decoration-color: #008000\">'NHOHCount'</span>: <span style=\"color: #008080; text-decoration-color: #008080; font-weight: bold\">2</span>,\n",
                                   "    <span style=\"color: #008000; text-decoration-color: #008000\">'NOCount'</span>: <span style=\"color: #008080; text-decoration-color: #008080; font-weight: bold\">1</span>,\n",
                                   "    <span style=\"color: #008000; text-decoration-color: #008000\">'NumAliphaticCarbocycles'</span>: <span style=\"color: #008080; text-decoration-color: #008080; font-weight: bold\">0</span>,\n",
                                   "    <span style=\"color: #008000; text-decoration-color: #008000\">'NumAliphaticHeterocycles'</span>: <span style=\"color: #008080; text-decoration-color: #008080; font-weight: bold\">0</span>,\n",
                                   "    <span style=\"color: #008000; text-decoration-color: #008000\">'NumAliphaticRings'</span>: <span style=\"color: #008080; text-decoration-color: #008080; font-weight: bold\">0</span>,\n",
                                   "    <span style=\"color: #008000; text-decoration-color: #008000\">'NumAromaticCarbocycles'</span>: <span style=\"color: #008080; text-decoration-color: #008080; font-weight: bold\">0</span>,\n",
                                   "    <span style=\"color: #008000; text-decoration-color: #008000\">'NumAromaticHeterocycles'</span>: <span style=\"color: #008080; text-decoration-color: #008080; font-weight: bold\">0</span>,\n",
                                   "    <span style=\"color: #008000; text-decoration-color: #008000\">'NumAromaticRings'</span>: <span style=\"color: #008080; text-decoration-color: #008080; font-weight: bold\">0</span>,\n",
                                   "    <span style=\"color: #008000; text-decoration-color: #008000\">'NumHAcceptors'</span>: <span style=\"color: #008080; text-decoration-color: #008080; font-weight: bold\">1</span>,\n",
                                   "    <span style=\"color: #008000; text-decoration-color: #008000\">'NumHDonors'</span>: <span style=\"color: #008080; text-decoration-color: #008080; font-weight: bold\">1</span>,\n",
                                   "    <span style=\"color: #008000; text-decoration-color: #008000\">'NumHeteroatoms'</span>: <span style=\"color: #008080; text-decoration-color: #008080; font-weight: bold\">1</span>,\n",
                                   "    <span style=\"color: #008000; text-decoration-color: #008000\">'NumRotatableBonds'</span>: <span style=\"color: #008080; text-decoration-color: #008080; font-weight: bold\">0</span>,\n",
                                   "    <span style=\"color: #008000; text-decoration-color: #008000\">'NumSaturatedCarbocycles'</span>: <span style=\"color: #008080; text-decoration-color: #008080; font-weight: bold\">0</span>,\n",
                                   "    <span style=\"color: #008000; text-decoration-color: #008000\">'NumSaturatedHeterocycles'</span>: <span style=\"color: #008080; text-decoration-color: #008080; font-weight: bold\">0</span>,\n",
                                   "    <span style=\"color: #008000; text-decoration-color: #008000\">'NumSaturatedRings'</span>: <span style=\"color: #008080; text-decoration-color: #008080; font-weight: bold\">0</span>,\n",
                                   "    <span style=\"color: #008000; text-decoration-color: #008000\">'RingCount'</span>: <span style=\"color: #008080; text-decoration-color: #008080; font-weight: bold\">0</span>,\n",
                                   "    <span style=\"color: #008000; text-decoration-color: #008000\">'MolLogP'</span>: <span style=\"color: #008080; text-decoration-color: #008080; font-weight: bold\">-0.03499999999999981</span>,\n",
                                   "    <span style=\"color: #008000; text-decoration-color: #008000\">'MolMR'</span>: <span style=\"color: #008080; text-decoration-color: #008080; font-weight: bold\">14.728400000000002</span>,\n",
                                   "    <span style=\"color: #008000; text-decoration-color: #008000\">'fr_Al_COO'</span>: <span style=\"color: #008080; text-decoration-color: #008080; font-weight: bold\">0</span>,\n",
                                   "    <span style=\"color: #008000; text-decoration-color: #008000\">'fr_Al_OH'</span>: <span style=\"color: #008080; text-decoration-color: #008080; font-weight: bold\">0</span>,\n",
                                   "    <span style=\"color: #008000; text-decoration-color: #008000\">'fr_Al_OH_noTert'</span>: <span style=\"color: #008080; text-decoration-color: #008080; font-weight: bold\">0</span>,\n",
                                   "    <span style=\"color: #008000; text-decoration-color: #008000\">'fr_ArN'</span>: <span style=\"color: #008080; text-decoration-color: #008080; font-weight: bold\">0</span>,\n",
                                   "    <span style=\"color: #008000; text-decoration-color: #008000\">'fr_Ar_COO'</span>: <span style=\"color: #008080; text-decoration-color: #008080; font-weight: bold\">0</span>,\n",
                                   "    <span style=\"color: #008000; text-decoration-color: #008000\">'fr_Ar_N'</span>: <span style=\"color: #008080; text-decoration-color: #008080; font-weight: bold\">0</span>,\n",
                                   "    <span style=\"color: #008000; text-decoration-color: #008000\">'fr_Ar_NH'</span>: <span style=\"color: #008080; text-decoration-color: #008080; font-weight: bold\">0</span>,\n",
                                   "    <span style=\"color: #008000; text-decoration-color: #008000\">'fr_Ar_OH'</span>: <span style=\"color: #008080; text-decoration-color: #008080; font-weight: bold\">0</span>,\n",
                                   "    <span style=\"color: #008000; text-decoration-color: #008000\">'fr_COO'</span>: <span style=\"color: #008080; text-decoration-color: #008080; font-weight: bold\">0</span>,\n",
                                   "    <span style=\"color: #008000; text-decoration-color: #008000\">'fr_COO2'</span>: <span style=\"color: #008080; text-decoration-color: #008080; font-weight: bold\">0</span>,\n",
                                   "    <span style=\"color: #008000; text-decoration-color: #008000\">'fr_C_O'</span>: <span style=\"color: #008080; text-decoration-color: #008080; font-weight: bold\">0</span>,\n",
                                   "    <span style=\"color: #008000; text-decoration-color: #008000\">'fr_C_O_noCOO'</span>: <span style=\"color: #008080; text-decoration-color: #008080; font-weight: bold\">0</span>,\n",
                                   "    <span style=\"color: #008000; text-decoration-color: #008000\">'fr_C_S'</span>: <span style=\"color: #008080; text-decoration-color: #008080; font-weight: bold\">0</span>,\n",
                                   "    <span style=\"color: #008000; text-decoration-color: #008000\">'fr_HOCCN'</span>: <span style=\"color: #008080; text-decoration-color: #008080; font-weight: bold\">0</span>,\n",
                                   "    <span style=\"color: #008000; text-decoration-color: #008000\">'fr_Imine'</span>: <span style=\"color: #008080; text-decoration-color: #008080; font-weight: bold\">0</span>,\n",
                                   "    <span style=\"color: #008000; text-decoration-color: #008000\">'fr_NH0'</span>: <span style=\"color: #008080; text-decoration-color: #008080; font-weight: bold\">0</span>,\n",
                                   "    <span style=\"color: #008000; text-decoration-color: #008000\">'fr_NH1'</span>: <span style=\"color: #008080; text-decoration-color: #008080; font-weight: bold\">0</span>,\n",
                                   "    <span style=\"color: #008000; text-decoration-color: #008000\">'fr_NH2'</span>: <span style=\"color: #008080; text-decoration-color: #008080; font-weight: bold\">1</span>,\n",
                                   "    <span style=\"color: #008000; text-decoration-color: #008000\">'fr_N_O'</span>: <span style=\"color: #008080; text-decoration-color: #008080; font-weight: bold\">0</span>,\n",
                                   "    <span style=\"color: #008000; text-decoration-color: #008000\">'fr_Ndealkylation1'</span>: <span style=\"color: #008080; text-decoration-color: #008080; font-weight: bold\">0</span>,\n",
                                   "    <span style=\"color: #008000; text-decoration-color: #008000\">'fr_Ndealkylation2'</span>: <span style=\"color: #008080; text-decoration-color: #008080; font-weight: bold\">0</span>,\n",
                                   "    <span style=\"color: #008000; text-decoration-color: #008000\">'fr_Nhpyrrole'</span>: <span style=\"color: #008080; text-decoration-color: #008080; font-weight: bold\">0</span>,\n",
                                   "    <span style=\"color: #008000; text-decoration-color: #008000\">'fr_SH'</span>: <span style=\"color: #008080; text-decoration-color: #008080; font-weight: bold\">0</span>,\n",
                                   "    <span style=\"color: #008000; text-decoration-color: #008000\">'fr_aldehyde'</span>: <span style=\"color: #008080; text-decoration-color: #008080; font-weight: bold\">0</span>,\n",
                                   "    <span style=\"color: #008000; text-decoration-color: #008000\">'fr_alkyl_carbamate'</span>: <span style=\"color: #008080; text-decoration-color: #008080; font-weight: bold\">0</span>,\n",
                                   "    <span style=\"color: #008000; text-decoration-color: #008000\">'fr_alkyl_halide'</span>: <span style=\"color: #008080; text-decoration-color: #008080; font-weight: bold\">0</span>,\n",
                                   "    <span style=\"color: #008000; text-decoration-color: #008000\">'fr_allylic_oxid'</span>: <span style=\"color: #008080; text-decoration-color: #008080; font-weight: bold\">0</span>,\n",
                                   "    <span style=\"color: #008000; text-decoration-color: #008000\">'fr_amide'</span>: <span style=\"color: #008080; text-decoration-color: #008080; font-weight: bold\">0</span>,\n",
                                   "    <span style=\"color: #008000; text-decoration-color: #008000\">'fr_amidine'</span>: <span style=\"color: #008080; text-decoration-color: #008080; font-weight: bold\">0</span>,\n",
                                   "    <span style=\"color: #008000; text-decoration-color: #008000\">'fr_aniline'</span>: <span style=\"color: #008080; text-decoration-color: #008080; font-weight: bold\">0</span>,\n",
                                   "    <span style=\"color: #008000; text-decoration-color: #008000\">'fr_aryl_methyl'</span>: <span style=\"color: #008080; text-decoration-color: #008080; font-weight: bold\">0</span>,\n",
                                   "    <span style=\"color: #008000; text-decoration-color: #008000\">'fr_azide'</span>: <span style=\"color: #008080; text-decoration-color: #008080; font-weight: bold\">0</span>,\n",
                                   "    <span style=\"color: #008000; text-decoration-color: #008000\">'fr_azo'</span>: <span style=\"color: #008080; text-decoration-color: #008080; font-weight: bold\">0</span>,\n",
                                   "    <span style=\"color: #008000; text-decoration-color: #008000\">'fr_barbitur'</span>: <span style=\"color: #008080; text-decoration-color: #008080; font-weight: bold\">0</span>,\n",
                                   "    <span style=\"color: #008000; text-decoration-color: #008000\">'fr_benzene'</span>: <span style=\"color: #008080; text-decoration-color: #008080; font-weight: bold\">0</span>,\n",
                                   "    <span style=\"color: #008000; text-decoration-color: #008000\">'fr_benzodiazepine'</span>: <span style=\"color: #008080; text-decoration-color: #008080; font-weight: bold\">0</span>,\n",
                                   "    <span style=\"color: #008000; text-decoration-color: #008000\">'fr_bicyclic'</span>: <span style=\"color: #008080; text-decoration-color: #008080; font-weight: bold\">0</span>,\n",
                                   "    <span style=\"color: #008000; text-decoration-color: #008000\">'fr_diazo'</span>: <span style=\"color: #008080; text-decoration-color: #008080; font-weight: bold\">0</span>,\n",
                                   "    <span style=\"color: #008000; text-decoration-color: #008000\">'fr_dihydropyridine'</span>: <span style=\"color: #008080; text-decoration-color: #008080; font-weight: bold\">0</span>,\n",
                                   "    <span style=\"color: #008000; text-decoration-color: #008000\">'fr_epoxide'</span>: <span style=\"color: #008080; text-decoration-color: #008080; font-weight: bold\">0</span>,\n",
                                   "    <span style=\"color: #008000; text-decoration-color: #008000\">'fr_ester'</span>: <span style=\"color: #008080; text-decoration-color: #008080; font-weight: bold\">0</span>,\n",
                                   "    <span style=\"color: #008000; text-decoration-color: #008000\">'fr_ether'</span>: <span style=\"color: #008080; text-decoration-color: #008080; font-weight: bold\">0</span>,\n",
                                   "    <span style=\"color: #008000; text-decoration-color: #008000\">'fr_furan'</span>: <span style=\"color: #008080; text-decoration-color: #008080; font-weight: bold\">0</span>,\n",
                                   "    <span style=\"color: #008000; text-decoration-color: #008000\">'fr_guanido'</span>: <span style=\"color: #008080; text-decoration-color: #008080; font-weight: bold\">0</span>,\n",
                                   "    <span style=\"color: #008000; text-decoration-color: #008000\">'fr_halogen'</span>: <span style=\"color: #008080; text-decoration-color: #008080; font-weight: bold\">0</span>,\n",
                                   "    <span style=\"color: #008000; text-decoration-color: #008000\">'fr_hdrzine'</span>: <span style=\"color: #008080; text-decoration-color: #008080; font-weight: bold\">0</span>,\n",
                                   "    <span style=\"color: #008000; text-decoration-color: #008000\">'fr_hdrzone'</span>: <span style=\"color: #008080; text-decoration-color: #008080; font-weight: bold\">0</span>,\n",
                                   "    <span style=\"color: #008000; text-decoration-color: #008000\">'fr_imidazole'</span>: <span style=\"color: #008080; text-decoration-color: #008080; font-weight: bold\">0</span>,\n",
                                   "    <span style=\"color: #008000; text-decoration-color: #008000\">'fr_imide'</span>: <span style=\"color: #008080; text-decoration-color: #008080; font-weight: bold\">0</span>,\n",
                                   "    <span style=\"color: #008000; text-decoration-color: #008000\">'fr_isocyan'</span>: <span style=\"color: #008080; text-decoration-color: #008080; font-weight: bold\">0</span>,\n",
                                   "    <span style=\"color: #008000; text-decoration-color: #008000\">'fr_isothiocyan'</span>: <span style=\"color: #008080; text-decoration-color: #008080; font-weight: bold\">0</span>,\n",
                                   "    <span style=\"color: #008000; text-decoration-color: #008000\">'fr_ketone'</span>: <span style=\"color: #008080; text-decoration-color: #008080; font-weight: bold\">0</span>,\n",
                                   "    <span style=\"color: #008000; text-decoration-color: #008000\">'fr_ketone_Topliss'</span>: <span style=\"color: #008080; text-decoration-color: #008080; font-weight: bold\">0</span>,\n",
                                   "    <span style=\"color: #008000; text-decoration-color: #008000\">'fr_lactam'</span>: <span style=\"color: #008080; text-decoration-color: #008080; font-weight: bold\">0</span>,\n",
                                   "    <span style=\"color: #008000; text-decoration-color: #008000\">'fr_lactone'</span>: <span style=\"color: #008080; text-decoration-color: #008080; font-weight: bold\">0</span>,\n",
                                   "    <span style=\"color: #008000; text-decoration-color: #008000\">'fr_methoxy'</span>: <span style=\"color: #008080; text-decoration-color: #008080; font-weight: bold\">0</span>,\n",
                                   "    <span style=\"color: #008000; text-decoration-color: #008000\">'fr_morpholine'</span>: <span style=\"color: #008080; text-decoration-color: #008080; font-weight: bold\">0</span>,\n",
                                   "    <span style=\"color: #008000; text-decoration-color: #008000\">'fr_nitrile'</span>: <span style=\"color: #008080; text-decoration-color: #008080; font-weight: bold\">0</span>,\n",
                                   "    <span style=\"color: #008000; text-decoration-color: #008000\">'fr_nitro'</span>: <span style=\"color: #008080; text-decoration-color: #008080; font-weight: bold\">0</span>,\n",
                                   "    <span style=\"color: #008000; text-decoration-color: #008000\">'fr_nitro_arom'</span>: <span style=\"color: #008080; text-decoration-color: #008080; font-weight: bold\">0</span>,\n",
                                   "    <span style=\"color: #008000; text-decoration-color: #008000\">'fr_nitro_arom_nonortho'</span>: <span style=\"color: #008080; text-decoration-color: #008080; font-weight: bold\">0</span>,\n",
                                   "    <span style=\"color: #008000; text-decoration-color: #008000\">'fr_nitroso'</span>: <span style=\"color: #008080; text-decoration-color: #008080; font-weight: bold\">0</span>,\n",
                                   "    <span style=\"color: #008000; text-decoration-color: #008000\">'fr_oxazole'</span>: <span style=\"color: #008080; text-decoration-color: #008080; font-weight: bold\">0</span>,\n",
                                   "    <span style=\"color: #008000; text-decoration-color: #008000\">'fr_oxime'</span>: <span style=\"color: #008080; text-decoration-color: #008080; font-weight: bold\">0</span>,\n",
                                   "    <span style=\"color: #008000; text-decoration-color: #008000\">'fr_para_hydroxylation'</span>: <span style=\"color: #008080; text-decoration-color: #008080; font-weight: bold\">0</span>,\n",
                                   "    <span style=\"color: #008000; text-decoration-color: #008000\">'fr_phenol'</span>: <span style=\"color: #008080; text-decoration-color: #008080; font-weight: bold\">0</span>,\n",
                                   "    <span style=\"color: #008000; text-decoration-color: #008000\">'fr_phenol_noOrthoHbond'</span>: <span style=\"color: #008080; text-decoration-color: #008080; font-weight: bold\">0</span>,\n",
                                   "    <span style=\"color: #008000; text-decoration-color: #008000\">'fr_phos_acid'</span>: <span style=\"color: #008080; text-decoration-color: #008080; font-weight: bold\">0</span>,\n",
                                   "    <span style=\"color: #008000; text-decoration-color: #008000\">'fr_phos_ester'</span>: <span style=\"color: #008080; text-decoration-color: #008080; font-weight: bold\">0</span>,\n",
                                   "    <span style=\"color: #008000; text-decoration-color: #008000\">'fr_piperdine'</span>: <span style=\"color: #008080; text-decoration-color: #008080; font-weight: bold\">0</span>,\n",
                                   "    <span style=\"color: #008000; text-decoration-color: #008000\">'fr_piperzine'</span>: <span style=\"color: #008080; text-decoration-color: #008080; font-weight: bold\">0</span>,\n",
                                   "    <span style=\"color: #008000; text-decoration-color: #008000\">'fr_priamide'</span>: <span style=\"color: #008080; text-decoration-color: #008080; font-weight: bold\">0</span>,\n",
                                   "    <span style=\"color: #008000; text-decoration-color: #008000\">'fr_prisulfonamd'</span>: <span style=\"color: #008080; text-decoration-color: #008080; font-weight: bold\">0</span>,\n",
                                   "    <span style=\"color: #008000; text-decoration-color: #008000\">'fr_pyridine'</span>: <span style=\"color: #008080; text-decoration-color: #008080; font-weight: bold\">0</span>,\n",
                                   "    <span style=\"color: #008000; text-decoration-color: #008000\">'fr_quatN'</span>: <span style=\"color: #008080; text-decoration-color: #008080; font-weight: bold\">0</span>,\n",
                                   "    <span style=\"color: #008000; text-decoration-color: #008000\">'fr_sulfide'</span>: <span style=\"color: #008080; text-decoration-color: #008080; font-weight: bold\">0</span>,\n",
                                   "    <span style=\"color: #008000; text-decoration-color: #008000\">'fr_sulfonamd'</span>: <span style=\"color: #008080; text-decoration-color: #008080; font-weight: bold\">0</span>,\n",
                                   "    <span style=\"color: #008000; text-decoration-color: #008000\">'fr_sulfone'</span>: <span style=\"color: #008080; text-decoration-color: #008080; font-weight: bold\">0</span>,\n",
                                   "    <span style=\"color: #008000; text-decoration-color: #008000\">'fr_term_acetylene'</span>: <span style=\"color: #008080; text-decoration-color: #008080; font-weight: bold\">0</span>,\n",
                                   "    <span style=\"color: #008000; text-decoration-color: #008000\">'fr_tetrazole'</span>: <span style=\"color: #008080; text-decoration-color: #008080; font-weight: bold\">0</span>,\n",
                                   "    <span style=\"color: #008000; text-decoration-color: #008000\">'fr_thiazole'</span>: <span style=\"color: #008080; text-decoration-color: #008080; font-weight: bold\">0</span>,\n",
                                   "    <span style=\"color: #008000; text-decoration-color: #008000\">'fr_thiocyan'</span>: <span style=\"color: #008080; text-decoration-color: #008080; font-weight: bold\">0</span>,\n",
                                   "    <span style=\"color: #008000; text-decoration-color: #008000\">'fr_thiophene'</span>: <span style=\"color: #008080; text-decoration-color: #008080; font-weight: bold\">0</span>,\n",
                                   "    <span style=\"color: #008000; text-decoration-color: #008000\">'fr_unbrch_alkane'</span>: <span style=\"color: #008080; text-decoration-color: #008080; font-weight: bold\">0</span>,\n",
                                   "    <span style=\"color: #008000; text-decoration-color: #008000\">'fr_urea'</span>: <span style=\"color: #008080; text-decoration-color: #008080; font-weight: bold\">0</span>\n",
                                   "<span style=\"font-weight: bold\">}</span>\n",
                                   "</pre>\n"
                              ],
                              "text/plain": [
                                   "\u001b[1m{\u001b[0m\n",
                                   "    \u001b[32m'name'\u001b[0m: \u001b[32m'short_test'\u001b[0m,\n",
                                   "    \u001b[32m'rdmol'\u001b[0m: \u001b[1m<\u001b[0m\u001b[1;95mrdkit.Chem.rdchem.Mol\u001b[0m\u001b[39m object at \u001b[0m\u001b[1;36m0x7f10c5030820\u001b[0m\u001b[1m>\u001b[0m,\n",
                                   "    \u001b[32m'coords'\u001b[0m: \u001b[1;35marray\u001b[0m\u001b[1m(\u001b[0m\u001b[1m[\u001b[0m\u001b[1m[\u001b[0m \u001b[1;36m0.9862\u001b[0m, \u001b[1;36m-0.257\u001b[0m , \u001b[1;36m-0.1905\u001b[0m\u001b[1m]\u001b[0m,\n",
                                   "       \u001b[1m[\u001b[0m\u001b[1;36m-0.2052\u001b[0m,  \u001b[1;36m0.2236\u001b[0m,  \u001b[1;36m0.6206\u001b[0m\u001b[1m]\u001b[0m,\n",
                                   "       \u001b[1m[\u001b[0m\u001b[1;36m-1.4201\u001b[0m,  \u001b[1;36m0.2357\u001b[0m, \u001b[1;36m-0.1847\u001b[0m\u001b[1m]\u001b[0m\u001b[1m]\u001b[0m\u001b[1m)\u001b[0m,\n",
                                   "    \u001b[32m'smiles'\u001b[0m: \u001b[32m'CCN'\u001b[0m,\n",
                                   "    \u001b[32m'config'\u001b[0m: \u001b[1;35mMoleculeGraphConfig\u001b[0m\u001b[1m(\u001b[0m\u001b[33mverbose\u001b[0m=\u001b[3;91mFalse\u001b[0m, \u001b[33madd_hs\u001b[0m=\u001b[3;91mFalse\u001b[0m, \u001b[33mgenerate_conformer\u001b[0m=\u001b[3;91mFalse\u001b[0m, \n",
                                   "\u001b[33medge_construction_functions\u001b[0m=\u001b[1m[\u001b[0m\u001b[1m<\u001b[0m\u001b[1;95mfunction\u001b[0m\u001b[39m add_fully_connected_edges at \u001b[0m\u001b[1;36m0x7f10c593f9d0\u001b[0m\u001b[1m>\u001b[0m, \n",
                                   "\u001b[1m<\u001b[0m\u001b[1;95mfunction\u001b[0m\u001b[39m add_k_nn_edges at \u001b[0m\u001b[1;36m0x7f10c593fa60\u001b[0m\u001b[1m>\u001b[0m, \u001b[1m<\u001b[0m\u001b[1;95mfunction\u001b[0m\u001b[39m add_distance_threshold at \u001b[0m\n",
                                   "\u001b[1;36m0x7f10c593f940\u001b[0m\u001b[1m>\u001b[0m, \u001b[1m<\u001b[0m\u001b[1;95mfunction\u001b[0m\u001b[39m add_atom_bonds at \u001b[0m\u001b[1;36m0x7f10c593f550\u001b[0m\u001b[1m>\u001b[0m\u001b[1m]\u001b[0m, \n",
                                   "\u001b[33mnode_metadata_functions\u001b[0m=\u001b[1m[\u001b[0m\u001b[1m<\u001b[0m\u001b[1;95mfunction\u001b[0m\u001b[39m atom_type_one_hot at \u001b[0m\u001b[1;36m0x7f10c56e1f70\u001b[0m\u001b[1m>\u001b[0m\u001b[1m]\u001b[0m, \n",
                                   "\u001b[33medge_metadata_functions\u001b[0m=\u001b[3;35mNone\u001b[0m, \u001b[33mgraph_metadata_functions\u001b[0m=\u001b[1m[\u001b[0m\u001b[1m<\u001b[0m\u001b[1;95mfunction\u001b[0m\u001b[39m mol_descriptors at \u001b[0m\n",
                                   "\u001b[1;36m0x7f10c5945280\u001b[0m\u001b[1m>\u001b[0m\u001b[1m]\u001b[0m\u001b[1m)\u001b[0m,\n",
                                   "    \u001b[32m'MaxEStateIndex'\u001b[0m: \u001b[1;36m4.847222222222222\u001b[0m,\n",
                                   "    \u001b[32m'MinEStateIndex'\u001b[0m: \u001b[1;36m0.75\u001b[0m,\n",
                                   "    \u001b[32m'MaxAbsEStateIndex'\u001b[0m: \u001b[1;36m4.847222222222222\u001b[0m,\n",
                                   "    \u001b[32m'MinAbsEStateIndex'\u001b[0m: \u001b[1;36m0.75\u001b[0m,\n",
                                   "    \u001b[32m'qed'\u001b[0m: \u001b[1;36m0.40623709538988323\u001b[0m,\n",
                                   "    \u001b[32m'MolWt'\u001b[0m: \u001b[1;36m45.084999999999994\u001b[0m,\n",
                                   "    \u001b[32m'HeavyAtomMolWt'\u001b[0m: \u001b[1;36m38.028999999999996\u001b[0m,\n",
                                   "    \u001b[32m'ExactMolWt'\u001b[0m: \u001b[1;36m45.057849223999995\u001b[0m,\n",
                                   "    \u001b[32m'NumValenceElectrons'\u001b[0m: \u001b[1;36m20\u001b[0m,\n",
                                   "    \u001b[32m'NumRadicalElectrons'\u001b[0m: \u001b[1;36m0\u001b[0m,\n",
                                   "    \u001b[32m'MaxPartialCharge'\u001b[0m: \u001b[1;36m-0.010576265829206462\u001b[0m,\n",
                                   "    \u001b[32m'MinPartialCharge'\u001b[0m: \u001b[1;36m-0.3307484184390755\u001b[0m,\n",
                                   "    \u001b[32m'MaxAbsPartialCharge'\u001b[0m: \u001b[1;36m0.3307484184390755\u001b[0m,\n",
                                   "    \u001b[32m'MinAbsPartialCharge'\u001b[0m: \u001b[1;36m0.010576265829206462\u001b[0m,\n",
                                   "    \u001b[32m'FpDensityMorgan1'\u001b[0m: \u001b[1;36m2.0\u001b[0m,\n",
                                   "    \u001b[32m'FpDensityMorgan2'\u001b[0m: \u001b[1;36m2.0\u001b[0m,\n",
                                   "    \u001b[32m'FpDensityMorgan3'\u001b[0m: \u001b[1;36m2.0\u001b[0m,\n",
                                   "    \u001b[32m'BalabanJ'\u001b[0m: \u001b[1;36m1.6329931618554523\u001b[0m,\n",
                                   "    \u001b[32m'BertzCT'\u001b[0m: \u001b[1;36m2.7548875021634682\u001b[0m,\n",
                                   "    \u001b[32m'Chi0'\u001b[0m: \u001b[1;36m2.7071067811865475\u001b[0m,\n",
                                   "    \u001b[32m'Chi0n'\u001b[0m: \u001b[1;36m2.284457050376173\u001b[0m,\n",
                                   "    \u001b[32m'Chi0v'\u001b[0m: \u001b[1;36m2.284457050376173\u001b[0m,\n",
                                   "    \u001b[32m'Chi1'\u001b[0m: \u001b[1;36m1.4142135623730951\u001b[0m,\n",
                                   "    \u001b[32m'Chi1n'\u001b[0m: \u001b[1;36m1.1153550716504106\u001b[0m,\n",
                                   "    \u001b[32m'Chi1v'\u001b[0m: \u001b[1;36m1.1153550716504106\u001b[0m,\n",
                                   "    \u001b[32m'Chi2n'\u001b[0m: \u001b[1;36m0.408248290463863\u001b[0m,\n",
                                   "    \u001b[32m'Chi2v'\u001b[0m: \u001b[1;36m0.408248290463863\u001b[0m,\n",
                                   "    \u001b[32m'Chi3n'\u001b[0m: \u001b[1;36m0.0\u001b[0m,\n",
                                   "    \u001b[32m'Chi3v'\u001b[0m: \u001b[1;36m0.0\u001b[0m,\n",
                                   "    \u001b[32m'Chi4n'\u001b[0m: \u001b[1;36m0.0\u001b[0m,\n",
                                   "    \u001b[32m'Chi4v'\u001b[0m: \u001b[1;36m0.0\u001b[0m,\n",
                                   "    \u001b[32m'HallKierAlpha'\u001b[0m: \u001b[1;36m-0.04\u001b[0m,\n",
                                   "    \u001b[32m'Ipc'\u001b[0m: \u001b[1;36m2.7548875021634682\u001b[0m,\n",
                                   "    \u001b[32m'Kappa1'\u001b[0m: \u001b[1;36m2.9600000000000004\u001b[0m,\n",
                                   "    \u001b[32m'Kappa2'\u001b[0m: \u001b[1;36m1.96\u001b[0m,\n",
                                   "    \u001b[32m'Kappa3'\u001b[0m: \u001b[1;36m1.9600000000000033\u001b[0m,\n",
                                   "    \u001b[32m'LabuteASA'\u001b[0m: \u001b[1;36m20.444083839238875\u001b[0m,\n",
                                   "    \u001b[32m'PEOE_VSA1'\u001b[0m: \u001b[1;36m5.733667477162185\u001b[0m,\n",
                                   "    \u001b[32m'PEOE_VSA10'\u001b[0m: \u001b[1;36m0.0\u001b[0m,\n",
                                   "    \u001b[32m'PEOE_VSA11'\u001b[0m: \u001b[1;36m0.0\u001b[0m,\n",
                                   "    \u001b[32m'PEOE_VSA12'\u001b[0m: \u001b[1;36m0.0\u001b[0m,\n",
                                   "    \u001b[32m'PEOE_VSA13'\u001b[0m: \u001b[1;36m0.0\u001b[0m,\n",
                                   "    \u001b[32m'PEOE_VSA14'\u001b[0m: \u001b[1;36m0.0\u001b[0m,\n",
                                   "    \u001b[32m'PEOE_VSA2'\u001b[0m: \u001b[1;36m0.0\u001b[0m,\n",
                                   "    \u001b[32m'PEOE_VSA3'\u001b[0m: \u001b[1;36m0.0\u001b[0m,\n",
                                   "    \u001b[32m'PEOE_VSA4'\u001b[0m: \u001b[1;36m0.0\u001b[0m,\n",
                                   "    \u001b[32m'PEOE_VSA5'\u001b[0m: \u001b[1;36m0.0\u001b[0m,\n",
                                   "    \u001b[32m'PEOE_VSA6'\u001b[0m: \u001b[1;36m6.923737199690624\u001b[0m,\n",
                                   "    \u001b[32m'PEOE_VSA7'\u001b[0m: \u001b[1;36m6.544756405912575\u001b[0m,\n",
                                   "    \u001b[32m'PEOE_VSA8'\u001b[0m: \u001b[1;36m0.0\u001b[0m,\n",
                                   "    \u001b[32m'PEOE_VSA9'\u001b[0m: \u001b[1;36m0.0\u001b[0m,\n",
                                   "    \u001b[32m'SMR_VSA1'\u001b[0m: \u001b[1;36m0.0\u001b[0m,\n",
                                   "    \u001b[32m'SMR_VSA10'\u001b[0m: \u001b[1;36m0.0\u001b[0m,\n",
                                   "    \u001b[32m'SMR_VSA2'\u001b[0m: \u001b[1;36m0.0\u001b[0m,\n",
                                   "    \u001b[32m'SMR_VSA3'\u001b[0m: \u001b[1;36m0.0\u001b[0m,\n",
                                   "    \u001b[32m'SMR_VSA4'\u001b[0m: \u001b[1;36m5.733667477162185\u001b[0m,\n",
                                   "    \u001b[32m'SMR_VSA5'\u001b[0m: \u001b[1;36m6.923737199690624\u001b[0m,\n",
                                   "    \u001b[32m'SMR_VSA6'\u001b[0m: \u001b[1;36m6.544756405912575\u001b[0m,\n",
                                   "    \u001b[32m'SMR_VSA7'\u001b[0m: \u001b[1;36m0.0\u001b[0m,\n",
                                   "    \u001b[32m'SMR_VSA8'\u001b[0m: \u001b[1;36m0.0\u001b[0m,\n",
                                   "    \u001b[32m'SMR_VSA9'\u001b[0m: \u001b[1;36m0.0\u001b[0m,\n",
                                   "    \u001b[32m'SlogP_VSA1'\u001b[0m: \u001b[1;36m5.733667477162185\u001b[0m,\n",
                                   "    \u001b[32m'SlogP_VSA10'\u001b[0m: \u001b[1;36m0.0\u001b[0m,\n",
                                   "    \u001b[32m'SlogP_VSA11'\u001b[0m: \u001b[1;36m0.0\u001b[0m,\n",
                                   "    \u001b[32m'SlogP_VSA12'\u001b[0m: \u001b[1;36m0.0\u001b[0m,\n",
                                   "    \u001b[32m'SlogP_VSA2'\u001b[0m: \u001b[1;36m6.544756405912575\u001b[0m,\n",
                                   "    \u001b[32m'SlogP_VSA3'\u001b[0m: \u001b[1;36m0.0\u001b[0m,\n",
                                   "    \u001b[32m'SlogP_VSA4'\u001b[0m: \u001b[1;36m0.0\u001b[0m,\n",
                                   "    \u001b[32m'SlogP_VSA5'\u001b[0m: \u001b[1;36m6.923737199690624\u001b[0m,\n",
                                   "    \u001b[32m'SlogP_VSA6'\u001b[0m: \u001b[1;36m0.0\u001b[0m,\n",
                                   "    \u001b[32m'SlogP_VSA7'\u001b[0m: \u001b[1;36m0.0\u001b[0m,\n",
                                   "    \u001b[32m'SlogP_VSA8'\u001b[0m: \u001b[1;36m0.0\u001b[0m,\n",
                                   "    \u001b[32m'SlogP_VSA9'\u001b[0m: \u001b[1;36m0.0\u001b[0m,\n",
                                   "    \u001b[32m'TPSA'\u001b[0m: \u001b[1;36m26.02\u001b[0m,\n",
                                   "    \u001b[32m'EState_VSA1'\u001b[0m: \u001b[1;36m0.0\u001b[0m,\n",
                                   "    \u001b[32m'EState_VSA10'\u001b[0m: \u001b[1;36m0.0\u001b[0m,\n",
                                   "    \u001b[32m'EState_VSA11'\u001b[0m: \u001b[1;36m0.0\u001b[0m,\n",
                                   "    \u001b[32m'EState_VSA2'\u001b[0m: \u001b[1;36m0.0\u001b[0m,\n",
                                   "    \u001b[32m'EState_VSA3'\u001b[0m: \u001b[1;36m0.0\u001b[0m,\n",
                                   "    \u001b[32m'EState_VSA4'\u001b[0m: \u001b[1;36m6.544756405912575\u001b[0m,\n",
                                   "    \u001b[32m'EState_VSA5'\u001b[0m: \u001b[1;36m0.0\u001b[0m,\n",
                                   "    \u001b[32m'EState_VSA6'\u001b[0m: \u001b[1;36m0.0\u001b[0m,\n",
                                   "    \u001b[32m'EState_VSA7'\u001b[0m: \u001b[1;36m6.923737199690624\u001b[0m,\n",
                                   "    \u001b[32m'EState_VSA8'\u001b[0m: \u001b[1;36m0.0\u001b[0m,\n",
                                   "    \u001b[32m'EState_VSA9'\u001b[0m: \u001b[1;36m5.733667477162185\u001b[0m,\n",
                                   "    \u001b[32m'VSA_EState1'\u001b[0m: \u001b[1;36m0.0\u001b[0m,\n",
                                   "    \u001b[32m'VSA_EState10'\u001b[0m: \u001b[1;36m0.0\u001b[0m,\n",
                                   "    \u001b[32m'VSA_EState2'\u001b[0m: \u001b[1;36m0.0\u001b[0m,\n",
                                   "    \u001b[32m'VSA_EState3'\u001b[0m: \u001b[1;36m0.0\u001b[0m,\n",
                                   "    \u001b[32m'VSA_EState4'\u001b[0m: \u001b[1;36m4.847222222222222\u001b[0m,\n",
                                   "    \u001b[32m'VSA_EState5'\u001b[0m: \u001b[1;36m0.0\u001b[0m,\n",
                                   "    \u001b[32m'VSA_EState6'\u001b[0m: \u001b[1;36m0.0\u001b[0m,\n",
                                   "    \u001b[32m'VSA_EState7'\u001b[0m: \u001b[1;36m0.0\u001b[0m,\n",
                                   "    \u001b[32m'VSA_EState8'\u001b[0m: \u001b[1;36m2.6527777777777777\u001b[0m,\n",
                                   "    \u001b[32m'VSA_EState9'\u001b[0m: \u001b[1;36m0.0\u001b[0m,\n",
                                   "    \u001b[32m'FractionCSP3'\u001b[0m: \u001b[1;36m1.0\u001b[0m,\n",
                                   "    \u001b[32m'HeavyAtomCount'\u001b[0m: \u001b[1;36m3\u001b[0m,\n",
                                   "    \u001b[32m'NHOHCount'\u001b[0m: \u001b[1;36m2\u001b[0m,\n",
                                   "    \u001b[32m'NOCount'\u001b[0m: \u001b[1;36m1\u001b[0m,\n",
                                   "    \u001b[32m'NumAliphaticCarbocycles'\u001b[0m: \u001b[1;36m0\u001b[0m,\n",
                                   "    \u001b[32m'NumAliphaticHeterocycles'\u001b[0m: \u001b[1;36m0\u001b[0m,\n",
                                   "    \u001b[32m'NumAliphaticRings'\u001b[0m: \u001b[1;36m0\u001b[0m,\n",
                                   "    \u001b[32m'NumAromaticCarbocycles'\u001b[0m: \u001b[1;36m0\u001b[0m,\n",
                                   "    \u001b[32m'NumAromaticHeterocycles'\u001b[0m: \u001b[1;36m0\u001b[0m,\n",
                                   "    \u001b[32m'NumAromaticRings'\u001b[0m: \u001b[1;36m0\u001b[0m,\n",
                                   "    \u001b[32m'NumHAcceptors'\u001b[0m: \u001b[1;36m1\u001b[0m,\n",
                                   "    \u001b[32m'NumHDonors'\u001b[0m: \u001b[1;36m1\u001b[0m,\n",
                                   "    \u001b[32m'NumHeteroatoms'\u001b[0m: \u001b[1;36m1\u001b[0m,\n",
                                   "    \u001b[32m'NumRotatableBonds'\u001b[0m: \u001b[1;36m0\u001b[0m,\n",
                                   "    \u001b[32m'NumSaturatedCarbocycles'\u001b[0m: \u001b[1;36m0\u001b[0m,\n",
                                   "    \u001b[32m'NumSaturatedHeterocycles'\u001b[0m: \u001b[1;36m0\u001b[0m,\n",
                                   "    \u001b[32m'NumSaturatedRings'\u001b[0m: \u001b[1;36m0\u001b[0m,\n",
                                   "    \u001b[32m'RingCount'\u001b[0m: \u001b[1;36m0\u001b[0m,\n",
                                   "    \u001b[32m'MolLogP'\u001b[0m: \u001b[1;36m-0.03499999999999981\u001b[0m,\n",
                                   "    \u001b[32m'MolMR'\u001b[0m: \u001b[1;36m14.728400000000002\u001b[0m,\n",
                                   "    \u001b[32m'fr_Al_COO'\u001b[0m: \u001b[1;36m0\u001b[0m,\n",
                                   "    \u001b[32m'fr_Al_OH'\u001b[0m: \u001b[1;36m0\u001b[0m,\n",
                                   "    \u001b[32m'fr_Al_OH_noTert'\u001b[0m: \u001b[1;36m0\u001b[0m,\n",
                                   "    \u001b[32m'fr_ArN'\u001b[0m: \u001b[1;36m0\u001b[0m,\n",
                                   "    \u001b[32m'fr_Ar_COO'\u001b[0m: \u001b[1;36m0\u001b[0m,\n",
                                   "    \u001b[32m'fr_Ar_N'\u001b[0m: \u001b[1;36m0\u001b[0m,\n",
                                   "    \u001b[32m'fr_Ar_NH'\u001b[0m: \u001b[1;36m0\u001b[0m,\n",
                                   "    \u001b[32m'fr_Ar_OH'\u001b[0m: \u001b[1;36m0\u001b[0m,\n",
                                   "    \u001b[32m'fr_COO'\u001b[0m: \u001b[1;36m0\u001b[0m,\n",
                                   "    \u001b[32m'fr_COO2'\u001b[0m: \u001b[1;36m0\u001b[0m,\n",
                                   "    \u001b[32m'fr_C_O'\u001b[0m: \u001b[1;36m0\u001b[0m,\n",
                                   "    \u001b[32m'fr_C_O_noCOO'\u001b[0m: \u001b[1;36m0\u001b[0m,\n",
                                   "    \u001b[32m'fr_C_S'\u001b[0m: \u001b[1;36m0\u001b[0m,\n",
                                   "    \u001b[32m'fr_HOCCN'\u001b[0m: \u001b[1;36m0\u001b[0m,\n",
                                   "    \u001b[32m'fr_Imine'\u001b[0m: \u001b[1;36m0\u001b[0m,\n",
                                   "    \u001b[32m'fr_NH0'\u001b[0m: \u001b[1;36m0\u001b[0m,\n",
                                   "    \u001b[32m'fr_NH1'\u001b[0m: \u001b[1;36m0\u001b[0m,\n",
                                   "    \u001b[32m'fr_NH2'\u001b[0m: \u001b[1;36m1\u001b[0m,\n",
                                   "    \u001b[32m'fr_N_O'\u001b[0m: \u001b[1;36m0\u001b[0m,\n",
                                   "    \u001b[32m'fr_Ndealkylation1'\u001b[0m: \u001b[1;36m0\u001b[0m,\n",
                                   "    \u001b[32m'fr_Ndealkylation2'\u001b[0m: \u001b[1;36m0\u001b[0m,\n",
                                   "    \u001b[32m'fr_Nhpyrrole'\u001b[0m: \u001b[1;36m0\u001b[0m,\n",
                                   "    \u001b[32m'fr_SH'\u001b[0m: \u001b[1;36m0\u001b[0m,\n",
                                   "    \u001b[32m'fr_aldehyde'\u001b[0m: \u001b[1;36m0\u001b[0m,\n",
                                   "    \u001b[32m'fr_alkyl_carbamate'\u001b[0m: \u001b[1;36m0\u001b[0m,\n",
                                   "    \u001b[32m'fr_alkyl_halide'\u001b[0m: \u001b[1;36m0\u001b[0m,\n",
                                   "    \u001b[32m'fr_allylic_oxid'\u001b[0m: \u001b[1;36m0\u001b[0m,\n",
                                   "    \u001b[32m'fr_amide'\u001b[0m: \u001b[1;36m0\u001b[0m,\n",
                                   "    \u001b[32m'fr_amidine'\u001b[0m: \u001b[1;36m0\u001b[0m,\n",
                                   "    \u001b[32m'fr_aniline'\u001b[0m: \u001b[1;36m0\u001b[0m,\n",
                                   "    \u001b[32m'fr_aryl_methyl'\u001b[0m: \u001b[1;36m0\u001b[0m,\n",
                                   "    \u001b[32m'fr_azide'\u001b[0m: \u001b[1;36m0\u001b[0m,\n",
                                   "    \u001b[32m'fr_azo'\u001b[0m: \u001b[1;36m0\u001b[0m,\n",
                                   "    \u001b[32m'fr_barbitur'\u001b[0m: \u001b[1;36m0\u001b[0m,\n",
                                   "    \u001b[32m'fr_benzene'\u001b[0m: \u001b[1;36m0\u001b[0m,\n",
                                   "    \u001b[32m'fr_benzodiazepine'\u001b[0m: \u001b[1;36m0\u001b[0m,\n",
                                   "    \u001b[32m'fr_bicyclic'\u001b[0m: \u001b[1;36m0\u001b[0m,\n",
                                   "    \u001b[32m'fr_diazo'\u001b[0m: \u001b[1;36m0\u001b[0m,\n",
                                   "    \u001b[32m'fr_dihydropyridine'\u001b[0m: \u001b[1;36m0\u001b[0m,\n",
                                   "    \u001b[32m'fr_epoxide'\u001b[0m: \u001b[1;36m0\u001b[0m,\n",
                                   "    \u001b[32m'fr_ester'\u001b[0m: \u001b[1;36m0\u001b[0m,\n",
                                   "    \u001b[32m'fr_ether'\u001b[0m: \u001b[1;36m0\u001b[0m,\n",
                                   "    \u001b[32m'fr_furan'\u001b[0m: \u001b[1;36m0\u001b[0m,\n",
                                   "    \u001b[32m'fr_guanido'\u001b[0m: \u001b[1;36m0\u001b[0m,\n",
                                   "    \u001b[32m'fr_halogen'\u001b[0m: \u001b[1;36m0\u001b[0m,\n",
                                   "    \u001b[32m'fr_hdrzine'\u001b[0m: \u001b[1;36m0\u001b[0m,\n",
                                   "    \u001b[32m'fr_hdrzone'\u001b[0m: \u001b[1;36m0\u001b[0m,\n",
                                   "    \u001b[32m'fr_imidazole'\u001b[0m: \u001b[1;36m0\u001b[0m,\n",
                                   "    \u001b[32m'fr_imide'\u001b[0m: \u001b[1;36m0\u001b[0m,\n",
                                   "    \u001b[32m'fr_isocyan'\u001b[0m: \u001b[1;36m0\u001b[0m,\n",
                                   "    \u001b[32m'fr_isothiocyan'\u001b[0m: \u001b[1;36m0\u001b[0m,\n",
                                   "    \u001b[32m'fr_ketone'\u001b[0m: \u001b[1;36m0\u001b[0m,\n",
                                   "    \u001b[32m'fr_ketone_Topliss'\u001b[0m: \u001b[1;36m0\u001b[0m,\n",
                                   "    \u001b[32m'fr_lactam'\u001b[0m: \u001b[1;36m0\u001b[0m,\n",
                                   "    \u001b[32m'fr_lactone'\u001b[0m: \u001b[1;36m0\u001b[0m,\n",
                                   "    \u001b[32m'fr_methoxy'\u001b[0m: \u001b[1;36m0\u001b[0m,\n",
                                   "    \u001b[32m'fr_morpholine'\u001b[0m: \u001b[1;36m0\u001b[0m,\n",
                                   "    \u001b[32m'fr_nitrile'\u001b[0m: \u001b[1;36m0\u001b[0m,\n",
                                   "    \u001b[32m'fr_nitro'\u001b[0m: \u001b[1;36m0\u001b[0m,\n",
                                   "    \u001b[32m'fr_nitro_arom'\u001b[0m: \u001b[1;36m0\u001b[0m,\n",
                                   "    \u001b[32m'fr_nitro_arom_nonortho'\u001b[0m: \u001b[1;36m0\u001b[0m,\n",
                                   "    \u001b[32m'fr_nitroso'\u001b[0m: \u001b[1;36m0\u001b[0m,\n",
                                   "    \u001b[32m'fr_oxazole'\u001b[0m: \u001b[1;36m0\u001b[0m,\n",
                                   "    \u001b[32m'fr_oxime'\u001b[0m: \u001b[1;36m0\u001b[0m,\n",
                                   "    \u001b[32m'fr_para_hydroxylation'\u001b[0m: \u001b[1;36m0\u001b[0m,\n",
                                   "    \u001b[32m'fr_phenol'\u001b[0m: \u001b[1;36m0\u001b[0m,\n",
                                   "    \u001b[32m'fr_phenol_noOrthoHbond'\u001b[0m: \u001b[1;36m0\u001b[0m,\n",
                                   "    \u001b[32m'fr_phos_acid'\u001b[0m: \u001b[1;36m0\u001b[0m,\n",
                                   "    \u001b[32m'fr_phos_ester'\u001b[0m: \u001b[1;36m0\u001b[0m,\n",
                                   "    \u001b[32m'fr_piperdine'\u001b[0m: \u001b[1;36m0\u001b[0m,\n",
                                   "    \u001b[32m'fr_piperzine'\u001b[0m: \u001b[1;36m0\u001b[0m,\n",
                                   "    \u001b[32m'fr_priamide'\u001b[0m: \u001b[1;36m0\u001b[0m,\n",
                                   "    \u001b[32m'fr_prisulfonamd'\u001b[0m: \u001b[1;36m0\u001b[0m,\n",
                                   "    \u001b[32m'fr_pyridine'\u001b[0m: \u001b[1;36m0\u001b[0m,\n",
                                   "    \u001b[32m'fr_quatN'\u001b[0m: \u001b[1;36m0\u001b[0m,\n",
                                   "    \u001b[32m'fr_sulfide'\u001b[0m: \u001b[1;36m0\u001b[0m,\n",
                                   "    \u001b[32m'fr_sulfonamd'\u001b[0m: \u001b[1;36m0\u001b[0m,\n",
                                   "    \u001b[32m'fr_sulfone'\u001b[0m: \u001b[1;36m0\u001b[0m,\n",
                                   "    \u001b[32m'fr_term_acetylene'\u001b[0m: \u001b[1;36m0\u001b[0m,\n",
                                   "    \u001b[32m'fr_tetrazole'\u001b[0m: \u001b[1;36m0\u001b[0m,\n",
                                   "    \u001b[32m'fr_thiazole'\u001b[0m: \u001b[1;36m0\u001b[0m,\n",
                                   "    \u001b[32m'fr_thiocyan'\u001b[0m: \u001b[1;36m0\u001b[0m,\n",
                                   "    \u001b[32m'fr_thiophene'\u001b[0m: \u001b[1;36m0\u001b[0m,\n",
                                   "    \u001b[32m'fr_unbrch_alkane'\u001b[0m: \u001b[1;36m0\u001b[0m,\n",
                                   "    \u001b[32m'fr_urea'\u001b[0m: \u001b[1;36m0\u001b[0m\n",
                                   "\u001b[1m}\u001b[0m\n"
                              ]
                         },
                         "metadata": {},
                         "output_type": "display_data"
                    }
               ],
               "source": [
                    "config = gm.MoleculeGraphConfig(\n",
                    "    graph_metadata_functions=[\n",
                    "        gm.mol_descriptors\n",
                    "    ]\n",
                    ")\n",
                    "graph = gm.construct_graph(path=\"../tests/molecule/test_data/short_test.mol2\", config=config)\n",
                    "\n",
                    "print(graph.graph)"
               ]
          },
          {
               "cell_type": "code",
               "execution_count": null,
               "metadata": {},
               "outputs": [],
               "source": []
          }
     ],
     "metadata": {
          "interpreter": {
               "hash": "18b92dcb3aeecaafcda3e696c227fe0e653d0ebba9b1df5f8e7485b6c09cf261"
          },
          "kernelspec": {
               "display_name": "Python 3.8.10 ('graphein-dev-test')",
               "language": "python",
               "name": "python3"
          },
          "language_info": {
               "codemirror_mode": {
                    "name": "ipython",
                    "version": 3
               },
               "file_extension": ".py",
               "mimetype": "text/x-python",
               "name": "python",
               "nbconvert_exporter": "python",
               "pygments_lexer": "ipython3",
               "version": "3.8.10"
          },
          "orig_nbformat": 4
     },
     "nbformat": 4,
     "nbformat_minor": 2
}