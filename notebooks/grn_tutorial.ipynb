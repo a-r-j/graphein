{
 "cells": [
  {
   "cell_type": "markdown",
   "id": "sixth-static",
   "metadata": {},
   "source": [
    "# Gene Regulatory Network Tutorial\n",
    "\n",
    "In this tutorial we run through GRN graph construction in Graphein. This works by providing a `gene_list` containing gene names. The interactions between these genes are retrieved from two possible sources:\n",
    "* TRRUST\n",
    "* RegNetwork\n",
    "\n",
    "This is controlled by providing an edge construction function (`add_trrust_edges` and `add_regnetwork_edges`) respectively."
   ]
  },
  {
   "cell_type": "code",
   "execution_count": 1,
   "id": "stupid-billion",
   "metadata": {},
   "outputs": [
    {
     "name": "stderr",
     "output_type": "stream",
     "text": [
      "INFO:numexpr.utils:Note: NumExpr detected 64 cores but \"NUMEXPR_MAX_THREADS\" not set, so enforcing safe limit of 8.\n",
      "INFO:numexpr.utils:NumExpr defaulting to 8 threads.\n"
     ]
    }
   ],
   "source": [
    "import networkx as nx\n",
    "from functools import partial\n",
    "from typing import List\n",
    "import matplotlib.pyplot as plt\n",
    "\n",
    "import logging\n",
    "logging.basicConfig(level=logging.INFO)\n",
    "from easydev import Logging as elogging\n",
    "elogging.level = \"CRITICAL\"\n",
    "\n",
    "from graphein.grn.edges import add_regnetwork_edges, add_trrust_edges"
   ]
  },
  {
   "cell_type": "markdown",
   "id": "italic-trance",
   "metadata": {},
   "source": [
    "## Config Objects\n",
    "Global parameters are stored in Config objects. We have a global `GRNGraphConfig` that contains a `TRRUSTConfig` and a `RegNetworkConfig` for parameters relating to each of the two sources."
   ]
  },
  {
   "cell_type": "code",
   "execution_count": 2,
   "id": "copyrighted-adjustment",
   "metadata": {},
   "outputs": [
    {
     "name": "stdout",
     "output_type": "stream",
     "text": [
      "GRN Config: \n",
      "kwargs={} trrust_config=TRRUSTConfig(filtering_functions=None, root_dir=None, kwargs=None) regnetwork_config=RegNetworkConfig(filtering_functions=None, root_dir=None, kwargs=None) \n",
      "\n",
      "TRRUST Config: \n",
      "filtering_functions=None root_dir=None kwargs=None \n",
      "\n",
      "RegNetwork Config: \n",
      "filtering_functions=None root_dir=None kwargs=None\n"
     ]
    }
   ],
   "source": [
    "# Initialise Config Object\n",
    "from graphein.grn.config import GRNGraphConfig\n",
    "config = GRNGraphConfig()\n",
    "print(f\"GRN Config: \\n{config} \\n\")\n",
    "print(f\"TRRUST Config: \\n{config.trrust_config} \\n\")\n",
    "print(f\"RegNetwork Config: \\n{config.regnetwork_config}\")"
   ]
  },
  {
   "cell_type": "markdown",
   "id": "sweet-roller",
   "metadata": {},
   "source": [
    "## Gene List\n",
    "This is the list of genes that we wish to construct a GRN graph for"
   ]
  },
  {
   "cell_type": "code",
   "execution_count": 3,
   "id": "british-discrimination",
   "metadata": {},
   "outputs": [],
   "source": [
    "gene_list: List[str] = [\"AATF\", \"MYC\", \"USF1\", \"SP1\", \"TP53\", \"DUSP1\"]"
   ]
  },
  {
   "cell_type": "markdown",
   "id": "variable-magic",
   "metadata": {},
   "source": [
    "## Edge Annotation Functions\n",
    "These are functions that determine labelling of edges with additional metadata. Here we define one which assigs:\n",
    "    * `\"+\"` to upregulatory interactions\n",
    "    * `\"-\"` to downregulatory interactions\n",
    "    * `\"?\"` to interactons of unknown directionality\n",
    "    \n",
    "Edge Annotation functions take in two nodes (`u`, `v`) and the edge data (`d`)"
   ]
  },
  {
   "cell_type": "code",
   "execution_count": 4,
   "id": "sixth-contribution",
   "metadata": {},
   "outputs": [],
   "source": [
    "# This function defines the labelling of regulatory directions\n",
    "def edge_ann_fn(u, v, d):\n",
    "    if \"+\" in d[\"regtype\"]:\n",
    "        d[\"regtype\"] = \"+\"\n",
    "    elif \"-\" in d[\"regtype\"]:\n",
    "        d[\"regtype\"] = \"-\"\n",
    "    elif \"?\" in d[\"regtype\"]:\n",
    "        d[\"regtype\"] = \"?\""
   ]
  },
  {
   "cell_type": "markdown",
   "id": "quality-exercise",
   "metadata": {},
   "source": [
    "## Graph Construction"
   ]
  },
  {
   "cell_type": "code",
   "execution_count": 6,
   "id": "purple-faculty",
   "metadata": {},
   "outputs": [
    {
     "data": {
      "text/html": [
       "<pre style=\"white-space:pre;overflow-x:auto;line-height:normal;font-family:Menlo,'DejaVu Sans Mono',consolas,'Courier New',monospace\"><span style=\"color: #7fbfbf; text-decoration-color: #7fbfbf\">[01/09/23 19:06:00] </span><span style=\"color: #008000; text-decoration-color: #008000\">DEBUG   </span> Added <span style=\"color: #008080; text-decoration-color: #008080; font-weight: bold\">6</span> nodes to graph                              <a href=\"file:///home/atj39/github/graphein/graphein/grn/graphs.py\" target=\"_blank\"><span style=\"color: #7f7f7f; text-decoration-color: #7f7f7f\">graphs.py</span></a><span style=\"color: #7f7f7f; text-decoration-color: #7f7f7f\">:</span><a href=\"file:///home/atj39/github/graphein/graphein/grn/graphs.py#90\" target=\"_blank\"><span style=\"color: #7f7f7f; text-decoration-color: #7f7f7f\">90</span></a>\n",
       "</pre>\n"
      ],
      "text/plain": [
       "\u001b[2;36m[01/09/23 19:06:00]\u001b[0m\u001b[2;36m \u001b[0m\u001b[32mDEBUG   \u001b[0m Added \u001b[1;36m6\u001b[0m nodes to graph                              \u001b]8;id=927067;file:///home/atj39/github/graphein/graphein/grn/graphs.py\u001b\\\u001b[2mgraphs.py\u001b[0m\u001b]8;;\u001b\\\u001b[2m:\u001b[0m\u001b]8;id=156453;file:///home/atj39/github/graphein/graphein/grn/graphs.py#90\u001b\\\u001b[2m90\u001b[0m\u001b]8;;\u001b\\\n"
      ]
     },
     "metadata": {},
     "output_type": "display_data"
    },
    {
     "name": "stderr",
     "output_type": "stream",
     "text": [
      "\u001b[33mWARNING [bioservices.HGNC:687]: \u001b[0m \u001b[32mURL of the services contains a double //.Check your URL and remove trailing /\u001b[0m\n",
      "WARNING:bioservices.HGNC:URL of the services contains a double //.Check your URL and remove trailing /\n",
      "\u001b[33mWARNING [bioservices.HGNC:687]: \u001b[0m \u001b[32mURL of the services contains a double //.Check your URL and remove trailing /\u001b[0m\n",
      "WARNING:bioservices.HGNC:URL of the services contains a double //.Check your URL and remove trailing /\n",
      "\u001b[33mWARNING [bioservices.HGNC:687]: \u001b[0m \u001b[32mURL of the services contains a double //.Check your URL and remove trailing /\u001b[0m\n",
      "WARNING:bioservices.HGNC:URL of the services contains a double //.Check your URL and remove trailing /\n",
      "\u001b[33mWARNING [bioservices.HGNC:687]: \u001b[0m \u001b[32mURL of the services contains a double //.Check your URL and remove trailing /\u001b[0m\n",
      "WARNING:bioservices.HGNC:URL of the services contains a double //.Check your URL and remove trailing /\n",
      "\u001b[33mWARNING [bioservices.HGNC:687]: \u001b[0m \u001b[32mURL of the services contains a double //.Check your URL and remove trailing /\u001b[0m\n",
      "WARNING:bioservices.HGNC:URL of the services contains a double //.Check your URL and remove trailing /\n",
      "\u001b[33mWARNING [bioservices.HGNC:687]: \u001b[0m \u001b[32mURL of the services contains a double //.Check your URL and remove trailing /\u001b[0m\n",
      "WARNING:bioservices.HGNC:URL of the services contains a double //.Check your URL and remove trailing /\n",
      "\u001b[33mWARNING [bioservices.HGNC:687]: \u001b[0m \u001b[32mURL of the services contains a double //.Check your URL and remove trailing /\u001b[0m\n",
      "WARNING:bioservices.HGNC:URL of the services contains a double //.Check your URL and remove trailing /\n",
      "\u001b[33mWARNING [bioservices.HGNC:687]: \u001b[0m \u001b[32mURL of the services contains a double //.Check your URL and remove trailing /\u001b[0m\n",
      "WARNING:bioservices.HGNC:URL of the services contains a double //.Check your URL and remove trailing /\n",
      "\u001b[33mWARNING [bioservices.HGNC:687]: \u001b[0m \u001b[32mURL of the services contains a double //.Check your URL and remove trailing /\u001b[0m\n",
      "WARNING:bioservices.HGNC:URL of the services contains a double //.Check your URL and remove trailing /\n",
      "\u001b[33mWARNING [bioservices.HGNC:687]: \u001b[0m \u001b[32mURL of the services contains a double //.Check your URL and remove trailing /\u001b[0m\n",
      "WARNING:bioservices.HGNC:URL of the services contains a double //.Check your URL and remove trailing /\n",
      "\u001b[33mWARNING [bioservices.HGNC:687]: \u001b[0m \u001b[32mURL of the services contains a double //.Check your URL and remove trailing /\u001b[0m\n",
      "WARNING:bioservices.HGNC:URL of the services contains a double //.Check your URL and remove trailing /\n",
      "\u001b[33mWARNING [bioservices.HGNC:687]: \u001b[0m \u001b[32mURL of the services contains a double //.Check your URL and remove trailing /\u001b[0m\n",
      "WARNING:bioservices.HGNC:URL of the services contains a double //.Check your URL and remove trailing /\n",
      "/home/atj39/github/graphein/graphein/grn/parse_trrust.py:128: SettingWithCopyWarning: \n",
      "A value is trying to be set on a copy of a slice from a DataFrame\n",
      "\n",
      "See the caveats in the documentation: https://pandas.pydata.org/pandas-docs/stable/user_guide/indexing.html#returning-a-view-versus-a-copy\n",
      "  df[\"regtype\"].replace(\n"
     ]
    },
    {
     "data": {
      "text/html": [
       "<pre style=\"white-space:pre;overflow-x:auto;line-height:normal;font-family:Menlo,'DejaVu Sans Mono',consolas,'Courier New',monospace\"><span style=\"color: #7fbfbf; text-decoration-color: #7fbfbf\">[01/09/23 19:06:13] </span><span style=\"color: #008000; text-decoration-color: #008000\">DEBUG   </span> Added <span style=\"color: #008080; text-decoration-color: #008080; font-weight: bold\">10</span> trrust interaction edges                    <a href=\"file:///home/atj39/github/graphein/graphein/grn/edges.py\" target=\"_blank\"><span style=\"color: #7f7f7f; text-decoration-color: #7f7f7f\">edges.py</span></a><span style=\"color: #7f7f7f; text-decoration-color: #7f7f7f\">:</span><a href=\"file:///home/atj39/github/graphein/graphein/grn/edges.py#94\" target=\"_blank\"><span style=\"color: #7f7f7f; text-decoration-color: #7f7f7f\">94</span></a>\n",
       "</pre>\n"
      ],
      "text/plain": [
       "\u001b[2;36m[01/09/23 19:06:13]\u001b[0m\u001b[2;36m \u001b[0m\u001b[32mDEBUG   \u001b[0m Added \u001b[1;36m10\u001b[0m trrust interaction edges                    \u001b]8;id=617190;file:///home/atj39/github/graphein/graphein/grn/edges.py\u001b\\\u001b[2medges.py\u001b[0m\u001b]8;;\u001b\\\u001b[2m:\u001b[0m\u001b]8;id=853367;file:///home/atj39/github/graphein/graphein/grn/edges.py#94\u001b\\\u001b[2m94\u001b[0m\u001b]8;;\u001b\\\n"
      ]
     },
     "metadata": {},
     "output_type": "display_data"
    },
    {
     "name": "stderr",
     "output_type": "stream",
     "text": [
      "/home/atj39/github/graphein/graphein/grn/parse_regnetwork.py:235: SettingWithCopyWarning: \n",
      "A value is trying to be set on a copy of a slice from a DataFrame.\n",
      "Try using .loc[row_indexer,col_indexer] = value instead\n",
      "\n",
      "See the caveats in the documentation: https://pandas.pydata.org/pandas-docs/stable/user_guide/indexing.html#returning-a-view-versus-a-copy\n",
      "  df[\"source\"] = \"RegNetwork\"\n",
      "/home/atj39/github/graphein/graphein/grn/parse_regnetwork.py:238: SettingWithCopyWarning: \n",
      "A value is trying to be set on a copy of a slice from a DataFrame\n",
      "\n",
      "See the caveats in the documentation: https://pandas.pydata.org/pandas-docs/stable/user_guide/indexing.html#returning-a-view-versus-a-copy\n",
      "  df[\"regtype\"].replace(\n"
     ]
    },
    {
     "data": {
      "text/html": [
       "<pre style=\"white-space:pre;overflow-x:auto;line-height:normal;font-family:Menlo,'DejaVu Sans Mono',consolas,'Courier New',monospace\"><span style=\"color: #7fbfbf; text-decoration-color: #7fbfbf\">                    </span><span style=\"color: #008000; text-decoration-color: #008000\">DEBUG   </span> Added <span style=\"color: #008080; text-decoration-color: #008080; font-weight: bold\">23</span> regnetwork interaction edges                <a href=\"file:///home/atj39/github/graphein/graphein/grn/edges.py\" target=\"_blank\"><span style=\"color: #7f7f7f; text-decoration-color: #7f7f7f\">edges.py</span></a><span style=\"color: #7f7f7f; text-decoration-color: #7f7f7f\">:</span><a href=\"file:///home/atj39/github/graphein/graphein/grn/edges.py#94\" target=\"_blank\"><span style=\"color: #7f7f7f; text-decoration-color: #7f7f7f\">94</span></a>\n",
       "</pre>\n"
      ],
      "text/plain": [
       "\u001b[2;36m                   \u001b[0m\u001b[2;36m \u001b[0m\u001b[32mDEBUG   \u001b[0m Added \u001b[1;36m23\u001b[0m regnetwork interaction edges                \u001b]8;id=244158;file:///home/atj39/github/graphein/graphein/grn/edges.py\u001b\\\u001b[2medges.py\u001b[0m\u001b]8;;\u001b\\\u001b[2m:\u001b[0m\u001b]8;id=991258;file:///home/atj39/github/graphein/graphein/grn/edges.py#94\u001b\\\u001b[2m94\u001b[0m\u001b]8;;\u001b\\\n"
      ]
     },
     "metadata": {},
     "output_type": "display_data"
    }
   ],
   "source": [
    "from graphein.grn.graphs import compute_grn_graph\n",
    "from graphein.grn.features.node_features import add_sequence_to_nodes\n",
    "\n",
    "g = compute_grn_graph(\n",
    "    gene_list=gene_list,\n",
    "    edge_construction_funcs=[\n",
    "        partial(add_trrust_edges, trrust_filtering_funcs=config.trrust_config.filtering_functions),\n",
    "        partial(add_regnetwork_edges, regnetwork_filtering_funcs=config.regnetwork_config.filtering_functions),\n",
    "    ],\n",
    "    node_annotation_funcs=[add_sequence_to_nodes],#, molecular_weight],\n",
    "    edge_annotation_funcs=[edge_ann_fn],\n",
    ")"
   ]
  },
  {
   "cell_type": "code",
   "execution_count": 7,
   "id": "broad-lemon",
   "metadata": {},
   "outputs": [
    {
     "name": "stdout",
     "output_type": "stream",
     "text": [
      "AATF {'gene_id': 'AATF', 'uniprot_ids': ['Q9NY61'], 'sequence_Q9NY61': 'MAGPQPLALQLEQLLNPRPSEADPEADPEEATAARVIDRFDEGEDGEGDFLVVGSIRKLASASLLDTDKRYCGKTTSRKAWNEDHWEQTLPGSSDEEISDEEGSGDEDSEGLGLEEYDEDDLGAAEEQECGDHRESKKSRSHSAKTPGFSVQSISDFEKFTKGMDDLGSSEEEEDEESGMEEGDDAEDSQGESEEDRAGDRNSEDDGVVMTFSSVKVSEEVEKGRAVKNQIALWDQLLEGRIKLQKALLTTNQLPQPDVFPLFKDKGGPEFSSALKNSHKALKALLRSLVGLQEELLFQYPDTRYLVDGTKPNAGSEEISSEDDELVEEKKQQRRRVPAKRKLEMEDYPSFMAKRFADFTVYRNRTLQKWHDKTKLASGKLGKGFGAFERSILTQIDHILMDKERLLRRTQTKRSVYRVLGKPEPAAQPVPESLPGEPEILPQAPANAHLKDLDEEIFDDDDFYHQLLRELIERKTSSLDPNDQVAMGRQWLAIQKLRSKIHKKVDRKASKGRKLRFHVLSKLLSFMAPIDHTTMNDDARTELYRSLFGQLHPPDEGHGD'}\n",
      "MYC {'gene_id': 'MYC', 'uniprot_ids': ['P01106'], 'sequence_P01106': 'MPLNVSFTNRNYDLDYDSVQPYFYCDEEENFYQQQQQSELQPPAPSEDIWKKFELLPTPPLSPSRRSGLCSPSYVAVTPFSLRGDNDGGGGSFSTADQLEMVTELLGGDMVNQSFICDPDDETFIKNIIIQDCMWSGFSAAAKLVSEKLASYQAARKDSGSPNPARGHSVCSTSSLYLQDLSAAASECIDPSVVFPYPLNDSSSPKSCASQDSSAFSPSSDSLLSSTESSPQGSPEPLVLHEETPPTTSSDSEEEQEDEEEIDVVSVEKRQAPGKRSESGSPSAGGHSKPPHSPLVLKRCHVSTHQHNYAAPPSTRKDYPAAKRVKLDSVRVLRQISNNRKCTSPRSSDTEENVKRRTHNVLERQRRNELKRSFFALRDQIPELENNEKAPKVVILKKATAYILSVQAEEQKLISEEDLLRKRREQLKHKLEQLRNSCA'}\n",
      "USF1 {'gene_id': 'USF1', 'uniprot_ids': ['P22415'], 'sequence_P22415': 'MKGQQKTAETEEGTVQIQEGAVATGEDPTSVAIASIQSAATFPDPNVKYVFRTENGGQVMYRVIQVSEGQLDGQTEGTGAISGYPATQSMTQAVIQGAFTSDDAVDTEGTAAETHYTYFPSTAVGDGAGGTTSGSTAAVVTTQGSEALLGQATPPGTGQFFVMMSPQEVLQGGSQRSIAPRTHPYSPKSEAPRTTRDEKRRAQHNEVERRRRDKINNWIVQLSKIIPDCSMESTKSGQSKGGILSKACDYIQELRQSNHRLSEELQGLDQLQLDNDVLRQQVEDLKNKNLLLRAQLRHHGLEVVIKNDSN'}\n",
      "SP1 {'gene_id': 'SP1', 'uniprot_ids': ['P08047'], 'sequence_P08047': 'MSDQDHSMDEMTAVVKIEKGVGGNNGGNGNGGGAFSQARSSSTGSSSSTGGGGQESQPSPLALLAATCSRIESPNENSNNSQGPSQSGGTGELDLTATQLSQGANGWQIISSSSGATPTSKEQSGSSTNGSNGSESSKNRTVSGGQYVVAAAPNLQNQQVLTGLPGVMPNIQYQVIPQFQTVDGQQLQFAATGAQVQQDGSGQIQIIPGANQQIITNRGSGGNIIAAMPNLLQQAVPLQGLANNVLSGQTQYVTNVPVALNGNITLLPVNSVSAATLTPSSQAVTISSSGSQESGSQPVTSGTTISSASLVSSQASSSSFFTNANSYSTTTTTSNMGIMNFTTSGSSGTNSQGQTPQRVSGLQGSDALNIQQNQTSGGSLQAGQQKEGEQNQQTQQQQILIQPQLVQGGQALQALQAAPLSGQTFTTQAISQETLQNLQLQAVPNSGPIIIRTPTVGPNGQVSWQTLQLQNLQVQNPQAQTITLAPMQGVSLGQTSSSNTTLTPIASAASIPAGTVTVNAAQLSSMPGLQTINLSALGTSGIQVHPIQGLPLAIANAPGDHGAQLGLHGAGGDGIHDDTAGGEEGENSPDAQPQAGRRTRREACTCPYCKDSEGRGSGDPGKKKQHICHIQGCGKVYGKTSHLRAHLRWHTGERPFMCTWSYCGKRFTRSDELQRHKRTHTGEKKFACPECPKRFMRSDHLSKHIKTHQNKKGGPGVALSVGTLPLDSGAGSEGSGTATPSALITTNMVAMEAICPEGIARLANSGINVMQVADLQSINISGNGF'}\n",
      "TP53 {'gene_id': 'TP53', 'uniprot_ids': ['P04637'], 'sequence_P04637': 'MEEPQSDPSVEPPLSQETFSDLWKLLPENNVLSPLPSQAMDDLMLSPDDIEQWFTEDPGPDEAPRMPEAAPPVAPAPAAPTPAAPAPAPSWPLSSSVPSQKTYQGSYGFRLGFLHSGTAKSVTCTYSPALNKMFCQLAKTCPVQLWVDSTPPPGTRVRAMAIYKQSQHMTEVVRRCPHHERCSDSDGLAPPQHLIRVEGNLRVEYLDDRNTFRHSVVVPYEPPEVGSDCTTIHYNYMCNSSCMGGMNRRPILTIITLEDSSGNLLGRNSFEVRVCACPGRDRRTEEENLRKKGEPHHELPPGSTKRALPNNTSSSPQPKKKPLDGEYFTLQIRGRERFEMFRELNEALELKDAQAGKEPGGSRAHSSHLKSKKGQSTSRHKKLMFKTEGPDSD'}\n",
      "DUSP1 {'gene_id': 'DUSP1', 'uniprot_ids': ['P28562'], 'sequence_P28562': 'MVMEVGTLDAGGLRALLGERAAQCLLLDCRSFFAFNAGHIAGSVNVRFSTIVRRRAKGAMGLEHIVPNAELRGRLLAGAYHAVVLLDERSAALDGAKRDGTLALAAGALCREARAAQVFFLKGGYEAFSASCPELCSKQSTPMGLSLPLSTSVPDSAESGCSSCSTPLYDQGGPVEILPFLYLGSAYHASRKDMLDALGITALINVSANCPNHFEGHYQYKSIPVEDNHKADISSWFNEAIDFIDSIKNAGGRVFVHCQAGISRSATICLAYLMRTNRVKLDEAFEFVKQRRSIISPNFSFMGQLLQFESQVLAPHCSAEAGSPAMAVLDRGTSTTTVFNFPVSIPVHSTNSALSYLQSPITTSPSC'}\n"
     ]
    }
   ],
   "source": [
    "for n,d in g.nodes(data=True):\n",
    "    print(n, d)"
   ]
  },
  {
   "cell_type": "markdown",
   "id": "bearing-newton",
   "metadata": {},
   "source": [
    "## Plotting the Graph\n",
    "We now wish to visualise the graph. We can do this with the built in visualisation in NetworkX"
   ]
  },
  {
   "cell_type": "code",
   "execution_count": 8,
   "id": "organizational-teacher",
   "metadata": {},
   "outputs": [
    {
     "name": "stdout",
     "output_type": "stream",
     "text": [
      "DiGraph with 6 nodes and 22 edges\n"
     ]
    },
    {
     "data": {
      "image/png": "[encoded data removed]",
      "text/plain": [
       "<Figure size 432x288 with 1 Axes>"
      ]
     },
     "metadata": {},
     "output_type": "display_data"
    }
   ],
   "source": [
    "# Here we define a colouring scheme for the graph\n",
    "edge_colors = [\n",
    "    \"r\"\n",
    "    if g[u][v][\"kind\"] == {\"trrust\"}\n",
    "    else \"b\"\n",
    "    if g[u][v][\"kind\"] == {\"regnetwork\"}\n",
    "    else \"y\"\n",
    "    for u, v in g.edges()\n",
    "]\n",
    "\n",
    "print(g)\n",
    "\n",
    "pos = nx.spring_layout(g)\n",
    "nx.draw(g, pos=pos, with_labels=True, edge_color=edge_colors)\n",
    "edge_labels = {(u, v): g[u][v][\"regtype\"] for u, v in g.edges}\n",
    "nx.draw_networkx_edge_labels(g, pos=pos, edge_labels=edge_labels)\n",
    "plt.show()"
   ]
  },
  {
   "cell_type": "code",
   "execution_count": 9,
   "id": "expected-scholarship",
   "metadata": {},
   "outputs": [
    {
     "name": "stdout",
     "output_type": "stream",
     "text": [
      "[('AATF', 'TP53', {'kind': {'trrust'}, 'regtype': '?'}), ('AATF', 'MYC', {'kind': {'trrust'}, 'regtype': '+'}), ('AATF', 'SP1', {'kind': {'regnetwork'}, 'regtype': '?'}), ('MYC', 'TP53', {'kind': {'trrust', 'regnetwork'}, 'regtype': '+'}), ('MYC', 'SP1', {'kind': {'regnetwork'}, 'regtype': '?'}), ('MYC', 'DUSP1', {'kind': {'regnetwork'}, 'regtype': '?'}), ('MYC', 'MYC', {'kind': {'regnetwork'}, 'regtype': '?'}), ('USF1', 'DUSP1', {'kind': {'regnetwork'}, 'regtype': '?'}), ('USF1', 'SP1', {'kind': {'regnetwork'}, 'regtype': '?'}), ('USF1', 'USF1', {'kind': {'regnetwork'}, 'regtype': '?'}), ('USF1', 'AATF', {'kind': {'regnetwork'}, 'regtype': '?'}), ('USF1', 'TP53', {'kind': {'regnetwork'}, 'regtype': '?'}), ('SP1', 'MYC', {'kind': {'trrust', 'regnetwork'}, 'regtype': '+'}), ('SP1', 'SP1', {'kind': {'regnetwork'}, 'regtype': '?'}), ('SP1', 'TP53', {'kind': {'regnetwork'}, 'regtype': '?'}), ('SP1', 'USF1', {'kind': {'regnetwork'}, 'regtype': '?'}), ('SP1', 'AATF', {'kind': {'regnetwork'}, 'regtype': '?'}), ('SP1', 'DUSP1', {'kind': {'regnetwork'}, 'regtype': '?'}), ('TP53', 'MYC', {'kind': {'trrust', 'regnetwork'}, 'regtype': '-'}), ('TP53', 'TP53', {'kind': {'trrust', 'regnetwork'}, 'regtype': '+'}), ('TP53', 'DUSP1', {'kind': {'trrust', 'regnetwork'}, 'regtype': '+'}), ('TP53', 'SP1', {'kind': {'regnetwork'}, 'regtype': '?'})]\n"
     ]
    }
   ],
   "source": [
    "print(g.edges(data=True))"
   ]
  }
 ],
 "metadata": {
  "kernelspec": {
   "display_name": "graphein",
   "language": "python",
   "name": "python3"
  },
  "language_info": {
   "codemirror_mode": {
    "name": "ipython",
    "version": 3
   },
   "file_extension": ".py",
   "mimetype": "text/x-python",
   "name": "python",
   "nbconvert_exporter": "python",
   "pygments_lexer": "ipython3",
   "version": "3.8.13"
  },
  "vscode": {
   "interpreter": {
    "hash": "0ab7f988027852efc1ebacd06db3f130eb65d2a20cb6a366311359132c20a952"
   }
  }
 },
 "nbformat": 4,
 "nbformat_minor": 5
}
