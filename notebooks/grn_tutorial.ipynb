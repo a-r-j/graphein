{
 "cells": [
  {
   "cell_type": "markdown",
   "id": "sixth-static",
   "metadata": {},
   "source": [
    "# Gene Regulatory Network Tutorial\n",
    "\n",
    "In this tutorial we run through GRN graph construction in Graphein. This works by providing a `gene_list` containing gene names. The interactions between these genes are retrieved from two possible sources:\n",
    "* TRRUST\n",
    "* RegNetwork\n",
    "\n",
    "This is controlled by providing an edge construction function (`add_trrust_edges` and `add_regnetwork_edges`) respectively."
   ]
  },
  {
   "cell_type": "code",
   "execution_count": null,
   "id": "stupid-billion",
   "metadata": {},
   "outputs": [],
   "source": [
    "import networkx as nx\n",
    "from functools import partial\n",
    "from typing import List\n",
    "import matplotlib.pyplot as plt\n",
    "\n",
    "import logging\n",
    "logging.basicConfig(level=logging.INFO)\n",
    "from easydev import Logging as elogging\n",
    "elogging.level = \"CRITICAL\"\n",
    "\n",
    "from graphein.grn.edges import add_regnetwork_edges, add_trrust_edges"
   ]
  },
  {
   "cell_type": "markdown",
   "id": "italic-trance",
   "metadata": {},
   "source": [
    "## Config Objects\n",
    "Global parameters are stored in Config objects. We have a global `GRNGraphConfig` that contains a `TRRUSTConfig` and a `RegNetworkConfig` for parameters relating to each of the two sources."
   ]
  },
  {
   "cell_type": "code",
   "execution_count": null,
   "id": "copyrighted-adjustment",
   "metadata": {},
   "outputs": [],
   "source": [
    "# Initialise Config Object\n",
    "from graphein.grn.config import GRNGraphConfig\n",
    "config = GRNGraphConfig()\n",
    "print(f\"GRN Config: \\n{config} \\n\")\n",
    "print(f\"TRRUST Config: \\n{config.trrust_config} \\n\")\n",
    "print(f\"RegNetwork Config: \\n{config.regnetwork_config}\")"
   ]
  },
  {
   "cell_type": "markdown",
   "id": "sweet-roller",
   "metadata": {},
   "source": [
    "## Gene List\n",
    "This is the list of genes that we wish to construct a GRN graph for"
   ]
  },
  {
   "cell_type": "code",
   "execution_count": null,
   "id": "british-discrimination",
   "metadata": {},
   "outputs": [],
   "source": [
    "gene_list: List[str] = [\"AATF\", \"MYC\", \"USF1\", \"SP1\", \"TP53\", \"DUSP1\"]"
   ]
  },
  {
   "cell_type": "markdown",
   "id": "variable-magic",
   "metadata": {},
   "source": [
    "## Edge Annotation Functions\n",
    "These are functions that determine labelling of edges with additional metadata. Here we define one which assigs:\n",
    "    * `\"+\"` to upregulatory interactions\n",
    "    * `\"-\"` to downregulatory interactions\n",
    "    * `\"?\"` to interactons of unknown directionality\n",
    "    \n",
    "Edge Annotation functions take in two nodes (`u`, `v`) and the edge data (`d`)"
   ]
  },
  {
   "cell_type": "code",
   "execution_count": null,
   "id": "sixth-contribution",
   "metadata": {},
   "outputs": [],
   "source": [
    "# This function defines the labelling of regulatory directions\n",
    "def edge_ann_fn(u, v, d):\n",
    "    if \"+\" in d[\"regtype\"]:\n",
    "        d[\"regtype\"] = \"+\"\n",
    "    elif \"-\" in d[\"regtype\"]:\n",
    "        d[\"regtype\"] = \"-\"\n",
    "    elif \"?\" in d[\"regtype\"]:\n",
    "        d[\"regtype\"] = \"?\""
   ]
  },
  {
   "cell_type": "markdown",
   "id": "quality-exercise",
   "metadata": {},
   "source": [
    "## Graph Construction"
   ]
  },
  {
   "cell_type": "code",
   "execution_count": null,
   "id": "purple-faculty",
   "metadata": {},
   "outputs": [],
   "source": [
    "from graphein.grn.graphs import compute_grn_graph\n",
    "from graphein.grn.features.node_features import add_sequence_to_nodes\n",
    "\n",
    "g = compute_grn_graph(\n",
    "    gene_list=gene_list,\n",
    "    edge_construction_funcs=[\n",
    "        partial(add_trrust_edges, trrust_filtering_funcs=config.trrust_config.filtering_functions),\n",
    "        partial(add_regnetwork_edges, regnetwork_filtering_funcs=config.regnetwork_config.filtering_functions),\n",
    "    ],\n",
    "    node_annotation_funcs=[add_sequence_to_nodes],#, molecular_weight],\n",
    "    edge_annotation_funcs=[edge_ann_fn],\n",
    ")"
   ]
  },
  {
   "cell_type": "code",
   "execution_count": null,
   "id": "broad-lemon",
   "metadata": {},
   "outputs": [],
   "source": [
    "for n,d in g.nodes(data=True):\n",
    "    print(n, d)"
   ]
  },
  {
   "cell_type": "markdown",
   "id": "bearing-newton",
   "metadata": {},
   "source": [
    "## Plotting the Graph\n",
    "We now wish to visualise the graph. We can do this with the built in visualisation in NetworkX"
   ]
  },
  {
   "cell_type": "code",
   "execution_count": null,
   "id": "organizational-teacher",
   "metadata": {},
   "outputs": [],
   "source": [
    "# Here we define a colouring scheme for the graph\n",
    "edge_colors = [\n",
    "    \"r\"\n",
    "    if g[u][v][\"kind\"] == {\"trrust\"}\n",
    "    else \"b\"\n",
    "    if g[u][v][\"kind\"] == {\"regnetwork\"}\n",
    "    else \"y\"\n",
    "    for u, v in g.edges()\n",
    "]\n",
    "\n",
    "print(nx.info(g))\n",
    "\n",
    "pos = nx.spring_layout(g)\n",
    "nx.draw(g, pos=pos, with_labels=True, edge_color=edge_colors)\n",
    "edge_labels = {(u, v): g[u][v][\"regtype\"] for u, v in g.edges}\n",
    "nx.draw_networkx_edge_labels(g, pos=pos, edge_labels=edge_labels)\n",
    "plt.show()"
   ]
  },
  {
   "cell_type": "code",
   "execution_count": null,
   "id": "expected-scholarship",
   "metadata": {},
   "outputs": [],
   "source": [
    "print(g.edges(data=True))"
   ]
  }
 ],
 "metadata": {
  "kernelspec": {
   "display_name": "graphein-dev",
   "language": "python",
   "name": "graphein-dev"
  },
  "language_info": {
   "codemirror_mode": {
    "name": "ipython",
    "version": 3
   },
   "file_extension": ".py",
   "mimetype": "text/x-python",
   "name": "python",
   "nbconvert_exporter": "python",
   "pygments_lexer": "ipython3",
   "version": "3.8.10"
  }
 },
 "nbformat": 4,
 "nbformat_minor": 5
}
