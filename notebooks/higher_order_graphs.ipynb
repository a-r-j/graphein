{
 "cells": [
  {
   "cell_type": "markdown",
   "metadata": {},
   "source": [
    "# Secondary Structure Graphs & Chain Graphs\n",
    "In this tutorial, we'll be looking at higher-order graphs - that is graphs of Secondary Structure Elements and interacting chains (quaternary structure) - as well as assorted visualisation tools.\n",
    "\n",
    "Graphein provides utilities for computing these graphs from residue-level graphs. I'd recommend checking out [this tutorial]() for more information.\n",
    "\n",
    "[![Open In Colab](https://colab.research.google.com/assets/colab-badge.svg)](https://colab.research.google.com/github/a-r-j/graphein/blob/master/notebooks/higher_order_graphs.ipynb)\n",
    "\n",
    "\n",
    "First, we'll construct a graph to work with\n",
    "\n"
   ]
  },
  {
   "cell_type": "code",
   "execution_count": null,
   "metadata": {},
   "outputs": [],
   "source": [
    "# Install Graphein if necessary\n",
    "# !pip install graphein\n",
    "\n",
    "# Install DSSP if necessary\n",
    "# !sudo apt-get install dssp (better for colab) OR !conda install -c salilab dssp"
   ]
  },
  {
   "cell_type": "code",
   "execution_count": null,
   "metadata": {},
   "outputs": [],
   "source": [
    "import logging\n",
    "import networkx as nx\n",
    "import matplotlib.pyplot as plt\n",
    "logging.getLogger(\"matplotlib\").setLevel(logging.WARNING)\n",
    "logging.getLogger(\"graphein\").setLevel(logging.INFO)\n",
    "\n",
    "import graphein.protein as gp\n",
    "\n",
    "new_funcs = {\n",
    "            \"edge_construction_functions\": [gp.add_peptide_bonds,\n",
    "                                              gp.add_hydrogen_bond_interactions,\n",
    "                                              gp.add_disulfide_interactions,\n",
    "                                              gp.add_ionic_interactions,\n",
    "                                              gp.add_aromatic_interactions,\n",
    "                                              gp.add_aromatic_sulphur_interactions,\n",
    "                                              gp.add_cation_pi_interactions],\n",
    "             \"dssp_config\": gp.DSSPConfig()\n",
    "            }\n",
    "config = gp.ProteinGraphConfig(**new_funcs)\n",
    "g = gp.construct_graph(config=config, pdb_code='4hhb')\n",
    "gp.plotly_protein_structure_graph(g, node_size_multiplier=1)"
   ]
  },
  {
   "cell_type": "markdown",
   "metadata": {},
   "source": [
    "## Secondary Structure Graphs\n",
    "We use [DSSP] to compute secondary structures. This is stored under `d[\"ss\"]` in the node attributes. Eg:"
   ]
  },
  {
   "cell_type": "code",
   "execution_count": null,
   "metadata": {},
   "outputs": [],
   "source": [
    "g = gp.secondary_structure(g)\n",
    "for n, d in g.nodes(data=True):\n",
    "    print(d[\"ss\"])\n",
    "    if d[\"ss\"] == \"T\":\n",
    "        break"
   ]
  },
  {
   "cell_type": "markdown",
   "metadata": {},
   "source": [
    "We can compute either a multigraph, where each edge in the selection is preserved (e.g. multiple edges between nodes ``H1`` and ``H2`` are permitted), or a weighted graph where we aggregate multiple edges between a pair of nodes into and preserve the edge information as metadata.\n",
    "\n",
    "### MultiGraph"
   ]
  },
  {
   "cell_type": "code",
   "execution_count": null,
   "metadata": {},
   "outputs": [],
   "source": [
    "ss_graph = gp.compute_secondary_structure_graph(g, remove_self_loops=True)\n",
    "print(nx.info(ss_graph))\n",
    "\n",
    "for u, v, d in g.edges(data=True):\n",
    "    print(u, v, d)"
   ]
  },
  {
   "cell_type": "code",
   "execution_count": null,
   "metadata": {},
   "outputs": [],
   "source": [
    "plt.rcParams[\"figure.figsize\"] = (10, 10)\n",
    "gp.plot_chord_diagram(ss_graph)"
   ]
  },
  {
   "cell_type": "code",
   "execution_count": null,
   "metadata": {},
   "outputs": [],
   "source": [
    "ss_graph = gp.compute_secondary_structure_graph(g, remove_self_loops=True, return_weighted_graph=True)\n",
    "print(nx.info(ss_graph))\n",
    "for u, v, d in ss_graph.edges(data=True):\n",
    "    print(u, v, d)"
   ]
  },
  {
   "cell_type": "markdown",
   "metadata": {},
   "source": [
    "## Chain Graph\n",
    "Chain graphs represent the quaternary structure of a protein complex; nodes represent individual chains and edges are the interactions between them. Again, we can compute either a multigraph or a weighted graphs.\n",
    "\n",
    "### Multigraph"
   ]
  },
  {
   "cell_type": "code",
   "execution_count": null,
   "metadata": {},
   "outputs": [],
   "source": [
    "g = gp.construct_graph(config=config, pdb_code='2y69')\n",
    "chain_graph = gp.compute_chain_graph(g, remove_self_loops=False, return_weighted_graph=False)\n",
    "\n",
    "mat = nx.adjacency_matrix(chain_graph)\n",
    "a = gp.visualisation.chord_diagram(mat, names=list(chain_graph.nodes), use_gradient=True)\n",
    "\n",
    "for i, (u, v, d) in enumerate(chain_graph.edges(data=True)):\n",
    "    print(u, v, d)\n",
    "    if i == 15:\n",
    "        break"
   ]
  },
  {
   "cell_type": "markdown",
   "metadata": {},
   "source": [
    "### Weighted Graph"
   ]
  },
  {
   "cell_type": "code",
   "execution_count": null,
   "metadata": {},
   "outputs": [],
   "source": [
    "chain_graph = gp.compute_chain_graph(g, remove_self_loops=False, return_weighted_graph=True)\n",
    "\n",
    "mat = nx.adjacency_matrix(chain_graph)\n",
    "a = gp.visualisation.chord_diagram(mat, names=list(chain_graph.nodes), use_gradient=True)\n",
    "\n",
    "for u, v, d in chain_graph.edges(data=True):\n",
    "    print(u,v, d)"
   ]
  }
 ],
 "metadata": {
  "kernelspec": {
   "display_name": "Python 3.8.12 ('graphein-wip')",
   "language": "python",
   "name": "python3"
  },
  "language_info": {
   "codemirror_mode": {
    "name": "ipython",
    "version": 3
   },
   "file_extension": ".py",
   "mimetype": "text/x-python",
   "name": "python",
   "nbconvert_exporter": "python",
   "pygments_lexer": "ipython3",
   "version": "3.8.13"
  },
  "vscode": {
   "interpreter": {
    "hash": "2084dd4fc0c9f9186ef9bb5d9f5c6652432726a285d6ac2dcf2b1a616ab39cbb"
   }
  }
 },
 "nbformat": 4,
 "nbformat_minor": 2
}
