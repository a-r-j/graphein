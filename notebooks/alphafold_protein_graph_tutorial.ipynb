{
 "cells": [
  {
   "cell_type": "markdown",
   "id": "304a2a9d-f762-491c-ac19-e97ef636c027",
   "metadata": {},
   "source": [
    "# Constructing Graphs from [AlphaFold Protein Structure Database](https://alphafold.ebi.ac.uk/)\n",
    "\n",
    "In this quick tutorial we show how to construct graphs from the [AlphaFold Protein Structure Database](https://alphafold.ebi.ac.uk/). This is a fantastic resource for the community and we hope to make it more accessible to the Geometric Deep Learning community!\n",
    "\n",
    "It's plug and play with the top-level [`graphein.protein.construct_graph()`](https://graphein.ai/modules/graphein.protein.html#graphein.protein.graphs.construct_graph) function; however we now require UniProt identifiers.\n",
    "\n",
    "We also provide a utility [`graphein.protein.utils.download_alphafold_structure()`](https://graphein.ai/modules/graphein.protein.html#graphein.protein.utils.download_alphafold_structure) to download PDBs and associated metadata (aligned error scores as an accompanying `JSON` file). There is also an [equivalent function](https://graphein.ai/modules/graphein.protein.html#graphein.protein.utils.download_pdb) for downloading structures from RCSB. After downloading the structure, simply use Graphein to compute the graph as you normally would. You can check out the [`residue_graphs.ipynb`](https://graphein.ai/notebooks/residue_graphs.html). notebook tutorial to go deeper into protein graph construction utilities in Graphein.\n",
    "\n",
    "[![Open In Colab](https://colab.research.google.com/assets/colab-badge.svg)](https://colab.research.google.com/github/a-r-j/graphein/blob/master/notebooks/alphafold_protein_graph_tutorial.ipynb)\n",
    "\n",
    "## Quickstart\n",
    "\n",
    "The structures are accessed via their [UniProt](https://www.uniprot.org/) accession codes.\n",
    "\n",
    "Here, we'll be looking at [`Q8W3K0`](https://alphafold.ebi.ac.uk/entry/Q8W3K0), a rather beautiful model of a protein with a not-so-catchy name: Probable disease resistance protein At1g58602."
   ]
  },
  {
   "cell_type": "code",
   "execution_count": null,
   "id": "5a2ecafa",
   "metadata": {},
   "outputs": [],
   "source": [
    "# Install graphein if necessary\n",
    "#!pip install graphein"
   ]
  },
  {
   "cell_type": "code",
   "execution_count": null,
   "id": "42e0e918",
   "metadata": {},
   "outputs": [],
   "source": [
    "import graphein.protein as gp\n",
    "\n",
    "g = gp.construct_graph(uniprot_id=\"Q8W3K0\")\n",
    "gp.plotly_protein_structure_graph(g, colour_nodes_by=\"plddt\") # Colouring by plDDT shows the assigned confidences!"
   ]
  },
  {
   "cell_type": "markdown",
   "id": "af474efe",
   "metadata": {},
   "source": [
    "## Downloading Structures\n",
    "First, we need to download the strutures from AlphaFoldDB. One can download either the structure alone or together the aligned scores as a JSON.\n"
   ]
  },
  {
   "cell_type": "code",
   "execution_count": null,
   "id": "a3d66a58-5c19-4b4a-84e6-8909d17592ec",
   "metadata": {},
   "outputs": [],
   "source": [
    "from graphein.protein.utils import download_alphafold_structure\n",
    "\n",
    "# Download the PDB file for an example protein (UniProt: Q8W3K0) with the aligned score\n",
    "protein_path = download_alphafold_structure(\"Q8W3K0\", out_dir = \"/tmp\", aligned_score=True)\n",
    "protein_path"
   ]
  },
  {
   "cell_type": "code",
   "execution_count": null,
   "id": "5e0f8610-d31a-4380-b20d-17e719b9d83d",
   "metadata": {},
   "outputs": [],
   "source": [
    "# Download the PDB file for an example protein (UniProt: Q8W3K0) without the aligned score\n",
    "protein_path = download_alphafold_structure(\"Q8W3K0\", out_dir=\"/tmp\", aligned_score=False)\n",
    "protein_path"
   ]
  },
  {
   "cell_type": "markdown",
   "id": "53b3b5ed",
   "metadata": {},
   "source": [
    "## Constructing the Graph\n",
    "We show a simplified workflow here. For more information and a fuller exposition of the features, please refer to the [Residue Graph Tutorial](https://graphein.ai/notebooks/residue_graphs.html).\n",
    "\n",
    "First, we require a [config](https://graphein.ai/modules/graphein.protein.html#graphein.protein.config.ProteinGraphConfig) object."
   ]
  },
  {
   "cell_type": "code",
   "execution_count": null,
   "id": "a4dff4f4-0ba2-40a4-b0bf-458bbe2aa17d",
   "metadata": {},
   "outputs": [],
   "source": [
    "# Load the default config\n",
    "c = gp.ProteinGraphConfig(granularity='CA')\n",
    "\n",
    "# Construct the graph!\n",
    "g = gp.construct_graph(pdb_path=protein_path)\n",
    "\n",
    "# Plot\n",
    "gp.plotly_protein_structure_graph(g, node_size_multiplier=0.5, colour_nodes_by=\"residue_name\")"
   ]
  },
  {
   "cell_type": "markdown",
   "id": "8522c884-05bd-4a26-8b56-820adb34bc38",
   "metadata": {},
   "source": [
    "## Adding Edges\n",
    "What if we want to add some more edges to the graph? Well..\n",
    "\n",
    "[Documentation for edge funcs](https://graphein.ai/modules/graphein.protein.html#edges)"
   ]
  },
  {
   "cell_type": "code",
   "execution_count": null,
   "id": "db943129-dadc-4b17-a43c-f10aa6b443ce",
   "metadata": {},
   "outputs": [],
   "source": [
    "config = gp.ProteinGraphConfig(edge_construction_functions=[\n",
    "                                gp.add_aromatic_interactions,\n",
    "                                gp.add_cation_pi_interactions,\n",
    "                                gp.add_hydrophobic_interactions,\n",
    "                                gp.add_ionic_interactions\n",
    "                                ]\n",
    ")\n",
    "\n",
    "g = gp.construct_graph(pdb_path=protein_path, config=config)\n",
    "\n",
    "gp.plotly_protein_structure_graph(g, colour_edges_by=\"kind\", colour_nodes_by=\"residue_name\", label_node_ids=False, node_size_multiplier=2, node_size_min=5)"
   ]
  },
  {
   "cell_type": "markdown",
   "id": "68eaf9c9-410f-45a8-932a-92d3387712b8",
   "metadata": {},
   "source": [
    "You can also check out our [Residue Graph Tutorial](https://graphein.ai/notebooks/residue_graphs.html) for more customisation options!! For more details on visualisation, please refer to the [interactive visualisation tutorial](https://graphein.ai/notebooks/interactive_plotlY_examples.html) or the [documentation](https://graphein.ai/modules/graphein.protein.html#module-graphein.protein.visualisation)."
   ]
  }
 ],
 "metadata": {
  "interpreter": {
   "hash": "0ab7f988027852efc1ebacd06db3f130eb65d2a20cb6a366311359132c20a952"
  },
  "kernelspec": {
   "display_name": "Python 3.8.13 ('graphein')",
   "language": "python",
   "name": "python3"
  },
  "language_info": {
   "codemirror_mode": {
    "name": "ipython",
    "version": 3
   },
   "file_extension": ".py",
   "mimetype": "text/x-python",
   "name": "python",
   "nbconvert_exporter": "python",
   "pygments_lexer": "ipython3",
   "version": "3.8.13"
  }
 },
 "nbformat": 4,
 "nbformat_minor": 5
}
