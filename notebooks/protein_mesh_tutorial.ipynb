{
 "cells": [
  {
   "cell_type": "markdown",
   "metadata": {},
   "source": [
    "# Creating Protein Meshes in Graphein & 3D Visualisation\n",
    "\n",
    "Graphein provides functionality to create meshes of protein surfaces. The mesh computation is handled under the hood by PyMol to produce `.obj` files, which are handled by many geometric analysis libraries (such as [PyTorch3D](https://pytorch3d.org/)). We'll create a few protein meshes, convert them to PyTorch3D objects and visualise them. Again, there is a high-level and low-level API for convenience. We'll be looking at PDB [1LDF](https://www.rcsb.org/structure/1ldf), an elegant structure of the E. col glycerol uptake facilitator protein.\n",
    "\n",
    "[![Open In Colab](https://colab.research.google.com/assets/colab-badge.svg)](https://colab.research.google.com/github/a-r-j/graphein/blob/master/notebooks/protein_mesh_tutorial.ipynb)\n",
    "\n",
    "**NB** lots of features of PyTorch3D are GPU only. If on macOS (only!), you can install via pip. Ensure you have PyTorch `1.9.0`. This is the only supported configuration. See: https://github.com/facebookresearch/pytorch3d/blob/main/INSTALL.md"
   ]
  },
  {
   "cell_type": "code",
   "execution_count": null,
   "metadata": {},
   "outputs": [],
   "source": [
    "# Install Graphein if necessary\n",
    "# !pip install graphein\n",
    "\n",
    "# Install pymol if necessary - in this tutorial PyMol is only used for the initial plot. Feel free to skip!\n",
    "# sudo apt-get install pymol (recommended for colab) OR conda install -c schrodinger pymol"
   ]
  },
  {
   "cell_type": "code",
   "execution_count": null,
   "metadata": {},
   "outputs": [],
   "source": [
    "# Install torch 1.9.0\n",
    "# pip install torch==1.9.0\n",
    "\n",
    "# Install pytorch3d\n",
    "# pip install pytorch3d"
   ]
  },
  {
   "cell_type": "code",
   "execution_count": null,
   "metadata": {},
   "outputs": [],
   "source": [
    "# NBVAL_SKIP\n",
    "%matplotlib inline\n",
    "import logging\n",
    "logging.basicConfig(level=logging.CRITICAL)"
   ]
  },
  {
   "cell_type": "markdown",
   "metadata": {},
   "source": [
    "## High-level API\n",
    "### Config\n",
    "Again, we use a [ProteinMeshConfig](https://graphein.ai/modules/graphein.protein.html#graphein.protein.config.ProteinMeshConfig) config object to manage global configurations.\n",
    "\n",
    "* `pymol_command_line_options`: String of additional pymol command line options when launching. A full list can be found [here](https://www.pymolwiki.org/index.php/Command_Line_Options). The default options, `\"-cKq\"`, do:\n",
    "   * `c`: launch in command-line only mode for batch processing\n",
    "   * `K`: keep alive: when running without a GUI, don't quit after the input\n",
    "            is exhausted\n",
    "    * `q`: supress startup message \n",
    "    \n",
    "* `pymol_commands` : List of string pymol commands to execute. You can use these to configure the exact mesh you wish to construct. A reference to these can be found [here](https://pymol.org/pymol-command-ref.html)"
   ]
  },
  {
   "cell_type": "code",
   "execution_count": null,
   "metadata": {},
   "outputs": [],
   "source": [
    "from graphein.protein.config import ProteinMeshConfig\n",
    "config = ProteinMeshConfig()\n",
    "config.dict()"
   ]
  },
  {
   "cell_type": "markdown",
   "metadata": {},
   "source": [
    "### Building a mesh"
   ]
  },
  {
   "cell_type": "markdown",
   "metadata": {},
   "source": [
    "Let's build a mesh!"
   ]
  },
  {
   "cell_type": "code",
   "execution_count": null,
   "metadata": {},
   "outputs": [],
   "source": [
    "# NBVAL_SKIP\n",
    "from graphein.protein.meshes import create_mesh\n",
    "\n",
    "verts, faces, aux = create_mesh(pdb_code=\"1ldf\", config=config)\n",
    "print(verts, faces, aux)"
   ]
  },
  {
   "cell_type": "markdown",
   "metadata": {},
   "source": [
    "In order to visualise these tensors containing vertices, faces and aux data, we convert them into a PyTorch3D `Mesh` object"
   ]
  },
  {
   "cell_type": "code",
   "execution_count": null,
   "metadata": {},
   "outputs": [],
   "source": [
    "# NBVAL_SKIP\n",
    "from graphein.protein.meshes import convert_verts_and_face_to_mesh\n",
    "m = convert_verts_and_face_to_mesh(verts, faces)\n",
    "\n",
    "from graphein.protein.visualisation import plot_pointcloud\n",
    "plot_pointcloud(m, title=\"my first mesh\")"
   ]
  },
  {
   "cell_type": "markdown",
   "metadata": {},
   "source": [
    "## Modifying Mesh Parameters"
   ]
  },
  {
   "cell_type": "markdown",
   "metadata": {},
   "source": [
    "Let's see what happens if we play around with some of the parameters and make a smoother mesh using"
   ]
  },
  {
   "cell_type": "code",
   "execution_count": null,
   "metadata": {},
   "outputs": [],
   "source": [
    "# NBVAL_SKIP\n",
    "pymol_commands = {\"pymol_commands\": [\"hide cartoon\",\n",
    "                                     \"set solvent_radius, 10\",\n",
    "                                     \"alter all, vdw=4\",\n",
    "                                     \"sort\",\n",
    "                                     \"set surface_quality, 1\",\n",
    "                                     \"show surface\"]}\n",
    "\n",
    "config = ProteinMeshConfig(**pymol_commands)\n",
    "\n",
    "verts, faces, aux = create_mesh(pdb_code=\"1ldf\", config=config)\n",
    "\n",
    "m = convert_verts_and_face_to_mesh(verts, faces)\n",
    "\n",
    "plot_pointcloud(m, title=\"my second mesh\")"
   ]
  },
  {
   "cell_type": "markdown",
   "metadata": {},
   "source": [
    "## Using PyMol for 3D Visualisation\n",
    "We also provide a wrapper for pymol (based on [IPyMol](https://github.com/cxhernandez/ipymol) developed by [@cxhernandez](https://github.com/cxhernandez))"
   ]
  },
  {
   "cell_type": "code",
   "execution_count": null,
   "metadata": {},
   "outputs": [],
   "source": [
    "# NBVAL_SKIP\n",
    "from graphein.utils.pymol import viewer as pymol\n",
    "pymol.delete(\"all\") # delete all objects from other sessions if necessary.\n",
    "pymol.fetch(\"1ldf\")\n",
    "pymol.display()\n"
   ]
  }
 ],
 "metadata": {
  "interpreter": {
   "hash": "2084dd4fc0c9f9186ef9bb5d9f5c6652432726a285d6ac2dcf2b1a616ab39cbb"
  },
  "kernelspec": {
   "display_name": "graphein-dev",
   "language": "python",
   "name": "python3"
  },
  "language_info": {
   "codemirror_mode": {
    "name": "ipython",
    "version": 3
   },
   "file_extension": ".py",
   "mimetype": "text/x-python",
   "name": "python",
   "nbconvert_exporter": "python",
   "pygments_lexer": "ipython3",
   "version": "3.8.12"
  }
 },
 "nbformat": 4,
 "nbformat_minor": 4
}
