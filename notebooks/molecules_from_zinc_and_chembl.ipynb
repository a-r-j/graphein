{
 "cells": [
  {
   "cell_type": "markdown",
   "metadata": {},
   "source": [
    "# Working with Molecules from ZINC and ChEMBL\n",
    "\n",
    "Graphein provides utilities for retrieving molecules and metadata from [ZINC](https://zinc.docking.org/) and [ChEMBL](https://www.ebi.ac.uk/chembl/)\n",
    "\n",
    "The ZINC database is a curated collection of commercially available chemical compounds prepared especially for virtual screening.\n",
    "\n",
    "\n",
    "ChEMBL or ChEMBLdb is a manually curated chemical database of bioactive molecules with drug-like properties. It is maintained by the European Bioinformatics Institute, of the European Molecular Biology Laboratory\n",
    "\n",
    "[![Open In Colab](https://colab.research.google.com/assets/colab-badge.svg)](https://colab.research.google.com/github/a-r-j/graphein/blob/master/notebooks/molecules_from_zinc_and_chembl.ipynb) [![GitHub](https://img.shields.io/badge/-View%20on%20GitHub-181717?logo=github&logoColor=ffffff)](https://github.com/a-r-j/graphein/blob/master/notebooks/molecules_from_zinc_and_chembl.ipynb)"
   ]
  },
  {
   "cell_type": "code",
   "execution_count": null,
   "metadata": {},
   "outputs": [],
   "source": [
    "# Install Graphein if necessary\n",
    "# !pip install graphein[extras]"
   ]
  },
  {
   "cell_type": "code",
   "execution_count": null,
   "metadata": {},
   "outputs": [],
   "source": [
    "import graphein.molecule as gm"
   ]
  },
  {
   "cell_type": "markdown",
   "metadata": {},
   "source": [
    "## ZINC\n",
    "### Mapping between SMILEs and ZINC IDs."
   ]
  },
  {
   "cell_type": "code",
   "execution_count": null,
   "metadata": {},
   "outputs": [],
   "source": [
    "#NBVAL_SKIP\n",
    "gm.get_smiles_from_zinc(\"ZINC01234567\", backend=\"zinc15\") #Backend allows specification of which ZINC release to use"
   ]
  },
  {
   "cell_type": "markdown",
   "metadata": {},
   "source": [
    "We can also map a SMILE string back to ZINC identifiers. \n",
    "\n",
    "N.B. we may obtain multiple ZINC IDs. In the example below, we retrieve two ZINC IDs for the two enantiomers of the specified molecule"
   ]
  },
  {
   "cell_type": "code",
   "execution_count": null,
   "metadata": {},
   "outputs": [],
   "source": [
    "#NBVAL_SKIP\n",
    "gm.get_zinc_id_from_smile(\"C[C@H]1CCCCN1CC#CC(O)(c1ccccc1)c1ccccc1\")"
   ]
  },
  {
   "cell_type": "markdown",
   "metadata": {},
   "source": [
    "### Constructing Graphs\n",
    "We can also retrieve the molecular graphs directly from the ZINC ID"
   ]
  },
  {
   "cell_type": "code",
   "execution_count": null,
   "metadata": {},
   "outputs": [],
   "source": [
    "#NBVAL_SKIP\n",
    "g = gm.construct_graph(zinc_id=\"ZINC000001234567\")\n",
    "g.graph[\"rdmol\"]"
   ]
  },
  {
   "cell_type": "code",
   "execution_count": null,
   "metadata": {},
   "outputs": [],
   "source": [
    "#NBVAL_SKIP\n",
    "g = gm.construct_graph(zinc_id=\"ZINC000001234568\")\n",
    "g.graph[\"rdmol\"]"
   ]
  },
  {
   "cell_type": "code",
   "execution_count": null,
   "metadata": {},
   "outputs": [],
   "source": [
    "#NBVAL_SKIP\n",
    "# Here we retrieve the above molecule, generate a 3D conformer and visualise it\n",
    "config = gm.MoleculeGraphConfig(edge_construction_functions=[gm.add_atom_bonds])\n",
    "\n",
    "g = gm.construct_graph(zinc_id=\"ZINC000001234568\", generate_conformer=True, config=config)\n",
    "gm.plotly_molecular_graph(g)"
   ]
  },
  {
   "cell_type": "markdown",
   "metadata": {},
   "source": [
    "## ChEMBL\n",
    "\n",
    "Similarly, we can map between ChEMBL identifiers and SMILEs. We can also add ChEMBLs rich metadata to the graph"
   ]
  },
  {
   "cell_type": "code",
   "execution_count": null,
   "metadata": {},
   "outputs": [],
   "source": [
    "#NBVAL_SKIP\n",
    "gm.get_smiles_from_chembl(\"CHEMBL1234\")"
   ]
  },
  {
   "cell_type": "code",
   "execution_count": null,
   "metadata": {},
   "outputs": [],
   "source": [
    "#NBVAL_SKIP\n",
    "gm.get_chembl_id_from_smiles(\"CC(=O)N(O)CCCCCNC(=O)CCC(=O)N(O)CCCCCNC(=O)CCC(=O)N(O)CCCCCN.CS(=O)(=O)O\")"
   ]
  },
  {
   "cell_type": "markdown",
   "metadata": {},
   "source": [
    "### Constructing Graphs from ChEMBL"
   ]
  },
  {
   "cell_type": "code",
   "execution_count": null,
   "metadata": {},
   "outputs": [],
   "source": [
    "#NBVAL_SKIP\n",
    "g = gm.construct_graph(chembl_id=\"CHEMBL1234\")\n",
    "g.graph[\"rdmol\"]"
   ]
  },
  {
   "cell_type": "markdown",
   "metadata": {},
   "source": [
    "### Retrieving Metadata from ChEMBL\n",
    "\n",
    "We can retrieve metadata from chembl both functionally and via the graph construction config."
   ]
  },
  {
   "cell_type": "code",
   "execution_count": null,
   "metadata": {},
   "outputs": [],
   "source": [
    "#NBVAL_SKIP\n",
    "# Functionally\n",
    "\n",
    "g = gm.add_chembl_metadata(g)\n",
    "print(g.graph[\"chembl_metadata\"])"
   ]
  },
  {
   "cell_type": "code",
   "execution_count": null,
   "metadata": {},
   "outputs": [],
   "source": [
    "# Via Config\n",
    "config = gm.MoleculeGraphConfig(graph_metadata_functions=[gm.add_chembl_metadata])\n",
    "g = gm.construct_graph(chembl_id=\"CHEMBL1234\", config=config)\n",
    "g.graph[\"chembl_metadata\"]"
   ]
  }
 ],
 "metadata": {
  "kernelspec": {
   "display_name": "Python 3.8.12 ('graphein-wip')",
   "language": "python",
   "name": "python3"
  },
  "language_info": {
   "codemirror_mode": {
    "name": "ipython",
    "version": 3
   },
   "file_extension": ".py",
   "mimetype": "text/x-python",
   "name": "python",
   "nbconvert_exporter": "python",
   "pygments_lexer": "ipython3",
   "version": "3.8.13"
  },
  "vscode": {
   "interpreter": {
    "hash": "2084dd4fc0c9f9186ef9bb5d9f5c6652432726a285d6ac2dcf2b1a616ab39cbb"
   }
  }
 },
 "nbformat": 4,
 "nbformat_minor": 2
}
