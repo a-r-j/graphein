{
 "cells": [
  {
   "cell_type": "markdown",
   "metadata": {},
   "source": [
    "# Predicting Acute Toxicity LD50\n",
    "\n",
    "Here we show a worked example applying graphein to process a [molecule dataset](https://tdcommons.ai/single_pred_tasks/tox/) from [TDC](https://tdcommons.ai/).\n",
    "\n",
    "**Dataset Description**: Acute toxicity LD50 measures the most conservative dose that can lead to lethal adverse effects. The higher the dose, the more lethal of a drug. This dataset is kindly provided by the authors of [1].\n",
    "\n",
    "**Task Description**: Regression. Given a drug SMILES string, predict its acute toxicity.\n",
    "\n",
    "**Dataset Statistics**: 7,385 drugs.\n",
    "\n",
    "**Dataset Split**: Random Split Scaffold Split\n",
    "\n",
    "[1] Zhu, Hao, et al. “Quantitative structure− activity relationship modeling of rat acute toxicity by oral exposure.” Chemical research in toxicology 22.12 (2009): 1913-1921.\n",
    "\n",
    "[![Open In Colab](https://colab.research.google.com/assets/colab-badge.svg)](https://colab.research.google.com/github/a-r-j/graphein/blob/master/notebooks/molecule_model_tutorial_tox.ipynb) [![GitHub](https://img.shields.io/badge/-View%20on%20GitHub-181717?logo=github&logoColor=ffffff)](https://github.com/a-r-j/graphein/blob/master/notebooks/molecule_model_tutorial_tox.ipynb)"
   ]
  },
  {
   "cell_type": "code",
   "execution_count": null,
   "metadata": {},
   "outputs": [],
   "source": [
    "# Install Graphein if necessary\n",
    "# !pip install graphein[extras]\n",
    "\n",
    "# Install TDC if necessary\n",
    "# !pip install PyTDC\n",
    "\n",
    "# NB you may need to install DL libraries such as pytorch, pytorch-lightning and torch-geometric\n",
    "# These are left to the user to configure as they depend on your particular desired configuration (e.g CUDA)"
   ]
  },
  {
   "cell_type": "code",
   "execution_count": null,
   "metadata": {},
   "outputs": [],
   "source": [
    "# NBVAL_SKIP\n",
    "from tdc.single_pred import Tox"
   ]
  },
  {
   "cell_type": "code",
   "execution_count": null,
   "metadata": {},
   "outputs": [],
   "source": [
    "# NBVAL_SKIP\n",
    "# Load data\n",
    "data = Tox(name = 'LD50_Zhu')\n",
    "split = data.get_split()\n",
    "split[\"train\"].head()"
   ]
  },
  {
   "cell_type": "markdown",
   "metadata": {},
   "source": [
    "## Creating Molecular Graphs with Graphein"
   ]
  },
  {
   "cell_type": "code",
   "execution_count": null,
   "metadata": {},
   "outputs": [],
   "source": [
    "# NBVAL_SKIP\n",
    "import torch\n",
    "import graphein.molecule as gm\n",
    "import graphein.ml as ml"
   ]
  },
  {
   "cell_type": "code",
   "execution_count": null,
   "metadata": {},
   "outputs": [],
   "source": [
    "# NBVAL_SKIP\n",
    "config = gm.MoleculeGraphConfig()\n",
    "\n",
    "# Iterate over dataframes containing each split\n",
    "train_graphs = [gm.construct_graph(smiles=smiles, config=config) for smiles in split[\"train\"][\"Drug\"]]\n",
    "valid_graphs = [gm.construct_graph(smiles=smiles, config=config) for smiles in split[\"valid\"][\"Drug\"]]\n",
    "test_graphs = [gm.construct_graph(smiles=smiles, config=config) for smiles in split[\"test\"][\"Drug\"]]\n",
    "\n",
    "# Assign labels to graphs\n",
    "train_graphs = ml.add_labels_to_graph(train_graphs, labels=split[\"train\"][\"Y\"].apply(torch.tensor), name=\"graph_label\")\n",
    "valid_graphs = ml.add_labels_to_graph(valid_graphs, labels=split[\"valid\"][\"Y\"].apply(torch.tensor), name=\"graph_label\")\n",
    "test_graphs = ml.add_labels_to_graph(test_graphs, labels=split[\"test\"][\"Y\"].apply(torch.tensor), name=\"graph_label\")"
   ]
  },
  {
   "cell_type": "code",
   "execution_count": null,
   "metadata": {},
   "outputs": [],
   "source": [
    "# NBVAL_SKIP\n",
    "from graphein.ml import GraphFormatConvertor\n",
    "from torch_geometric.loader import DataLoader\n",
    "\n",
    "# Define a conversion object\n",
    "convertor = GraphFormatConvertor(\n",
    "    src_format=\"nx\",\n",
    "    dst_format=\"pyg\",\n",
    "    columns=[\"edge_index\", \"atom_type_one_hot\", \"graph_label\"]\n",
    "    )\n",
    "\n",
    "# Convert Graphs from NX to PyG\n",
    "train_graphs = [convertor(g) for g in train_graphs]\n",
    "valid_graphs = [convertor(g) for g in valid_graphs]\n",
    "test_graphs = [convertor(g) for g in test_graphs]\n",
    "\n",
    "# Create Dataloaders\n",
    "train_loader = DataLoader(train_graphs, batch_size=32, shuffle=True)\n",
    "valid_loader = DataLoader(valid_graphs, batch_size=32, shuffle=False)\n",
    "test_loader = DataLoader(test_graphs, shuffle=False)"
   ]
  },
  {
   "cell_type": "code",
   "execution_count": null,
   "metadata": {},
   "outputs": [],
   "source": [
    "# NBVAL_SKIP\n",
    "# Inspect a batch\n",
    "for i in train_loader:\n",
    "    print(i)\n",
    "    break"
   ]
  },
  {
   "cell_type": "markdown",
   "metadata": {},
   "source": [
    "## Define Model"
   ]
  },
  {
   "cell_type": "code",
   "execution_count": null,
   "metadata": {},
   "outputs": [],
   "source": [
    "# NBVAL_SKIP\n",
    "from torch_geometric.nn import GCNConv, global_add_pool\n",
    "from torch.nn.functional import mse_loss\n",
    "from torch.nn import functional as F\n",
    "import torch.nn as nn\n",
    "import pytorch_lightning as pl"
   ]
  },
  {
   "cell_type": "code",
   "execution_count": null,
   "metadata": {},
   "outputs": [],
   "source": [
    "# NBVAL_SKIP\n",
    "config_default = dict(\n",
    "    n_hid = 8,\n",
    "    n_out = 8,\n",
    "    batch_size = 4,\n",
    "    dropout = 0.5,\n",
    "    lr = 0.001,\n",
    "    num_heads = 32,\n",
    "    num_att_dim = 64,\n",
    "    model_name = 'GCN'\n",
    ")\n",
    "\n",
    "class Struct:\n",
    "    def __init__(self, **entries):\n",
    "        self.__dict__.update(entries)\n",
    "\n",
    "config = Struct(**config_default)\n",
    "\n",
    "global model_name\n",
    "model_name = config.model_name"
   ]
  },
  {
   "cell_type": "code",
   "execution_count": null,
   "metadata": {},
   "outputs": [],
   "source": [
    "# NBVAL_SKIP\n",
    "class GraphNets(pl.LightningModule):\n",
    "    def __init__(self):\n",
    "        super().__init__()\n",
    "\n",
    "        self.layer1 = GCNConv(in_channels=11, out_channels=config.n_hid)\n",
    "        self.layer2 = GCNConv(in_channels=config.n_hid, out_channels=config.n_out)\n",
    "        self.decoder = nn.Linear(config.n_out, 1)\n",
    "\n",
    "    def forward(self, g):\n",
    "        x = g.atom_type_one_hot.float()\n",
    "        x = F.dropout(x, p=config.dropout, training=self.training)\n",
    "        x = F.elu(self.layer1(x, g.edge_index))\n",
    "        x = F.dropout(x, p=config.dropout, training=self.training)\n",
    "        x = self.layer2(x, g.edge_index)\n",
    "        x = global_add_pool(x, batch=g.batch)\n",
    "        x = self.decoder(x)\n",
    "        return x\n",
    "\n",
    "    def training_step(self, batch, batch_idx):\n",
    "        x = batch\n",
    "        y = x.graph_label\n",
    "        y_hat = self(x)\n",
    "        loss = mse_loss(y_hat, y)\n",
    "\n",
    "        self.log(\"train_loss\", loss)\n",
    "        return loss\n",
    "\n",
    "    def validation_step(self, batch, batch_idx):\n",
    "        x = batch\n",
    "        y = x.graph_label\n",
    "        y_hat = self(x)\n",
    "        loss = mse_loss(y_hat, y)\n",
    "        self.log(\"valid_loss\", loss)\n",
    "\n",
    "    def test_step(self, batch, batch_idx):\n",
    "        x = batch\n",
    "        y = x.graph_label\n",
    "        y_hat = self(x)\n",
    "        loss = mse_loss(y_hat, y)\n",
    "\n",
    "        self.log(\"test_loss\", loss)\n",
    "\n",
    "    def configure_optimizers(self):\n",
    "        return torch.optim.Adam(self.parameters(), lr=config.lr)"
   ]
  },
  {
   "cell_type": "markdown",
   "metadata": {},
   "source": [
    "## Train!"
   ]
  },
  {
   "cell_type": "code",
   "execution_count": null,
   "metadata": {},
   "outputs": [],
   "source": [
    "# NBVAL_SKIP\n",
    "model = GraphNets()\n",
    "\n",
    "trainer = pl.Trainer(max_epochs=50, gpus=1, strategy=None)\n",
    "trainer.fit(model, train_loader, valid_loader)"
   ]
  },
  {
   "cell_type": "markdown",
   "metadata": {},
   "source": [
    "## Test"
   ]
  },
  {
   "cell_type": "code",
   "execution_count": null,
   "metadata": {},
   "outputs": [],
   "source": [
    "# NBVAL_SKIP\n",
    "trainer.test(model, dataloaders=[test_loader])"
   ]
  }
 ],
 "metadata": {
  "interpreter": {
   "hash": "0ab7f988027852efc1ebacd06db3f130eb65d2a20cb6a366311359132c20a952"
  },
  "kernelspec": {
   "display_name": "Python 3.8.13 ('graphein')",
   "language": "python",
   "name": "python3"
  },
  "language_info": {
   "codemirror_mode": {
    "name": "ipython",
    "version": 3
   },
   "file_extension": ".py",
   "mimetype": "text/x-python",
   "name": "python",
   "nbconvert_exporter": "python",
   "pygments_lexer": "ipython3",
   "version": "3.8.13"
  }
 },
 "nbformat": 4,
 "nbformat_minor": 2
}
