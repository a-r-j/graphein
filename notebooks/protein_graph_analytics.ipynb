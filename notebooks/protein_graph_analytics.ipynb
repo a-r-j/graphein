{
 "cells": [
  {
   "cell_type": "markdown",
   "metadata": {},
   "source": [
    "# Protein Graph Analytics\n",
    "\n",
    "Graphein provides built in utilities for computing various analytics relating graph structure and physicochemical properties. These include functions for getting summaries and metrics out as well as interactive plotting functions.\n",
    "\n",
    "[![Open In Colab](https://colab.research.google.com/assets/colab-badge.svg)](https://colab.research.google.com/github/a-r-j/graphein/blob/master/notebooks/protein_graph_analytics.ipynb)"
   ]
  },
  {
   "cell_type": "code",
   "execution_count": null,
   "metadata": {},
   "outputs": [],
   "source": [
    "# Install graphein if necessary:\n",
    "# !pip install graphein\n",
    "# Install DSSP if necessary:\n",
    "# !sudo apt-get install dssp (better for colab) OR !conda install -c salilab dssp"
   ]
  },
  {
   "cell_type": "markdown",
   "metadata": {},
   "source": [
    "## Constructing a graph for analysis\n",
    "First, we need a graph to work with. Here we construct a graph of [3EIY](https://www.rcsb.org/structure/3eiy), a pyrophosphatase. We use the following edges:\n",
    "* Hydrophobic Interactions\n",
    "* Aromatic Interactions\n",
    "* Disulfide Interactions\n",
    "* Peptide Bonds\n",
    "\n",
    "Using DSSP, we add relative (RSA) and absolute solvent accessibility (ASA) to the nodes."
   ]
  },
  {
   "cell_type": "code",
   "execution_count": null,
   "metadata": {},
   "outputs": [],
   "source": [
    "from graphein.protein.config import ProteinGraphConfig, DSSPConfig\n",
    "from graphein.protein.graphs import construct_graph\n",
    "from graphein.protein.edges.distance import (\n",
    "    add_aromatic_interactions,\n",
    "    add_disulfide_interactions,\n",
    "    add_hydrophobic_interactions,\n",
    "    add_peptide_bonds,\n",
    ")\n",
    "from graphein.protein.features.nodes import asa, rsa\n",
    "\n",
    "config = ProteinGraphConfig(\n",
    "    edge_construction_functions=[       # List of functions to call to construct edges.\n",
    "        add_hydrophobic_interactions,\n",
    "        add_aromatic_interactions,\n",
    "        add_disulfide_interactions,\n",
    "        add_peptide_bonds,\n",
    "    ],\n",
    "    graph_metadata_functions=[asa, rsa],  # Add ASA and RSA features.\n",
    "    dssp_config=DSSPConfig(),             # Add DSSP config in order to compute ASA and RSA.\n",
    ")\n",
    "\n",
    "g = construct_graph(pdb_code=\"3eiy\", config=config)"
   ]
  },
  {
   "cell_type": "code",
   "execution_count": null,
   "metadata": {},
   "outputs": [],
   "source": [
    "from graphein.protein.visualisation import plotly_protein_structure_graph\n",
    "\n",
    "plotly_protein_structure_graph(g, node_size_multiplier=1)"
   ]
  },
  {
   "cell_type": "markdown",
   "metadata": {},
   "source": [
    "## Residue Composition\n",
    "We can plot the residue composition of the graph with `plot_residue_composition`. This can be as a bar (`plot_type=\"bar\"`) or pie chart (`plot_type=\"pie\"`)"
   ]
  },
  {
   "cell_type": "code",
   "execution_count": null,
   "metadata": {},
   "outputs": [],
   "source": [
    "from graphein.protein.analysis import plot_residue_composition\n",
    "\n",
    "fig = plot_residue_composition(g, sort_by=\"count\", plot_type=\"pie\") # Can also sort by \"alphabetical\"\n",
    "fig.show()"
   ]
  },
  {
   "cell_type": "code",
   "execution_count": null,
   "metadata": {},
   "outputs": [],
   "source": [
    "fig = plot_residue_composition(g, sort_by=\"count\", plot_type=\"bar\")\n",
    "fig.show()"
   ]
  },
  {
   "cell_type": "markdown",
   "metadata": {},
   "source": [
    "## Graph Summary Statistics\n",
    "We can compute graph-theoretic summary statistics for a given protein graph based on various centrality measures."
   ]
  },
  {
   "cell_type": "code",
   "execution_count": null,
   "metadata": {},
   "outputs": [],
   "source": [
    "from graphein.protein.analysis import graph_summary\n",
    "\n",
    "graph_summary(g)"
   ]
  },
  {
   "cell_type": "code",
   "execution_count": null,
   "metadata": {},
   "outputs": [],
   "source": [
    "graph_summary(g, plot=True)"
   ]
  },
  {
   "cell_type": "markdown",
   "metadata": {},
   "source": [
    "## Degree Distribution\n",
    "\n",
    "We can plot the distribution of node degrees over the protein graph"
   ]
  },
  {
   "cell_type": "code",
   "execution_count": null,
   "metadata": {},
   "outputs": [],
   "source": [
    "from graphein.protein.analysis import plot_degree_distribution\n",
    "\n",
    "fig = plot_degree_distribution(g)\n",
    "fig.show()"
   ]
  },
  {
   "cell_type": "markdown",
   "metadata": {},
   "source": [
    "And the total degree broken down by residue type."
   ]
  },
  {
   "cell_type": "code",
   "execution_count": null,
   "metadata": {},
   "outputs": [],
   "source": [
    "from graphein.protein.analysis import plot_degree_by_residue_type\n",
    "\n",
    "fig = plot_degree_by_residue_type(g, normalise_by_residue_occurrence=False)\n",
    "fig.show()"
   ]
  },
  {
   "cell_type": "markdown",
   "metadata": {},
   "source": [
    "Or the total degree normalised by the occurence of each amino acid type"
   ]
  },
  {
   "cell_type": "code",
   "execution_count": null,
   "metadata": {},
   "outputs": [],
   "source": [
    "fig = plot_degree_by_residue_type(g, normalise_by_residue_occurrence=True)\n",
    "fig.show()"
   ]
  },
  {
   "cell_type": "markdown",
   "metadata": {},
   "source": [
    "## Edge Type Distribution\n",
    "\n",
    "We can plot the distribution of edge types in the graph with `plot_edge_type_distribution()`"
   ]
  },
  {
   "cell_type": "code",
   "execution_count": null,
   "metadata": {},
   "outputs": [],
   "source": [
    "from graphein.protein.analysis import plot_edge_type_distribution\n",
    "\n",
    "fig = plot_edge_type_distribution(g, plot_type=\"bar\")\n",
    "fig.show()"
   ]
  },
  {
   "cell_type": "code",
   "execution_count": null,
   "metadata": {},
   "outputs": [],
   "source": [
    "from graphein.protein.analysis import plot_edge_type_distribution\n",
    "\n",
    "fig = plot_edge_type_distribution(g, plot_type=\"pie\")\n",
    "fig.show()"
   ]
  },
  {
   "cell_type": "markdown",
   "metadata": {},
   "source": [
    "## Scatter Matrix\n",
    "\n",
    "We can use scatter matrices to correlate node-level graph metrics (e.g. centrality measures) with node features.\n",
    "\n",
    "First, we will plot the scatter matrix for a selection of centrality measures and the relative solvent accessibility (RSA) and absolute solvent accessibility (ASA). *N.B.* we can include these features in the plot as we have added them as metadata in the initial graph construction. Refer to cell 2 at the top of this notebook for clarity.\n",
    "\n",
    "\n",
    "A summary of the function parameters:\n",
    "\n",
    "```python\n",
    "\n",
    "plot_graph_metric_property_correlation(\n",
    "    g: nx.Graph,                                # Graph to plot\n",
    "    summary_statistics: List[str] = [           # Graph theoretic metrics to include\n",
    "        \"degree\",\n",
    "        \"betweenness_centrality\",\n",
    "        \"closeness_centrality\",\n",
    "        \"eigenvector_centrality\",\n",
    "        \"communicability_betweenness_centrality\",\n",
    "    ],\n",
    "    properties: List[str] = [\"asa\", \"rsa\"],     # Node features to include\n",
    "    colour_by: Optional[str] = \"residue_type\",  # How to colour the points\n",
    "    opacity: float = 0.2,                       # Opacity of markers\n",
    "    diagonal_visible: bool = True,              # Whether or not to show the leading diagonal of the plot\n",
    "    title: Optional[str] = None,                # Plot title\n",
    "    height: int = 1000,                         # Plot height\n",
    "    width: int = 1000,                          # Plot width\n",
    "    font_size: int = 10,                        # Font size for axes, title and ticks\n",
    ")\n",
    "```"
   ]
  },
  {
   "cell_type": "code",
   "execution_count": null,
   "metadata": {},
   "outputs": [],
   "source": [
    "from graphein.protein.analysis import plot_graph_metric_property_correlation\n",
    "\n",
    "plot_graph_metric_property_correlation(g, diagonal_visible=False)"
   ]
  },
  {
   "cell_type": "code",
   "execution_count": null,
   "metadata": {},
   "outputs": [],
   "source": [
    "plot_graph_metric_property_correlation(g, diagonal_visible=False, colour_by=None)"
   ]
  },
  {
   "cell_type": "markdown",
   "metadata": {},
   "source": [
    "However, we can include more features. For instance, we can correlate these metrics with the properties defined by the ExPaSy amino acid scales. We'll plot a subset for the sake of space.\n",
    "\n",
    "The full list of properties are:\n",
    "\n",
    "```python\n",
    "['b_factor', 'pka_cooh_alpha', 'pka_nh3', 'pka_rgroup', 'isoelectric_points', 'molecularweight', 'numbercodons', 'bulkiness', 'polarityzimmerman', 'polaritygrantham', 'refractivity', 'recognitionfactors', 'hphob_eisenberg', 'hphob_sweet', 'hphob_woods', 'hphob_doolittle', 'hphob_manavalan', 'hphob_leo', 'hphob_black', 'hphob_breese', 'hphob_fauchere', 'hphob_guy', 'hphob_janin', 'hphob_miyazawa', 'hphob_argos', 'hphob_roseman', 'hphob_tanford', 'hphob_wolfenden', 'hphob_welling', 'hphob_wilson', 'hphob_parker', 'hphob_ph3_4', 'hphob_ph7_5', 'hphob_mobility', 'hplchfba', 'hplctfa', 'transmembranetendency', 'hplc2_1', 'hplc7_4', 'buriedresidues', 'accessibleresidues', 'hphob_chothia', 'hphob_rose', 'ratioside', 'averageburied', 'averageflexibility', 'alpha_helixfasman', 'beta_sheetfasman', 'beta_turnfasman', 'alpha_helixroux', 'beta_sheetroux', 'beta_turnroux', 'coilroux', 'alpha_helixlevitt', 'beta_sheetlevitt', 'beta_turnlevitt', 'totalbeta_strand', 'antiparallelbeta_strand', 'parallelbeta_strand', 'a_a_composition', 'a_a_swiss_prot', 'relativemutability']\n",
    "```\n",
    "\n",
    "These can be accessed programmatically with:\n",
    "```python\n",
    "for _, d in g.nodes(data=True):\n",
    "    print(d.keys())\n",
    "    break\n",
    "```\n",
    "\n",
    "**NB** These are just examples, *any* numerical node feature can be provided - including user-defined features."
   ]
  },
  {
   "cell_type": "code",
   "execution_count": null,
   "metadata": {},
   "outputs": [],
   "source": [
    "from functools import partial\n",
    "from graphein.protein.features.nodes import expasy_protein_scale\n",
    "\n",
    "# Construct the graph with the expasy features.\n",
    "config = ProteinGraphConfig(\n",
    "    edge_construction_functions=[\n",
    "        add_hydrophobic_interactions,\n",
    "        add_aromatic_interactions,\n",
    "        add_disulfide_interactions,\n",
    "        add_peptide_bonds,\n",
    "    ],\n",
    "    node_metadata_functions=[partial(expasy_protein_scale, add_separate=True)], # Add expasy scale (add partial it so each feature is added under a separate key)\n",
    ")\n",
    "g = construct_graph(\n",
    "    pdb_code=\"3eiy\",\n",
    "    config=config\n",
    "    )\n",
    "\n",
    "# Plot\n",
    "plot_graph_metric_property_correlation(\n",
    "    g,\n",
    "    diagonal_visible=False,\n",
    "    colour_by=\"residue_type\",\n",
    "    properties=[\n",
    "        \"pka_rgroup\",\n",
    "        \"isoelectric_points\",\n",
    "        \"bulkiness\",\n",
    "        \"transmembranetendency\",\n",
    "        \"coilroux\",\n",
    "        \"relativemutability\"\n",
    "        ]\n",
    "    )"
   ]
  }
 ],
 "metadata": {
  "interpreter": {
   "hash": "2405bbb9b0f17ca74d68c7ceaffab421796591b319a83e9ab2306dfe9d8be96b"
  },
  "kernelspec": {
   "display_name": "Python 3.7.11 ('graphein-3.7')",
   "language": "python",
   "name": "python3"
  },
  "language_info": {
   "codemirror_mode": {
    "name": "ipython",
    "version": 3
   },
   "file_extension": ".py",
   "mimetype": "text/x-python",
   "name": "python",
   "nbconvert_exporter": "python",
   "pygments_lexer": "ipython3",
   "version": "3.8.12"
  }
 },
 "nbformat": 4,
 "nbformat_minor": 2
}
