{
 "cells": [
  {
   "cell_type": "code",
   "execution_count": null,
   "id": "8a146408",
   "metadata": {},
   "outputs": [],
   "source": [
    "# NBVAL_SKIP\n",
    "import sys\n",
    "sys.path.append('../')\n",
    "\n",
    "import logging\n",
    "logging.getLogger('matplotlib').setLevel(logging.CRITICAL)\n",
    "logging.getLogger('graphein').setLevel(logging.INFO)"
   ]
  },
  {
   "cell_type": "markdown",
   "id": "59a32cc0-8bd2-4910-9cb6-980dd2476ff0",
   "metadata": {},
   "source": [
    "# PSCDB - Baselines"
   ]
  },
  {
   "cell_type": "code",
   "execution_count": null,
   "id": "4ee700f8",
   "metadata": {},
   "outputs": [],
   "source": [
    "# NBVAL_SKIP\n",
    "import pandas as pd\n",
    "import numpy as np\n",
    "\n",
    "import torch\n",
    "import torch.nn as nn\n",
    "import pytorch_lightning as pl\n",
    "from tqdm.notebook import tqdm\n",
    "import networkx as nx\n",
    "import torch_geometric\n",
    "from torch_geometric.data import Data\n",
    "from torch_geometric.utils import from_networkx\n",
    "from sklearn.preprocessing import LabelBinarizer\n",
    "from sklearn.metrics import f1_score\n",
    "\n",
    "import warnings\n",
    "warnings.filterwarnings(\"ignore\")"
   ]
  },
  {
   "cell_type": "markdown",
   "id": "80b5801a",
   "metadata": {},
   "source": [
    "## Load dataset\n"
   ]
  },
  {
   "cell_type": "code",
   "execution_count": null,
   "id": "44af34a7",
   "metadata": {},
   "outputs": [],
   "source": [
    "# NBVAL_SKIP\n",
    "df = pd.read_csv(\"../datasets/pscdb/structural_rearrangement_data.csv\")\n",
    "pdbs = df[\"Free PDB\"]\n",
    "y = [torch.argmax(torch.Tensor(lab)).type(torch.LongTensor) for lab in LabelBinarizer().fit_transform(df.motion_type)]"
   ]
  },
  {
   "cell_type": "markdown",
   "id": "595ee7c4",
   "metadata": {},
   "source": [
    "## Transformation from Raw Structure to ML-ready Datasets Construction with Graphein"
   ]
  },
  {
   "cell_type": "code",
   "execution_count": null,
   "id": "65ac43fd",
   "metadata": {},
   "outputs": [],
   "source": [
    "# NBVAL_SKIP\n",
    "from graphein.protein.config import ProteinGraphConfig\n",
    "from graphein.protein.edges.distance import add_hydrogen_bond_interactions, add_peptide_bonds, add_k_nn_edges\n",
    "from graphein.protein.graphs import construct_graph\n",
    "\n",
    "from functools import partial\n",
    "\n",
    "# Override config with constructors\n",
    "constructors = {\n",
    "    \"edge_construction_functions\": [partial(add_k_nn_edges, k=3, long_interaction_threshold=0)],\n",
    "    #\"edge_construction_functions\": [add_hydrogen_bond_interactions, add_peptide_bonds],\n",
    "    #\"node_metadata_functions\": [add_dssp_feature]\n",
    "}\n",
    "\n",
    "config = ProteinGraphConfig(**constructors)\n",
    "print(config.dict())\n",
    "\n",
    "# Make graphs\n",
    "graph_list = []\n",
    "y_list = []\n",
    "for idx, pdb in enumerate(tqdm(pdbs)):\n",
    "    try:\n",
    "        graph_list.append(\n",
    "            construct_graph(pdb_code=pdb,\n",
    "                        config=config\n",
    "                       )\n",
    "            )\n",
    "        y_list.append(y[idx])\n",
    "    except:\n",
    "        print(str(idx) + ' processing error...')\n",
    "        pass"
   ]
  },
  {
   "cell_type": "code",
   "execution_count": null,
   "id": "eb080ee0-555e-411c-a5e5-8539c97e998f",
   "metadata": {},
   "outputs": [],
   "source": [
    "# NBVAL_SKIP\n",
    "pdbs[274]\n",
    "#pdbs[266]\n",
    "#pdbs[677]"
   ]
  },
  {
   "cell_type": "markdown",
   "id": "4de24288",
   "metadata": {},
   "source": [
    "## Convert Nx graphs to PyTorch Geometric"
   ]
  },
  {
   "cell_type": "code",
   "execution_count": null,
   "id": "cd343538",
   "metadata": {},
   "outputs": [],
   "source": [
    "# NBVAL_SKIP\n",
    "from graphein.ml.conversion import GraphFormatConvertor\n",
    "\n",
    "format_convertor = GraphFormatConvertor('nx', 'pyg', \n",
    "                                        verbose = 'gnn', \n",
    "                                        columns = None)"
   ]
  },
  {
   "cell_type": "code",
   "execution_count": null,
   "id": "a0f50771",
   "metadata": {
    "tags": []
   },
   "outputs": [],
   "source": [
    "# NBVAL_SKIP\n",
    "pyg_list = [format_convertor(graph) for graph in tqdm(graph_list)]"
   ]
  },
  {
   "cell_type": "code",
   "execution_count": null,
   "id": "79c6eb2e",
   "metadata": {},
   "outputs": [],
   "source": [
    "# NBVAL_SKIP\n",
    "for idx, g in enumerate(pyg_list):\n",
    "    g.y = y_list[idx] \n",
    "    g.coords = torch.FloatTensor(g.coords[0])"
   ]
  },
  {
   "cell_type": "code",
   "execution_count": null,
   "id": "642b78e3",
   "metadata": {},
   "outputs": [],
   "source": [
    "# NBVAL_SKIP\n",
    "for i in pyg_list:\n",
    "    if i.coords.shape[0] == len(i.node_id):\n",
    "        pass\n",
    "    else:\n",
    "        print(i)\n",
    "        pyg_list.remove(i)"
   ]
  },
  {
   "cell_type": "markdown",
   "id": "0d07dd30",
   "metadata": {},
   "source": [
    "## Model Configuration"
   ]
  },
  {
   "cell_type": "code",
   "execution_count": null,
   "id": "e1ab2604",
   "metadata": {},
   "outputs": [],
   "source": [
    "# NBVAL_SKIP\n",
    "config_default = dict(\n",
    "    n_hid = 8,\n",
    "    n_out = 8,\n",
    "    batch_size = 4,\n",
    "    dropout = 0.5,\n",
    "    lr = 0.001,\n",
    "    num_heads = 32,\n",
    "    num_att_dim = 64,\n",
    "    model_name = 'GCN'\n",
    ")\n",
    "\n",
    "class Struct:\n",
    "    def __init__(self, **entries):\n",
    "        self.__dict__.update(entries)\n",
    "        \n",
    "config = Struct(**config_default)\n",
    "\n",
    "global model_name\n",
    "model_name = config.model_name"
   ]
  },
  {
   "cell_type": "markdown",
   "id": "14cec1f0",
   "metadata": {},
   "source": [
    "## Construct DataLoaders"
   ]
  },
  {
   "cell_type": "code",
   "execution_count": null,
   "id": "1d67359d",
   "metadata": {},
   "outputs": [],
   "source": [
    "# NBVAL_SKIP\n",
    "import numpy as np\n",
    "np.random.seed(42)\n",
    "idx_all = np.arange(len(pyg_list))\n",
    "np.random.shuffle(idx_all)\n",
    "\n",
    "train_idx, valid_idx, test_idx = np.split(idx_all, [int(.8*len(pyg_list)), int(.9*len(pyg_list))])\n",
    "train, valid, test = [pyg_list[i] for i in train_idx], [pyg_list[i] for i in valid_idx], [pyg_list[i] for i in test_idx]\n",
    "\n",
    "from torch_geometric.data import DataLoader\n",
    "train_loader = DataLoader(train, batch_size=config.batch_size, shuffle = True, drop_last = True)\n",
    "valid_loader = DataLoader(valid, batch_size=32)\n",
    "test_loader = DataLoader(test, batch_size=32)"
   ]
  },
  {
   "cell_type": "code",
   "execution_count": null,
   "id": "a8d4193f",
   "metadata": {},
   "outputs": [],
   "source": [
    "# NBVAL_SKIP\n",
    "pyg_list[0]"
   ]
  },
  {
   "cell_type": "markdown",
   "id": "452acd73",
   "metadata": {},
   "source": [
    "## Define Model"
   ]
  },
  {
   "cell_type": "code",
   "execution_count": null,
   "id": "53bd0370",
   "metadata": {},
   "outputs": [],
   "source": [
    "# NBVAL_SKIP\n",
    "from torch_geometric.nn import GCNConv, GATConv, SAGEConv, global_add_pool\n",
    "from torch.nn.functional import mse_loss, nll_loss, relu, softmax, cross_entropy\n",
    "from torch.nn import functional as F\n",
    "from pytorch_lightning.metrics.functional import accuracy"
   ]
  },
  {
   "cell_type": "code",
   "execution_count": null,
   "id": "b6728d4f",
   "metadata": {},
   "outputs": [],
   "source": [
    "# NBVAL_SKIP\n",
    "class GraphNets(pl.LightningModule):\n",
    "    def __init__(self):\n",
    "        super().__init__()\n",
    "        \n",
    "        if model_name == 'GCN':\n",
    "            self.layer1 = GCNConv(in_channels=3, out_channels=config.n_hid)\n",
    "            self.layer2 = GCNConv(in_channels=config.n_hid, out_channels=config.n_out)\n",
    "\n",
    "        elif model_name == 'GAT':\n",
    "            self.layer1 = GATConv(3, config.num_att_dim, heads=config.num_heads, dropout=config.dropout)\n",
    "            self.layer2 = GATConv(config.num_att_dim * config.num_heads, out_channels = config.n_out, heads=1, concat=False,\n",
    "                                 dropout=config.dropout)\n",
    "            \n",
    "        elif model_name == 'GraphSAGE':\n",
    "            self.layer1 = SAGEConv(3, config.n_hid)\n",
    "            self.layer2 = SAGEConv(config.n_hid, config.n_out)  \n",
    "            \n",
    "        self.decoder = nn.Linear(config.n_out, 7)\n",
    "        \n",
    "    def forward(self, g):\n",
    "        x = g.coords\n",
    "        x = F.dropout(x, p=config.dropout, training=self.training)\n",
    "        x = F.elu(self.layer1(x, g.edge_index))\n",
    "        x = F.dropout(x, p=config.dropout, training=self.training)\n",
    "        x = self.layer2(x, g.edge_index)\n",
    "        x = global_add_pool(x, batch=g.batch)\n",
    "        x = self.decoder(x)\n",
    "        return softmax(x)\n",
    "\n",
    "    def training_step(self, batch, batch_idx):\n",
    "        x = batch   \n",
    "        y = x.y\n",
    "        y_hat = self(x)\n",
    "        loss = cross_entropy(y_hat, y)\n",
    "        acc = accuracy(y_hat, y)\n",
    "\n",
    "        self.log(\"train_loss\", loss)\n",
    "        self.log(\"train_acc\", acc)\n",
    "        return loss\n",
    "\n",
    "    def validation_step(self, batch, batch_idx):\n",
    "        x = batch   \n",
    "        y = x.y\n",
    "        y_hat = self(x)\n",
    "        loss = cross_entropy(y_hat, y)\n",
    "        acc = accuracy(y_hat, y)\n",
    "        self.log(\"valid_loss\", loss)\n",
    "        self.log(\"valid_acc\", acc)\n",
    "\n",
    "    def test_step(self, batch, batch_idx):\n",
    "        x = batch   \n",
    "        y = x.y\n",
    "        y_hat = self(x)\n",
    "        loss = cross_entropy(y_hat, y)\n",
    "        acc = accuracy(y_hat, y)\n",
    "\n",
    "        y_pred_softmax = torch.log_softmax(y_hat, dim = 1)\n",
    "        y_pred_tags = torch.argmax(y_pred_softmax, dim = 1) \n",
    "        f1 = f1_score(y.detach().cpu().numpy(), y_pred_tags.detach().cpu().numpy(), average = 'weighted')\n",
    "\n",
    "        self.log(\"test_loss\", loss)\n",
    "        self.log(\"test_acc\", acc)\n",
    "        self.log(\"test_f1\", f1)\n",
    "\n",
    "    def configure_optimizers(self):\n",
    "        optimizer = torch.optim.Adam(self.parameters(), lr=config.lr)\n",
    "        return optimizer"
   ]
  },
  {
   "cell_type": "code",
   "execution_count": null,
   "id": "970baced-e3c0-4a17-b0b9-36f5a5a8045d",
   "metadata": {},
   "outputs": [],
   "source": [
    "# NBVAL_SKIP\n",
    "GraphNets()"
   ]
  },
  {
   "cell_type": "code",
   "execution_count": null,
   "id": "42bc7e82",
   "metadata": {},
   "outputs": [],
   "source": [
    "# NBVAL_SKIP\n",
    "from pytorch_lightning.callbacks import ModelCheckpoint\n",
    "import os\n",
    "\n",
    "file_path = './graphein_model'\n",
    "if not os.path.exists(file_path):\n",
    "    os.mkdir(file_path)\n",
    "\n",
    "checkpoint_callback = ModelCheckpoint(\n",
    "    monitor=\"valid_loss\",\n",
    "    dirpath=file_path,\n",
    "    filename=\"model-{epoch:02d}-{val_loss:.2f}\",\n",
    "    save_top_k=1,\n",
    "    mode=\"min\",\n",
    ")"
   ]
  },
  {
   "cell_type": "markdown",
   "id": "3e552f8a",
   "metadata": {},
   "source": [
    "## Train!"
   ]
  },
  {
   "cell_type": "code",
   "execution_count": null,
   "id": "6e14192c",
   "metadata": {},
   "outputs": [],
   "source": [
    "# NBVAL_SKIP\n",
    "# Train Model\n",
    "model = GraphNets()\n",
    "trainer = pl.Trainer(max_epochs=200, gpus=-1, callbacks=[checkpoint_callback])\n",
    "trainer.fit(model, train_loader, valid_loader)\n",
    "\n",
    "# evaluate on the model with the best validation set\n",
    "best_model = GraphNets.load_from_checkpoint(checkpoint_callback.best_model_path)\n",
    "out_best_test = trainer.test(best_model, test_loader)[0]"
   ]
  }
 ],
 "metadata": {
  "kernelspec": {
   "display_name": "Python 3 (ipykernel)",
   "language": "python",
   "name": "python3"
  },
  "language_info": {
   "codemirror_mode": {
    "name": "ipython",
    "version": 3
   },
   "file_extension": ".py",
   "mimetype": "text/x-python",
   "name": "python",
   "nbconvert_exporter": "python",
   "pygments_lexer": "ipython3",
   "version": "3.8.10"
  },
  "nbsphinx": {
   "execute": "never"
  }
 },
 "nbformat": 4,
 "nbformat_minor": 5
}
