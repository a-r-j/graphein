{
 "cells": [
  {
   "cell_type": "markdown",
   "metadata": {},
   "source": [
    "# Protein Structural Change Prediction Example\n",
    "In this notebook, we use Graphein to preprocess the PSCDB database into graphs. We then perform graph classification on the unbound protein ligand graphs to predict the class of structural rearrangement the protein undergoes upon ligand binding."
   ]
  },
  {
   "cell_type": "code",
   "execution_count": 133,
   "metadata": {},
   "outputs": [],
   "source": [
    "import dgl\n",
    "import numpy as np\n",
    "import pandas as pd\n",
    "import torch\n",
    "from tqdm import tqdm\n",
    "from dgllife.model.model_zoo import GCNPredictor\n",
    "from graphein.construct_graphs import ProteinGraph\n",
    "from sklearn.model_selection import train_test_split\n",
    "from sklearn.preprocessing import StandardScaler\n",
    "from sklearn.metrics import f1_score, precision_score, recall_score\n",
    "from torch.nn import CrossEntropyLoss\n",
    "from torch.utils.data import DataLoader\n",
    "\n",
    "from matplotlib import pyplot as plt\n",
    "device = 'cpu'"
   ]
  },
  {
   "cell_type": "markdown",
   "metadata": {},
   "source": [
    "## Data\n",
    "1.  We load the dataset. The script for parsing the datafrom a webserver to the `structural_rearrangement_data.csv` file is available in `process_data.ipynb` and `make_rearrangement_data.py` "
   ]
  },
  {
   "cell_type": "code",
   "execution_count": 24,
   "metadata": {},
   "outputs": [
    {
     "data": {
      "text/html": [
       "<div>\n",
       "<style scoped>\n",
       "    .dataframe tbody tr th:only-of-type {\n",
       "        vertical-align: middle;\n",
       "    }\n",
       "\n",
       "    .dataframe tbody tr th {\n",
       "        vertical-align: top;\n",
       "    }\n",
       "\n",
       "    .dataframe thead th {\n",
       "        text-align: right;\n",
       "    }\n",
       "</style>\n",
       "<table border=\"1\" class=\"dataframe\">\n",
       "  <thead>\n",
       "    <tr style=\"text-align: right;\">\n",
       "      <th></th>\n",
       "      <th>Unnamed: 0</th>\n",
       "      <th>level_0</th>\n",
       "      <th>index</th>\n",
       "      <th>PSCID</th>\n",
       "      <th>Protein Name</th>\n",
       "      <th>Free form</th>\n",
       "      <th>Bound form</th>\n",
       "      <th>Ligands</th>\n",
       "      <th>Classification(?)</th>\n",
       "      <th>motion_type</th>\n",
       "      <th>Free PDB</th>\n",
       "      <th>Free Chains</th>\n",
       "      <th>Bound PDB</th>\n",
       "      <th>Bound Chains</th>\n",
       "    </tr>\n",
       "  </thead>\n",
       "  <tbody>\n",
       "    <tr>\n",
       "      <th>0</th>\n",
       "      <td>0</td>\n",
       "      <td>0</td>\n",
       "      <td>0</td>\n",
       "      <td>CD.1</td>\n",
       "      <td>HYPOTHETICAL OXIDOREDUCTASE YIAK</td>\n",
       "      <td>1nxu_AB</td>\n",
       "      <td>1s20_AB</td>\n",
       "      <td>2xNAD,2xTLA</td>\n",
       "      <td>200004</td>\n",
       "      <td>coupled_domain_motion</td>\n",
       "      <td>1nxu</td>\n",
       "      <td>AB</td>\n",
       "      <td>1s20</td>\n",
       "      <td>AB</td>\n",
       "    </tr>\n",
       "    <tr>\n",
       "      <th>1</th>\n",
       "      <td>1</td>\n",
       "      <td>1</td>\n",
       "      <td>1</td>\n",
       "      <td>CD.2</td>\n",
       "      <td>ADENYLATE KINASE</td>\n",
       "      <td>4ake_A</td>\n",
       "      <td>2eck_A</td>\n",
       "      <td>ADP,AMP</td>\n",
       "      <td>200003</td>\n",
       "      <td>coupled_domain_motion</td>\n",
       "      <td>4ake</td>\n",
       "      <td>A</td>\n",
       "      <td>2eck</td>\n",
       "      <td>A</td>\n",
       "    </tr>\n",
       "    <tr>\n",
       "      <th>2</th>\n",
       "      <td>2</td>\n",
       "      <td>2</td>\n",
       "      <td>2</td>\n",
       "      <td>CD.3</td>\n",
       "      <td>GLUCOKINASE</td>\n",
       "      <td>1q18_AB</td>\n",
       "      <td>1sz2_AB</td>\n",
       "      <td>2xBGC</td>\n",
       "      <td>200003</td>\n",
       "      <td>coupled_domain_motion</td>\n",
       "      <td>1q18</td>\n",
       "      <td>AB</td>\n",
       "      <td>1sz2</td>\n",
       "      <td>AB</td>\n",
       "    </tr>\n",
       "    <tr>\n",
       "      <th>3</th>\n",
       "      <td>3</td>\n",
       "      <td>3</td>\n",
       "      <td>3</td>\n",
       "      <td>CD.4</td>\n",
       "      <td>LACTOFERRIN</td>\n",
       "      <td>1lfh_A</td>\n",
       "      <td>1lfi_A</td>\n",
       "      <td>2xCU,2xNAG</td>\n",
       "      <td>110103</td>\n",
       "      <td>coupled_domain_motion</td>\n",
       "      <td>1lfh</td>\n",
       "      <td>A</td>\n",
       "      <td>1lfi</td>\n",
       "      <td>A</td>\n",
       "    </tr>\n",
       "    <tr>\n",
       "      <th>4</th>\n",
       "      <td>4</td>\n",
       "      <td>4</td>\n",
       "      <td>4</td>\n",
       "      <td>CD.5</td>\n",
       "      <td>ELONGATION FACTOR 2</td>\n",
       "      <td>1n0v_D</td>\n",
       "      <td>1n0u_A</td>\n",
       "      <td>SO1</td>\n",
       "      <td>110002</td>\n",
       "      <td>coupled_domain_motion</td>\n",
       "      <td>1n0v</td>\n",
       "      <td>D</td>\n",
       "      <td>1n0u</td>\n",
       "      <td>A</td>\n",
       "    </tr>\n",
       "  </tbody>\n",
       "</table>\n",
       "</div>"
      ],
      "text/plain": [
       "   Unnamed: 0  level_0  index PSCID                      Protein Name  \\\n",
       "0           0        0      0  CD.1  HYPOTHETICAL OXIDOREDUCTASE YIAK   \n",
       "1           1        1      1  CD.2                  ADENYLATE KINASE   \n",
       "2           2        2      2  CD.3                       GLUCOKINASE   \n",
       "3           3        3      3  CD.4                       LACTOFERRIN   \n",
       "4           4        4      4  CD.5               ELONGATION FACTOR 2   \n",
       "\n",
       "  Free form Bound form      Ligands  Classification(?)            motion_type  \\\n",
       "0   1nxu_AB    1s20_AB  2xNAD,2xTLA             200004  coupled_domain_motion   \n",
       "1    4ake_A     2eck_A      ADP,AMP             200003  coupled_domain_motion   \n",
       "2   1q18_AB    1sz2_AB        2xBGC             200003  coupled_domain_motion   \n",
       "3    1lfh_A     1lfi_A   2xCU,2xNAG             110103  coupled_domain_motion   \n",
       "4    1n0v_D     1n0u_A          SO1             110002  coupled_domain_motion   \n",
       "\n",
       "  Free PDB Free Chains Bound PDB Bound Chains  \n",
       "0     1nxu          AB      1s20           AB  \n",
       "1     4ake           A      2eck            A  \n",
       "2     1q18          AB      1sz2           AB  \n",
       "3     1lfh           A      1lfi            A  \n",
       "4     1n0v           D      1n0u            A  "
      ]
     },
     "execution_count": 24,
     "metadata": {},
     "output_type": "execute_result"
    }
   ],
   "source": [
    "# Load data sets\n",
    "df = pd.read_csv('structural_rearrangement_data.csv')\n",
    "df.head()"
   ]
  },
  {
   "cell_type": "markdown",
   "metadata": {},
   "source": [
    "2. We create one-hot encodings of the labels, indicating the rearrangement motion class"
   ]
  },
  {
   "cell_type": "code",
   "execution_count": 63,
   "metadata": {},
   "outputs": [
    {
     "data": {
      "text/plain": [
       "tensor([0., 1., 0., 0., 0., 0., 0.])"
      ]
     },
     "execution_count": 63,
     "metadata": {},
     "output_type": "execute_result"
    }
   ],
   "source": [
    "# Create labels\n",
    "labels = pd.get_dummies(df.motion_type).values.tolist()\n",
    "labels = [torch.Tensor(i) for i in labels]"
   ]
  },
  {
   "cell_type": "markdown",
   "metadata": {},
   "source": [
    "3. We split the data into training and testing data, and construct the Graphs using Graphein. \n",
    "\n",
    "Graphein will automatically download the relevant `.PDB` files from the PDB and compute the intramolecular contacts using `GetContacts` if the files are not found in the `pdb_dir` and `contacts_dir` directories.\n",
    "\n",
    "We select the relevant chains in structure from the PDB from the `Free Chains` column in the dataframe."
   ]
  },
  {
   "cell_type": "code",
   "execution_count": 38,
   "metadata": {
    "scrolled": true
   },
   "outputs": [
    {
     "name": "stderr",
     "output_type": "stream",
     "text": [
      "\n",
      "\n",
      "\n",
      "  0%|          | 0/134 [00:00<?, ?it/s]\u001b[A\u001b[A\u001b[A\n",
      "\n",
      "\n",
      "  1%|          | 1/134 [00:00<00:14,  8.88it/s]\u001b[A\u001b[A\u001b[A"
     ]
    },
    {
     "name": "stdout",
     "output_type": "stream",
     "text": [
      "Detected 16 HETATOM nodes\n",
      "Detected 93 total nodes\n",
      "Contact file found: ['../../examples/contacts/2bl7_contacts.tsv']\n",
      "Calculated 234 intramolecular interaction-based edges\n",
      "DGLGraph(num_nodes=93, num_edges=234,\n",
      "         ndata_schemes={'id': Scheme(shape=(), dtype=dtype('O')), 'residue_name': Scheme(shape=(), dtype=dtype('O')), 'h': Scheme(shape=(7,), dtype=torch.float32), 'coords': Scheme(shape=(3,), dtype=torch.float32), 'ss': Scheme(shape=(9,), dtype=torch.float32), 'asa': Scheme(shape=(1,), dtype=torch.float32), 'rsa': Scheme(shape=(1,), dtype=torch.float32)}\n",
      "         edata_schemes={'rel_type': Scheme(shape=(17,), dtype=torch.float64), 'norm': Scheme(shape=(), dtype=torch.float32)})\n",
      "Detected 1 HETATOM nodes\n",
      "Detected 445 total nodes\n",
      "Contact file found: ['../../examples/contacts/2fs5_contacts.tsv']\n",
      "Calculated 1217 intramolecular interaction-based edges\n"
     ]
    },
    {
     "name": "stderr",
     "output_type": "stream",
     "text": [
      "\n",
      "\n",
      "\n",
      "  1%|▏         | 2/134 [00:00<00:17,  7.42it/s]\u001b[A\u001b[A\u001b[A\n",
      "\n",
      "\n",
      "  2%|▏         | 3/134 [00:00<00:19,  6.86it/s]\u001b[A\u001b[A\u001b[A"
     ]
    },
    {
     "name": "stdout",
     "output_type": "stream",
     "text": [
      "DGLGraph(num_nodes=445, num_edges=1217,\n",
      "         ndata_schemes={'id': Scheme(shape=(), dtype=dtype('O')), 'residue_name': Scheme(shape=(), dtype=dtype('O')), 'h': Scheme(shape=(7,), dtype=torch.float32), 'coords': Scheme(shape=(3,), dtype=torch.float32), 'ss': Scheme(shape=(9,), dtype=torch.float32), 'asa': Scheme(shape=(1,), dtype=torch.float32), 'rsa': Scheme(shape=(1,), dtype=torch.float32)}\n",
      "         edata_schemes={'rel_type': Scheme(shape=(17,), dtype=torch.float64), 'norm': Scheme(shape=(), dtype=torch.float32)})\n",
      "Detected 1 HETATOM nodes\n",
      "Detected 362 total nodes\n",
      "Contact file found: ['../../examples/contacts/1so7_contacts.tsv']\n",
      "Calculated 895 intramolecular interaction-based edges\n",
      "DGLGraph(num_nodes=362, num_edges=895,\n",
      "         ndata_schemes={'id': Scheme(shape=(), dtype=dtype('O')), 'residue_name': Scheme(shape=(), dtype=dtype('O')), 'h': Scheme(shape=(7,), dtype=torch.float32), 'coords': Scheme(shape=(3,), dtype=torch.float32), 'ss': Scheme(shape=(9,), dtype=torch.float32), 'asa': Scheme(shape=(1,), dtype=torch.float32), 'rsa': Scheme(shape=(1,), dtype=torch.float32)}\n",
      "         edata_schemes={'rel_type': Scheme(shape=(17,), dtype=torch.float64), 'norm': Scheme(shape=(), dtype=torch.float32)})\n"
     ]
    },
    {
     "name": "stderr",
     "output_type": "stream",
     "text": [
      "\n",
      "\n",
      "\n",
      "  3%|▎         | 4/134 [00:00<00:22,  5.67it/s]\u001b[A\u001b[A\u001b[A"
     ]
    },
    {
     "name": "stdout",
     "output_type": "stream",
     "text": [
      "Detected 10 HETATOM nodes\n",
      "Detected 889 total nodes\n",
      "Contact file found: ['../../examples/contacts/2c00_contacts.tsv']\n",
      "Calculated 1181 intramolecular interaction-based edges\n",
      "DGLGraph(num_nodes=445, num_edges=1181,\n",
      "         ndata_schemes={'id': Scheme(shape=(), dtype=dtype('O')), 'residue_name': Scheme(shape=(), dtype=dtype('O')), 'h': Scheme(shape=(7,), dtype=torch.float32), 'coords': Scheme(shape=(3,), dtype=torch.float32), 'ss': Scheme(shape=(9,), dtype=torch.float32), 'asa': Scheme(shape=(1,), dtype=torch.float32), 'rsa': Scheme(shape=(1,), dtype=torch.float32)}\n",
      "         edata_schemes={'rel_type': Scheme(shape=(17,), dtype=torch.float64), 'norm': Scheme(shape=(), dtype=torch.float32)})\n"
     ]
    },
    {
     "name": "stderr",
     "output_type": "stream",
     "text": [
      "\n",
      "\n",
      "\n",
      "  4%|▎         | 5/134 [00:00<00:26,  4.85it/s]\u001b[A\u001b[A\u001b[A"
     ]
    },
    {
     "name": "stdout",
     "output_type": "stream",
     "text": [
      "Detected 25 HETATOM nodes\n",
      "Detected 808 total nodes\n",
      "Contact file found: ['../../examples/contacts/1usl_contacts.tsv']\n",
      "Calculated 958 intramolecular interaction-based edges\n",
      "DGLGraph(num_nodes=322, num_edges=958,\n",
      "         ndata_schemes={'id': Scheme(shape=(), dtype=dtype('O')), 'residue_name': Scheme(shape=(), dtype=dtype('O')), 'h': Scheme(shape=(7,), dtype=torch.float32), 'coords': Scheme(shape=(3,), dtype=torch.float32), 'ss': Scheme(shape=(9,), dtype=torch.float32), 'asa': Scheme(shape=(1,), dtype=torch.float32), 'rsa': Scheme(shape=(1,), dtype=torch.float32)}\n",
      "         edata_schemes={'rel_type': Scheme(shape=(17,), dtype=torch.float64), 'norm': Scheme(shape=(), dtype=torch.float32)})\n"
     ]
    },
    {
     "name": "stderr",
     "output_type": "stream",
     "text": [
      "\n",
      "\n",
      "\n",
      "  4%|▍         | 6/134 [00:01<00:24,  5.17it/s]\u001b[A\u001b[A\u001b[A"
     ]
    },
    {
     "name": "stdout",
     "output_type": "stream",
     "text": [
      "Detected 11 HETATOM nodes\n",
      "Detected 381 total nodes\n",
      "Contact file found: ['../../examples/contacts/2dcz_contacts.tsv']\n",
      "Calculated 459 intramolecular interaction-based edges\n",
      "DGLGraph(num_nodes=185, num_edges=459,\n",
      "         ndata_schemes={'id': Scheme(shape=(), dtype=dtype('O')), 'residue_name': Scheme(shape=(), dtype=dtype('O')), 'h': Scheme(shape=(7,), dtype=torch.float32), 'coords': Scheme(shape=(3,), dtype=torch.float32), 'ss': Scheme(shape=(9,), dtype=torch.float32), 'asa': Scheme(shape=(1,), dtype=torch.float32), 'rsa': Scheme(shape=(1,), dtype=torch.float32)}\n",
      "         edata_schemes={'rel_type': Scheme(shape=(17,), dtype=torch.float64), 'norm': Scheme(shape=(), dtype=torch.float32)})\n",
      "Detected 53 HETATOM nodes\n",
      "Detected 220 total nodes\n",
      "Contact file found: ['../../examples/contacts/2znd_contacts.tsv']\n",
      "Calculated 485 intramolecular interaction-based edges\n"
     ]
    },
    {
     "name": "stderr",
     "output_type": "stream",
     "text": [
      "\n",
      "\n",
      "\n",
      "  5%|▌         | 7/134 [00:01<00:21,  5.82it/s]\u001b[A\u001b[A\u001b[A"
     ]
    },
    {
     "name": "stdout",
     "output_type": "stream",
     "text": [
      "DGLGraph(num_nodes=440, num_edges=485,\n",
      "         ndata_schemes={'id': Scheme(shape=(), dtype=dtype('O')), 'residue_name': Scheme(shape=(), dtype=dtype('O')), 'h': Scheme(shape=(7,), dtype=torch.float32), 'coords': Scheme(shape=(3,), dtype=torch.float32), 'ss': Scheme(shape=(9,), dtype=torch.float32), 'asa': Scheme(shape=(1,), dtype=torch.float32), 'rsa': Scheme(shape=(1,), dtype=torch.float32)}\n",
      "         edata_schemes={'rel_type': Scheme(shape=(17,), dtype=torch.float64), 'norm': Scheme(shape=(), dtype=torch.float32)})\n",
      "Detected 269 HETATOM nodes\n",
      "Detected 1572 total nodes\n",
      "Contact file found: ['../../examples/contacts/3c8n_contacts.tsv']\n"
     ]
    },
    {
     "name": "stderr",
     "output_type": "stream",
     "text": [
      "\n",
      "\n",
      "\n",
      "  6%|▌         | 8/134 [00:01<00:29,  4.32it/s]\u001b[A\u001b[A\u001b[A"
     ]
    },
    {
     "name": "stdout",
     "output_type": "stream",
     "text": [
      "Calculated 2122 intramolecular interaction-based edges\n",
      "DGLGraph(num_nodes=798, num_edges=2122,\n",
      "         ndata_schemes={'id': Scheme(shape=(), dtype=dtype('O')), 'residue_name': Scheme(shape=(), dtype=dtype('O')), 'h': Scheme(shape=(7,), dtype=torch.float32), 'coords': Scheme(shape=(3,), dtype=torch.float32), 'ss': Scheme(shape=(9,), dtype=torch.float32), 'asa': Scheme(shape=(1,), dtype=torch.float32), 'rsa': Scheme(shape=(1,), dtype=torch.float32)}\n",
      "         edata_schemes={'rel_type': Scheme(shape=(17,), dtype=torch.float64), 'norm': Scheme(shape=(), dtype=torch.float32)})\n",
      "Downloading PDB structure '1ll3'...\n",
      "Downloaded PDB file for: 1ll3\n",
      "Detected 12 HETATOM nodes\n",
      "Detected 273 total nodes\n",
      "1ll3\n",
      "['../../examples/pdbs/1ll3.pdb']\n",
      "PDB file detected: ../../examples/pdbs/1ll3.pdb\n"
     ]
    },
    {
     "name": "stderr",
     "output_type": "stream",
     "text": [
      "\n",
      "\n",
      "\n",
      "  7%|▋         | 9/134 [00:04<01:53,  1.11it/s]\u001b[A\u001b[A\u001b[A"
     ]
    },
    {
     "name": "stdout",
     "output_type": "stream",
     "text": [
      "Computed Contacts for: 1ll3\n",
      "Calculated 736 intramolecular interaction-based edges\n",
      "DGLGraph(num_nodes=546, num_edges=736,\n",
      "         ndata_schemes={'id': Scheme(shape=(), dtype=dtype('O')), 'residue_name': Scheme(shape=(), dtype=dtype('O')), 'h': Scheme(shape=(7,), dtype=torch.float32), 'coords': Scheme(shape=(3,), dtype=torch.float32), 'ss': Scheme(shape=(9,), dtype=torch.float32), 'asa': Scheme(shape=(1,), dtype=torch.float32), 'rsa': Scheme(shape=(1,), dtype=torch.float32)}\n",
      "         edata_schemes={'rel_type': Scheme(shape=(17,), dtype=torch.float64), 'norm': Scheme(shape=(), dtype=torch.float32)})\n"
     ]
    },
    {
     "name": "stderr",
     "output_type": "stream",
     "text": [
      "\n",
      "\n",
      "\n",
      "  7%|▋         | 10/134 [00:04<01:30,  1.37it/s]\u001b[A\u001b[A\u001b[A"
     ]
    },
    {
     "name": "stdout",
     "output_type": "stream",
     "text": [
      "Detected 5 HETATOM nodes\n",
      "Detected 959 total nodes\n",
      "Contact file found: ['../../examples/contacts/2iw2_contacts.tsv']\n",
      "Calculated 2904 intramolecular interaction-based edges\n",
      "DGLGraph(num_nodes=959, num_edges=2904,\n",
      "         ndata_schemes={'id': Scheme(shape=(), dtype=dtype('O')), 'residue_name': Scheme(shape=(), dtype=dtype('O')), 'h': Scheme(shape=(7,), dtype=torch.float32), 'coords': Scheme(shape=(3,), dtype=torch.float32), 'ss': Scheme(shape=(9,), dtype=torch.float32), 'asa': Scheme(shape=(1,), dtype=torch.float32), 'rsa': Scheme(shape=(1,), dtype=torch.float32)}\n",
      "         edata_schemes={'rel_type': Scheme(shape=(17,), dtype=torch.float64), 'norm': Scheme(shape=(), dtype=torch.float32)})\n"
     ]
    },
    {
     "name": "stderr",
     "output_type": "stream",
     "text": [
      "\n",
      "\n",
      "\n",
      "  8%|▊         | 11/134 [00:04<01:10,  1.76it/s]\u001b[A\u001b[A\u001b[A"
     ]
    },
    {
     "name": "stdout",
     "output_type": "stream",
     "text": [
      "Detected 0 HETATOM nodes\n",
      "Detected 482 total nodes\n",
      "Contact file found: ['../../examples/contacts/1smn_contacts.tsv']\n",
      "Calculated 1281 intramolecular interaction-based edges\n",
      "DGLGraph(num_nodes=482, num_edges=1281,\n",
      "         ndata_schemes={'id': Scheme(shape=(), dtype=dtype('O')), 'residue_name': Scheme(shape=(), dtype=dtype('O')), 'h': Scheme(shape=(7,), dtype=torch.float32), 'coords': Scheme(shape=(3,), dtype=torch.float32), 'ss': Scheme(shape=(9,), dtype=torch.float32), 'asa': Scheme(shape=(1,), dtype=torch.float32), 'rsa': Scheme(shape=(1,), dtype=torch.float32)}\n",
      "         edata_schemes={'rel_type': Scheme(shape=(17,), dtype=torch.float64), 'norm': Scheme(shape=(), dtype=torch.float32)})\n",
      "Detected 5 HETATOM nodes\n",
      "Detected 246 total nodes\n",
      "Contact file found: ['../../examples/contacts/1ywf_contacts.tsv']\n",
      "Calculated 722 intramolecular interaction-based edges\n"
     ]
    },
    {
     "name": "stderr",
     "output_type": "stream",
     "text": [
      "\n",
      "\n",
      "\n",
      "  9%|▉         | 12/134 [00:04<00:53,  2.27it/s]\u001b[A\u001b[A\u001b[A"
     ]
    },
    {
     "name": "stdout",
     "output_type": "stream",
     "text": [
      "DGLGraph(num_nodes=246, num_edges=722,\n",
      "         ndata_schemes={'id': Scheme(shape=(), dtype=dtype('O')), 'residue_name': Scheme(shape=(), dtype=dtype('O')), 'h': Scheme(shape=(7,), dtype=torch.float32), 'coords': Scheme(shape=(3,), dtype=torch.float32), 'ss': Scheme(shape=(9,), dtype=torch.float32), 'asa': Scheme(shape=(1,), dtype=torch.float32), 'rsa': Scheme(shape=(1,), dtype=torch.float32)}\n",
      "         edata_schemes={'rel_type': Scheme(shape=(17,), dtype=torch.float64), 'norm': Scheme(shape=(), dtype=torch.float32)})\n",
      "Detected 10 HETATOM nodes\n",
      "Detected 1452 total nodes\n"
     ]
    },
    {
     "name": "stderr",
     "output_type": "stream",
     "text": [
      "\n",
      "\n",
      "\n",
      " 10%|▉         | 13/134 [00:05<00:51,  2.33it/s]\u001b[A\u001b[A\u001b[A"
     ]
    },
    {
     "name": "stdout",
     "output_type": "stream",
     "text": [
      "Contact file found: ['../../examples/contacts/2brw_contacts.tsv']\n",
      "Calculated 2043 intramolecular interaction-based edges\n",
      "DGLGraph(num_nodes=726, num_edges=2043,\n",
      "         ndata_schemes={'id': Scheme(shape=(), dtype=dtype('O')), 'residue_name': Scheme(shape=(), dtype=dtype('O')), 'h': Scheme(shape=(7,), dtype=torch.float32), 'coords': Scheme(shape=(3,), dtype=torch.float32), 'ss': Scheme(shape=(9,), dtype=torch.float32), 'asa': Scheme(shape=(1,), dtype=torch.float32), 'rsa': Scheme(shape=(1,), dtype=torch.float32)}\n",
      "         edata_schemes={'rel_type': Scheme(shape=(17,), dtype=torch.float64), 'norm': Scheme(shape=(), dtype=torch.float32)})\n"
     ]
    },
    {
     "name": "stderr",
     "output_type": "stream",
     "text": [
      "\n",
      "\n",
      "\n",
      " 10%|█         | 14/134 [00:05<00:47,  2.52it/s]\u001b[A\u001b[A\u001b[A"
     ]
    },
    {
     "name": "stdout",
     "output_type": "stream",
     "text": [
      "Detected 0 HETATOM nodes\n",
      "Detected 1121 total nodes\n",
      "Contact file found: ['../../examples/contacts/2qzp_contacts.tsv']\n",
      "Calculated 1529 intramolecular interaction-based edges\n",
      "DGLGraph(num_nodes=561, num_edges=1529,\n",
      "         ndata_schemes={'id': Scheme(shape=(), dtype=dtype('O')), 'residue_name': Scheme(shape=(), dtype=dtype('O')), 'h': Scheme(shape=(7,), dtype=torch.float32), 'coords': Scheme(shape=(3,), dtype=torch.float32), 'ss': Scheme(shape=(9,), dtype=torch.float32), 'asa': Scheme(shape=(1,), dtype=torch.float32), 'rsa': Scheme(shape=(1,), dtype=torch.float32)}\n",
      "         edata_schemes={'rel_type': Scheme(shape=(17,), dtype=torch.float64), 'norm': Scheme(shape=(), dtype=torch.float32)})\n",
      "Downloading PDB structure '1qim'...\n",
      "Downloaded PDB file for: 1qim\n",
      "Detected 0 HETATOM nodes\n",
      "Detected 532 total nodes\n",
      "1qim\n",
      "['../../examples/pdbs/1qim.pdb']\n",
      "PDB file detected: ../../examples/pdbs/1qim.pdb\n"
     ]
    },
    {
     "name": "stderr",
     "output_type": "stream",
     "text": [
      "\n",
      "\n",
      "\n",
      " 11%|█         | 15/134 [00:08<02:28,  1.24s/it]\u001b[A\u001b[A\u001b[A"
     ]
    },
    {
     "name": "stdout",
     "output_type": "stream",
     "text": [
      "Computed Contacts for: 1qim\n",
      "Calculated 1486 intramolecular interaction-based edges\n",
      "DGLGraph(num_nodes=1064, num_edges=1486,\n",
      "         ndata_schemes={'id': Scheme(shape=(), dtype=dtype('O')), 'residue_name': Scheme(shape=(), dtype=dtype('O')), 'h': Scheme(shape=(7,), dtype=torch.float32), 'coords': Scheme(shape=(3,), dtype=torch.float32), 'ss': Scheme(shape=(9,), dtype=torch.float32), 'asa': Scheme(shape=(1,), dtype=torch.float32), 'rsa': Scheme(shape=(1,), dtype=torch.float32)}\n",
      "         edata_schemes={'rel_type': Scheme(shape=(17,), dtype=torch.float64), 'norm': Scheme(shape=(), dtype=torch.float32)})\n",
      "Detected 0 HETATOM nodes\n",
      "Detected 456 total nodes\n"
     ]
    },
    {
     "name": "stderr",
     "output_type": "stream",
     "text": [
      "\n",
      "\n",
      "\n",
      " 12%|█▏        | 16/134 [00:08<01:49,  1.08it/s]\u001b[A\u001b[A\u001b[A"
     ]
    },
    {
     "name": "stdout",
     "output_type": "stream",
     "text": [
      "Contact file found: ['../../examples/contacts/2r60_contacts.tsv']\n",
      "Calculated 1357 intramolecular interaction-based edges\n",
      "DGLGraph(num_nodes=456, num_edges=1357,\n",
      "         ndata_schemes={'id': Scheme(shape=(), dtype=dtype('O')), 'residue_name': Scheme(shape=(), dtype=dtype('O')), 'h': Scheme(shape=(7,), dtype=torch.float32), 'coords': Scheme(shape=(3,), dtype=torch.float32), 'ss': Scheme(shape=(9,), dtype=torch.float32), 'asa': Scheme(shape=(1,), dtype=torch.float32), 'rsa': Scheme(shape=(1,), dtype=torch.float32)}\n",
      "         edata_schemes={'rel_type': Scheme(shape=(17,), dtype=torch.float64), 'norm': Scheme(shape=(), dtype=torch.float32)})\n",
      "Detected 0 HETATOM nodes\n",
      "Detected 148 total nodes\n",
      "Contact file found: ['../../examples/contacts/1qj9_contacts.tsv']\n",
      "Calculated 295 intramolecular interaction-based edges\n"
     ]
    },
    {
     "name": "stderr",
     "output_type": "stream",
     "text": [
      "\n",
      "\n",
      "\n",
      " 13%|█▎        | 17/134 [00:09<01:20,  1.46it/s]\u001b[A\u001b[A\u001b[A"
     ]
    },
    {
     "name": "stdout",
     "output_type": "stream",
     "text": [
      "DGLGraph(num_nodes=148, num_edges=295,\n",
      "         ndata_schemes={'id': Scheme(shape=(), dtype=dtype('O')), 'residue_name': Scheme(shape=(), dtype=dtype('O')), 'h': Scheme(shape=(7,), dtype=torch.float32), 'coords': Scheme(shape=(3,), dtype=torch.float32), 'ss': Scheme(shape=(9,), dtype=torch.float32), 'asa': Scheme(shape=(1,), dtype=torch.float32), 'rsa': Scheme(shape=(1,), dtype=torch.float32)}\n",
      "         edata_schemes={'rel_type': Scheme(shape=(17,), dtype=torch.float64), 'norm': Scheme(shape=(), dtype=torch.float32)})\n",
      "Downloading PDB structure '2hzr'...\n",
      "Downloaded PDB file for: 2hzr\n",
      "Detected 24 HETATOM nodes\n",
      "Detected 182 total nodes\n",
      "2hzr\n",
      "['../../examples/pdbs/2hzr.pdb']\n",
      "PDB file detected: ../../examples/pdbs/2hzr.pdb\n"
     ]
    },
    {
     "name": "stderr",
     "output_type": "stream",
     "text": [
      "\n",
      "\n",
      "\n",
      " 13%|█▎        | 18/134 [00:10<01:59,  1.03s/it]\u001b[A\u001b[A\u001b[A"
     ]
    },
    {
     "name": "stdout",
     "output_type": "stream",
     "text": [
      "Computed Contacts for: 2hzr\n",
      "Calculated 377 intramolecular interaction-based edges\n",
      "DGLGraph(num_nodes=182, num_edges=377,\n",
      "         ndata_schemes={'id': Scheme(shape=(), dtype=dtype('O')), 'residue_name': Scheme(shape=(), dtype=dtype('O')), 'h': Scheme(shape=(7,), dtype=torch.float32), 'coords': Scheme(shape=(3,), dtype=torch.float32), 'ss': Scheme(shape=(9,), dtype=torch.float32), 'asa': Scheme(shape=(1,), dtype=torch.float32), 'rsa': Scheme(shape=(1,), dtype=torch.float32)}\n",
      "         edata_schemes={'rel_type': Scheme(shape=(17,), dtype=torch.float64), 'norm': Scheme(shape=(), dtype=torch.float32)})\n",
      "Detected 6 HETATOM nodes\n",
      "Detected 678 total nodes\n",
      "Contact file found: ['../../examples/contacts/1bt2_contacts.tsv']\n"
     ]
    },
    {
     "name": "stderr",
     "output_type": "stream",
     "text": [
      "\n",
      "\n",
      "\n",
      " 14%|█▍        | 19/134 [00:11<01:30,  1.27it/s]\u001b[A\u001b[A\u001b[A"
     ]
    },
    {
     "name": "stdout",
     "output_type": "stream",
     "text": [
      "Calculated 1034 intramolecular interaction-based edges\n",
      "DGLGraph(num_nodes=339, num_edges=1034,\n",
      "         ndata_schemes={'id': Scheme(shape=(), dtype=dtype('O')), 'residue_name': Scheme(shape=(), dtype=dtype('O')), 'h': Scheme(shape=(7,), dtype=torch.float32), 'coords': Scheme(shape=(3,), dtype=torch.float32), 'ss': Scheme(shape=(9,), dtype=torch.float32), 'asa': Scheme(shape=(1,), dtype=torch.float32), 'rsa': Scheme(shape=(1,), dtype=torch.float32)}\n",
      "         edata_schemes={'rel_type': Scheme(shape=(17,), dtype=torch.float64), 'norm': Scheme(shape=(), dtype=torch.float32)})\n",
      "Detected 15 HETATOM nodes\n",
      "Detected 573 total nodes\n",
      "Contact file found: ['../../examples/contacts/1qme_contacts.tsv']\n"
     ]
    },
    {
     "name": "stderr",
     "output_type": "stream",
     "text": [
      "\n",
      "\n",
      "\n",
      " 15%|█▍        | 20/134 [00:11<01:11,  1.59it/s]\u001b[A\u001b[A\u001b[A"
     ]
    },
    {
     "name": "stdout",
     "output_type": "stream",
     "text": [
      "Calculated 1534 intramolecular interaction-based edges\n",
      "DGLGraph(num_nodes=573, num_edges=1534,\n",
      "         ndata_schemes={'id': Scheme(shape=(), dtype=dtype('O')), 'residue_name': Scheme(shape=(), dtype=dtype('O')), 'h': Scheme(shape=(7,), dtype=torch.float32), 'coords': Scheme(shape=(3,), dtype=torch.float32), 'ss': Scheme(shape=(9,), dtype=torch.float32), 'asa': Scheme(shape=(1,), dtype=torch.float32), 'rsa': Scheme(shape=(1,), dtype=torch.float32)}\n",
      "         edata_schemes={'rel_type': Scheme(shape=(17,), dtype=torch.float64), 'norm': Scheme(shape=(), dtype=torch.float32)})\n",
      "Detected 0 HETATOM nodes\n",
      "Detected 191 total nodes\n",
      "Contact file found: ['../../examples/contacts/2f3n_contacts.tsv']\n",
      "Calculated 192 intramolecular interaction-based edges\n"
     ]
    },
    {
     "name": "stderr",
     "output_type": "stream",
     "text": [
      "\n",
      "\n",
      "\n",
      " 16%|█▌        | 21/134 [00:11<00:54,  2.09it/s]\u001b[A\u001b[A\u001b[A"
     ]
    },
    {
     "name": "stdout",
     "output_type": "stream",
     "text": [
      "DGLGraph(num_nodes=65, num_edges=192,\n",
      "         ndata_schemes={'id': Scheme(shape=(), dtype=dtype('O')), 'residue_name': Scheme(shape=(), dtype=dtype('O')), 'h': Scheme(shape=(7,), dtype=torch.float32), 'coords': Scheme(shape=(3,), dtype=torch.float32), 'ss': Scheme(shape=(9,), dtype=torch.float32), 'asa': Scheme(shape=(1,), dtype=torch.float32), 'rsa': Scheme(shape=(1,), dtype=torch.float32)}\n",
      "         edata_schemes={'rel_type': Scheme(shape=(17,), dtype=torch.float64), 'norm': Scheme(shape=(), dtype=torch.float32)})\n",
      "Detected 144 HETATOM nodes\n",
      "Detected 844 total nodes\n",
      "Contact file found: ['../../examples/contacts/2g6v_contacts.tsv']\n",
      "Calculated 1899 intramolecular interaction-based edges\n"
     ]
    },
    {
     "name": "stderr",
     "output_type": "stream",
     "text": [
      "\n",
      "\n",
      "\n",
      " 16%|█▋        | 22/134 [00:11<00:45,  2.49it/s]\u001b[A\u001b[A\u001b[A\n",
      "\n",
      "\n",
      " 17%|█▋        | 23/134 [00:11<00:36,  3.01it/s]\u001b[A\u001b[A\u001b[A"
     ]
    },
    {
     "name": "stdout",
     "output_type": "stream",
     "text": [
      "DGLGraph(num_nodes=844, num_edges=1899,\n",
      "         ndata_schemes={'id': Scheme(shape=(), dtype=dtype('O')), 'residue_name': Scheme(shape=(), dtype=dtype('O')), 'h': Scheme(shape=(7,), dtype=torch.float32), 'coords': Scheme(shape=(3,), dtype=torch.float32), 'ss': Scheme(shape=(9,), dtype=torch.float32), 'asa': Scheme(shape=(1,), dtype=torch.float32), 'rsa': Scheme(shape=(1,), dtype=torch.float32)}\n",
      "         edata_schemes={'rel_type': Scheme(shape=(17,), dtype=torch.float64), 'norm': Scheme(shape=(), dtype=torch.float32)})\n",
      "Detected 0 HETATOM nodes\n",
      "Detected 390 total nodes\n",
      "Contact file found: ['../../examples/contacts/1tvl_contacts.tsv']\n",
      "Calculated 1117 intramolecular interaction-based edges\n",
      "DGLGraph(num_nodes=780, num_edges=1117,\n",
      "         ndata_schemes={'id': Scheme(shape=(), dtype=dtype('O')), 'residue_name': Scheme(shape=(), dtype=dtype('O')), 'h': Scheme(shape=(7,), dtype=torch.float32), 'coords': Scheme(shape=(3,), dtype=torch.float32), 'ss': Scheme(shape=(9,), dtype=torch.float32), 'asa': Scheme(shape=(1,), dtype=torch.float32), 'rsa': Scheme(shape=(1,), dtype=torch.float32)}\n",
      "         edata_schemes={'rel_type': Scheme(shape=(17,), dtype=torch.float64), 'norm': Scheme(shape=(), dtype=torch.float32)})\n"
     ]
    },
    {
     "name": "stderr",
     "output_type": "stream",
     "text": [
      "  7%|▋         | 48/668 [28:37<6:09:48, 35.79s/it]\n",
      "  0%|          | 0/757 [04:34<?, ?it/s]\n"
     ]
    },
    {
     "name": "stdout",
     "output_type": "stream",
     "text": [
      "Detected 480 HETATOM nodes\n",
      "Detected 4267 total nodes\n",
      "Contact file found: ['../../examples/contacts/2dg0_contacts.tsv']\n",
      "Calculated 801 intramolecular interaction-based edges\n"
     ]
    },
    {
     "name": "stderr",
     "output_type": "stream",
     "text": [
      "\n",
      "\n",
      "\n",
      " 18%|█▊        | 24/134 [00:12<01:01,  1.79it/s]\u001b[A\u001b[A\u001b[A\n",
      "\n",
      "\n"
     ]
    },
    {
     "name": "stdout",
     "output_type": "stream",
     "text": [
      "DGLGraph(num_nodes=356, num_edges=801,\n",
      "         ndata_schemes={'id': Scheme(shape=(), dtype=dtype('O')), 'residue_name': Scheme(shape=(), dtype=dtype('O')), 'h': Scheme(shape=(7,), dtype=torch.float32), 'coords': Scheme(shape=(3,), dtype=torch.float32), 'ss': Scheme(shape=(9,), dtype=torch.float32), 'asa': Scheme(shape=(1,), dtype=torch.float32), 'rsa': Scheme(shape=(1,), dtype=torch.float32)}\n",
      "         edata_schemes={'rel_type': Scheme(shape=(17,), dtype=torch.float64), 'norm': Scheme(shape=(), dtype=torch.float32)})\n",
      "Detected 0 HETATOM nodes\n",
      "Detected 568 total nodes\n",
      "Contact file found: ['../../examples/contacts/2iru_contacts.tsv']\n",
      "Calculated 771 intramolecular interaction-based edges\n",
      "DGLGraph(num_nodes=286, num_edges=771,\n",
      "         ndata_schemes={'id': Scheme(shape=(), dtype=dtype('O')), 'residue_name': Scheme(shape=(), dtype=dtype('O')), 'h': Scheme(shape=(7,), dtype=torch.float32), 'coords': Scheme(shape=(3,), dtype=torch.float32), 'ss': Scheme(shape=(9,), dtype=torch.float32), 'asa': Scheme(shape=(1,), dtype=torch.float32), 'rsa': Scheme(shape=(1,), dtype=torch.float32)}\n",
      "         edata_schemes={'rel_type': Scheme(shape=(17,), dtype=torch.float64), 'norm': Scheme(shape=(), dtype=torch.float32)})\n"
     ]
    },
    {
     "name": "stderr",
     "output_type": "stream",
     "text": [
      " 19%|█▊        | 25/134 [00:13<00:49,  2.21it/s]\u001b[A\u001b[A\u001b[A\n",
      "\n",
      "\n",
      " 19%|█▉        | 26/134 [00:13<00:43,  2.48it/s]\u001b[A\u001b[A\u001b[A"
     ]
    },
    {
     "name": "stdout",
     "output_type": "stream",
     "text": [
      "Detected 97 HETATOM nodes\n",
      "Detected 1030 total nodes\n",
      "Contact file found: ['../../examples/contacts/2rjc_contacts.tsv']\n",
      "Calculated 833 intramolecular interaction-based edges\n",
      "DGLGraph(num_nodes=336, num_edges=833,\n",
      "         ndata_schemes={'id': Scheme(shape=(), dtype=dtype('O')), 'residue_name': Scheme(shape=(), dtype=dtype('O')), 'h': Scheme(shape=(7,), dtype=torch.float32), 'coords': Scheme(shape=(3,), dtype=torch.float32), 'ss': Scheme(shape=(9,), dtype=torch.float32), 'asa': Scheme(shape=(1,), dtype=torch.float32), 'rsa': Scheme(shape=(1,), dtype=torch.float32)}\n",
      "         edata_schemes={'rel_type': Scheme(shape=(17,), dtype=torch.float64), 'norm': Scheme(shape=(), dtype=torch.float32)})\n",
      "Detected 36 HETATOM nodes\n"
     ]
    },
    {
     "name": "stderr",
     "output_type": "stream",
     "text": [
      "\n",
      "\n",
      "\n",
      " 20%|██        | 27/134 [00:13<00:35,  3.05it/s]\u001b[A\u001b[A\u001b[A\n",
      "\n",
      "\n",
      " 21%|██        | 28/134 [00:13<00:27,  3.80it/s]\u001b[A\u001b[A\u001b[A"
     ]
    },
    {
     "name": "stdout",
     "output_type": "stream",
     "text": [
      "Detected 382 total nodes\n",
      "Contact file found: ['../../examples/contacts/2e3j_contacts.tsv']\n",
      "Calculated 1033 intramolecular interaction-based edges\n",
      "DGLGraph(num_nodes=382, num_edges=1033,\n",
      "         ndata_schemes={'id': Scheme(shape=(), dtype=dtype('O')), 'residue_name': Scheme(shape=(), dtype=dtype('O')), 'h': Scheme(shape=(7,), dtype=torch.float32), 'coords': Scheme(shape=(3,), dtype=torch.float32), 'ss': Scheme(shape=(9,), dtype=torch.float32), 'asa': Scheme(shape=(1,), dtype=torch.float32), 'rsa': Scheme(shape=(1,), dtype=torch.float32)}\n",
      "         edata_schemes={'rel_type': Scheme(shape=(17,), dtype=torch.float64), 'norm': Scheme(shape=(), dtype=torch.float32)})\n",
      "Detected 0 HETATOM nodes\n",
      "Detected 146 total nodes\n",
      "Contact file found: ['../../examples/contacts/1vsm_contacts.tsv']\n",
      "Calculated 374 intramolecular interaction-based edges\n",
      "DGLGraph(num_nodes=292, num_edges=374,\n",
      "         ndata_schemes={'id': Scheme(shape=(), dtype=dtype('O')), 'residue_name': Scheme(shape=(), dtype=dtype('O')), 'h': Scheme(shape=(7,), dtype=torch.float32), 'coords': Scheme(shape=(3,), dtype=torch.float32), 'ss': Scheme(shape=(9,), dtype=torch.float32), 'asa': Scheme(shape=(1,), dtype=torch.float32), 'rsa': Scheme(shape=(1,), dtype=torch.float32)}\n",
      "         edata_schemes={'rel_type': Scheme(shape=(17,), dtype=torch.float64), 'norm': Scheme(shape=(), dtype=torch.float32)})\n"
     ]
    },
    {
     "name": "stderr",
     "output_type": "stream",
     "text": [
      "\n",
      "\n",
      "\n",
      " 22%|██▏       | 29/134 [00:13<00:23,  4.42it/s]\u001b[A\u001b[A\u001b[A"
     ]
    },
    {
     "name": "stdout",
     "output_type": "stream",
     "text": [
      "Detected 0 HETATOM nodes\n",
      "Detected 210 total nodes\n",
      "Contact file found: ['../../examples/contacts/2qht_contacts.tsv']\n",
      "Calculated 570 intramolecular interaction-based edges\n",
      "DGLGraph(num_nodes=210, num_edges=570,\n",
      "         ndata_schemes={'id': Scheme(shape=(), dtype=dtype('O')), 'residue_name': Scheme(shape=(), dtype=dtype('O')), 'h': Scheme(shape=(7,), dtype=torch.float32), 'coords': Scheme(shape=(3,), dtype=torch.float32), 'ss': Scheme(shape=(9,), dtype=torch.float32), 'asa': Scheme(shape=(1,), dtype=torch.float32), 'rsa': Scheme(shape=(1,), dtype=torch.float32)}\n",
      "         edata_schemes={'rel_type': Scheme(shape=(17,), dtype=torch.float64), 'norm': Scheme(shape=(), dtype=torch.float32)})\n",
      "Detected 0 HETATOM nodes\n",
      "Detected 605 total nodes\n",
      "Contact file found: ['../../examples/contacts/2fp8_contacts.tsv']\n"
     ]
    },
    {
     "name": "stderr",
     "output_type": "stream",
     "text": [
      "\n",
      "\n",
      "\n",
      " 22%|██▏       | 30/134 [00:14<00:23,  4.49it/s]\u001b[A\u001b[A\u001b[A"
     ]
    },
    {
     "name": "stdout",
     "output_type": "stream",
     "text": [
      "Calculated 758 intramolecular interaction-based edges\n",
      "DGLGraph(num_nodes=303, num_edges=758,\n",
      "         ndata_schemes={'id': Scheme(shape=(), dtype=dtype('O')), 'residue_name': Scheme(shape=(), dtype=dtype('O')), 'h': Scheme(shape=(7,), dtype=torch.float32), 'coords': Scheme(shape=(3,), dtype=torch.float32), 'ss': Scheme(shape=(9,), dtype=torch.float32), 'asa': Scheme(shape=(1,), dtype=torch.float32), 'rsa': Scheme(shape=(1,), dtype=torch.float32)}\n",
      "         edata_schemes={'rel_type': Scheme(shape=(17,), dtype=torch.float64), 'norm': Scheme(shape=(), dtype=torch.float32)})\n",
      "Detected 51 HETATOM nodes\n",
      "Detected 594 total nodes\n",
      "Contact file found: ['../../examples/contacts/2v8i_contacts.tsv']\n"
     ]
    },
    {
     "name": "stderr",
     "output_type": "stream",
     "text": [
      "\n",
      "\n",
      "\n",
      " 23%|██▎       | 31/134 [00:14<00:22,  4.52it/s]\u001b[A\u001b[A\u001b[A"
     ]
    },
    {
     "name": "stdout",
     "output_type": "stream",
     "text": [
      "Calculated 1696 intramolecular interaction-based edges\n",
      "DGLGraph(num_nodes=594, num_edges=1696,\n",
      "         ndata_schemes={'id': Scheme(shape=(), dtype=dtype('O')), 'residue_name': Scheme(shape=(), dtype=dtype('O')), 'h': Scheme(shape=(7,), dtype=torch.float32), 'coords': Scheme(shape=(3,), dtype=torch.float32), 'ss': Scheme(shape=(9,), dtype=torch.float32), 'asa': Scheme(shape=(1,), dtype=torch.float32), 'rsa': Scheme(shape=(1,), dtype=torch.float32)}\n",
      "         edata_schemes={'rel_type': Scheme(shape=(17,), dtype=torch.float64), 'norm': Scheme(shape=(), dtype=torch.float32)})\n",
      "Downloading PDB structure '1edz'...\n",
      "Downloaded PDB file for: 1edz\n",
      "Detected 0 HETATOM nodes\n",
      "Detected 317 total nodes\n",
      "1edz\n",
      "['../../examples/pdbs/1edz.pdb']\n",
      "PDB file detected: ../../examples/pdbs/1edz.pdb\n"
     ]
    },
    {
     "name": "stderr",
     "output_type": "stream",
     "text": [
      "\n",
      "\n",
      "\n",
      " 24%|██▍       | 32/134 [00:17<01:47,  1.06s/it]\u001b[A\u001b[A\u001b[A"
     ]
    },
    {
     "name": "stdout",
     "output_type": "stream",
     "text": [
      "Computed Contacts for: 1edz\n",
      "Calculated 873 intramolecular interaction-based edges\n",
      "DGLGraph(num_nodes=634, num_edges=873,\n",
      "         ndata_schemes={'id': Scheme(shape=(), dtype=dtype('O')), 'residue_name': Scheme(shape=(), dtype=dtype('O')), 'h': Scheme(shape=(7,), dtype=torch.float32), 'coords': Scheme(shape=(3,), dtype=torch.float32), 'ss': Scheme(shape=(9,), dtype=torch.float32), 'asa': Scheme(shape=(1,), dtype=torch.float32), 'rsa': Scheme(shape=(1,), dtype=torch.float32)}\n",
      "         edata_schemes={'rel_type': Scheme(shape=(17,), dtype=torch.float64), 'norm': Scheme(shape=(), dtype=torch.float32)})\n",
      "Detected 0 HETATOM nodes\n",
      "Detected 378 total nodes\n",
      "Contact file found: ['../../examples/contacts/1e4f_contacts.tsv']\n",
      "Calculated 1045 intramolecular interaction-based edges\n"
     ]
    },
    {
     "name": "stderr",
     "output_type": "stream",
     "text": [
      "\n",
      "\n",
      "\n",
      " 25%|██▍       | 33/134 [00:17<01:19,  1.27it/s]\u001b[A\u001b[A\u001b[A"
     ]
    },
    {
     "name": "stdout",
     "output_type": "stream",
     "text": [
      "DGLGraph(num_nodes=378, num_edges=1045,\n",
      "         ndata_schemes={'id': Scheme(shape=(), dtype=dtype('O')), 'residue_name': Scheme(shape=(), dtype=dtype('O')), 'h': Scheme(shape=(7,), dtype=torch.float32), 'coords': Scheme(shape=(3,), dtype=torch.float32), 'ss': Scheme(shape=(9,), dtype=torch.float32), 'asa': Scheme(shape=(1,), dtype=torch.float32), 'rsa': Scheme(shape=(1,), dtype=torch.float32)}\n",
      "         edata_schemes={'rel_type': Scheme(shape=(17,), dtype=torch.float64), 'norm': Scheme(shape=(), dtype=torch.float32)})\n",
      "Detected 10 HETATOM nodes\n",
      "Detected 831 total nodes\n",
      "Contact file found: ['../../examples/contacts/3ei7_contacts.tsv']\n",
      "Calculated 2478 intramolecular interaction-based edges\n"
     ]
    },
    {
     "name": "stderr",
     "output_type": "stream",
     "text": [
      "\n",
      "\n",
      "\n",
      " 25%|██▌       | 34/134 [00:17<01:04,  1.55it/s]\u001b[A\u001b[A\u001b[A\n",
      "\n",
      "\n",
      " 26%|██▌       | 35/134 [00:17<00:49,  1.98it/s]\u001b[A\u001b[A\u001b[A"
     ]
    },
    {
     "name": "stdout",
     "output_type": "stream",
     "text": [
      "DGLGraph(num_nodes=831, num_edges=2478,\n",
      "         ndata_schemes={'id': Scheme(shape=(), dtype=dtype('O')), 'residue_name': Scheme(shape=(), dtype=dtype('O')), 'h': Scheme(shape=(7,), dtype=torch.float32), 'coords': Scheme(shape=(3,), dtype=torch.float32), 'ss': Scheme(shape=(9,), dtype=torch.float32), 'asa': Scheme(shape=(1,), dtype=torch.float32), 'rsa': Scheme(shape=(1,), dtype=torch.float32)}\n",
      "         edata_schemes={'rel_type': Scheme(shape=(17,), dtype=torch.float64), 'norm': Scheme(shape=(), dtype=torch.float32)})\n",
      "Detected 98 HETATOM nodes\n",
      "Detected 304 total nodes\n",
      "Contact file found: ['../../examples/contacts/3bgu_contacts.tsv']\n",
      "Calculated 249 intramolecular interaction-based edges\n",
      "DGLGraph(num_nodes=268, num_edges=249,\n",
      "         ndata_schemes={'id': Scheme(shape=(), dtype=dtype('O')), 'residue_name': Scheme(shape=(), dtype=dtype('O')), 'h': Scheme(shape=(7,), dtype=torch.float32), 'coords': Scheme(shape=(3,), dtype=torch.float32), 'ss': Scheme(shape=(9,), dtype=torch.float32), 'asa': Scheme(shape=(1,), dtype=torch.float32), 'rsa': Scheme(shape=(1,), dtype=torch.float32)}\n",
      "         edata_schemes={'rel_type': Scheme(shape=(17,), dtype=torch.float64), 'norm': Scheme(shape=(), dtype=torch.float32)})\n",
      "Downloading PDB structure '1ayx'...\n",
      "Downloaded PDB file for: 1ayx\n",
      "Detected 8 HETATOM nodes\n",
      "Detected 500 total nodes\n",
      "1ayx\n",
      "['../../examples/pdbs/1ayx.pdb']\n",
      "PDB file detected: ../../examples/pdbs/1ayx.pdb\n"
     ]
    },
    {
     "name": "stderr",
     "output_type": "stream",
     "text": [
      "\n",
      "\n",
      "\n",
      " 27%|██▋       | 36/134 [00:20<02:00,  1.23s/it]\u001b[A\u001b[A\u001b[A"
     ]
    },
    {
     "name": "stdout",
     "output_type": "stream",
     "text": [
      "Computed Contacts for: 1ayx\n",
      "Calculated 1480 intramolecular interaction-based edges\n",
      "DGLGraph(num_nodes=500, num_edges=1480,\n",
      "         ndata_schemes={'id': Scheme(shape=(), dtype=dtype('O')), 'residue_name': Scheme(shape=(), dtype=dtype('O')), 'h': Scheme(shape=(7,), dtype=torch.float32), 'coords': Scheme(shape=(3,), dtype=torch.float32), 'ss': Scheme(shape=(9,), dtype=torch.float32), 'asa': Scheme(shape=(1,), dtype=torch.float32), 'rsa': Scheme(shape=(1,), dtype=torch.float32)}\n",
      "         edata_schemes={'rel_type': Scheme(shape=(17,), dtype=torch.float64), 'norm': Scheme(shape=(), dtype=torch.float32)})\n",
      "Detected 0 HETATOM nodes\n",
      "Detected 238 total nodes\n",
      "Contact file found: ['../../examples/contacts/3seb_contacts.tsv']\n",
      "Calculated 573 intramolecular interaction-based edges\n"
     ]
    },
    {
     "name": "stderr",
     "output_type": "stream",
     "text": [
      "\n",
      "\n",
      "\n",
      " 28%|██▊       | 37/134 [00:21<01:27,  1.11it/s]\u001b[A\u001b[A\u001b[A"
     ]
    },
    {
     "name": "stdout",
     "output_type": "stream",
     "text": [
      "DGLGraph(num_nodes=238, num_edges=573,\n",
      "         ndata_schemes={'id': Scheme(shape=(), dtype=dtype('O')), 'residue_name': Scheme(shape=(), dtype=dtype('O')), 'h': Scheme(shape=(7,), dtype=torch.float32), 'coords': Scheme(shape=(3,), dtype=torch.float32), 'ss': Scheme(shape=(9,), dtype=torch.float32), 'asa': Scheme(shape=(1,), dtype=torch.float32), 'rsa': Scheme(shape=(1,), dtype=torch.float32)}\n",
      "         edata_schemes={'rel_type': Scheme(shape=(17,), dtype=torch.float64), 'norm': Scheme(shape=(), dtype=torch.float32)})\n",
      "Detected 0 HETATOM nodes\n",
      "Detected 642 total nodes\n",
      "Contact file found: ['../../examples/contacts/1vll_contacts.tsv']\n",
      "Calculated 1757 intramolecular interaction-based edges\n"
     ]
    },
    {
     "name": "stderr",
     "output_type": "stream",
     "text": [
      "\n",
      "\n",
      "\n",
      " 28%|██▊       | 38/134 [00:21<01:08,  1.41it/s]\u001b[A\u001b[A\u001b[A"
     ]
    },
    {
     "name": "stdout",
     "output_type": "stream",
     "text": [
      "DGLGraph(num_nodes=642, num_edges=1757,\n",
      "         ndata_schemes={'id': Scheme(shape=(), dtype=dtype('O')), 'residue_name': Scheme(shape=(), dtype=dtype('O')), 'h': Scheme(shape=(7,), dtype=torch.float32), 'coords': Scheme(shape=(3,), dtype=torch.float32), 'ss': Scheme(shape=(9,), dtype=torch.float32), 'asa': Scheme(shape=(1,), dtype=torch.float32), 'rsa': Scheme(shape=(1,), dtype=torch.float32)}\n",
      "         edata_schemes={'rel_type': Scheme(shape=(17,), dtype=torch.float64), 'norm': Scheme(shape=(), dtype=torch.float32)})\n",
      "Detected 0 HETATOM nodes\n",
      "Detected 424 total nodes\n",
      "Contact file found: ['../../examples/contacts/1sqg_contacts.tsv']\n",
      "Calculated 1249 intramolecular interaction-based edges\n"
     ]
    },
    {
     "name": "stderr",
     "output_type": "stream",
     "text": [
      "\n",
      "\n",
      "\n",
      " 29%|██▉       | 39/134 [00:21<00:53,  1.78it/s]\u001b[A\u001b[A\u001b[A"
     ]
    },
    {
     "name": "stdout",
     "output_type": "stream",
     "text": [
      "DGLGraph(num_nodes=424, num_edges=1249,\n",
      "         ndata_schemes={'id': Scheme(shape=(), dtype=dtype('O')), 'residue_name': Scheme(shape=(), dtype=dtype('O')), 'h': Scheme(shape=(7,), dtype=torch.float32), 'coords': Scheme(shape=(3,), dtype=torch.float32), 'ss': Scheme(shape=(9,), dtype=torch.float32), 'asa': Scheme(shape=(1,), dtype=torch.float32), 'rsa': Scheme(shape=(1,), dtype=torch.float32)}\n",
      "         edata_schemes={'rel_type': Scheme(shape=(17,), dtype=torch.float64), 'norm': Scheme(shape=(), dtype=torch.float32)})\n",
      "Detected 39 HETATOM nodes\n",
      "Detected 287 total nodes\n",
      "Contact file found: ['../../examples/contacts/3c6y_contacts.tsv']\n",
      "Calculated 1588 intramolecular interaction-based edges\n"
     ]
    },
    {
     "name": "stderr",
     "output_type": "stream",
     "text": [
      "\n",
      "\n",
      "\n",
      " 30%|██▉       | 40/134 [00:21<00:43,  2.14it/s]\u001b[A\u001b[A\u001b[A\n",
      "\n",
      "\n",
      " 31%|███       | 41/134 [00:21<00:35,  2.61it/s]\u001b[A\u001b[A\u001b[A"
     ]
    },
    {
     "name": "stdout",
     "output_type": "stream",
     "text": [
      "DGLGraph(num_nodes=574, num_edges=1588,\n",
      "         ndata_schemes={'id': Scheme(shape=(), dtype=dtype('O')), 'residue_name': Scheme(shape=(), dtype=dtype('O')), 'h': Scheme(shape=(7,), dtype=torch.float32), 'coords': Scheme(shape=(3,), dtype=torch.float32), 'ss': Scheme(shape=(9,), dtype=torch.float32), 'asa': Scheme(shape=(1,), dtype=torch.float32), 'rsa': Scheme(shape=(1,), dtype=torch.float32)}\n",
      "         edata_schemes={'rel_type': Scheme(shape=(17,), dtype=torch.float64), 'norm': Scheme(shape=(), dtype=torch.float32)})\n",
      "Detected 0 HETATOM nodes\n",
      "Detected 502 total nodes\n",
      "Contact file found: ['../../examples/contacts/1r0s_contacts.tsv']\n",
      "Calculated 1376 intramolecular interaction-based edges\n",
      "DGLGraph(num_nodes=502, num_edges=1376,\n",
      "         ndata_schemes={'id': Scheme(shape=(), dtype=dtype('O')), 'residue_name': Scheme(shape=(), dtype=dtype('O')), 'h': Scheme(shape=(7,), dtype=torch.float32), 'coords': Scheme(shape=(3,), dtype=torch.float32), 'ss': Scheme(shape=(9,), dtype=torch.float32), 'asa': Scheme(shape=(1,), dtype=torch.float32), 'rsa': Scheme(shape=(1,), dtype=torch.float32)}\n",
      "         edata_schemes={'rel_type': Scheme(shape=(17,), dtype=torch.float64), 'norm': Scheme(shape=(), dtype=torch.float32)})\n"
     ]
    },
    {
     "name": "stderr",
     "output_type": "stream",
     "text": [
      "\n",
      "\n",
      "\n",
      " 31%|███▏      | 42/134 [00:22<00:27,  3.30it/s]\u001b[A\u001b[A\u001b[A"
     ]
    },
    {
     "name": "stdout",
     "output_type": "stream",
     "text": [
      "Detected 0 HETATOM nodes\n",
      "Detected 145 total nodes\n",
      "Contact file found: ['../../examples/contacts/2qev_contacts.tsv']\n",
      "Calculated 432 intramolecular interaction-based edges\n",
      "DGLGraph(num_nodes=145, num_edges=432,\n",
      "         ndata_schemes={'id': Scheme(shape=(), dtype=dtype('O')), 'residue_name': Scheme(shape=(), dtype=dtype('O')), 'h': Scheme(shape=(7,), dtype=torch.float32), 'coords': Scheme(shape=(3,), dtype=torch.float32), 'ss': Scheme(shape=(9,), dtype=torch.float32), 'asa': Scheme(shape=(1,), dtype=torch.float32), 'rsa': Scheme(shape=(1,), dtype=torch.float32)}\n",
      "         edata_schemes={'rel_type': Scheme(shape=(17,), dtype=torch.float64), 'norm': Scheme(shape=(), dtype=torch.float32)})\n",
      "Detected 2 HETATOM nodes\n",
      "Detected 640 total nodes\n",
      "Contact file found: ['../../examples/contacts/2b7k_contacts.tsv']\n",
      "Calculated 417 intramolecular interaction-based edges\n"
     ]
    },
    {
     "name": "stderr",
     "output_type": "stream",
     "text": [
      "\n",
      "\n",
      "\n",
      " 32%|███▏      | 43/134 [00:22<00:25,  3.60it/s]\u001b[A\u001b[A\u001b[A"
     ]
    },
    {
     "name": "stdout",
     "output_type": "stream",
     "text": [
      "DGLGraph(num_nodes=165, num_edges=417,\n",
      "         ndata_schemes={'id': Scheme(shape=(), dtype=dtype('O')), 'residue_name': Scheme(shape=(), dtype=dtype('O')), 'h': Scheme(shape=(7,), dtype=torch.float32), 'coords': Scheme(shape=(3,), dtype=torch.float32), 'ss': Scheme(shape=(9,), dtype=torch.float32), 'asa': Scheme(shape=(1,), dtype=torch.float32), 'rsa': Scheme(shape=(1,), dtype=torch.float32)}\n",
      "         edata_schemes={'rel_type': Scheme(shape=(17,), dtype=torch.float64), 'norm': Scheme(shape=(), dtype=torch.float32)})\n",
      "Detected 12 HETATOM nodes\n",
      "Detected 669 total nodes\n",
      "Contact file found: ['../../examples/contacts/2vw0_contacts.tsv']\n",
      "Calculated 1538 intramolecular interaction-based edges\n"
     ]
    },
    {
     "name": "stderr",
     "output_type": "stream",
     "text": [
      "\n",
      "\n",
      "\n",
      " 33%|███▎      | 44/134 [00:22<00:23,  3.79it/s]\u001b[A\u001b[A\u001b[A\n",
      "\n",
      "\n",
      " 34%|███▎      | 45/134 [00:22<00:19,  4.51it/s]\u001b[A\u001b[A\u001b[A"
     ]
    },
    {
     "name": "stdout",
     "output_type": "stream",
     "text": [
      "DGLGraph(num_nodes=669, num_edges=1538,\n",
      "         ndata_schemes={'id': Scheme(shape=(), dtype=dtype('O')), 'residue_name': Scheme(shape=(), dtype=dtype('O')), 'h': Scheme(shape=(7,), dtype=torch.float32), 'coords': Scheme(shape=(3,), dtype=torch.float32), 'ss': Scheme(shape=(9,), dtype=torch.float32), 'asa': Scheme(shape=(1,), dtype=torch.float32), 'rsa': Scheme(shape=(1,), dtype=torch.float32)}\n",
      "         edata_schemes={'rel_type': Scheme(shape=(17,), dtype=torch.float64), 'norm': Scheme(shape=(), dtype=torch.float32)})\n",
      "Detected 29 HETATOM nodes\n",
      "Detected 161 total nodes\n",
      "Contact file found: ['../../examples/contacts/3db4_contacts.tsv']\n",
      "Calculated 306 intramolecular interaction-based edges\n",
      "DGLGraph(num_nodes=161, num_edges=306,\n",
      "         ndata_schemes={'id': Scheme(shape=(), dtype=dtype('O')), 'residue_name': Scheme(shape=(), dtype=dtype('O')), 'h': Scheme(shape=(7,), dtype=torch.float32), 'coords': Scheme(shape=(3,), dtype=torch.float32), 'ss': Scheme(shape=(9,), dtype=torch.float32), 'asa': Scheme(shape=(1,), dtype=torch.float32), 'rsa': Scheme(shape=(1,), dtype=torch.float32)}\n",
      "         edata_schemes={'rel_type': Scheme(shape=(17,), dtype=torch.float64), 'norm': Scheme(shape=(), dtype=torch.float32)})\n",
      "Detected 0 HETATOM nodes\n",
      "Detected 160 total nodes\n",
      "Contact file found: ['../../examples/contacts/1czt_contacts.tsv']\n",
      "Calculated 367 intramolecular interaction-based edges\n"
     ]
    },
    {
     "name": "stderr",
     "output_type": "stream",
     "text": [
      "\n",
      "\n",
      "\n",
      " 34%|███▍      | 46/134 [00:22<00:16,  5.28it/s]\u001b[A\u001b[A\u001b[A"
     ]
    },
    {
     "name": "stdout",
     "output_type": "stream",
     "text": [
      "DGLGraph(num_nodes=160, num_edges=367,\n",
      "         ndata_schemes={'id': Scheme(shape=(), dtype=dtype('O')), 'residue_name': Scheme(shape=(), dtype=dtype('O')), 'h': Scheme(shape=(7,), dtype=torch.float32), 'coords': Scheme(shape=(3,), dtype=torch.float32), 'ss': Scheme(shape=(9,), dtype=torch.float32), 'asa': Scheme(shape=(1,), dtype=torch.float32), 'rsa': Scheme(shape=(1,), dtype=torch.float32)}\n",
      "         edata_schemes={'rel_type': Scheme(shape=(17,), dtype=torch.float64), 'norm': Scheme(shape=(), dtype=torch.float32)})\n",
      "Detected 208 HETATOM nodes\n",
      "Detected 975 total nodes\n",
      "Contact file found: ['../../examples/contacts/2imo_contacts.tsv']\n",
      "Calculated 2288 intramolecular interaction-based edges\n"
     ]
    },
    {
     "name": "stderr",
     "output_type": "stream",
     "text": [
      "\n",
      "\n",
      "\n",
      " 35%|███▌      | 47/134 [00:22<00:18,  4.70it/s]\u001b[A\u001b[A\u001b[A\n",
      "\n",
      "\n",
      " 36%|███▌      | 48/134 [00:23<00:16,  5.19it/s]\u001b[A\u001b[A\u001b[A"
     ]
    },
    {
     "name": "stdout",
     "output_type": "stream",
     "text": [
      "DGLGraph(num_nodes=975, num_edges=2288,\n",
      "         ndata_schemes={'id': Scheme(shape=(), dtype=dtype('O')), 'residue_name': Scheme(shape=(), dtype=dtype('O')), 'h': Scheme(shape=(7,), dtype=torch.float32), 'coords': Scheme(shape=(3,), dtype=torch.float32), 'ss': Scheme(shape=(9,), dtype=torch.float32), 'asa': Scheme(shape=(1,), dtype=torch.float32), 'rsa': Scheme(shape=(1,), dtype=torch.float32)}\n",
      "         edata_schemes={'rel_type': Scheme(shape=(17,), dtype=torch.float64), 'norm': Scheme(shape=(), dtype=torch.float32)})\n",
      "Detected 0 HETATOM nodes\n",
      "Detected 257 total nodes\n",
      "Contact file found: ['../../examples/contacts/1obs_contacts.tsv']\n",
      "Calculated 733 intramolecular interaction-based edges\n",
      "DGLGraph(num_nodes=514, num_edges=733,\n",
      "         ndata_schemes={'id': Scheme(shape=(), dtype=dtype('O')), 'residue_name': Scheme(shape=(), dtype=dtype('O')), 'h': Scheme(shape=(7,), dtype=torch.float32), 'coords': Scheme(shape=(3,), dtype=torch.float32), 'ss': Scheme(shape=(9,), dtype=torch.float32), 'asa': Scheme(shape=(1,), dtype=torch.float32), 'rsa': Scheme(shape=(1,), dtype=torch.float32)}\n",
      "         edata_schemes={'rel_type': Scheme(shape=(17,), dtype=torch.float64), 'norm': Scheme(shape=(), dtype=torch.float32)})\n"
     ]
    },
    {
     "name": "stderr",
     "output_type": "stream",
     "text": [
      "\n",
      "\n",
      "\n",
      " 37%|███▋      | 49/134 [00:23<00:15,  5.45it/s]\u001b[A\u001b[A\u001b[A"
     ]
    },
    {
     "name": "stdout",
     "output_type": "stream",
     "text": [
      "Detected 4 HETATOM nodes\n",
      "Detected 351 total nodes\n",
      "Contact file found: ['../../examples/contacts/1nzu_contacts.tsv']\n",
      "Calculated 898 intramolecular interaction-based edges\n",
      "DGLGraph(num_nodes=351, num_edges=898,\n",
      "         ndata_schemes={'id': Scheme(shape=(), dtype=dtype('O')), 'residue_name': Scheme(shape=(), dtype=dtype('O')), 'h': Scheme(shape=(7,), dtype=torch.float32), 'coords': Scheme(shape=(3,), dtype=torch.float32), 'ss': Scheme(shape=(9,), dtype=torch.float32), 'asa': Scheme(shape=(1,), dtype=torch.float32), 'rsa': Scheme(shape=(1,), dtype=torch.float32)}\n",
      "         edata_schemes={'rel_type': Scheme(shape=(17,), dtype=torch.float64), 'norm': Scheme(shape=(), dtype=torch.float32)})\n"
     ]
    },
    {
     "name": "stderr",
     "output_type": "stream",
     "text": [
      "\n",
      "\n",
      "\n",
      " 37%|███▋      | 50/134 [00:23<00:19,  4.38it/s]\u001b[A\u001b[A\u001b[A"
     ]
    },
    {
     "name": "stdout",
     "output_type": "stream",
     "text": [
      "Detected 390 HETATOM nodes\n",
      "Detected 1447 total nodes\n",
      "Contact file found: ['../../examples/contacts/2i7h_contacts.tsv']\n",
      "Calculated 1129 intramolecular interaction-based edges\n",
      "DGLGraph(num_nodes=438, num_edges=1129,\n",
      "         ndata_schemes={'id': Scheme(shape=(), dtype=dtype('O')), 'residue_name': Scheme(shape=(), dtype=dtype('O')), 'h': Scheme(shape=(7,), dtype=torch.float32), 'coords': Scheme(shape=(3,), dtype=torch.float32), 'ss': Scheme(shape=(9,), dtype=torch.float32), 'asa': Scheme(shape=(1,), dtype=torch.float32), 'rsa': Scheme(shape=(1,), dtype=torch.float32)}\n",
      "         edata_schemes={'rel_type': Scheme(shape=(17,), dtype=torch.float64), 'norm': Scheme(shape=(), dtype=torch.float32)})\n"
     ]
    },
    {
     "name": "stderr",
     "output_type": "stream",
     "text": [
      "\n",
      "\n",
      "\n",
      " 38%|███▊      | 51/134 [00:23<00:18,  4.37it/s]\u001b[A\u001b[A\u001b[A"
     ]
    },
    {
     "name": "stdout",
     "output_type": "stream",
     "text": [
      "Detected 1 HETATOM nodes\n",
      "Detected 640 total nodes\n",
      "Contact file found: ['../../examples/contacts/1goh_contacts.tsv']\n",
      "Calculated 1673 intramolecular interaction-based edges\n",
      "DGLGraph(num_nodes=640, num_edges=1673,\n",
      "         ndata_schemes={'id': Scheme(shape=(), dtype=dtype('O')), 'residue_name': Scheme(shape=(), dtype=dtype('O')), 'h': Scheme(shape=(7,), dtype=torch.float32), 'coords': Scheme(shape=(3,), dtype=torch.float32), 'ss': Scheme(shape=(9,), dtype=torch.float32), 'asa': Scheme(shape=(1,), dtype=torch.float32), 'rsa': Scheme(shape=(1,), dtype=torch.float32)}\n",
      "         edata_schemes={'rel_type': Scheme(shape=(17,), dtype=torch.float64), 'norm': Scheme(shape=(), dtype=torch.float32)})\n",
      "Detected 35 HETATOM nodes\n",
      "Detected 173 total nodes\n",
      "Contact file found: ['../../examples/contacts/2zc2_contacts.tsv']\n"
     ]
    },
    {
     "name": "stderr",
     "output_type": "stream",
     "text": [
      "\n",
      "\n",
      "\n",
      " 39%|███▉      | 52/134 [00:23<00:16,  5.12it/s]\u001b[A\u001b[A\u001b[A\n",
      "\n",
      "\n",
      " 40%|███▉      | 53/134 [00:24<00:14,  5.60it/s]\u001b[A\u001b[A\u001b[A"
     ]
    },
    {
     "name": "stdout",
     "output_type": "stream",
     "text": [
      "Calculated 219 intramolecular interaction-based edges\n",
      "DGLGraph(num_nodes=86, num_edges=219,\n",
      "         ndata_schemes={'id': Scheme(shape=(), dtype=dtype('O')), 'residue_name': Scheme(shape=(), dtype=dtype('O')), 'h': Scheme(shape=(7,), dtype=torch.float32), 'coords': Scheme(shape=(3,), dtype=torch.float32), 'ss': Scheme(shape=(9,), dtype=torch.float32), 'asa': Scheme(shape=(1,), dtype=torch.float32), 'rsa': Scheme(shape=(1,), dtype=torch.float32)}\n",
      "         edata_schemes={'rel_type': Scheme(shape=(17,), dtype=torch.float64), 'norm': Scheme(shape=(), dtype=torch.float32)})\n",
      "Detected 0 HETATOM nodes\n",
      "Detected 307 total nodes\n",
      "Contact file found: ['../../examples/contacts/1arl_contacts.tsv']\n",
      "Calculated 930 intramolecular interaction-based edges\n",
      "DGLGraph(num_nodes=307, num_edges=930,\n",
      "         ndata_schemes={'id': Scheme(shape=(), dtype=dtype('O')), 'residue_name': Scheme(shape=(), dtype=dtype('O')), 'h': Scheme(shape=(7,), dtype=torch.float32), 'coords': Scheme(shape=(3,), dtype=torch.float32), 'ss': Scheme(shape=(9,), dtype=torch.float32), 'asa': Scheme(shape=(1,), dtype=torch.float32), 'rsa': Scheme(shape=(1,), dtype=torch.float32)}\n",
      "         edata_schemes={'rel_type': Scheme(shape=(17,), dtype=torch.float64), 'norm': Scheme(shape=(), dtype=torch.float32)})\n"
     ]
    },
    {
     "name": "stderr",
     "output_type": "stream",
     "text": [
      "\n",
      "\n",
      "\n",
      " 40%|████      | 54/134 [00:24<00:13,  5.94it/s]\u001b[A\u001b[A\u001b[A\n",
      "\n",
      "\n",
      " 41%|████      | 55/134 [00:24<00:11,  6.66it/s]\u001b[A\u001b[A\u001b[A"
     ]
    },
    {
     "name": "stdout",
     "output_type": "stream",
     "text": [
      "Detected 0 HETATOM nodes\n",
      "Detected 260 total nodes\n",
      "Contact file found: ['../../examples/contacts/2f5g_contacts.tsv']\n",
      "Calculated 725 intramolecular interaction-based edges\n",
      "DGLGraph(num_nodes=260, num_edges=725,\n",
      "         ndata_schemes={'id': Scheme(shape=(), dtype=dtype('O')), 'residue_name': Scheme(shape=(), dtype=dtype('O')), 'h': Scheme(shape=(7,), dtype=torch.float32), 'coords': Scheme(shape=(3,), dtype=torch.float32), 'ss': Scheme(shape=(9,), dtype=torch.float32), 'asa': Scheme(shape=(1,), dtype=torch.float32), 'rsa': Scheme(shape=(1,), dtype=torch.float32)}\n",
      "         edata_schemes={'rel_type': Scheme(shape=(17,), dtype=torch.float64), 'norm': Scheme(shape=(), dtype=torch.float32)})\n",
      "Detected 12 HETATOM nodes\n",
      "Detected 124 total nodes\n",
      "Contact file found: ['../../examples/contacts/2cbm_contacts.tsv']\n",
      "Calculated 215 intramolecular interaction-based edges\n",
      "DGLGraph(num_nodes=124, num_edges=215,\n",
      "         ndata_schemes={'id': Scheme(shape=(), dtype=dtype('O')), 'residue_name': Scheme(shape=(), dtype=dtype('O')), 'h': Scheme(shape=(7,), dtype=torch.float32), 'coords': Scheme(shape=(3,), dtype=torch.float32), 'ss': Scheme(shape=(9,), dtype=torch.float32), 'asa': Scheme(shape=(1,), dtype=torch.float32), 'rsa': Scheme(shape=(1,), dtype=torch.float32)}\n",
      "         edata_schemes={'rel_type': Scheme(shape=(17,), dtype=torch.float64), 'norm': Scheme(shape=(), dtype=torch.float32)})\n"
     ]
    },
    {
     "name": "stderr",
     "output_type": "stream",
     "text": [
      "\n",
      "\n",
      "\n",
      " 42%|████▏     | 56/134 [00:24<00:14,  5.40it/s]\u001b[A\u001b[A\u001b[A"
     ]
    },
    {
     "name": "stdout",
     "output_type": "stream",
     "text": [
      "Detected 0 HETATOM nodes\n",
      "Detected 599 total nodes\n",
      "Contact file found: ['../../examples/contacts/1jez_contacts.tsv']\n",
      "Calculated 1788 intramolecular interaction-based edges\n",
      "DGLGraph(num_nodes=599, num_edges=1788,\n",
      "         ndata_schemes={'id': Scheme(shape=(), dtype=dtype('O')), 'residue_name': Scheme(shape=(), dtype=dtype('O')), 'h': Scheme(shape=(7,), dtype=torch.float32), 'coords': Scheme(shape=(3,), dtype=torch.float32), 'ss': Scheme(shape=(9,), dtype=torch.float32), 'asa': Scheme(shape=(1,), dtype=torch.float32), 'rsa': Scheme(shape=(1,), dtype=torch.float32)}\n",
      "         edata_schemes={'rel_type': Scheme(shape=(17,), dtype=torch.float64), 'norm': Scheme(shape=(), dtype=torch.float32)})\n",
      "Detected 0 HETATOM nodes\n"
     ]
    },
    {
     "name": "stderr",
     "output_type": "stream",
     "text": [
      "\n",
      "\n",
      "\n",
      " 43%|████▎     | 57/134 [00:24<00:12,  6.21it/s]\u001b[A\u001b[A\u001b[A\n",
      "\n",
      "\n",
      " 43%|████▎     | 58/134 [00:24<00:11,  6.48it/s]\u001b[A\u001b[A\u001b[A"
     ]
    },
    {
     "name": "stdout",
     "output_type": "stream",
     "text": [
      "Detected 130 total nodes\n",
      "Contact file found: ['../../examples/contacts/1lyy_contacts.tsv']\n",
      "Calculated 363 intramolecular interaction-based edges\n",
      "DGLGraph(num_nodes=130, num_edges=363,\n",
      "         ndata_schemes={'id': Scheme(shape=(), dtype=dtype('O')), 'residue_name': Scheme(shape=(), dtype=dtype('O')), 'h': Scheme(shape=(7,), dtype=torch.float32), 'coords': Scheme(shape=(3,), dtype=torch.float32), 'ss': Scheme(shape=(9,), dtype=torch.float32), 'asa': Scheme(shape=(1,), dtype=torch.float32), 'rsa': Scheme(shape=(1,), dtype=torch.float32)}\n",
      "         edata_schemes={'rel_type': Scheme(shape=(17,), dtype=torch.float64), 'norm': Scheme(shape=(), dtype=torch.float32)})\n",
      "Detected 4 HETATOM nodes\n",
      "Detected 279 total nodes\n",
      "Contact file found: ['../../examples/contacts/2sbt_contacts.tsv']\n",
      "Calculated 616 intramolecular interaction-based edges\n",
      "DGLGraph(num_nodes=279, num_edges=616,\n",
      "         ndata_schemes={'id': Scheme(shape=(), dtype=dtype('O')), 'residue_name': Scheme(shape=(), dtype=dtype('O')), 'h': Scheme(shape=(7,), dtype=torch.float32), 'coords': Scheme(shape=(3,), dtype=torch.float32), 'ss': Scheme(shape=(9,), dtype=torch.float32), 'asa': Scheme(shape=(1,), dtype=torch.float32), 'rsa': Scheme(shape=(1,), dtype=torch.float32)}\n",
      "         edata_schemes={'rel_type': Scheme(shape=(17,), dtype=torch.float64), 'norm': Scheme(shape=(), dtype=torch.float32)})\n"
     ]
    },
    {
     "name": "stderr",
     "output_type": "stream",
     "text": [
      "\n",
      "\n",
      "\n",
      " 44%|████▍     | 59/134 [00:25<00:11,  6.48it/s]\u001b[A\u001b[A\u001b[A"
     ]
    },
    {
     "name": "stdout",
     "output_type": "stream",
     "text": [
      "Detected 0 HETATOM nodes\n",
      "Detected 329 total nodes\n",
      "Contact file found: ['../../examples/contacts/1lio_contacts.tsv']\n",
      "Calculated 800 intramolecular interaction-based edges\n",
      "DGLGraph(num_nodes=329, num_edges=800,\n",
      "         ndata_schemes={'id': Scheme(shape=(), dtype=dtype('O')), 'residue_name': Scheme(shape=(), dtype=dtype('O')), 'h': Scheme(shape=(7,), dtype=torch.float32), 'coords': Scheme(shape=(3,), dtype=torch.float32), 'ss': Scheme(shape=(9,), dtype=torch.float32), 'asa': Scheme(shape=(1,), dtype=torch.float32), 'rsa': Scheme(shape=(1,), dtype=torch.float32)}\n",
      "         edata_schemes={'rel_type': Scheme(shape=(17,), dtype=torch.float64), 'norm': Scheme(shape=(), dtype=torch.float32)})\n",
      "Detected 50 HETATOM nodes\n",
      "Detected 262 total nodes\n",
      "Contact file found: ['../../examples/contacts/2v3j_contacts.tsv']\n",
      "Calculated 561 intramolecular interaction-based edges\n"
     ]
    },
    {
     "name": "stderr",
     "output_type": "stream",
     "text": [
      "\n",
      "\n",
      "\n",
      " 45%|████▍     | 60/134 [00:25<00:10,  6.88it/s]\u001b[A\u001b[A\u001b[A"
     ]
    },
    {
     "name": "stdout",
     "output_type": "stream",
     "text": [
      "DGLGraph(num_nodes=262, num_edges=561,\n",
      "         ndata_schemes={'id': Scheme(shape=(), dtype=dtype('O')), 'residue_name': Scheme(shape=(), dtype=dtype('O')), 'h': Scheme(shape=(7,), dtype=torch.float32), 'coords': Scheme(shape=(3,), dtype=torch.float32), 'ss': Scheme(shape=(9,), dtype=torch.float32), 'asa': Scheme(shape=(1,), dtype=torch.float32), 'rsa': Scheme(shape=(1,), dtype=torch.float32)}\n",
      "         edata_schemes={'rel_type': Scheme(shape=(17,), dtype=torch.float64), 'norm': Scheme(shape=(), dtype=torch.float32)})\n",
      "Detected 612 HETATOM nodes\n",
      "Detected 3331 total nodes\n",
      "Contact file found: ['../../examples/contacts/2cn2_contacts.tsv']\n",
      "Calculated 1894 intramolecular interaction-based edges\n"
     ]
    },
    {
     "name": "stderr",
     "output_type": "stream",
     "text": [
      "\n",
      "\n",
      "\n",
      " 46%|████▌     | 61/134 [00:26<00:26,  2.78it/s]\u001b[A\u001b[A\u001b[A\n",
      "\n",
      "\n",
      " 46%|████▋     | 62/134 [00:26<00:20,  3.50it/s]\u001b[A\u001b[A\u001b[A"
     ]
    },
    {
     "name": "stdout",
     "output_type": "stream",
     "text": [
      "DGLGraph(num_nodes=834, num_edges=1894,\n",
      "         ndata_schemes={'id': Scheme(shape=(), dtype=dtype('O')), 'residue_name': Scheme(shape=(), dtype=dtype('O')), 'h': Scheme(shape=(7,), dtype=torch.float32), 'coords': Scheme(shape=(3,), dtype=torch.float32), 'ss': Scheme(shape=(9,), dtype=torch.float32), 'asa': Scheme(shape=(1,), dtype=torch.float32), 'rsa': Scheme(shape=(1,), dtype=torch.float32)}\n",
      "         edata_schemes={'rel_type': Scheme(shape=(17,), dtype=torch.float64), 'norm': Scheme(shape=(), dtype=torch.float32)})\n",
      "Detected 0 HETATOM nodes\n",
      "Detected 134 total nodes\n",
      "Contact file found: ['../../examples/contacts/1qmt_contacts.tsv']\n",
      "Calculated 298 intramolecular interaction-based edges\n",
      "DGLGraph(num_nodes=134, num_edges=298,\n",
      "         ndata_schemes={'id': Scheme(shape=(), dtype=dtype('O')), 'residue_name': Scheme(shape=(), dtype=dtype('O')), 'h': Scheme(shape=(7,), dtype=torch.float32), 'coords': Scheme(shape=(3,), dtype=torch.float32), 'ss': Scheme(shape=(9,), dtype=torch.float32), 'asa': Scheme(shape=(1,), dtype=torch.float32), 'rsa': Scheme(shape=(1,), dtype=torch.float32)}\n",
      "         edata_schemes={'rel_type': Scheme(shape=(17,), dtype=torch.float64), 'norm': Scheme(shape=(), dtype=torch.float32)})\n",
      "Detected 4 HETATOM nodes\n",
      "Detected 1522 total nodes\n",
      "Contact file found: ['../../examples/contacts/2pfl_contacts.tsv']\n",
      "Calculated 4769 intramolecular interaction-based edges\n"
     ]
    },
    {
     "name": "stderr",
     "output_type": "stream",
     "text": [
      "\n",
      "\n",
      "\n",
      " 47%|████▋     | 63/134 [00:26<00:23,  2.99it/s]\u001b[A\u001b[A\u001b[A"
     ]
    },
    {
     "name": "stdout",
     "output_type": "stream",
     "text": [
      "DGLGraph(num_nodes=1522, num_edges=4769,\n",
      "         ndata_schemes={'id': Scheme(shape=(), dtype=dtype('O')), 'residue_name': Scheme(shape=(), dtype=dtype('O')), 'h': Scheme(shape=(7,), dtype=torch.float32), 'coords': Scheme(shape=(3,), dtype=torch.float32), 'ss': Scheme(shape=(9,), dtype=torch.float32), 'asa': Scheme(shape=(1,), dtype=torch.float32), 'rsa': Scheme(shape=(1,), dtype=torch.float32)}\n",
      "         edata_schemes={'rel_type': Scheme(shape=(17,), dtype=torch.float64), 'norm': Scheme(shape=(), dtype=torch.float32)})\n",
      "Detected 0 HETATOM nodes\n",
      "Detected 1420 total nodes\n",
      "Contact file found: ['../../examples/contacts/1l7d_contacts.tsv']\n"
     ]
    },
    {
     "name": "stderr",
     "output_type": "stream",
     "text": [
      "\n",
      "\n",
      "\n",
      " 48%|████▊     | 64/134 [00:26<00:24,  2.88it/s]\u001b[A\u001b[A\u001b[A"
     ]
    },
    {
     "name": "stdout",
     "output_type": "stream",
     "text": [
      "Calculated 1959 intramolecular interaction-based edges\n",
      "DGLGraph(num_nodes=708, num_edges=1959,\n",
      "         ndata_schemes={'id': Scheme(shape=(), dtype=dtype('O')), 'residue_name': Scheme(shape=(), dtype=dtype('O')), 'h': Scheme(shape=(7,), dtype=torch.float32), 'coords': Scheme(shape=(3,), dtype=torch.float32), 'ss': Scheme(shape=(9,), dtype=torch.float32), 'asa': Scheme(shape=(1,), dtype=torch.float32), 'rsa': Scheme(shape=(1,), dtype=torch.float32)}\n",
      "         edata_schemes={'rel_type': Scheme(shape=(17,), dtype=torch.float64), 'norm': Scheme(shape=(), dtype=torch.float32)})\n"
     ]
    },
    {
     "name": "stderr",
     "output_type": "stream",
     "text": [
      "\n",
      "\n",
      "\n",
      " 49%|████▊     | 65/134 [00:27<00:21,  3.16it/s]\u001b[A\u001b[A\u001b[A"
     ]
    },
    {
     "name": "stdout",
     "output_type": "stream",
     "text": [
      "Detected 22 HETATOM nodes\n",
      "Detected 694 total nodes\n",
      "Contact file found: ['../../examples/contacts/1oi2_contacts.tsv']\n",
      "Calculated 1976 intramolecular interaction-based edges\n",
      "DGLGraph(num_nodes=694, num_edges=1976,\n",
      "         ndata_schemes={'id': Scheme(shape=(), dtype=dtype('O')), 'residue_name': Scheme(shape=(), dtype=dtype('O')), 'h': Scheme(shape=(7,), dtype=torch.float32), 'coords': Scheme(shape=(3,), dtype=torch.float32), 'ss': Scheme(shape=(9,), dtype=torch.float32), 'asa': Scheme(shape=(1,), dtype=torch.float32), 'rsa': Scheme(shape=(1,), dtype=torch.float32)}\n",
      "         edata_schemes={'rel_type': Scheme(shape=(17,), dtype=torch.float64), 'norm': Scheme(shape=(), dtype=torch.float32)})\n"
     ]
    },
    {
     "name": "stderr",
     "output_type": "stream",
     "text": [
      "\n",
      "\n",
      "\n",
      " 49%|████▉     | 66/134 [00:27<00:19,  3.55it/s]\u001b[A\u001b[A\u001b[A"
     ]
    },
    {
     "name": "stdout",
     "output_type": "stream",
     "text": [
      "Detected 0 HETATOM nodes\n",
      "Detected 516 total nodes\n",
      "Contact file found: ['../../examples/contacts/1f6y_contacts.tsv']\n",
      "Calculated 1573 intramolecular interaction-based edges\n",
      "DGLGraph(num_nodes=516, num_edges=1573,\n",
      "         ndata_schemes={'id': Scheme(shape=(), dtype=dtype('O')), 'residue_name': Scheme(shape=(), dtype=dtype('O')), 'h': Scheme(shape=(7,), dtype=torch.float32), 'coords': Scheme(shape=(3,), dtype=torch.float32), 'ss': Scheme(shape=(9,), dtype=torch.float32), 'asa': Scheme(shape=(1,), dtype=torch.float32), 'rsa': Scheme(shape=(1,), dtype=torch.float32)}\n",
      "         edata_schemes={'rel_type': Scheme(shape=(17,), dtype=torch.float64), 'norm': Scheme(shape=(), dtype=torch.float32)})\n"
     ]
    },
    {
     "name": "stderr",
     "output_type": "stream",
     "text": [
      "\n",
      "\n",
      "\n",
      " 50%|█████     | 67/134 [00:27<00:17,  3.90it/s]\u001b[A\u001b[A\u001b[A"
     ]
    },
    {
     "name": "stdout",
     "output_type": "stream",
     "text": [
      "Detected 15 HETATOM nodes\n",
      "Detected 488 total nodes\n",
      "Contact file found: ['../../examples/contacts/2pgd_contacts.tsv']\n",
      "Calculated 1422 intramolecular interaction-based edges\n",
      "DGLGraph(num_nodes=976, num_edges=1422,\n",
      "         ndata_schemes={'id': Scheme(shape=(), dtype=dtype('O')), 'residue_name': Scheme(shape=(), dtype=dtype('O')), 'h': Scheme(shape=(7,), dtype=torch.float32), 'coords': Scheme(shape=(3,), dtype=torch.float32), 'ss': Scheme(shape=(9,), dtype=torch.float32), 'asa': Scheme(shape=(1,), dtype=torch.float32), 'rsa': Scheme(shape=(1,), dtype=torch.float32)}\n",
      "         edata_schemes={'rel_type': Scheme(shape=(17,), dtype=torch.float64), 'norm': Scheme(shape=(), dtype=torch.float32)})\n",
      "Detected 0 HETATOM nodes\n",
      "Detected 373 total nodes\n",
      "Contact file found: ['../../examples/contacts/1vf8_contacts.tsv']\n"
     ]
    },
    {
     "name": "stderr",
     "output_type": "stream",
     "text": [
      "\n",
      "\n",
      "\n",
      " 51%|█████     | 68/134 [00:27<00:15,  4.34it/s]\u001b[A\u001b[A\u001b[A"
     ]
    },
    {
     "name": "stdout",
     "output_type": "stream",
     "text": [
      "Calculated 1089 intramolecular interaction-based edges\n",
      "DGLGraph(num_nodes=373, num_edges=1089,\n",
      "         ndata_schemes={'id': Scheme(shape=(), dtype=dtype('O')), 'residue_name': Scheme(shape=(), dtype=dtype('O')), 'h': Scheme(shape=(7,), dtype=torch.float32), 'coords': Scheme(shape=(3,), dtype=torch.float32), 'ss': Scheme(shape=(9,), dtype=torch.float32), 'asa': Scheme(shape=(1,), dtype=torch.float32), 'rsa': Scheme(shape=(1,), dtype=torch.float32)}\n",
      "         edata_schemes={'rel_type': Scheme(shape=(17,), dtype=torch.float64), 'norm': Scheme(shape=(), dtype=torch.float32)})\n"
     ]
    },
    {
     "name": "stderr",
     "output_type": "stream",
     "text": [
      "\n",
      "\n",
      "\n",
      " 51%|█████▏    | 69/134 [00:28<00:17,  3.77it/s]\u001b[A\u001b[A\u001b[A"
     ]
    },
    {
     "name": "stdout",
     "output_type": "stream",
     "text": [
      "Detected 34 HETATOM nodes\n",
      "Detected 1315 total nodes\n",
      "Contact file found: ['../../examples/contacts/1jx1_contacts.tsv']\n",
      "Calculated 580 intramolecular interaction-based edges\n",
      "DGLGraph(num_nodes=218, num_edges=580,\n",
      "         ndata_schemes={'id': Scheme(shape=(), dtype=dtype('O')), 'residue_name': Scheme(shape=(), dtype=dtype('O')), 'h': Scheme(shape=(7,), dtype=torch.float32), 'coords': Scheme(shape=(3,), dtype=torch.float32), 'ss': Scheme(shape=(9,), dtype=torch.float32), 'asa': Scheme(shape=(1,), dtype=torch.float32), 'rsa': Scheme(shape=(1,), dtype=torch.float32)}\n",
      "         edata_schemes={'rel_type': Scheme(shape=(17,), dtype=torch.float64), 'norm': Scheme(shape=(), dtype=torch.float32)})\n"
     ]
    },
    {
     "name": "stderr",
     "output_type": "stream",
     "text": [
      "\n",
      "\n",
      "\n",
      " 52%|█████▏    | 70/134 [00:28<00:14,  4.44it/s]\u001b[A\u001b[A\u001b[A"
     ]
    },
    {
     "name": "stdout",
     "output_type": "stream",
     "text": [
      "Detected 74 HETATOM nodes\n",
      "Detected 308 total nodes\n",
      "Contact file found: ['../../examples/contacts/2jh1_contacts.tsv']\n",
      "Calculated 629 intramolecular interaction-based edges\n",
      "DGLGraph(num_nodes=308, num_edges=629,\n",
      "         ndata_schemes={'id': Scheme(shape=(), dtype=dtype('O')), 'residue_name': Scheme(shape=(), dtype=dtype('O')), 'h': Scheme(shape=(7,), dtype=torch.float32), 'coords': Scheme(shape=(3,), dtype=torch.float32), 'ss': Scheme(shape=(9,), dtype=torch.float32), 'asa': Scheme(shape=(1,), dtype=torch.float32), 'rsa': Scheme(shape=(1,), dtype=torch.float32)}\n",
      "         edata_schemes={'rel_type': Scheme(shape=(17,), dtype=torch.float64), 'norm': Scheme(shape=(), dtype=torch.float32)})\n",
      "Detected 15 HETATOM nodes\n",
      "Detected 277 total nodes\n",
      "Contact file found: ['../../examples/contacts/1u4r_contacts.tsv']\n",
      "Calculated 266 intramolecular interaction-based edges\n"
     ]
    },
    {
     "name": "stderr",
     "output_type": "stream",
     "text": [
      "\n",
      "\n",
      "\n",
      " 53%|█████▎    | 71/134 [00:28<00:12,  5.00it/s]\u001b[A\u001b[A\u001b[A"
     ]
    },
    {
     "name": "stdout",
     "output_type": "stream",
     "text": [
      "DGLGraph(num_nodes=140, num_edges=266,\n",
      "         ndata_schemes={'id': Scheme(shape=(), dtype=dtype('O')), 'residue_name': Scheme(shape=(), dtype=dtype('O')), 'h': Scheme(shape=(7,), dtype=torch.float32), 'coords': Scheme(shape=(3,), dtype=torch.float32), 'ss': Scheme(shape=(9,), dtype=torch.float32), 'asa': Scheme(shape=(1,), dtype=torch.float32), 'rsa': Scheme(shape=(1,), dtype=torch.float32)}\n",
      "         edata_schemes={'rel_type': Scheme(shape=(17,), dtype=torch.float64), 'norm': Scheme(shape=(), dtype=torch.float32)})\n",
      "Detected 1 HETATOM nodes\n",
      "Detected 597 total nodes\n",
      "Contact file found: ['../../examples/contacts/2hv6_contacts.tsv']\n",
      "Calculated 947 intramolecular interaction-based edges\n"
     ]
    },
    {
     "name": "stderr",
     "output_type": "stream",
     "text": [
      "\n",
      "\n",
      "\n",
      " 54%|█████▎    | 72/134 [00:28<00:12,  4.92it/s]\u001b[A\u001b[A\u001b[A\n",
      "\n",
      "\n",
      " 54%|█████▍    | 73/134 [00:28<00:10,  5.70it/s]\u001b[A\u001b[A\u001b[A"
     ]
    },
    {
     "name": "stdout",
     "output_type": "stream",
     "text": [
      "DGLGraph(num_nodes=295, num_edges=947,\n",
      "         ndata_schemes={'id': Scheme(shape=(), dtype=dtype('O')), 'residue_name': Scheme(shape=(), dtype=dtype('O')), 'h': Scheme(shape=(7,), dtype=torch.float32), 'coords': Scheme(shape=(3,), dtype=torch.float32), 'ss': Scheme(shape=(9,), dtype=torch.float32), 'asa': Scheme(shape=(1,), dtype=torch.float32), 'rsa': Scheme(shape=(1,), dtype=torch.float32)}\n",
      "         edata_schemes={'rel_type': Scheme(shape=(17,), dtype=torch.float64), 'norm': Scheme(shape=(), dtype=torch.float32)})\n",
      "Detected 0 HETATOM nodes\n",
      "Detected 101 total nodes\n",
      "Contact file found: ['../../examples/contacts/3wrp_contacts.tsv']\n",
      "Calculated 257 intramolecular interaction-based edges\n",
      "DGLGraph(num_nodes=202, num_edges=257,\n",
      "         ndata_schemes={'id': Scheme(shape=(), dtype=dtype('O')), 'residue_name': Scheme(shape=(), dtype=dtype('O')), 'h': Scheme(shape=(7,), dtype=torch.float32), 'coords': Scheme(shape=(3,), dtype=torch.float32), 'ss': Scheme(shape=(9,), dtype=torch.float32), 'asa': Scheme(shape=(1,), dtype=torch.float32), 'rsa': Scheme(shape=(1,), dtype=torch.float32)}\n",
      "         edata_schemes={'rel_type': Scheme(shape=(17,), dtype=torch.float64), 'norm': Scheme(shape=(), dtype=torch.float32)})\n",
      "Detected 0 HETATOM nodes\n",
      "Detected 284 total nodes\n",
      "Contact file found: ['../../examples/contacts/2cwc_contacts.tsv']\n"
     ]
    },
    {
     "name": "stderr",
     "output_type": "stream",
     "text": [
      "\n",
      "\n",
      "\n",
      " 55%|█████▌    | 74/134 [00:28<00:10,  5.89it/s]\u001b[A\u001b[A\u001b[A"
     ]
    },
    {
     "name": "stdout",
     "output_type": "stream",
     "text": [
      "Calculated 936 intramolecular interaction-based edges\n",
      "DGLGraph(num_nodes=284, num_edges=936,\n",
      "         ndata_schemes={'id': Scheme(shape=(), dtype=dtype('O')), 'residue_name': Scheme(shape=(), dtype=dtype('O')), 'h': Scheme(shape=(7,), dtype=torch.float32), 'coords': Scheme(shape=(3,), dtype=torch.float32), 'ss': Scheme(shape=(9,), dtype=torch.float32), 'asa': Scheme(shape=(1,), dtype=torch.float32), 'rsa': Scheme(shape=(1,), dtype=torch.float32)}\n",
      "         edata_schemes={'rel_type': Scheme(shape=(17,), dtype=torch.float64), 'norm': Scheme(shape=(), dtype=torch.float32)})\n",
      "Detected 4 HETATOM nodes\n",
      "Detected 602 total nodes\n",
      "Contact file found: ['../../examples/contacts/1jly_contacts.tsv']\n",
      "Calculated 1531 intramolecular interaction-based edges\n"
     ]
    },
    {
     "name": "stderr",
     "output_type": "stream",
     "text": [
      "\n",
      "\n",
      "\n",
      " 56%|█████▌    | 75/134 [00:29<00:10,  5.37it/s]\u001b[A\u001b[A\u001b[A\n",
      "\n",
      "\n",
      " 57%|█████▋    | 76/134 [00:29<00:10,  5.41it/s]\u001b[A\u001b[A\u001b[A"
     ]
    },
    {
     "name": "stdout",
     "output_type": "stream",
     "text": [
      "DGLGraph(num_nodes=602, num_edges=1531,\n",
      "         ndata_schemes={'id': Scheme(shape=(), dtype=dtype('O')), 'residue_name': Scheme(shape=(), dtype=dtype('O')), 'h': Scheme(shape=(7,), dtype=torch.float32), 'coords': Scheme(shape=(3,), dtype=torch.float32), 'ss': Scheme(shape=(9,), dtype=torch.float32), 'asa': Scheme(shape=(1,), dtype=torch.float32), 'rsa': Scheme(shape=(1,), dtype=torch.float32)}\n",
      "         edata_schemes={'rel_type': Scheme(shape=(17,), dtype=torch.float64), 'norm': Scheme(shape=(), dtype=torch.float32)})\n",
      "Detected 0 HETATOM nodes\n",
      "Detected 432 total nodes\n",
      "Contact file found: ['../../examples/contacts/1dcl_contacts.tsv']\n",
      "Calculated 953 intramolecular interaction-based edges\n",
      "DGLGraph(num_nodes=432, num_edges=953,\n",
      "         ndata_schemes={'id': Scheme(shape=(), dtype=dtype('O')), 'residue_name': Scheme(shape=(), dtype=dtype('O')), 'h': Scheme(shape=(7,), dtype=torch.float32), 'coords': Scheme(shape=(3,), dtype=torch.float32), 'ss': Scheme(shape=(9,), dtype=torch.float32), 'asa': Scheme(shape=(1,), dtype=torch.float32), 'rsa': Scheme(shape=(1,), dtype=torch.float32)}\n",
      "         edata_schemes={'rel_type': Scheme(shape=(17,), dtype=torch.float64), 'norm': Scheme(shape=(), dtype=torch.float32)})\n"
     ]
    },
    {
     "name": "stderr",
     "output_type": "stream",
     "text": [
      "\n",
      "\n",
      "\n",
      " 57%|█████▋    | 77/134 [00:29<00:11,  4.96it/s]\u001b[A\u001b[A\u001b[A"
     ]
    },
    {
     "name": "stdout",
     "output_type": "stream",
     "text": [
      "Detected 14 HETATOM nodes\n",
      "Detected 654 total nodes\n",
      "Contact file found: ['../../examples/contacts/2znv_contacts.tsv']\n",
      "Calculated 170 intramolecular interaction-based edges\n",
      "DGLGraph(num_nodes=77, num_edges=170,\n",
      "         ndata_schemes={'id': Scheme(shape=(), dtype=dtype('O')), 'residue_name': Scheme(shape=(), dtype=dtype('O')), 'h': Scheme(shape=(7,), dtype=torch.float32), 'coords': Scheme(shape=(3,), dtype=torch.float32), 'ss': Scheme(shape=(9,), dtype=torch.float32), 'asa': Scheme(shape=(1,), dtype=torch.float32), 'rsa': Scheme(shape=(1,), dtype=torch.float32)}\n",
      "         edata_schemes={'rel_type': Scheme(shape=(17,), dtype=torch.float64), 'norm': Scheme(shape=(), dtype=torch.float32)})\n"
     ]
    },
    {
     "name": "stderr",
     "output_type": "stream",
     "text": [
      "\n",
      "\n",
      "\n",
      " 58%|█████▊    | 78/134 [00:29<00:11,  4.92it/s]\u001b[A\u001b[A\u001b[A"
     ]
    },
    {
     "name": "stdout",
     "output_type": "stream",
     "text": [
      "Detected 4 HETATOM nodes\n",
      "Detected 528 total nodes\n",
      "Contact file found: ['../../examples/contacts/1oen_contacts.tsv']\n",
      "Calculated 1377 intramolecular interaction-based edges\n",
      "DGLGraph(num_nodes=528, num_edges=1377,\n",
      "         ndata_schemes={'id': Scheme(shape=(), dtype=dtype('O')), 'residue_name': Scheme(shape=(), dtype=dtype('O')), 'h': Scheme(shape=(7,), dtype=torch.float32), 'coords': Scheme(shape=(3,), dtype=torch.float32), 'ss': Scheme(shape=(9,), dtype=torch.float32), 'asa': Scheme(shape=(1,), dtype=torch.float32), 'rsa': Scheme(shape=(1,), dtype=torch.float32)}\n",
      "         edata_schemes={'rel_type': Scheme(shape=(17,), dtype=torch.float64), 'norm': Scheme(shape=(), dtype=torch.float32)})\n",
      "Detected 1 HETATOM nodes\n",
      "Detected 353 total nodes\n",
      "Contact file found: ['../../examples/contacts/1plu_contacts.tsv']\n"
     ]
    },
    {
     "name": "stderr",
     "output_type": "stream",
     "text": [
      "\n",
      "\n",
      "\n",
      " 59%|█████▉    | 79/134 [00:29<00:10,  5.33it/s]\u001b[A\u001b[A\u001b[A"
     ]
    },
    {
     "name": "stdout",
     "output_type": "stream",
     "text": [
      "Calculated 963 intramolecular interaction-based edges\n",
      "DGLGraph(num_nodes=353, num_edges=963,\n",
      "         ndata_schemes={'id': Scheme(shape=(), dtype=dtype('O')), 'residue_name': Scheme(shape=(), dtype=dtype('O')), 'h': Scheme(shape=(7,), dtype=torch.float32), 'coords': Scheme(shape=(3,), dtype=torch.float32), 'ss': Scheme(shape=(9,), dtype=torch.float32), 'asa': Scheme(shape=(1,), dtype=torch.float32), 'rsa': Scheme(shape=(1,), dtype=torch.float32)}\n",
      "         edata_schemes={'rel_type': Scheme(shape=(17,), dtype=torch.float64), 'norm': Scheme(shape=(), dtype=torch.float32)})\n",
      "Detected 3 HETATOM nodes\n",
      "Detected 589 total nodes\n",
      "Contact file found: ['../../examples/contacts/1h3i_contacts.tsv']\n",
      "Calculated 666 intramolecular interaction-based edges\n"
     ]
    },
    {
     "name": "stderr",
     "output_type": "stream",
     "text": [
      "\n",
      "\n",
      "\n",
      " 60%|█████▉    | 80/134 [00:30<00:09,  5.41it/s]\u001b[A\u001b[A\u001b[A\n",
      "\n",
      "\n",
      " 60%|██████    | 81/134 [00:30<00:08,  6.18it/s]\u001b[A\u001b[A\u001b[A"
     ]
    },
    {
     "name": "stdout",
     "output_type": "stream",
     "text": [
      "DGLGraph(num_nodes=295, num_edges=666,\n",
      "         ndata_schemes={'id': Scheme(shape=(), dtype=dtype('O')), 'residue_name': Scheme(shape=(), dtype=dtype('O')), 'h': Scheme(shape=(7,), dtype=torch.float32), 'coords': Scheme(shape=(3,), dtype=torch.float32), 'ss': Scheme(shape=(9,), dtype=torch.float32), 'asa': Scheme(shape=(1,), dtype=torch.float32), 'rsa': Scheme(shape=(1,), dtype=torch.float32)}\n",
      "         edata_schemes={'rel_type': Scheme(shape=(17,), dtype=torch.float64), 'norm': Scheme(shape=(), dtype=torch.float32)})\n",
      "Detected 8 HETATOM nodes\n",
      "Detected 96 total nodes\n",
      "Contact file found: ['../../examples/contacts/2hts_contacts.tsv']\n",
      "Calculated 207 intramolecular interaction-based edges\n",
      "DGLGraph(num_nodes=96, num_edges=207,\n",
      "         ndata_schemes={'id': Scheme(shape=(), dtype=dtype('O')), 'residue_name': Scheme(shape=(), dtype=dtype('O')), 'h': Scheme(shape=(7,), dtype=torch.float32), 'coords': Scheme(shape=(3,), dtype=torch.float32), 'ss': Scheme(shape=(9,), dtype=torch.float32), 'asa': Scheme(shape=(1,), dtype=torch.float32), 'rsa': Scheme(shape=(1,), dtype=torch.float32)}\n",
      "         edata_schemes={'rel_type': Scheme(shape=(17,), dtype=torch.float64), 'norm': Scheme(shape=(), dtype=torch.float32)})\n",
      "Detected 52 HETATOM nodes\n",
      "Detected 283 total nodes\n",
      "Contact file found: ['../../examples/contacts/1h8u_contacts.tsv']\n",
      "Calculated 279 intramolecular interaction-based edges\n"
     ]
    },
    {
     "name": "stderr",
     "output_type": "stream",
     "text": [
      "\n",
      "\n",
      "\n",
      " 61%|██████    | 82/134 [00:30<00:08,  6.47it/s]\u001b[A\u001b[A\u001b[A\n",
      "\n",
      "\n",
      " 62%|██████▏   | 83/134 [00:30<00:07,  6.49it/s]\u001b[A\u001b[A\u001b[A"
     ]
    },
    {
     "name": "stdout",
     "output_type": "stream",
     "text": [
      "DGLGraph(num_nodes=131, num_edges=279,\n",
      "         ndata_schemes={'id': Scheme(shape=(), dtype=dtype('O')), 'residue_name': Scheme(shape=(), dtype=dtype('O')), 'h': Scheme(shape=(7,), dtype=torch.float32), 'coords': Scheme(shape=(3,), dtype=torch.float32), 'ss': Scheme(shape=(9,), dtype=torch.float32), 'asa': Scheme(shape=(1,), dtype=torch.float32), 'rsa': Scheme(shape=(1,), dtype=torch.float32)}\n",
      "         edata_schemes={'rel_type': Scheme(shape=(17,), dtype=torch.float64), 'norm': Scheme(shape=(), dtype=torch.float32)})\n",
      "Detected 19 HETATOM nodes\n",
      "Detected 342 total nodes\n",
      "Contact file found: ['../../examples/contacts/1ds0_contacts.tsv']\n",
      "Calculated 870 intramolecular interaction-based edges\n",
      "DGLGraph(num_nodes=342, num_edges=870,\n",
      "         ndata_schemes={'id': Scheme(shape=(), dtype=dtype('O')), 'residue_name': Scheme(shape=(), dtype=dtype('O')), 'h': Scheme(shape=(7,), dtype=torch.float32), 'coords': Scheme(shape=(3,), dtype=torch.float32), 'ss': Scheme(shape=(9,), dtype=torch.float32), 'asa': Scheme(shape=(1,), dtype=torch.float32), 'rsa': Scheme(shape=(1,), dtype=torch.float32)}\n",
      "         edata_schemes={'rel_type': Scheme(shape=(17,), dtype=torch.float64), 'norm': Scheme(shape=(), dtype=torch.float32)})\n",
      "Detected 1 HETATOM nodes\n",
      "Detected 83 total nodes"
     ]
    },
    {
     "name": "stderr",
     "output_type": "stream",
     "text": [
      "\n",
      "\n",
      "\n",
      " 63%|██████▎   | 84/134 [00:30<00:07,  7.12it/s]\u001b[A\u001b[A\u001b[A"
     ]
    },
    {
     "name": "stdout",
     "output_type": "stream",
     "text": [
      "\n",
      "Contact file found: ['../../examples/contacts/1r6j_contacts.tsv']\n",
      "Calculated 184 intramolecular interaction-based edges\n",
      "DGLGraph(num_nodes=83, num_edges=184,\n",
      "         ndata_schemes={'id': Scheme(shape=(), dtype=dtype('O')), 'residue_name': Scheme(shape=(), dtype=dtype('O')), 'h': Scheme(shape=(7,), dtype=torch.float32), 'coords': Scheme(shape=(3,), dtype=torch.float32), 'ss': Scheme(shape=(9,), dtype=torch.float32), 'asa': Scheme(shape=(1,), dtype=torch.float32), 'rsa': Scheme(shape=(1,), dtype=torch.float32)}\n",
      "         edata_schemes={'rel_type': Scheme(shape=(17,), dtype=torch.float64), 'norm': Scheme(shape=(), dtype=torch.float32)})\n",
      "Detected 77 HETATOM nodes\n",
      "Detected 351 total nodes\n",
      "Contact file found: ['../../examples/contacts/2qvl_contacts.tsv']\n",
      "Calculated 699 intramolecular interaction-based edges\n"
     ]
    },
    {
     "name": "stderr",
     "output_type": "stream",
     "text": [
      "\n",
      "\n",
      "\n",
      " 63%|██████▎   | 85/134 [00:30<00:07,  6.95it/s]\u001b[A\u001b[A\u001b[A\n",
      "\n",
      "\n",
      " 64%|██████▍   | 86/134 [00:30<00:07,  6.33it/s]\u001b[A\u001b[A\u001b[A"
     ]
    },
    {
     "name": "stdout",
     "output_type": "stream",
     "text": [
      "DGLGraph(num_nodes=351, num_edges=699,\n",
      "         ndata_schemes={'id': Scheme(shape=(), dtype=dtype('O')), 'residue_name': Scheme(shape=(), dtype=dtype('O')), 'h': Scheme(shape=(7,), dtype=torch.float32), 'coords': Scheme(shape=(3,), dtype=torch.float32), 'ss': Scheme(shape=(9,), dtype=torch.float32), 'asa': Scheme(shape=(1,), dtype=torch.float32), 'rsa': Scheme(shape=(1,), dtype=torch.float32)}\n",
      "         edata_schemes={'rel_type': Scheme(shape=(17,), dtype=torch.float64), 'norm': Scheme(shape=(), dtype=torch.float32)})\n",
      "Detected 10 HETATOM nodes\n",
      "Detected 546 total nodes\n",
      "Contact file found: ['../../examples/contacts/1mdf_contacts.tsv']\n",
      "Calculated 1487 intramolecular interaction-based edges\n",
      "DGLGraph(num_nodes=546, num_edges=1487,\n",
      "         ndata_schemes={'id': Scheme(shape=(), dtype=dtype('O')), 'residue_name': Scheme(shape=(), dtype=dtype('O')), 'h': Scheme(shape=(7,), dtype=torch.float32), 'coords': Scheme(shape=(3,), dtype=torch.float32), 'ss': Scheme(shape=(9,), dtype=torch.float32), 'asa': Scheme(shape=(1,), dtype=torch.float32), 'rsa': Scheme(shape=(1,), dtype=torch.float32)}\n",
      "         edata_schemes={'rel_type': Scheme(shape=(17,), dtype=torch.float64), 'norm': Scheme(shape=(), dtype=torch.float32)})\n"
     ]
    },
    {
     "name": "stderr",
     "output_type": "stream",
     "text": [
      "\n",
      "\n",
      "\n",
      " 65%|██████▍   | 87/134 [00:31<00:07,  5.95it/s]\u001b[A\u001b[A\u001b[A"
     ]
    },
    {
     "name": "stdout",
     "output_type": "stream",
     "text": [
      "Detected 4 HETATOM nodes\n",
      "Detected 313 total nodes\n",
      "Contact file found: ['../../examples/contacts/2h1v_contacts.tsv']\n",
      "Calculated 964 intramolecular interaction-based edges\n",
      "DGLGraph(num_nodes=313, num_edges=964,\n",
      "         ndata_schemes={'id': Scheme(shape=(), dtype=dtype('O')), 'residue_name': Scheme(shape=(), dtype=dtype('O')), 'h': Scheme(shape=(7,), dtype=torch.float32), 'coords': Scheme(shape=(3,), dtype=torch.float32), 'ss': Scheme(shape=(9,), dtype=torch.float32), 'asa': Scheme(shape=(1,), dtype=torch.float32), 'rsa': Scheme(shape=(1,), dtype=torch.float32)}\n",
      "         edata_schemes={'rel_type': Scheme(shape=(17,), dtype=torch.float64), 'norm': Scheme(shape=(), dtype=torch.float32)})\n",
      "Detected 0 HETATOM nodes\n",
      "Detected 185 total nodes\n",
      "Contact file found: ['../../examples/contacts/153l_contacts.tsv']\n",
      "Calculated 612 intramolecular interaction-based edges\n"
     ]
    },
    {
     "name": "stderr",
     "output_type": "stream",
     "text": [
      "\n",
      "\n",
      "\n",
      " 66%|██████▌   | 88/134 [00:31<00:07,  6.43it/s]\u001b[A\u001b[A\u001b[A"
     ]
    },
    {
     "name": "stdout",
     "output_type": "stream",
     "text": [
      "DGLGraph(num_nodes=185, num_edges=612,\n",
      "         ndata_schemes={'id': Scheme(shape=(), dtype=dtype('O')), 'residue_name': Scheme(shape=(), dtype=dtype('O')), 'h': Scheme(shape=(7,), dtype=torch.float32), 'coords': Scheme(shape=(3,), dtype=torch.float32), 'ss': Scheme(shape=(9,), dtype=torch.float32), 'asa': Scheme(shape=(1,), dtype=torch.float32), 'rsa': Scheme(shape=(1,), dtype=torch.float32)}\n",
      "         edata_schemes={'rel_type': Scheme(shape=(17,), dtype=torch.float64), 'norm': Scheme(shape=(), dtype=torch.float32)})\n",
      "Downloading PDB structure '1na8'...\n",
      "Downloaded PDB file for: 1na8\n",
      "Detected 0 HETATOM nodes\n",
      "Detected 296 total nodes\n",
      "1na8\n",
      "['../../examples/pdbs/1na8.pdb']\n",
      "PDB file detected: ../../examples/pdbs/1na8.pdb\n"
     ]
    },
    {
     "name": "stderr",
     "output_type": "stream",
     "text": [
      "\n",
      "\n",
      "\n",
      " 66%|██████▋   | 89/134 [00:33<00:35,  1.26it/s]\u001b[A\u001b[A\u001b[A\n",
      "\n",
      "\n",
      " 67%|██████▋   | 90/134 [00:33<00:26,  1.69it/s]\u001b[A\u001b[A\u001b[A"
     ]
    },
    {
     "name": "stdout",
     "output_type": "stream",
     "text": [
      "Computed Contacts for: 1na8\n",
      "Calculated 262 intramolecular interaction-based edges\n",
      "DGLGraph(num_nodes=145, num_edges=262,\n",
      "         ndata_schemes={'id': Scheme(shape=(), dtype=dtype('O')), 'residue_name': Scheme(shape=(), dtype=dtype('O')), 'h': Scheme(shape=(7,), dtype=torch.float32), 'coords': Scheme(shape=(3,), dtype=torch.float32), 'ss': Scheme(shape=(9,), dtype=torch.float32), 'asa': Scheme(shape=(1,), dtype=torch.float32), 'rsa': Scheme(shape=(1,), dtype=torch.float32)}\n",
      "         edata_schemes={'rel_type': Scheme(shape=(17,), dtype=torch.float64), 'norm': Scheme(shape=(), dtype=torch.float32)})\n",
      "Detected 0 HETATOM nodes\n",
      "Detected 141 total nodes\n",
      "Contact file found: ['../../examples/contacts/2d59_contacts.tsv']\n",
      "Calculated 409 intramolecular interaction-based edges\n",
      "DGLGraph(num_nodes=141, num_edges=409,\n",
      "         ndata_schemes={'id': Scheme(shape=(), dtype=dtype('O')), 'residue_name': Scheme(shape=(), dtype=dtype('O')), 'h': Scheme(shape=(7,), dtype=torch.float32), 'coords': Scheme(shape=(3,), dtype=torch.float32), 'ss': Scheme(shape=(9,), dtype=torch.float32), 'asa': Scheme(shape=(1,), dtype=torch.float32), 'rsa': Scheme(shape=(1,), dtype=torch.float32)}\n",
      "         edata_schemes={'rel_type': Scheme(shape=(17,), dtype=torch.float64), 'norm': Scheme(shape=(), dtype=torch.float32)})\n"
     ]
    },
    {
     "name": "stderr",
     "output_type": "stream",
     "text": [
      "\n",
      "\n",
      "\n",
      " 68%|██████▊   | 91/134 [00:33<00:20,  2.10it/s]\u001b[A\u001b[A\u001b[A"
     ]
    },
    {
     "name": "stdout",
     "output_type": "stream",
     "text": [
      "Detected 7 HETATOM nodes\n",
      "Detected 571 total nodes\n",
      "Contact file found: ['../../examples/contacts/1rif_contacts.tsv']\n",
      "Calculated 801 intramolecular interaction-based edges\n",
      "DGLGraph(num_nodes=285, num_edges=801,\n",
      "         ndata_schemes={'id': Scheme(shape=(), dtype=dtype('O')), 'residue_name': Scheme(shape=(), dtype=dtype('O')), 'h': Scheme(shape=(7,), dtype=torch.float32), 'coords': Scheme(shape=(3,), dtype=torch.float32), 'ss': Scheme(shape=(9,), dtype=torch.float32), 'asa': Scheme(shape=(1,), dtype=torch.float32), 'rsa': Scheme(shape=(1,), dtype=torch.float32)}\n",
      "         edata_schemes={'rel_type': Scheme(shape=(17,), dtype=torch.float64), 'norm': Scheme(shape=(), dtype=torch.float32)})\n",
      "Detected 5 HETATOM nodes\n",
      "Detected 217 total nodes\n",
      "Contact file found: ['../../examples/contacts/2zlb_contacts.tsv']\n",
      "Calculated 601 intramolecular interaction-based edges\n"
     ]
    },
    {
     "name": "stderr",
     "output_type": "stream",
     "text": [
      "\n",
      "\n",
      "\n",
      " 69%|██████▊   | 92/134 [00:33<00:15,  2.70it/s]\u001b[A\u001b[A\u001b[A"
     ]
    },
    {
     "name": "stdout",
     "output_type": "stream",
     "text": [
      "DGLGraph(num_nodes=217, num_edges=601,\n",
      "         ndata_schemes={'id': Scheme(shape=(), dtype=dtype('O')), 'residue_name': Scheme(shape=(), dtype=dtype('O')), 'h': Scheme(shape=(7,), dtype=torch.float32), 'coords': Scheme(shape=(3,), dtype=torch.float32), 'ss': Scheme(shape=(9,), dtype=torch.float32), 'asa': Scheme(shape=(1,), dtype=torch.float32), 'rsa': Scheme(shape=(1,), dtype=torch.float32)}\n",
      "         edata_schemes={'rel_type': Scheme(shape=(17,), dtype=torch.float64), 'norm': Scheme(shape=(), dtype=torch.float32)})\n"
     ]
    },
    {
     "name": "stderr",
     "output_type": "stream",
     "text": [
      "\n",
      "\n",
      "\n",
      " 69%|██████▉   | 93/134 [00:34<00:15,  2.64it/s]\u001b[A\u001b[A\u001b[A"
     ]
    },
    {
     "name": "stdout",
     "output_type": "stream",
     "text": [
      "Detected 10 HETATOM nodes\n",
      "Detected 981 total nodes\n",
      "Contact file found: ['../../examples/contacts/2cfo_contacts.tsv']\n",
      "Calculated 1455 intramolecular interaction-based edges\n",
      "DGLGraph(num_nodes=487, num_edges=1455,\n",
      "         ndata_schemes={'id': Scheme(shape=(), dtype=dtype('O')), 'residue_name': Scheme(shape=(), dtype=dtype('O')), 'h': Scheme(shape=(7,), dtype=torch.float32), 'coords': Scheme(shape=(3,), dtype=torch.float32), 'ss': Scheme(shape=(9,), dtype=torch.float32), 'asa': Scheme(shape=(1,), dtype=torch.float32), 'rsa': Scheme(shape=(1,), dtype=torch.float32)}\n",
      "         edata_schemes={'rel_type': Scheme(shape=(17,), dtype=torch.float64), 'norm': Scheme(shape=(), dtype=torch.float32)})\n",
      "Downloading PDB structure '2eh1'...\n",
      "Downloaded PDB file for: 2eh1\n",
      "Detected 50 HETATOM nodes\n",
      "Detected 224 total nodes\n",
      "2eh1\n",
      "['../../examples/pdbs/2eh1.pdb']\n",
      "PDB file detected: ../../examples/pdbs/2eh1.pdb\n"
     ]
    },
    {
     "name": "stderr",
     "output_type": "stream",
     "text": [
      "\n",
      "\n",
      "\n",
      " 70%|███████   | 94/134 [00:36<00:33,  1.20it/s]\u001b[A\u001b[A\u001b[A"
     ]
    },
    {
     "name": "stdout",
     "output_type": "stream",
     "text": [
      "Computed Contacts for: 2eh1\n",
      "Calculated 211 intramolecular interaction-based edges\n",
      "DGLGraph(num_nodes=104, num_edges=211,\n",
      "         ndata_schemes={'id': Scheme(shape=(), dtype=dtype('O')), 'residue_name': Scheme(shape=(), dtype=dtype('O')), 'h': Scheme(shape=(7,), dtype=torch.float32), 'coords': Scheme(shape=(3,), dtype=torch.float32), 'ss': Scheme(shape=(9,), dtype=torch.float32), 'asa': Scheme(shape=(1,), dtype=torch.float32), 'rsa': Scheme(shape=(1,), dtype=torch.float32)}\n",
      "         edata_schemes={'rel_type': Scheme(shape=(17,), dtype=torch.float64), 'norm': Scheme(shape=(), dtype=torch.float32)})\n",
      "Detected 6 HETATOM nodes\n",
      "Detected 249 total nodes\n",
      "Contact file found: ['../../examples/contacts/2j0a_contacts.tsv']\n",
      "Calculated 653 intramolecular interaction-based edges\n"
     ]
    },
    {
     "name": "stderr",
     "output_type": "stream",
     "text": [
      "\n",
      "\n",
      "\n",
      " 71%|███████   | 95/134 [00:36<00:24,  1.60it/s]\u001b[A\u001b[A\u001b[A\n",
      "\n",
      "\n",
      " 72%|███████▏  | 96/134 [00:36<00:18,  2.11it/s]\u001b[A\u001b[A\u001b[A"
     ]
    },
    {
     "name": "stdout",
     "output_type": "stream",
     "text": [
      "DGLGraph(num_nodes=249, num_edges=653,\n",
      "         ndata_schemes={'id': Scheme(shape=(), dtype=dtype('O')), 'residue_name': Scheme(shape=(), dtype=dtype('O')), 'h': Scheme(shape=(7,), dtype=torch.float32), 'coords': Scheme(shape=(3,), dtype=torch.float32), 'ss': Scheme(shape=(9,), dtype=torch.float32), 'asa': Scheme(shape=(1,), dtype=torch.float32), 'rsa': Scheme(shape=(1,), dtype=torch.float32)}\n",
      "         edata_schemes={'rel_type': Scheme(shape=(17,), dtype=torch.float64), 'norm': Scheme(shape=(), dtype=torch.float32)})\n",
      "Detected 4 HETATOM nodes\n",
      "Detected 189 total nodes\n",
      "Contact file found: ['../../examples/contacts/1oee_contacts.tsv']\n",
      "Calculated 479 intramolecular interaction-based edges\n",
      "DGLGraph(num_nodes=189, num_edges=479,\n",
      "         ndata_schemes={'id': Scheme(shape=(), dtype=dtype('O')), 'residue_name': Scheme(shape=(), dtype=dtype('O')), 'h': Scheme(shape=(7,), dtype=torch.float32), 'coords': Scheme(shape=(3,), dtype=torch.float32), 'ss': Scheme(shape=(9,), dtype=torch.float32), 'asa': Scheme(shape=(1,), dtype=torch.float32), 'rsa': Scheme(shape=(1,), dtype=torch.float32)}\n",
      "         edata_schemes={'rel_type': Scheme(shape=(17,), dtype=torch.float64), 'norm': Scheme(shape=(), dtype=torch.float32)})\n"
     ]
    },
    {
     "name": "stderr",
     "output_type": "stream",
     "text": [
      "\n",
      "\n",
      "\n",
      " 72%|███████▏  | 97/134 [00:36<00:15,  2.45it/s]\u001b[A\u001b[A\u001b[A"
     ]
    },
    {
     "name": "stdout",
     "output_type": "stream",
     "text": [
      "Detected 0 HETATOM nodes\n",
      "Detected 775 total nodes\n",
      "Contact file found: ['../../examples/contacts/1tf5_contacts.tsv']\n",
      "Calculated 2259 intramolecular interaction-based edges\n",
      "DGLGraph(num_nodes=775, num_edges=2259,\n",
      "         ndata_schemes={'id': Scheme(shape=(), dtype=dtype('O')), 'residue_name': Scheme(shape=(), dtype=dtype('O')), 'h': Scheme(shape=(7,), dtype=torch.float32), 'coords': Scheme(shape=(3,), dtype=torch.float32), 'ss': Scheme(shape=(9,), dtype=torch.float32), 'asa': Scheme(shape=(1,), dtype=torch.float32), 'rsa': Scheme(shape=(1,), dtype=torch.float32)}\n",
      "         edata_schemes={'rel_type': Scheme(shape=(17,), dtype=torch.float64), 'norm': Scheme(shape=(), dtype=torch.float32)})\n"
     ]
    },
    {
     "name": "stderr",
     "output_type": "stream",
     "text": [
      "\n",
      "\n",
      "\n",
      " 73%|███████▎  | 98/134 [00:36<00:12,  2.92it/s]\u001b[A\u001b[A\u001b[A"
     ]
    },
    {
     "name": "stdout",
     "output_type": "stream",
     "text": [
      "Detected 10 HETATOM nodes\n",
      "Detected 314 total nodes\n",
      "Contact file found: ['../../examples/contacts/2ii2_contacts.tsv']\n",
      "Calculated 995 intramolecular interaction-based edges\n",
      "DGLGraph(num_nodes=314, num_edges=995,\n",
      "         ndata_schemes={'id': Scheme(shape=(), dtype=dtype('O')), 'residue_name': Scheme(shape=(), dtype=dtype('O')), 'h': Scheme(shape=(7,), dtype=torch.float32), 'coords': Scheme(shape=(3,), dtype=torch.float32), 'ss': Scheme(shape=(9,), dtype=torch.float32), 'asa': Scheme(shape=(1,), dtype=torch.float32), 'rsa': Scheme(shape=(1,), dtype=torch.float32)}\n",
      "         edata_schemes={'rel_type': Scheme(shape=(17,), dtype=torch.float64), 'norm': Scheme(shape=(), dtype=torch.float32)})\n",
      "Detected 10 HETATOM nodes\n",
      "Detected 535 total nodes\n",
      "Contact file found: ['../../examples/contacts/2v28_contacts.tsv']\n"
     ]
    },
    {
     "name": "stderr",
     "output_type": "stream",
     "text": [
      "\n",
      "\n",
      "\n",
      " 74%|███████▍  | 99/134 [00:37<00:10,  3.30it/s]\u001b[A\u001b[A\u001b[A"
     ]
    },
    {
     "name": "stdout",
     "output_type": "stream",
     "text": [
      "Calculated 1561 intramolecular interaction-based edges\n",
      "DGLGraph(num_nodes=535, num_edges=1561,\n",
      "         ndata_schemes={'id': Scheme(shape=(), dtype=dtype('O')), 'residue_name': Scheme(shape=(), dtype=dtype('O')), 'h': Scheme(shape=(7,), dtype=torch.float32), 'coords': Scheme(shape=(3,), dtype=torch.float32), 'ss': Scheme(shape=(9,), dtype=torch.float32), 'asa': Scheme(shape=(1,), dtype=torch.float32), 'rsa': Scheme(shape=(1,), dtype=torch.float32)}\n",
      "         edata_schemes={'rel_type': Scheme(shape=(17,), dtype=torch.float64), 'norm': Scheme(shape=(), dtype=torch.float32)})\n",
      "Detected 138 HETATOM nodes\n",
      "Detected 804 total nodes\n",
      "Contact file found: ['../../examples/contacts/1ujm_contacts.tsv']\n"
     ]
    },
    {
     "name": "stderr",
     "output_type": "stream",
     "text": [
      "\n",
      "\n",
      "\n",
      " 75%|███████▍  | 100/134 [00:37<00:09,  3.64it/s]\u001b[A\u001b[A\u001b[A"
     ]
    },
    {
     "name": "stdout",
     "output_type": "stream",
     "text": [
      "Calculated 960 intramolecular interaction-based edges\n",
      "DGLGraph(num_nodes=407, num_edges=960,\n",
      "         ndata_schemes={'id': Scheme(shape=(), dtype=dtype('O')), 'residue_name': Scheme(shape=(), dtype=dtype('O')), 'h': Scheme(shape=(7,), dtype=torch.float32), 'coords': Scheme(shape=(3,), dtype=torch.float32), 'ss': Scheme(shape=(9,), dtype=torch.float32), 'asa': Scheme(shape=(1,), dtype=torch.float32), 'rsa': Scheme(shape=(1,), dtype=torch.float32)}\n",
      "         edata_schemes={'rel_type': Scheme(shape=(17,), dtype=torch.float64), 'norm': Scheme(shape=(), dtype=torch.float32)})\n"
     ]
    },
    {
     "name": "stderr",
     "output_type": "stream",
     "text": [
      "\n",
      "\n",
      "\n",
      " 75%|███████▌  | 101/134 [00:37<00:09,  3.52it/s]\u001b[A\u001b[A\u001b[A"
     ]
    },
    {
     "name": "stdout",
     "output_type": "stream",
     "text": [
      "Detected 21 HETATOM nodes\n",
      "Detected 1345 total nodes\n",
      "Contact file found: ['../../examples/contacts/2p0m_contacts.tsv']\n",
      "Calculated 1850 intramolecular interaction-based edges\n",
      "DGLGraph(num_nodes=663, num_edges=1850,\n",
      "         ndata_schemes={'id': Scheme(shape=(), dtype=dtype('O')), 'residue_name': Scheme(shape=(), dtype=dtype('O')), 'h': Scheme(shape=(7,), dtype=torch.float32), 'coords': Scheme(shape=(3,), dtype=torch.float32), 'ss': Scheme(shape=(9,), dtype=torch.float32), 'asa': Scheme(shape=(1,), dtype=torch.float32), 'rsa': Scheme(shape=(1,), dtype=torch.float32)}\n",
      "         edata_schemes={'rel_type': Scheme(shape=(17,), dtype=torch.float64), 'norm': Scheme(shape=(), dtype=torch.float32)})\n"
     ]
    },
    {
     "name": "stderr",
     "output_type": "stream",
     "text": [
      "\n",
      "\n",
      "\n",
      " 76%|███████▌  | 102/134 [00:37<00:08,  3.95it/s]\u001b[A\u001b[A\u001b[A"
     ]
    },
    {
     "name": "stdout",
     "output_type": "stream",
     "text": [
      "Detected 0 HETATOM nodes\n",
      "Detected 604 total nodes\n",
      "Contact file found: ['../../examples/contacts/1uk2_contacts.tsv']\n",
      "Calculated 1553 intramolecular interaction-based edges\n",
      "DGLGraph(num_nodes=604, num_edges=1553,\n",
      "         ndata_schemes={'id': Scheme(shape=(), dtype=dtype('O')), 'residue_name': Scheme(shape=(), dtype=dtype('O')), 'h': Scheme(shape=(7,), dtype=torch.float32), 'coords': Scheme(shape=(3,), dtype=torch.float32), 'ss': Scheme(shape=(9,), dtype=torch.float32), 'asa': Scheme(shape=(1,), dtype=torch.float32), 'rsa': Scheme(shape=(1,), dtype=torch.float32)}\n",
      "         edata_schemes={'rel_type': Scheme(shape=(17,), dtype=torch.float64), 'norm': Scheme(shape=(), dtype=torch.float32)})\n",
      "Detected 0 HETATOM nodes\n",
      "Detected 560 total nodes\n"
     ]
    },
    {
     "name": "stderr",
     "output_type": "stream",
     "text": [
      "\n",
      "\n",
      "\n",
      " 77%|███████▋  | 103/134 [00:38<00:07,  4.33it/s]\u001b[A\u001b[A\u001b[A\n",
      "\n",
      "\n",
      " 78%|███████▊  | 104/134 [00:38<00:05,  5.10it/s]\u001b[A\u001b[A\u001b[A"
     ]
    },
    {
     "name": "stdout",
     "output_type": "stream",
     "text": [
      "Contact file found: ['../../examples/contacts/1dqz_contacts.tsv']\n",
      "Calculated 860 intramolecular interaction-based edges\n",
      "DGLGraph(num_nodes=280, num_edges=860,\n",
      "         ndata_schemes={'id': Scheme(shape=(), dtype=dtype('O')), 'residue_name': Scheme(shape=(), dtype=dtype('O')), 'h': Scheme(shape=(7,), dtype=torch.float32), 'coords': Scheme(shape=(3,), dtype=torch.float32), 'ss': Scheme(shape=(9,), dtype=torch.float32), 'asa': Scheme(shape=(1,), dtype=torch.float32), 'rsa': Scheme(shape=(1,), dtype=torch.float32)}\n",
      "         edata_schemes={'rel_type': Scheme(shape=(17,), dtype=torch.float64), 'norm': Scheme(shape=(), dtype=torch.float32)})\n",
      "Detected 93 HETATOM nodes\n",
      "Detected 237 total nodes\n",
      "Contact file found: ['../../examples/contacts/2a6c_contacts.tsv']\n",
      "Calculated 184 intramolecular interaction-based edges\n",
      "DGLGraph(num_nodes=216, num_edges=184,\n",
      "         ndata_schemes={'id': Scheme(shape=(), dtype=dtype('O')), 'residue_name': Scheme(shape=(), dtype=dtype('O')), 'h': Scheme(shape=(7,), dtype=torch.float32), 'coords': Scheme(shape=(3,), dtype=torch.float32), 'ss': Scheme(shape=(9,), dtype=torch.float32), 'asa': Scheme(shape=(1,), dtype=torch.float32), 'rsa': Scheme(shape=(1,), dtype=torch.float32)}\n",
      "         edata_schemes={'rel_type': Scheme(shape=(17,), dtype=torch.float64), 'norm': Scheme(shape=(), dtype=torch.float32)})\n"
     ]
    },
    {
     "name": "stderr",
     "output_type": "stream",
     "text": [
      "\n",
      "\n",
      "\n",
      " 78%|███████▊  | 105/134 [00:38<00:06,  4.36it/s]\u001b[A\u001b[A\u001b[A"
     ]
    },
    {
     "name": "stdout",
     "output_type": "stream",
     "text": [
      "Detected 0 HETATOM nodes\n",
      "Detected 1047 total nodes\n",
      "Contact file found: ['../../examples/contacts/2oam_contacts.tsv']\n",
      "Calculated 3094 intramolecular interaction-based edges\n",
      "DGLGraph(num_nodes=1047, num_edges=3094,\n",
      "         ndata_schemes={'id': Scheme(shape=(), dtype=dtype('O')), 'residue_name': Scheme(shape=(), dtype=dtype('O')), 'h': Scheme(shape=(7,), dtype=torch.float32), 'coords': Scheme(shape=(3,), dtype=torch.float32), 'ss': Scheme(shape=(9,), dtype=torch.float32), 'asa': Scheme(shape=(1,), dtype=torch.float32), 'rsa': Scheme(shape=(1,), dtype=torch.float32)}\n",
      "         edata_schemes={'rel_type': Scheme(shape=(17,), dtype=torch.float64), 'norm': Scheme(shape=(), dtype=torch.float32)})\n"
     ]
    },
    {
     "name": "stderr",
     "output_type": "stream",
     "text": [
      "\n",
      "\n",
      "\n",
      " 79%|███████▉  | 106/134 [00:38<00:05,  4.89it/s]\u001b[A\u001b[A\u001b[A"
     ]
    },
    {
     "name": "stdout",
     "output_type": "stream",
     "text": [
      "Detected 134 HETATOM nodes\n",
      "Detected 436 total nodes\n",
      "Contact file found: ['../../examples/contacts/2a0k_contacts.tsv']\n",
      "Calculated 888 intramolecular interaction-based edges\n",
      "DGLGraph(num_nodes=436, num_edges=888,\n",
      "         ndata_schemes={'id': Scheme(shape=(), dtype=dtype('O')), 'residue_name': Scheme(shape=(), dtype=dtype('O')), 'h': Scheme(shape=(7,), dtype=torch.float32), 'coords': Scheme(shape=(3,), dtype=torch.float32), 'ss': Scheme(shape=(9,), dtype=torch.float32), 'asa': Scheme(shape=(1,), dtype=torch.float32), 'rsa': Scheme(shape=(1,), dtype=torch.float32)}\n",
      "         edata_schemes={'rel_type': Scheme(shape=(17,), dtype=torch.float64), 'norm': Scheme(shape=(), dtype=torch.float32)})\n",
      "Detected 0 HETATOM nodes\n",
      "Detected 394 total nodes\n",
      "Contact file found: ['../../examples/contacts/2e1y_contacts.tsv']\n",
      "Calculated 1082 intramolecular interaction-based edges\n"
     ]
    },
    {
     "name": "stderr",
     "output_type": "stream",
     "text": [
      "\n",
      "\n",
      "\n",
      " 80%|███████▉  | 107/134 [00:38<00:05,  5.15it/s]\u001b[A\u001b[A\u001b[A"
     ]
    },
    {
     "name": "stdout",
     "output_type": "stream",
     "text": [
      "DGLGraph(num_nodes=788, num_edges=1082,\n",
      "         ndata_schemes={'id': Scheme(shape=(), dtype=dtype('O')), 'residue_name': Scheme(shape=(), dtype=dtype('O')), 'h': Scheme(shape=(7,), dtype=torch.float32), 'coords': Scheme(shape=(3,), dtype=torch.float32), 'ss': Scheme(shape=(9,), dtype=torch.float32), 'asa': Scheme(shape=(1,), dtype=torch.float32), 'rsa': Scheme(shape=(1,), dtype=torch.float32)}\n",
      "         edata_schemes={'rel_type': Scheme(shape=(17,), dtype=torch.float64), 'norm': Scheme(shape=(), dtype=torch.float32)})\n",
      "Detected 0 HETATOM nodes\n",
      "Detected 1160 total nodes\n",
      "Contact file found: ['../../examples/contacts/1l0w_contacts.tsv']\n",
      "Calculated 3002 intramolecular interaction-based edges\n"
     ]
    },
    {
     "name": "stderr",
     "output_type": "stream",
     "text": [
      "\n",
      "\n",
      "\n",
      " 81%|████████  | 108/134 [00:39<00:05,  4.34it/s]\u001b[A\u001b[A\u001b[A\n",
      "\n",
      "\n",
      " 81%|████████▏ | 109/134 [00:39<00:05,  4.90it/s]\u001b[A\u001b[A\u001b[A"
     ]
    },
    {
     "name": "stdout",
     "output_type": "stream",
     "text": [
      "DGLGraph(num_nodes=1160, num_edges=3002,\n",
      "         ndata_schemes={'id': Scheme(shape=(), dtype=dtype('O')), 'residue_name': Scheme(shape=(), dtype=dtype('O')), 'h': Scheme(shape=(7,), dtype=torch.float32), 'coords': Scheme(shape=(3,), dtype=torch.float32), 'ss': Scheme(shape=(9,), dtype=torch.float32), 'asa': Scheme(shape=(1,), dtype=torch.float32), 'rsa': Scheme(shape=(1,), dtype=torch.float32)}\n",
      "         edata_schemes={'rel_type': Scheme(shape=(17,), dtype=torch.float64), 'norm': Scheme(shape=(), dtype=torch.float32)})\n",
      "Detected 2 HETATOM nodes\n",
      "Detected 238 total nodes\n",
      "Contact file found: ['../../examples/contacts/1g0z_contacts.tsv']\n",
      "Calculated 646 intramolecular interaction-based edges\n",
      "DGLGraph(num_nodes=238, num_edges=646,\n",
      "         ndata_schemes={'id': Scheme(shape=(), dtype=dtype('O')), 'residue_name': Scheme(shape=(), dtype=dtype('O')), 'h': Scheme(shape=(7,), dtype=torch.float32), 'coords': Scheme(shape=(3,), dtype=torch.float32), 'ss': Scheme(shape=(9,), dtype=torch.float32), 'asa': Scheme(shape=(1,), dtype=torch.float32), 'rsa': Scheme(shape=(1,), dtype=torch.float32)}\n",
      "         edata_schemes={'rel_type': Scheme(shape=(17,), dtype=torch.float64), 'norm': Scheme(shape=(), dtype=torch.float32)})\n",
      "Detected 0 HETATOM nodes\n",
      "Detected 210 total nodes\n"
     ]
    },
    {
     "name": "stderr",
     "output_type": "stream",
     "text": [
      "\n",
      "\n",
      "\n",
      " 82%|████████▏ | 110/134 [00:39<00:04,  5.49it/s]\u001b[A\u001b[A\u001b[A"
     ]
    },
    {
     "name": "stdout",
     "output_type": "stream",
     "text": [
      "Contact file found: ['../../examples/contacts/2r57_contacts.tsv']\n",
      "Calculated 541 intramolecular interaction-based edges\n",
      "DGLGraph(num_nodes=210, num_edges=541,\n",
      "         ndata_schemes={'id': Scheme(shape=(), dtype=dtype('O')), 'residue_name': Scheme(shape=(), dtype=dtype('O')), 'h': Scheme(shape=(7,), dtype=torch.float32), 'coords': Scheme(shape=(3,), dtype=torch.float32), 'ss': Scheme(shape=(9,), dtype=torch.float32), 'asa': Scheme(shape=(1,), dtype=torch.float32), 'rsa': Scheme(shape=(1,), dtype=torch.float32)}\n",
      "         edata_schemes={'rel_type': Scheme(shape=(17,), dtype=torch.float64), 'norm': Scheme(shape=(), dtype=torch.float32)})\n",
      "Detected 0 HETATOM nodes\n",
      "Detected 484 total nodes\n",
      "Contact file found: ['../../examples/contacts/2vl3_contacts.tsv']\n",
      "Calculated 789 intramolecular interaction-based edges\n"
     ]
    },
    {
     "name": "stderr",
     "output_type": "stream",
     "text": [
      "\n",
      "\n",
      "\n",
      " 83%|████████▎ | 111/134 [00:39<00:04,  5.49it/s]\u001b[A\u001b[A\u001b[A\n",
      "\n",
      "\n",
      " 84%|████████▎ | 112/134 [00:39<00:03,  5.93it/s]\u001b[A\u001b[A\u001b[A"
     ]
    },
    {
     "name": "stdout",
     "output_type": "stream",
     "text": [
      "DGLGraph(num_nodes=322, num_edges=789,\n",
      "         ndata_schemes={'id': Scheme(shape=(), dtype=dtype('O')), 'residue_name': Scheme(shape=(), dtype=dtype('O')), 'h': Scheme(shape=(7,), dtype=torch.float32), 'coords': Scheme(shape=(3,), dtype=torch.float32), 'ss': Scheme(shape=(9,), dtype=torch.float32), 'asa': Scheme(shape=(1,), dtype=torch.float32), 'rsa': Scheme(shape=(1,), dtype=torch.float32)}\n",
      "         edata_schemes={'rel_type': Scheme(shape=(17,), dtype=torch.float64), 'norm': Scheme(shape=(), dtype=torch.float32)})\n",
      "Detected 0 HETATOM nodes\n",
      "Detected 214 total nodes\n",
      "Contact file found: ['../../examples/contacts/1eym_contacts.tsv']\n",
      "Calculated 255 intramolecular interaction-based edges\n",
      "DGLGraph(num_nodes=107, num_edges=255,\n",
      "         ndata_schemes={'id': Scheme(shape=(), dtype=dtype('O')), 'residue_name': Scheme(shape=(), dtype=dtype('O')), 'h': Scheme(shape=(7,), dtype=torch.float32), 'coords': Scheme(shape=(3,), dtype=torch.float32), 'ss': Scheme(shape=(9,), dtype=torch.float32), 'asa': Scheme(shape=(1,), dtype=torch.float32), 'rsa': Scheme(shape=(1,), dtype=torch.float32)}\n",
      "         edata_schemes={'rel_type': Scheme(shape=(17,), dtype=torch.float64), 'norm': Scheme(shape=(), dtype=torch.float32)})\n"
     ]
    },
    {
     "name": "stderr",
     "output_type": "stream",
     "text": [
      "\n",
      "\n",
      "\n",
      " 84%|████████▍ | 113/134 [00:39<00:03,  5.92it/s]\u001b[A\u001b[A\u001b[A"
     ]
    },
    {
     "name": "stdout",
     "output_type": "stream",
     "text": [
      "Detected 0 HETATOM nodes\n",
      "Detected 370 total nodes\n",
      "Contact file found: ['../../examples/contacts/1zkb_contacts.tsv']\n",
      "Calculated 1042 intramolecular interaction-based edges\n",
      "DGLGraph(num_nodes=370, num_edges=1042,\n",
      "         ndata_schemes={'id': Scheme(shape=(), dtype=dtype('O')), 'residue_name': Scheme(shape=(), dtype=dtype('O')), 'h': Scheme(shape=(7,), dtype=torch.float32), 'coords': Scheme(shape=(3,), dtype=torch.float32), 'ss': Scheme(shape=(9,), dtype=torch.float32), 'asa': Scheme(shape=(1,), dtype=torch.float32), 'rsa': Scheme(shape=(1,), dtype=torch.float32)}\n",
      "         edata_schemes={'rel_type': Scheme(shape=(17,), dtype=torch.float64), 'norm': Scheme(shape=(), dtype=torch.float32)})\n",
      "Downloading PDB structure '1e9n'...\n",
      "Downloaded PDB file for: 1e9n\n",
      "Detected 4 HETATOM nodes\n",
      "Detected 552 total nodes\n",
      "1e9n\n",
      "['../../examples/pdbs/1e9n.pdb']\n",
      "PDB file detected: ../../examples/pdbs/1e9n.pdb\n"
     ]
    },
    {
     "name": "stderr",
     "output_type": "stream",
     "text": [
      "\n",
      "\n",
      "\n",
      " 85%|████████▌ | 114/134 [00:43<00:21,  1.09s/it]\u001b[A\u001b[A\u001b[A"
     ]
    },
    {
     "name": "stdout",
     "output_type": "stream",
     "text": [
      "Computed Contacts for: 1e9n\n",
      "Calculated 790 intramolecular interaction-based edges\n",
      "DGLGraph(num_nodes=276, num_edges=790,\n",
      "         ndata_schemes={'id': Scheme(shape=(), dtype=dtype('O')), 'residue_name': Scheme(shape=(), dtype=dtype('O')), 'h': Scheme(shape=(7,), dtype=torch.float32), 'coords': Scheme(shape=(3,), dtype=torch.float32), 'ss': Scheme(shape=(9,), dtype=torch.float32), 'asa': Scheme(shape=(1,), dtype=torch.float32), 'rsa': Scheme(shape=(1,), dtype=torch.float32)}\n",
      "         edata_schemes={'rel_type': Scheme(shape=(17,), dtype=torch.float64), 'norm': Scheme(shape=(), dtype=torch.float32)})\n",
      "Detected 0 HETATOM nodes\n",
      "Detected 360 total nodes\n",
      "Contact file found: ['../../examples/contacts/1wny_contacts.tsv']\n"
     ]
    },
    {
     "name": "stderr",
     "output_type": "stream",
     "text": [
      "\n",
      "\n",
      "\n",
      " 86%|████████▌ | 115/134 [00:43<00:15,  1.23it/s]\u001b[A\u001b[A\u001b[A"
     ]
    },
    {
     "name": "stdout",
     "output_type": "stream",
     "text": [
      "Calculated 462 intramolecular interaction-based edges\n",
      "DGLGraph(num_nodes=180, num_edges=462,\n",
      "         ndata_schemes={'id': Scheme(shape=(), dtype=dtype('O')), 'residue_name': Scheme(shape=(), dtype=dtype('O')), 'h': Scheme(shape=(7,), dtype=torch.float32), 'coords': Scheme(shape=(3,), dtype=torch.float32), 'ss': Scheme(shape=(9,), dtype=torch.float32), 'asa': Scheme(shape=(1,), dtype=torch.float32), 'rsa': Scheme(shape=(1,), dtype=torch.float32)}\n",
      "         edata_schemes={'rel_type': Scheme(shape=(17,), dtype=torch.float64), 'norm': Scheme(shape=(), dtype=torch.float32)})\n",
      "Detected 36 HETATOM nodes\n",
      "Detected 382 total nodes\n",
      "Contact file found: ['../../examples/contacts/2e3j_contacts.tsv']\n",
      "Calculated 1033 intramolecular interaction-based edges\n"
     ]
    },
    {
     "name": "stderr",
     "output_type": "stream",
     "text": [
      "\n",
      "\n",
      "\n",
      " 87%|████████▋ | 116/134 [00:43<00:11,  1.62it/s]\u001b[A\u001b[A\u001b[A\n",
      "\n",
      "\n",
      " 87%|████████▋ | 117/134 [00:43<00:07,  2.13it/s]\u001b[A\u001b[A\u001b[A"
     ]
    },
    {
     "name": "stdout",
     "output_type": "stream",
     "text": [
      "DGLGraph(num_nodes=382, num_edges=1033,\n",
      "         ndata_schemes={'id': Scheme(shape=(), dtype=dtype('O')), 'residue_name': Scheme(shape=(), dtype=dtype('O')), 'h': Scheme(shape=(7,), dtype=torch.float32), 'coords': Scheme(shape=(3,), dtype=torch.float32), 'ss': Scheme(shape=(9,), dtype=torch.float32), 'asa': Scheme(shape=(1,), dtype=torch.float32), 'rsa': Scheme(shape=(1,), dtype=torch.float32)}\n",
      "         edata_schemes={'rel_type': Scheme(shape=(17,), dtype=torch.float64), 'norm': Scheme(shape=(), dtype=torch.float32)})\n",
      "Detected 10 HETATOM nodes\n",
      "Detected 211 total nodes\n",
      "Contact file found: ['../../examples/contacts/1kuf_contacts.tsv']\n",
      "Calculated 600 intramolecular interaction-based edges\n",
      "DGLGraph(num_nodes=211, num_edges=600,\n",
      "         ndata_schemes={'id': Scheme(shape=(), dtype=dtype('O')), 'residue_name': Scheme(shape=(), dtype=dtype('O')), 'h': Scheme(shape=(7,), dtype=torch.float32), 'coords': Scheme(shape=(3,), dtype=torch.float32), 'ss': Scheme(shape=(9,), dtype=torch.float32), 'asa': Scheme(shape=(1,), dtype=torch.float32), 'rsa': Scheme(shape=(1,), dtype=torch.float32)}\n",
      "         edata_schemes={'rel_type': Scheme(shape=(17,), dtype=torch.float64), 'norm': Scheme(shape=(), dtype=torch.float32)})\n",
      "Detected 0 HETATOM nodes\n",
      "Detected 373 total nodes\n"
     ]
    },
    {
     "name": "stderr",
     "output_type": "stream",
     "text": [
      "\n",
      "\n",
      "\n",
      " 88%|████████▊ | 118/134 [00:43<00:06,  2.58it/s]\u001b[A\u001b[A\u001b[A"
     ]
    },
    {
     "name": "stdout",
     "output_type": "stream",
     "text": [
      "Contact file found: ['../../examples/contacts/2hy7_contacts.tsv']\n",
      "Calculated 1097 intramolecular interaction-based edges\n",
      "DGLGraph(num_nodes=373, num_edges=1097,\n",
      "         ndata_schemes={'id': Scheme(shape=(), dtype=dtype('O')), 'residue_name': Scheme(shape=(), dtype=dtype('O')), 'h': Scheme(shape=(7,), dtype=torch.float32), 'coords': Scheme(shape=(3,), dtype=torch.float32), 'ss': Scheme(shape=(9,), dtype=torch.float32), 'asa': Scheme(shape=(1,), dtype=torch.float32), 'rsa': Scheme(shape=(1,), dtype=torch.float32)}\n",
      "         edata_schemes={'rel_type': Scheme(shape=(17,), dtype=torch.float64), 'norm': Scheme(shape=(), dtype=torch.float32)})\n",
      "Detected 0 HETATOM nodes\n",
      "Detected 272 total nodes\n",
      "Contact file found: ['../../examples/contacts/2pgy_contacts.tsv']\n",
      "Calculated 709 intramolecular interaction-based edges\n"
     ]
    },
    {
     "name": "stderr",
     "output_type": "stream",
     "text": [
      "\n",
      "\n",
      "\n",
      " 89%|████████▉ | 119/134 [00:43<00:04,  3.16it/s]\u001b[A\u001b[A\u001b[A"
     ]
    },
    {
     "name": "stdout",
     "output_type": "stream",
     "text": [
      "DGLGraph(num_nodes=544, num_edges=709,\n",
      "         ndata_schemes={'id': Scheme(shape=(), dtype=dtype('O')), 'residue_name': Scheme(shape=(), dtype=dtype('O')), 'h': Scheme(shape=(7,), dtype=torch.float32), 'coords': Scheme(shape=(3,), dtype=torch.float32), 'ss': Scheme(shape=(9,), dtype=torch.float32), 'asa': Scheme(shape=(1,), dtype=torch.float32), 'rsa': Scheme(shape=(1,), dtype=torch.float32)}\n",
      "         edata_schemes={'rel_type': Scheme(shape=(17,), dtype=torch.float64), 'norm': Scheme(shape=(), dtype=torch.float32)})\n",
      "Detected 160 HETATOM nodes\n",
      "Detected 1384 total nodes\n",
      "Contact file found: ['../../examples/contacts/2hzb_contacts.tsv']\n"
     ]
    },
    {
     "name": "stderr",
     "output_type": "stream",
     "text": [
      "\n",
      "\n",
      "\n",
      " 90%|████████▉ | 120/134 [00:44<00:04,  3.12it/s]\u001b[A\u001b[A\u001b[A"
     ]
    },
    {
     "name": "stdout",
     "output_type": "stream",
     "text": [
      "Calculated 1709 intramolecular interaction-based edges\n",
      "DGLGraph(num_nodes=692, num_edges=1709,\n",
      "         ndata_schemes={'id': Scheme(shape=(), dtype=dtype('O')), 'residue_name': Scheme(shape=(), dtype=dtype('O')), 'h': Scheme(shape=(7,), dtype=torch.float32), 'coords': Scheme(shape=(3,), dtype=torch.float32), 'ss': Scheme(shape=(9,), dtype=torch.float32), 'asa': Scheme(shape=(1,), dtype=torch.float32), 'rsa': Scheme(shape=(1,), dtype=torch.float32)}\n",
      "         edata_schemes={'rel_type': Scheme(shape=(17,), dtype=torch.float64), 'norm': Scheme(shape=(), dtype=torch.float32)})\n",
      "Detected 8 HETATOM nodes\n",
      "Detected 218 total nodes\n",
      "Contact file found: ['../../examples/contacts/1kx9_contacts.tsv']\n",
      "Calculated 322 intramolecular interaction-based edges\n"
     ]
    },
    {
     "name": "stderr",
     "output_type": "stream",
     "text": [
      "\n",
      "\n",
      "\n",
      " 90%|█████████ | 121/134 [00:44<00:03,  3.87it/s]\u001b[A\u001b[A\u001b[A"
     ]
    },
    {
     "name": "stdout",
     "output_type": "stream",
     "text": [
      "DGLGraph(num_nodes=112, num_edges=322,\n",
      "         ndata_schemes={'id': Scheme(shape=(), dtype=dtype('O')), 'residue_name': Scheme(shape=(), dtype=dtype('O')), 'h': Scheme(shape=(7,), dtype=torch.float32), 'coords': Scheme(shape=(3,), dtype=torch.float32), 'ss': Scheme(shape=(9,), dtype=torch.float32), 'asa': Scheme(shape=(1,), dtype=torch.float32), 'rsa': Scheme(shape=(1,), dtype=torch.float32)}\n",
      "         edata_schemes={'rel_type': Scheme(shape=(17,), dtype=torch.float64), 'norm': Scheme(shape=(), dtype=torch.float32)})\n",
      "Downloading PDB structure '1w90'...\n",
      "Downloaded PDB file for: 1w90\n",
      "Detected 5 HETATOM nodes\n",
      "Detected 298 total nodes\n",
      "1w90\n",
      "['../../examples/pdbs/1w90.pdb']\n",
      "PDB file detected: ../../examples/pdbs/1w90.pdb\n"
     ]
    },
    {
     "name": "stderr",
     "output_type": "stream",
     "text": [
      "\n",
      "\n",
      "\n",
      " 91%|█████████ | 122/134 [00:46<00:10,  1.20it/s]\u001b[A\u001b[A\u001b[A"
     ]
    },
    {
     "name": "stdout",
     "output_type": "stream",
     "text": [
      "Computed Contacts for: 1w90\n",
      "Calculated 334 intramolecular interaction-based edges\n",
      "DGLGraph(num_nodes=152, num_edges=334,\n",
      "         ndata_schemes={'id': Scheme(shape=(), dtype=dtype('O')), 'residue_name': Scheme(shape=(), dtype=dtype('O')), 'h': Scheme(shape=(7,), dtype=torch.float32), 'coords': Scheme(shape=(3,), dtype=torch.float32), 'ss': Scheme(shape=(9,), dtype=torch.float32), 'asa': Scheme(shape=(1,), dtype=torch.float32), 'rsa': Scheme(shape=(1,), dtype=torch.float32)}\n",
      "         edata_schemes={'rel_type': Scheme(shape=(17,), dtype=torch.float64), 'norm': Scheme(shape=(), dtype=torch.float32)})\n",
      "Downloading PDB structure '1v8q'...\n",
      "Downloaded PDB file for: 1v8q\n",
      "Detected 8 HETATOM nodes\n",
      "Detected 272 total nodes\n",
      "1v8q\n",
      "['../../examples/pdbs/1v8q.pdb']\n",
      "PDB file detected: ../../examples/pdbs/1v8q.pdb\n"
     ]
    },
    {
     "name": "stderr",
     "output_type": "stream",
     "text": [
      "\n",
      "\n",
      "\n",
      " 92%|█████████▏| 123/134 [00:48<00:13,  1.23s/it]\u001b[A\u001b[A\u001b[A"
     ]
    },
    {
     "name": "stdout",
     "output_type": "stream",
     "text": [
      "Computed Contacts for: 1v8q\n",
      "Calculated 151 intramolecular interaction-based edges\n",
      "DGLGraph(num_nodes=66, num_edges=151,\n",
      "         ndata_schemes={'id': Scheme(shape=(), dtype=dtype('O')), 'residue_name': Scheme(shape=(), dtype=dtype('O')), 'h': Scheme(shape=(7,), dtype=torch.float32), 'coords': Scheme(shape=(3,), dtype=torch.float32), 'ss': Scheme(shape=(9,), dtype=torch.float32), 'asa': Scheme(shape=(1,), dtype=torch.float32), 'rsa': Scheme(shape=(1,), dtype=torch.float32)}\n",
      "         edata_schemes={'rel_type': Scheme(shape=(17,), dtype=torch.float64), 'norm': Scheme(shape=(), dtype=torch.float32)})\n",
      "Detected 10 HETATOM nodes\n",
      "Detected 464 total nodes\n",
      "Contact file found: ['../../examples/contacts/2vfw_contacts.tsv']\n",
      "Calculated 1342 intramolecular interaction-based edges\n"
     ]
    },
    {
     "name": "stderr",
     "output_type": "stream",
     "text": [
      "\n",
      "\n",
      "\n",
      " 93%|█████████▎| 124/134 [00:48<00:09,  1.09it/s]\u001b[A\u001b[A\u001b[A\n",
      "\n",
      "\n",
      " 93%|█████████▎| 125/134 [00:49<00:06,  1.45it/s]\u001b[A\u001b[A\u001b[A"
     ]
    },
    {
     "name": "stdout",
     "output_type": "stream",
     "text": [
      "DGLGraph(num_nodes=464, num_edges=1342,\n",
      "         ndata_schemes={'id': Scheme(shape=(), dtype=dtype('O')), 'residue_name': Scheme(shape=(), dtype=dtype('O')), 'h': Scheme(shape=(7,), dtype=torch.float32), 'coords': Scheme(shape=(3,), dtype=torch.float32), 'ss': Scheme(shape=(9,), dtype=torch.float32), 'asa': Scheme(shape=(1,), dtype=torch.float32), 'rsa': Scheme(shape=(1,), dtype=torch.float32)}\n",
      "         edata_schemes={'rel_type': Scheme(shape=(17,), dtype=torch.float64), 'norm': Scheme(shape=(), dtype=torch.float32)})\n",
      "Detected 5 HETATOM nodes\n",
      "Detected 434 total nodes\n",
      "Contact file found: ['../../examples/contacts/1e0d_contacts.tsv']\n",
      "Calculated 1172 intramolecular interaction-based edges\n",
      "DGLGraph(num_nodes=434, num_edges=1172,\n",
      "         ndata_schemes={'id': Scheme(shape=(), dtype=dtype('O')), 'residue_name': Scheme(shape=(), dtype=dtype('O')), 'h': Scheme(shape=(7,), dtype=torch.float32), 'coords': Scheme(shape=(3,), dtype=torch.float32), 'ss': Scheme(shape=(9,), dtype=torch.float32), 'asa': Scheme(shape=(1,), dtype=torch.float32), 'rsa': Scheme(shape=(1,), dtype=torch.float32)}\n",
      "         edata_schemes={'rel_type': Scheme(shape=(17,), dtype=torch.float64), 'norm': Scheme(shape=(), dtype=torch.float32)})\n"
     ]
    },
    {
     "name": "stderr",
     "output_type": "stream",
     "text": [
      "\n",
      "\n",
      "\n",
      " 94%|█████████▍| 126/134 [00:49<00:04,  1.88it/s]\u001b[A\u001b[A\u001b[A"
     ]
    },
    {
     "name": "stdout",
     "output_type": "stream",
     "text": [
      "Detected 21 HETATOM nodes\n",
      "Detected 335 total nodes\n",
      "Contact file found: ['../../examples/contacts/2o6f_contacts.tsv']\n",
      "Calculated 771 intramolecular interaction-based edges\n",
      "DGLGraph(num_nodes=335, num_edges=771,\n",
      "         ndata_schemes={'id': Scheme(shape=(), dtype=dtype('O')), 'residue_name': Scheme(shape=(), dtype=dtype('O')), 'h': Scheme(shape=(7,), dtype=torch.float32), 'coords': Scheme(shape=(3,), dtype=torch.float32), 'ss': Scheme(shape=(9,), dtype=torch.float32), 'asa': Scheme(shape=(1,), dtype=torch.float32), 'rsa': Scheme(shape=(1,), dtype=torch.float32)}\n",
      "         edata_schemes={'rel_type': Scheme(shape=(17,), dtype=torch.float64), 'norm': Scheme(shape=(), dtype=torch.float32)})\n",
      "Detected 0 HETATOM nodes\n"
     ]
    },
    {
     "name": "stderr",
     "output_type": "stream",
     "text": [
      "\n",
      "\n",
      "\n",
      " 95%|█████████▍| 127/134 [00:49<00:03,  2.24it/s]\u001b[A\u001b[A\u001b[A"
     ]
    },
    {
     "name": "stdout",
     "output_type": "stream",
     "text": [
      "Detected 869 total nodes\n",
      "Contact file found: ['../../examples/contacts/1aja_contacts.tsv']\n",
      "Calculated 2475 intramolecular interaction-based edges\n",
      "DGLGraph(num_nodes=869, num_edges=2475,\n",
      "         ndata_schemes={'id': Scheme(shape=(), dtype=dtype('O')), 'residue_name': Scheme(shape=(), dtype=dtype('O')), 'h': Scheme(shape=(7,), dtype=torch.float32), 'coords': Scheme(shape=(3,), dtype=torch.float32), 'ss': Scheme(shape=(9,), dtype=torch.float32), 'asa': Scheme(shape=(1,), dtype=torch.float32), 'rsa': Scheme(shape=(1,), dtype=torch.float32)}\n",
      "         edata_schemes={'rel_type': Scheme(shape=(17,), dtype=torch.float64), 'norm': Scheme(shape=(), dtype=torch.float32)})\n",
      "Detected 0 HETATOM nodes\n",
      "Detected 307 total nodes\n"
     ]
    },
    {
     "name": "stderr",
     "output_type": "stream",
     "text": [
      "\n",
      "\n",
      "\n",
      " 96%|█████████▌| 128/134 [00:49<00:02,  2.83it/s]\u001b[A\u001b[A\u001b[A"
     ]
    },
    {
     "name": "stdout",
     "output_type": "stream",
     "text": [
      "Contact file found: ['../../examples/contacts/1m14_contacts.tsv']\n",
      "Calculated 750 intramolecular interaction-based edges\n",
      "DGLGraph(num_nodes=307, num_edges=750,\n",
      "         ndata_schemes={'id': Scheme(shape=(), dtype=dtype('O')), 'residue_name': Scheme(shape=(), dtype=dtype('O')), 'h': Scheme(shape=(7,), dtype=torch.float32), 'coords': Scheme(shape=(3,), dtype=torch.float32), 'ss': Scheme(shape=(9,), dtype=torch.float32), 'asa': Scheme(shape=(1,), dtype=torch.float32), 'rsa': Scheme(shape=(1,), dtype=torch.float32)}\n",
      "         edata_schemes={'rel_type': Scheme(shape=(17,), dtype=torch.float64), 'norm': Scheme(shape=(), dtype=torch.float32)})\n",
      "Detected 0 HETATOM nodes\n",
      "Detected 1986 total nodes\n",
      "Contact file found: ['../../examples/contacts/1wac_contacts.tsv']\n",
      "Calculated 1954 intramolecular interaction-based edges\n"
     ]
    },
    {
     "name": "stderr",
     "output_type": "stream",
     "text": [
      "\n",
      "\n",
      "\n",
      " 96%|█████████▋| 129/134 [00:50<00:02,  2.35it/s]\u001b[A\u001b[A\u001b[A\n",
      "\n",
      "\n",
      " 97%|█████████▋| 130/134 [00:50<00:01,  2.94it/s]\u001b[A\u001b[A\u001b[A"
     ]
    },
    {
     "name": "stdout",
     "output_type": "stream",
     "text": [
      "DGLGraph(num_nodes=662, num_edges=1954,\n",
      "         ndata_schemes={'id': Scheme(shape=(), dtype=dtype('O')), 'residue_name': Scheme(shape=(), dtype=dtype('O')), 'h': Scheme(shape=(7,), dtype=torch.float32), 'coords': Scheme(shape=(3,), dtype=torch.float32), 'ss': Scheme(shape=(9,), dtype=torch.float32), 'asa': Scheme(shape=(1,), dtype=torch.float32), 'rsa': Scheme(shape=(1,), dtype=torch.float32)}\n",
      "         edata_schemes={'rel_type': Scheme(shape=(17,), dtype=torch.float64), 'norm': Scheme(shape=(), dtype=torch.float32)})\n",
      "Detected 0 HETATOM nodes\n",
      "Detected 272 total nodes\n",
      "Contact file found: ['../../examples/contacts/1w28_contacts.tsv']\n",
      "Calculated 674 intramolecular interaction-based edges\n",
      "DGLGraph(num_nodes=272, num_edges=674,\n",
      "         ndata_schemes={'id': Scheme(shape=(), dtype=dtype('O')), 'residue_name': Scheme(shape=(), dtype=dtype('O')), 'h': Scheme(shape=(7,), dtype=torch.float32), 'coords': Scheme(shape=(3,), dtype=torch.float32), 'ss': Scheme(shape=(9,), dtype=torch.float32), 'asa': Scheme(shape=(1,), dtype=torch.float32), 'rsa': Scheme(shape=(1,), dtype=torch.float32)}\n",
      "         edata_schemes={'rel_type': Scheme(shape=(17,), dtype=torch.float64), 'norm': Scheme(shape=(), dtype=torch.float32)})\n"
     ]
    },
    {
     "name": "stderr",
     "output_type": "stream",
     "text": [
      "\n",
      "\n",
      "\n",
      " 98%|█████████▊| 131/134 [00:50<00:00,  3.29it/s]\u001b[A\u001b[A\u001b[A"
     ]
    },
    {
     "name": "stdout",
     "output_type": "stream",
     "text": [
      "Detected 145 HETATOM nodes\n",
      "Detected 810 total nodes\n",
      "Contact file found: ['../../examples/contacts/1zvw_contacts.tsv']\n",
      "Calculated 937 intramolecular interaction-based edges\n",
      "DGLGraph(num_nodes=382, num_edges=937,\n",
      "         ndata_schemes={'id': Scheme(shape=(), dtype=dtype('O')), 'residue_name': Scheme(shape=(), dtype=dtype('O')), 'h': Scheme(shape=(7,), dtype=torch.float32), 'coords': Scheme(shape=(3,), dtype=torch.float32), 'ss': Scheme(shape=(9,), dtype=torch.float32), 'asa': Scheme(shape=(1,), dtype=torch.float32), 'rsa': Scheme(shape=(1,), dtype=torch.float32)}\n",
      "         edata_schemes={'rel_type': Scheme(shape=(17,), dtype=torch.float64), 'norm': Scheme(shape=(), dtype=torch.float32)})\n"
     ]
    },
    {
     "name": "stderr",
     "output_type": "stream",
     "text": [
      "\n",
      "\n",
      "\n",
      " 99%|█████████▊| 132/134 [00:50<00:00,  3.75it/s]\u001b[A\u001b[A\u001b[A"
     ]
    },
    {
     "name": "stdout",
     "output_type": "stream",
     "text": [
      "Detected 0 HETATOM nodes\n",
      "Detected 274 total nodes\n",
      "Contact file found: ['../../examples/contacts/1gqz_contacts.tsv']\n",
      "Calculated 662 intramolecular interaction-based edges\n",
      "DGLGraph(num_nodes=274, num_edges=662,\n",
      "         ndata_schemes={'id': Scheme(shape=(), dtype=dtype('O')), 'residue_name': Scheme(shape=(), dtype=dtype('O')), 'h': Scheme(shape=(7,), dtype=torch.float32), 'coords': Scheme(shape=(3,), dtype=torch.float32), 'ss': Scheme(shape=(9,), dtype=torch.float32), 'asa': Scheme(shape=(1,), dtype=torch.float32), 'rsa': Scheme(shape=(1,), dtype=torch.float32)}\n",
      "         edata_schemes={'rel_type': Scheme(shape=(17,), dtype=torch.float64), 'norm': Scheme(shape=(), dtype=torch.float32)})\n",
      "Downloading PDB structure '3b9n'...\n",
      "Downloaded PDB file for: 3b9n\n",
      "Detected 0 HETATOM nodes\n",
      "Detected 867 total nodes\n",
      "3b9n\n",
      "['../../examples/pdbs/3b9n.pdb']\n",
      "PDB file detected: ../../examples/pdbs/3b9n.pdb\n"
     ]
    },
    {
     "name": "stderr",
     "output_type": "stream",
     "text": [
      "\n",
      "\n",
      "\n",
      " 99%|█████████▉| 133/134 [00:55<00:01,  1.57s/it]\u001b[A\u001b[A\u001b[A"
     ]
    },
    {
     "name": "stdout",
     "output_type": "stream",
     "text": [
      "Computed Contacts for: 3b9n\n",
      "Calculated 2772 intramolecular interaction-based edges\n",
      "DGLGraph(num_nodes=867, num_edges=2772,\n",
      "         ndata_schemes={'id': Scheme(shape=(), dtype=dtype('O')), 'residue_name': Scheme(shape=(), dtype=dtype('O')), 'h': Scheme(shape=(7,), dtype=torch.float32), 'coords': Scheme(shape=(3,), dtype=torch.float32), 'ss': Scheme(shape=(9,), dtype=torch.float32), 'asa': Scheme(shape=(1,), dtype=torch.float32), 'rsa': Scheme(shape=(1,), dtype=torch.float32)}\n",
      "         edata_schemes={'rel_type': Scheme(shape=(17,), dtype=torch.float64), 'norm': Scheme(shape=(), dtype=torch.float32)})\n"
     ]
    },
    {
     "name": "stderr",
     "output_type": "stream",
     "text": [
      "\n",
      "\n",
      "\n",
      "100%|██████████| 134/134 [00:55<00:00,  2.42it/s]\u001b[A\u001b[A\u001b[A"
     ]
    },
    {
     "name": "stdout",
     "output_type": "stream",
     "text": [
      "Detected 4 HETATOM nodes\n",
      "Detected 279 total nodes\n",
      "Contact file found: ['../../examples/contacts/2sbt_contacts.tsv']\n",
      "Calculated 616 intramolecular interaction-based edges\n",
      "DGLGraph(num_nodes=279, num_edges=616,\n",
      "         ndata_schemes={'id': Scheme(shape=(), dtype=dtype('O')), 'residue_name': Scheme(shape=(), dtype=dtype('O')), 'h': Scheme(shape=(7,), dtype=torch.float32), 'coords': Scheme(shape=(3,), dtype=torch.float32), 'ss': Scheme(shape=(9,), dtype=torch.float32), 'asa': Scheme(shape=(1,), dtype=torch.float32), 'rsa': Scheme(shape=(1,), dtype=torch.float32)}\n",
      "         edata_schemes={'rel_type': Scheme(shape=(17,), dtype=torch.float64), 'norm': Scheme(shape=(), dtype=torch.float32)})\n"
     ]
    },
    {
     "name": "stderr",
     "output_type": "stream",
     "text": [
      "\n"
     ]
    }
   ],
   "source": [
    "# Split datasets\n",
    "x_train, x_test, y_train, y_test = train_test_split(df, labels, test_size=0.15)\n",
    "\n",
    "# Initialise Graph Constructor\n",
    "pg = ProteinGraph(granularity='CA', insertions=False, keep_hets=True,\n",
    "                  node_featuriser='meiler', get_contacts_path='/Users/arianjamasb/github/getcontacts',\n",
    "                  pdb_dir='../../examples/pdbs/',\n",
    "                  contacts_dir='../../examples/contacts/',\n",
    "                  exclude_waters=True, covalent_bonds=False, include_ss=True)\n",
    "\n",
    "# Build Graphs\n",
    "train_graphs = [pg.dgl_graph_from_pdb_code(pdb_code=x_train['Free PDB'].iloc[i],\n",
    "                                         chain_selection=list(x_train['Free Chains'].iloc[i])) for i in tqdm(range(len(x_train)))]\n",
    "\n",
    "test_graphs = [pg.dgl_graph_from_pdb_code(pdb_code=x_test['Free PDB'].iloc[i],\n",
    "                                         chain_selection=list(x_test['Free Chains'].iloc[i])) for i in tqdm(range(len(x_test)))]"
   ]
  },
  {
   "cell_type": "code",
   "execution_count": 84,
   "metadata": {},
   "outputs": [],
   "source": [
    "def collate(samples):\n",
    "    # The input `samples` is a list of pairs\n",
    "    #  (graph, label).\n",
    "    graphs, labels = map(list, zip(*samples))\n",
    "    batched_graph = dgl.batch(graphs, node_attrs='h')\n",
    "    batched_graph.set_n_initializer(dgl.init.zero_initializer)\n",
    "    batched_graph.set_e_initializer(dgl.init.zero_initializer)\n",
    "    return batched_graph, torch.stack(labels)\n",
    "\n",
    "train_data = list(zip(train_graphs, y_train))\n",
    "test_data = list(zip(test_graphs, y_test))\n",
    "\n",
    "#Create dataloaders\n",
    "train_loader = DataLoader(train_data, batch_size=32, shuffle=True,\n",
    "                         collate_fn=collate)\n",
    "\n",
    "test_loader = DataLoader(test_data, batch_size=32, shuffle=True,\n",
    "                         collate_fn=collate)"
   ]
  },
  {
   "cell_type": "markdown",
   "metadata": {},
   "source": [
    "# Model\n",
    "Here, we define a simple GCN for graph classification. We then train it."
   ]
  },
  {
   "cell_type": "code",
   "execution_count": 170,
   "metadata": {},
   "outputs": [],
   "source": [
    "n_feats = train_graphs[1].ndata['h'].shape[1]\n",
    "\n",
    "# Instantiate model\n",
    "gcn_net = GCNPredictor(in_feats=n_feats,\n",
    "                       hidden_feats=[32, 32],\n",
    "                       batchnorm=[True, True],\n",
    "                       dropout=[0, 0],\n",
    "                       classifier_hidden_feats=32,\n",
    "                       n_tasks=7\n",
    "                       )\n",
    "gcn_net.to(device)\n",
    "loss_fn = CrossEntropyLoss()\n",
    "optimizer = torch.optim.Adam(gcn_net.parameters(), lr=0.005)"
   ]
  },
  {
   "cell_type": "code",
   "execution_count": 171,
   "metadata": {},
   "outputs": [
    {
     "name": "stdout",
     "output_type": "stream",
     "text": [
      "epoch: 0, LOSS: 1.953, F1: 0.242, Precision: 0.242, Recall: 0.242\n",
      "epoch: 5, LOSS: 1.790, F1: 0.322, Precision: 0.322, Recall: 0.322\n",
      "epoch: 10, LOSS: 1.791, F1: 0.332, Precision: 0.332, Recall: 0.332\n",
      "epoch: 15, LOSS: 1.781, F1: 0.334, Precision: 0.334, Recall: 0.334\n",
      "epoch: 20, LOSS: 1.771, F1: 0.329, Precision: 0.329, Recall: 0.329\n",
      "epoch: 25, LOSS: 1.763, F1: 0.321, Precision: 0.321, Recall: 0.321\n",
      "epoch: 30, LOSS: 1.745, F1: 0.333, Precision: 0.333, Recall: 0.333\n",
      "epoch: 35, LOSS: 1.803, F1: 0.324, Precision: 0.324, Recall: 0.324\n",
      "epoch: 40, LOSS: 1.736, F1: 0.338, Precision: 0.338, Recall: 0.338\n",
      "epoch: 45, LOSS: 1.766, F1: 0.322, Precision: 0.322, Recall: 0.322\n",
      "epoch: 50, LOSS: 1.741, F1: 0.337, Precision: 0.337, Recall: 0.337\n",
      "epoch: 55, LOSS: 1.723, F1: 0.337, Precision: 0.337, Recall: 0.337\n",
      "epoch: 60, LOSS: 1.678, F1: 0.343, Precision: 0.343, Recall: 0.343\n",
      "epoch: 65, LOSS: 1.664, F1: 0.338, Precision: 0.338, Recall: 0.338\n",
      "epoch: 70, LOSS: 1.677, F1: 0.351, Precision: 0.351, Recall: 0.351\n",
      "epoch: 75, LOSS: 1.618, F1: 0.350, Precision: 0.350, Recall: 0.350\n",
      "epoch: 80, LOSS: 1.595, F1: 0.373, Precision: 0.373, Recall: 0.373\n",
      "epoch: 85, LOSS: 1.685, F1: 0.329, Precision: 0.329, Recall: 0.329\n",
      "epoch: 90, LOSS: 1.606, F1: 0.366, Precision: 0.366, Recall: 0.366\n",
      "epoch: 95, LOSS: 1.627, F1: 0.357, Precision: 0.357, Recall: 0.357\n",
      "epoch: 100, LOSS: 1.557, F1: 0.386, Precision: 0.386, Recall: 0.386\n",
      "epoch: 105, LOSS: 1.494, F1: 0.407, Precision: 0.407, Recall: 0.407\n",
      "epoch: 110, LOSS: 1.595, F1: 0.371, Precision: 0.371, Recall: 0.371\n",
      "epoch: 115, LOSS: 1.501, F1: 0.399, Precision: 0.399, Recall: 0.399\n",
      "epoch: 120, LOSS: 1.468, F1: 0.412, Precision: 0.412, Recall: 0.412\n",
      "epoch: 125, LOSS: 1.405, F1: 0.439, Precision: 0.439, Recall: 0.439\n",
      "epoch: 130, LOSS: 1.403, F1: 0.465, Precision: 0.465, Recall: 0.465\n",
      "epoch: 135, LOSS: 1.324, F1: 0.489, Precision: 0.489, Recall: 0.489\n",
      "epoch: 140, LOSS: 1.274, F1: 0.519, Precision: 0.519, Recall: 0.519\n",
      "epoch: 145, LOSS: 1.256, F1: 0.507, Precision: 0.507, Recall: 0.507\n",
      "epoch: 150, LOSS: 1.293, F1: 0.498, Precision: 0.498, Recall: 0.498\n",
      "epoch: 155, LOSS: 1.141, F1: 0.567, Precision: 0.567, Recall: 0.567\n",
      "epoch: 160, LOSS: 1.123, F1: 0.569, Precision: 0.569, Recall: 0.569\n",
      "epoch: 165, LOSS: 1.083, F1: 0.585, Precision: 0.585, Recall: 0.585\n",
      "epoch: 170, LOSS: 1.165, F1: 0.542, Precision: 0.542, Recall: 0.542\n",
      "epoch: 175, LOSS: 1.062, F1: 0.583, Precision: 0.583, Recall: 0.583\n",
      "epoch: 180, LOSS: 1.127, F1: 0.560, Precision: 0.560, Recall: 0.560\n",
      "epoch: 185, LOSS: 1.015, F1: 0.602, Precision: 0.602, Recall: 0.602\n",
      "epoch: 190, LOSS: 0.994, F1: 0.601, Precision: 0.601, Recall: 0.601\n",
      "epoch: 195, LOSS: 0.973, F1: 0.625, Precision: 0.625, Recall: 0.625\n"
     ]
    }
   ],
   "source": [
    "epochs = 200\n",
    "\n",
    "# Training loop\n",
    "gcn_net.train()\n",
    "epoch_losses = []\n",
    "\n",
    "epoch_f1_scores = [] \n",
    "epoch_precision_scores = []\n",
    "epoch_recall_scores = []\n",
    "\n",
    "for epoch in range(epochs):\n",
    "    epoch_loss = 0\n",
    "\n",
    "    preds = []\n",
    "    labs = []\n",
    "    # Train on batch\n",
    "    for i, (bg, labels) in enumerate(train_loader):\n",
    "        labels = labels.to(device)\n",
    "        graph_feats = bg.ndata.pop('h').to(device)\n",
    "        graph_feats, labels = graph_feats.to(device), labels.to(device)\n",
    "        y_pred = gcn_net(bg, graph_feats)\n",
    "        \n",
    "        preds.append(y_pred.detach().numpy())\n",
    "        labs.append(labels.detach().numpy())\n",
    "\n",
    "        labels = np.argmax(labels, axis=1)\n",
    "        \n",
    "        loss = loss_fn(y_pred, labels)\n",
    "        optimizer.zero_grad()\n",
    "        loss.backward()\n",
    "        optimizer.step()\n",
    "        epoch_loss += loss.detach().item()\n",
    "        \n",
    "    epoch_loss /= (i + 1)\n",
    "    \n",
    "    preds = np.vstack(preds)\n",
    "    labs = np.vstack(labs)\n",
    "    \n",
    "    # There's some sort of issue going on here with the scoring. All three values are the same\n",
    "    f1 = f1_score(np.argmax(labs, axis=1), np.argmax(preds, axis=1), average='micro')\n",
    "    precision = precision_score(np.argmax(labs, axis=1), np.argmax(preds, axis=1), average='micro')\n",
    "    recall = recall_score(np.argmax(labs, axis=1), np.argmax(preds, axis=1), average='micro')\n",
    "    \n",
    "    if epoch % 5 == 0:\n",
    "        print(f\"epoch: {epoch}, LOSS: {epoch_loss:.3f}, F1: {f1:.3f}, Precision: {precision:.3f}, Recall: {recall:.3f}\")\n",
    "        \n",
    "    epoch_losses.append(epoch_loss)\n",
    "    epoch_f1_scores.append(f1)\n",
    "    epoch_precision_scores.append(precision)\n",
    "    epoch_recall_scores.append(recall)"
   ]
  },
  {
   "cell_type": "code",
   "execution_count": 172,
   "metadata": {},
   "outputs": [
    {
     "data": {
      "text/plain": [
       "<matplotlib.legend.Legend at 0x7f8c2b878208>"
      ]
     },
     "execution_count": 172,
     "metadata": {},
     "output_type": "execute_result"
    },
    {
     "data": {
      "image/png": "[encoded data removed]",
      "text/plain": [
       "<Figure size 432x288 with 1 Axes>"
      ]
     },
     "metadata": {
      "needs_background": "light"
     },
     "output_type": "display_data"
    }
   ],
   "source": [
    "plt.plot(epoch_losses, label=\"Loss\")\n",
    "plt.plot(epoch_f1_scores, label='F1')\n",
    "plt.plot(epoch_precision_scores, label=\"Precision\")\n",
    "plt.plot(epoch_recall_scores, label=\"Recall\")\n",
    "plt.legend()"
   ]
  },
  {
   "cell_type": "code",
   "execution_count": 180,
   "metadata": {},
   "outputs": [
    {
     "name": "stdout",
     "output_type": "stream",
     "text": [
      "TEST F1: 0.201, Precision: 0.201, Recall: 0.201\n"
     ]
    }
   ],
   "source": [
    "# Evaluate\n",
    "gcn_net.eval()\n",
    "test_loss = 0\n",
    "\n",
    "preds = []\n",
    "labs = []\n",
    "for i, (bg, labels) in enumerate(test_loader):\n",
    "    labels = labels.to(device)\n",
    "    graph_feats = bg.ndata.pop('h').to(device)\n",
    "    graph_feats, labels = graph_feats.to(device), labels.to(device)\n",
    "    y_pred = gcn_net(bg, graph_feats)\n",
    "\n",
    "    preds.append(y_pred.detach().numpy())\n",
    "    labs.append(labels.detach().numpy())\n",
    "\n",
    "labs = np.vstack(labs)\n",
    "preds = np.vstack(preds)\n",
    "\n",
    "f1 = f1_score(np.argmax(labs, axis=1), np.argmax(preds, axis=1), average='micro')\n",
    "precision = precision_score(np.argmax(labs, axis=1), np.argmax(preds, axis=1), average='micro')\n",
    "recall = recall_score(np.argmax(labs, axis=1), np.argmax(preds, axis=1), average='micro')\n",
    "\n",
    "print(f\"TEST F1: {f1:.3f}, Precision: {precision:.3f}, Recall: {recall:.3f}\")"
   ]
  },
  {
   "cell_type": "code",
   "execution_count": null,
   "metadata": {},
   "outputs": [],
   "source": []
  }
 ],
 "metadata": {
  "kernelspec": {
   "display_name": "Python Graphein",
   "language": "python",
   "name": "graphein"
  },
  "language_info": {
   "codemirror_mode": {
    "name": "ipython",
    "version": 3
   },
   "file_extension": ".py",
   "mimetype": "text/x-python",
   "name": "python",
   "nbconvert_exporter": "python",
   "pygments_lexer": "ipython3",
   "version": "3.7.0"
  }
 },
 "nbformat": 4,
 "nbformat_minor": 4
}
