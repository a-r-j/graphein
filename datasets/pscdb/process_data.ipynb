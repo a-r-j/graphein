{
 "cells": [
  {
   "cell_type": "code",
   "execution_count": null,
   "metadata": {},
   "outputs": [],
   "source": [
    "\"\"\"Here, we scrape PSCDB (protein Structural Change Database http://idp1.force.cs.is.nagoya-u.ac.jp/pscdb/index.html\"\"\""
   ]
  },
  {
   "cell_type": "code",
   "execution_count": null,
   "metadata": {},
   "outputs": [],
   "source": [
    "import pandas as pd\n",
    "import rdkit\n",
    "from Bio.PDB import *"
   ]
  },
  {
   "cell_type": "code",
   "execution_count": null,
   "metadata": {},
   "outputs": [],
   "source": [
    "coupled_domain_motion = pd.read_html(\"http://idp1.force.cs.is.nagoya-u.ac.jp/pscdb/cd.html\", header=0)[0]\n",
    "coupled_domain_motion['motion_type'] = 'coupled_domain_motion'\n",
    "\n",
    "independent_domain_motion = pd.read_html(\"http://idp1.force.cs.is.nagoya-u.ac.jp/pscdb/id.html\", header=0)[0]\n",
    "independent_domain_motion['motion_type'] = 'independent_domain_motion'\n",
    "\n",
    "coupled_local_motion = pd.read_html(\"http://idp1.force.cs.is.nagoya-u.ac.jp/pscdb/cl.html\", header=0)[0]\n",
    "coupled_local_motion['motion_type'] = 'coupled_local_motion'\n",
    "\n",
    "independent_local_motion = pd.read_html(\"http://idp1.force.cs.is.nagoya-u.ac.jp/pscdb/il.html\", header=0)[0]\n",
    "independent_local_motion['motion_type'] = 'independent_local_motion'\n",
    "\n",
    "burying_ligand_motion = pd.read_html(\"http://idp1.force.cs.is.nagoya-u.ac.jp/pscdb/b.html\", header=0)[0]\n",
    "burying_ligand_motion['motion_type'] = 'burying_ligand_motion'\n",
    "\n",
    "no_significant_motion = pd.read_html(\"http://idp1.force.cs.is.nagoya-u.ac.jp/pscdb/n.html\", header=0)[0]\n",
    "no_significant_motion['motion_type'] = 'no_significant_motion'\n",
    "\n",
    "other_motion = pd.read_html(\"http://idp1.force.cs.is.nagoya-u.ac.jp/pscdb/b.html\", header=0)[0]\n",
    "other_motion['motion_type'] = 'other_motion'\n",
    "\n",
    "structural_rearrangement_data = pd.concat([coupled_domain_motion, independent_domain_motion,\n",
    "                                           coupled_local_motion, independent_local_motion,\n",
    "                                           burying_ligand_motion, no_significant_motion, other_motion]).reset_index()\n",
    "print(structural_rearrangement_data)"
   ]
  },
  {
   "cell_type": "code",
   "execution_count": null,
   "metadata": {},
   "outputs": [],
   "source": [
    "# Split into chains\n",
    "free_structures = structural_rearrangement_data['Free form'].str.split('_', expand=True)\n",
    "bound_structures = structural_rearrangement_data['Bound form'].str.split('_', expand=True)\n",
    "\n",
    "# Add columns\n",
    "structural_rearrangement_data['Free PDB'] = free_structures[0]\n",
    "structural_rearrangement_data['Free Chains'] = free_structures[1]\n",
    "structural_rearrangement_data['Bound PDB'] = bound_structures[0]\n",
    "structural_rearrangement_data['Bound Chains'] = bound_structures[1]\n",
    "\n",
    "# Drop obsolete structures\n",
    "obsolete = ['1m80', '1cmw', '1g40', '2ihi', '1hl0', '2gkq', '2glb', '2g2j', '2dpo', '2h98', '2gu9', '2bg1', '1q4o', '1il5', '3cey', '1yks']\n",
    "\n",
    "structural_rearrangement_data = structural_rearrangement_data.loc[~structural_rearrangement_data['Free PDB'].isin(obsolete)]\n",
    "structural_rearrangement_data = structural_rearrangement_data.loc[~structural_rearrangement_data['Bound PDB'].isin(obsolete)]\n",
    "\n",
    "print(structural_rearrangement_data)\n",
    "#structural_rearrangement_data.reset_index(inplace=True)\n",
    "structural_rearrangement_data.to_csv('structural_rearrangement_data.csv')"
   ]
  },
  {
   "cell_type": "code",
   "execution_count": null,
   "metadata": {},
   "outputs": [],
   "source": [
    "# Download PDBs"
   ]
  },
  {
   "cell_type": "code",
   "execution_count": null,
   "metadata": {},
   "outputs": [],
   "source": [
    "pdbl = PDBList()\n",
    "pdb_list = pd.concat([structural_rearrangement_data['Free PDB'], structural_rearrangement_data['Bound PDB']]).unique()\n",
    "\n",
    "pdbl.download_pdb_files(pdb_list, obsolete=False, pdir='pdbs/', file_format='pdb', overwrite=True)\n",
    "\n",
    "#Rename PDB files from .ent to .pdb\\n\n",
    "!cd pdbs/; for f in *.ent; do mv -- \"$f\" \"${f%.ent}.pdb\"; done\n",
    "# Remove pdb prefix from PDB file names (e.g. pdb20jj.ent -> 20jj.pdb)\\n\",\n",
    "!cd pdbs/; for x in *; do mv $x `echo $x | cut -c 4-`; done"
   ]
  },
  {
   "cell_type": "code",
   "execution_count": null,
   "metadata": {},
   "outputs": [],
   "source": [
    "# Download Ligands"
   ]
  },
  {
   "cell_type": "code",
   "execution_count": null,
   "metadata": {},
   "outputs": [],
   "source": [
    "## Make Graphs\n",
    "import os"
   ]
  },
  {
   "cell_type": "code",
   "execution_count": null,
   "metadata": {},
   "outputs": [],
   "source": [
    "structural_rearrangement_data['Free PDB'].loc[structural_rearrangement_data['Free PDB'].isin(f)]"
   ]
  },
  {
   "cell_type": "code",
   "execution_count": null,
   "metadata": {},
   "outputs": [],
   "source": [
    "f = [f[:-4] for f in os.listdir('pdbs')]\n",
    "structural_rearrangement_data['Free PDB'].loc[~structural_rearrangement_data['Bound PDB'].isin(f)]"
   ]
  },
  {
   "cell_type": "code",
   "execution_count": null,
   "metadata": {},
   "outputs": [],
   "source": []
  }
 ],
 "metadata": {
  "kernelspec": {
   "display_name": "Python 3",
   "language": "python",
   "name": "python3"
  },
  "language_info": {
   "codemirror_mode": {
    "name": "ipython",
    "version": 3
   },
   "file_extension": ".py",
   "mimetype": "text/x-python",
   "name": "python",
   "nbconvert_exporter": "python",
   "pygments_lexer": "ipython3",
   "version": "3.7.4"
  },
  "nbsphinx": {
   "execute": "never"
  }
 },
 "nbformat": 4,
 "nbformat_minor": 4
}
