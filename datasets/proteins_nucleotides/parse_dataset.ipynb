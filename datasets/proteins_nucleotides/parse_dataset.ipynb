{
 "cells": [
  {
   "cell_type": "code",
   "execution_count": null,
   "id": "a5a3a1a7-97ab-4b7e-970c-a62b8fe1b45e",
   "metadata": {},
   "outputs": [],
   "source": [
    "import pandas as pd\n",
    "import wget\n",
    "import re"
   ]
  },
  {
   "cell_type": "code",
   "execution_count": null,
   "id": "ebb01d66-a750-4f1b-aba8-65f5ea3e6461",
   "metadata": {},
   "outputs": [],
   "source": [
    "## Download the data\n",
    "DSET_URL = {\n",
    "    \"ATP\": \"https://webs.iiitd.edu.in/raghava/ccpdb/datasets/ATP.txt\",\n",
    "    \"ADP\": \"https://webs.iiitd.edu.in/raghava/ccpdb/datasets/ADP.txt\",\n",
    "    \"GTP\": \"https://webs.iiitd.edu.in/raghava/ccpdb/datasets/GTP.txt\",\n",
    "    \"GDP\": \"https://webs.iiitd.edu.in/raghava/ccpdb/datasets/GDP.txt\",\n",
    "    \"NAD\": \"https://webs.iiitd.edu.in/raghava/ccpdb/datasets/NAD.txt\",\n",
    "    \"FAD\": \"https://webs.iiitd.edu.in/raghava/ccpdb/datasets/FAD.txt\",\n",
    "    \"FMN\": \"https://webs.iiitd.edu.in/raghava/ccpdb/datasets/FMN.txt\",\n",
    "    \"UDP\": \"https://webs.iiitd.edu.in/raghava/ccpdb/datasets/UDP.txt\",\n",
    "}\n",
    "\n",
    "for k, v in DSET_URL.items():\n",
    "    print(f\"Downloading: {k}\") \n",
    "    wget.download(v)"
   ]
  },
  {
   "cell_type": "code",
   "execution_count": null,
   "id": "b408f983-e8ca-44a8-b90d-3877696700ed",
   "metadata": {},
   "outputs": [],
   "source": [
    "from Bio import SeqIO\n",
    "\n",
    "def parse_dset(filename: str, write: bool = False) -> pd.DataFrame:\n",
    "    with open(filename) as fasta_file:  # Will close handle cleanly\n",
    "        identifiers = []\n",
    "        chains = []\n",
    "        sequences = []\n",
    "        interactions = []\n",
    "        lengths = []\n",
    "        for seq_record in SeqIO.parse(fasta_file, 'fasta'):  # (generator)\n",
    "            identifiers.append(seq_record.id[:-1])\n",
    "            chains.append(seq_record.id[-1])\n",
    "            lengths.append(len(seq_record.seq)/2)\n",
    "\n",
    "            parsed_sequence_and_interactions = re.split(';', re.sub(\"\\+|-\", lambda match: ';' + match.group(), str(seq_record.seq), count=1), maxsplit=1)#str(seq_record.seq).split(\"-\", maxsplit=1)\n",
    "            sequences.append(parsed_sequence_and_interactions[0])\n",
    "            interactions.append(parsed_sequence_and_interactions[1])\n",
    "\n",
    "    data = zip(identifiers, chains, sequences, interactions,lengths)\n",
    "    df = pd.DataFrame.from_dict(data)\n",
    "    df.columns = [\"PDB\", \"chain\", \"sequence\", \"interacting_residues\", \"length\"]\n",
    "    df[\"interactor\"] = filename.split(\".\")[0]\n",
    "    \n",
    "    if write:\n",
    "        df.to_csv(filename.split(\".\")[0] + \".csv\")\n",
    "    return df"
   ]
  },
  {
   "cell_type": "code",
   "execution_count": null,
   "id": "01c9b42f-70e3-496c-a7f4-5cefbb86376e",
   "metadata": {
    "tags": []
   },
   "outputs": [],
   "source": [
    "## Iterate over datasets\n",
    "dataset_list = [parse_dset(k + \".txt\", write=True) for k in DSET_URL.keys()]"
   ]
  },
  {
   "cell_type": "code",
   "execution_count": null,
   "id": "23f8b6c4-fb8c-4090-94a1-f4880b1db6cf",
   "metadata": {},
   "outputs": [],
   "source": [
    "df = pd.concat(dataset_list)\n",
    "df.reset_index(inplace=True, drop=True)\n",
    "df.to_csv(\"PROTEINS_NUCLEOTIDES.csv\")"
   ]
  },
  {
   "cell_type": "code",
   "execution_count": null,
   "id": "f465b896-8340-45a0-b515-1596f9790b26",
   "metadata": {},
   "outputs": [],
   "source": [
    "df"
   ]
  }
 ],
 "metadata": {
  "kernelspec": {
   "display_name": "Python 3 (ipykernel)",
   "language": "python",
   "name": "python3"
  },
  "language_info": {
   "codemirror_mode": {
    "name": "ipython",
    "version": 3
   },
   "file_extension": ".py",
   "mimetype": "text/x-python",
   "name": "python",
   "nbconvert_exporter": "python",
   "pygments_lexer": "ipython3",
   "version": "3.8.12"
  }
 },
 "nbformat": 4,
 "nbformat_minor": 5
}
